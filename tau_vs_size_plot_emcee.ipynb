{
 "cells": [
  {
   "cell_type": "code",
   "execution_count": 40,
   "metadata": {},
   "outputs": [],
   "source": [
    "import numpy as np\n",
    "import matplotlib.pyplot as plt\n",
    "import scipy \n",
    "from scipy import optimize"
   ]
  },
  {
   "cell_type": "code",
   "execution_count": 41,
   "metadata": {},
   "outputs": [],
   "source": [
    "colors = ['salmon','dodgerblue','mediumseagreen']\n",
    "colors = ['#FFA0A0','#1e90ff','#3cb371']\n",
    "colors_light = ['#FFEDED','#6BDDFF','#89FFBE']"
   ]
  },
  {
   "cell_type": "code",
   "execution_count": 42,
   "metadata": {},
   "outputs": [],
   "source": [
    "# T = 2.4\n",
    "data_MC = np.loadtxt('./data_nnn/L_many_T_2.4_J1_-1.0_J2_0.0_seed_1968_autocorr.dat')[:]\n",
    "data_CRBM = np.loadtxt('./data_nnn/L_many_T_2.4_J1_-1.0_J2_0.0_kernelDims_2-2_autocorr.dat')[:]\n",
    "\n",
    "L_MC = data_MC[:,0]\n",
    "tau_MC = data_MC[:,1]\n",
    "\n",
    "L_CRBM = data_CRBM[:,0]\n",
    "tau_CRBM = data_CRBM[:,1]\n",
    "\n",
    "# tau_err = data[:,2]"
   ]
  },
  {
   "cell_type": "code",
   "execution_count": 43,
   "metadata": {},
   "outputs": [
    {
     "data": {
      "image/png": "[encoded data removed]",
      "text/plain": [
       "<Figure size 432x288 with 1 Axes>"
      ]
     },
     "metadata": {
      "needs_background": "light"
     },
     "output_type": "display_data"
    }
   ],
   "source": [
    "# Plot\n",
    "fig,ax = plt.subplots()\n",
    "\n",
    "ax.scatter(L_CRBM,tau_CRBM,color=colors[1],fc=colors_light[1],label='CRBM')\n",
    "ax.scatter(L_MC,tau_MC,color=colors[0],fc=colors_light[0],label='MC')\n",
    "ax.set_yscale(\"log\")\n",
    "# ax.set_xscale(\"log\")\n",
    "ax.set_ylabel(r\"$\\tau$ (energy)\")\n",
    "ax.set_xlabel(r\"$L$\")\n",
    "ax.xaxis.set_tick_params(direction='in', which='both')\n",
    "ax.yaxis.set_tick_params(direction='in', which='both')\n",
    "ax.annotate(r\"T=2.4\",(0.7,0.4),xycoords='axes fraction')\n",
    "\n",
    "ax.legend(frameon=True,loc='upper right')\n",
    "\n",
    "plt.savefig('./figures/L_many_T_2.4_J1_-1.0_J2_0.0_seed_1968_kernelDims_2-2_analytical_autocorr_E.pdf',dpi=300)"
   ]
  },
  {
   "cell_type": "code",
   "execution_count": 44,
   "metadata": {},
   "outputs": [],
   "source": [
    "# T = 2.2\n",
    "data_MC = np.loadtxt('./data_nnn/L_many_T_2.2_J1_-1.0_J2_0.0_seed_1968_autocorr.dat')[:]\n",
    "data_CRBM = np.loadtxt('./data_nnn/L_many_T_2.2_J1_-1.0_J2_0.0_kernelDims_2-2_autocorr.dat')[:]\n",
    "\n",
    "L_MC = data_MC[:,0]\n",
    "tau_MC = data_MC[:,1]\n",
    "\n",
    "L_CRBM = data_CRBM[:,0]\n",
    "tau_CRBM = data_CRBM[:,1]\n",
    "\n",
    "# tau_err = data[:,2]"
   ]
  },
  {
   "cell_type": "code",
   "execution_count": 46,
   "metadata": {},
   "outputs": [
    {
     "data": {
      "image/png": "[encoded data removed]",
      "text/plain": [
       "<Figure size 432x288 with 1 Axes>"
      ]
     },
     "metadata": {
      "needs_background": "light"
     },
     "output_type": "display_data"
    }
   ],
   "source": [
    "# Plot\n",
    "fig,ax = plt.subplots()\n",
    "\n",
    "ax.scatter(L_CRBM,tau_CRBM,color=colors[1],fc=colors_light[1],label='CRBM')\n",
    "ax.scatter(L_MC,tau_MC,color=colors[0],fc=colors_light[0],label='MC')\n",
    "ax.set_yscale(\"log\")\n",
    "# ax.set_xscale(\"log\")\n",
    "ax.set_ylabel(r\"$\\tau$ (energy)\")\n",
    "ax.set_xlabel(r\"$L$\")\n",
    "ax.xaxis.set_tick_params(direction='in', which='both')\n",
    "ax.yaxis.set_tick_params(direction='in', which='both')\n",
    "ax.annotate(r\"T=2.2\",(0.7,0.4),xycoords='axes fraction')\n",
    "\n",
    "ax.legend(frameon=True,loc='upper right')\n",
    "\n",
    "plt.savefig('./figures/L_many_T_2.2_J1_-1.0_J2_0.0_seed_1968_kernelDims_2-2_analytical_autocorr_E.pdf',dpi=300)"
   ]
  },
  {
   "cell_type": "code",
   "execution_count": null,
   "metadata": {},
   "outputs": [],
   "source": []
  },
  {
   "cell_type": "code",
   "execution_count": null,
   "metadata": {},
   "outputs": [],
   "source": []
  },
  {
   "cell_type": "code",
   "execution_count": null,
   "metadata": {},
   "outputs": [],
   "source": []
  },
  {
   "cell_type": "code",
   "execution_count": null,
   "metadata": {},
   "outputs": [],
   "source": []
  }
 ],
 "metadata": {
  "kernelspec": {
   "display_name": "Python 3",
   "language": "python",
   "name": "python3"
  },
  "language_info": {
   "codemirror_mode": {
    "name": "ipython",
    "version": 3
   },
   "file_extension": ".py",
   "mimetype": "text/x-python",
   "name": "python",
   "nbconvert_exporter": "python",
   "pygments_lexer": "ipython3",
   "version": "3.8.5"
  }
 },
 "nbformat": 4,
 "nbformat_minor": 4
}
