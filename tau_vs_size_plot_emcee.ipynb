{
 "cells": [
  {
   "cell_type": "code",
   "execution_count": 28,
   "metadata": {},
   "outputs": [],
   "source": [
    "import numpy as np\n",
    "import matplotlib.pyplot as plt\n",
    "import scipy \n",
    "from scipy import optimize"
   ]
  },
  {
   "cell_type": "code",
   "execution_count": 29,
   "metadata": {},
   "outputs": [],
   "source": [
    "colors = ['salmon','dodgerblue','mediumseagreen']\n",
    "colors = ['#FFA0A0','#1e90ff','#3cb371']\n",
    "colors_light = ['#FFEDED','#6BDDFF','#89FFBE']"
   ]
  },
  {
   "cell_type": "code",
   "execution_count": 34,
   "metadata": {},
   "outputs": [],
   "source": [
    "# U/t=0.5\n",
    "data_MC = np.loadtxt('./data_nnn/L_many_T_2.4_J1_-1.0_J2_0.0_seed_1968_autocorr.dat')[:]\n",
    "data_CRBM = np.loadtxt('./data_nnn/L_many_T_2.4_J1_-1.0_J2_0.0_kernelDims_2-2_autocorr.dat')[:]\n",
    "\n",
    "L_MC = data_MC[:,0]\n",
    "tau_MC = data_MC[:,1]\n",
    "\n",
    "L_CRBM = data_CRBM[:,0]\n",
    "tau_CRBM = data_CRBM[:,1]\n",
    "\n",
    "# tau_err = data[:,2]"
   ]
  },
  {
   "cell_type": "code",
   "execution_count": 35,
   "metadata": {},
   "outputs": [],
   "source": [
    "# Combined plot"
   ]
  },
  {
   "cell_type": "code",
   "execution_count": 43,
   "metadata": {},
   "outputs": [
    {
     "data": {
      "text/plain": [
       "<matplotlib.legend.Legend at 0x7fd4a27b7520>"
      ]
     },
     "execution_count": 43,
     "metadata": {},
     "output_type": "execute_result"
    },
    {
     "data": {
      "image/png": "[encoded data removed]",
      "text/plain": [
       "<Figure size 432x288 with 1 Axes>"
      ]
     },
     "metadata": {
      "needs_background": "light"
     },
     "output_type": "display_data"
    }
   ],
   "source": [
    "# U/t=10.0\n",
    "fig,ax = plt.subplots()\n",
    "\n",
    "# ax.errorbar(L,tau, yerr=tau_err, fmt='.', capsize=5,\n",
    "#             label='',color=colors[0],mfc=colors_light[0],\n",
    "#             marker='s',zorder=1)\n",
    "ax.scatter(L_MC,tau_MC,color=colors[0],fc=colors_light[0],label='MC')\n",
    "ax.scatter(L_CRBM,tau_CRBM,color=colors[1],fc=colors_light[1],label='CRBM')\n",
    "ax.set_yscale(\"log\")\n",
    "# ax.set_xscale(\"log\")\n",
    "ax.set_ylabel(r\"$\\tau$\")\n",
    "ax.set_xlabel(r\"$L$\")\n",
    "ax.xaxis.set_tick_params(direction='in', which='both')\n",
    "ax.yaxis.set_tick_params(direction='in', which='both')\n",
    "\n",
    "ax.legend(frameon=True)\n",
    "\n",
    "# # Save to code repo (this repo)\n",
    "# plt.savefig(\"../figures/relativeErrorsVK_N8.pdf\",dpi=400)\n",
    "# plt.savefig(\"../figures/relativeErrorsVK_N8.svg\",dpi=400)\n",
    "\n",
    "# # Save to paper repo\n",
    "# plt.savefig(\"/Users/ecasiano/Desktop/papers-latticepigs/Figures/relativeErrorsVK_N8.pdf\",dpi=400)\n",
    "# plt.savefig(\"/Users/ecasiano/Desktop/papers-latticepigs/Figures/relativeErrorsVK_N8.svg\",dpi=400)"
   ]
  },
  {
   "cell_type": "code",
   "execution_count": 33,
   "metadata": {},
   "outputs": [
    {
     "ename": "NameError",
     "evalue": "name 'c2' is not defined",
     "output_type": "error",
     "traceback": [
      "\u001b[0;31m---------------------------------------------------------------------------\u001b[0m",
      "\u001b[0;31mNameError\u001b[0m                                 Traceback (most recent call last)",
      "\u001b[0;32m<ipython-input-33-8e014952a1f6>\u001b[0m in \u001b[0;36m<module>\u001b[0;34m\u001b[0m\n\u001b[0;32m----> 1\u001b[0;31m \u001b[0mprint\u001b[0m\u001b[0;34m(\u001b[0m\u001b[0;34m\"exponent: %.4f +/- %.4f\"\u001b[0m\u001b[0;34m%\u001b[0m\u001b[0;34m(\u001b[0m\u001b[0mc2\u001b[0m\u001b[0;34m,\u001b[0m\u001b[0mc2_err\u001b[0m\u001b[0;34m)\u001b[0m\u001b[0;34m)\u001b[0m\u001b[0;34m\u001b[0m\u001b[0;34m\u001b[0m\u001b[0m\n\u001b[0m\u001b[1;32m      2\u001b[0m \u001b[0mprint\u001b[0m\u001b[0;34m(\u001b[0m\u001b[0;34m\"pre-factor: %.4f +/- %.4f\"\u001b[0m\u001b[0;34m%\u001b[0m\u001b[0;34m(\u001b[0m\u001b[0mc1\u001b[0m\u001b[0;34m,\u001b[0m\u001b[0mc1_err\u001b[0m\u001b[0;34m)\u001b[0m\u001b[0;34m)\u001b[0m\u001b[0;34m\u001b[0m\u001b[0;34m\u001b[0m\u001b[0m\n\u001b[1;32m      3\u001b[0m \u001b[0;34m\u001b[0m\u001b[0m\n\u001b[1;32m      4\u001b[0m \u001b[0mprint\u001b[0m\u001b[0;34m(\u001b[0m\u001b[0;34m\"\\nτ(z) = %.4f*L^{%.4f}\"\u001b[0m\u001b[0;34m%\u001b[0m\u001b[0;34m(\u001b[0m\u001b[0mc1\u001b[0m\u001b[0;34m,\u001b[0m\u001b[0mc2\u001b[0m\u001b[0;34m)\u001b[0m\u001b[0;34m)\u001b[0m\u001b[0;34m\u001b[0m\u001b[0;34m\u001b[0m\u001b[0m\n",
      "\u001b[0;31mNameError\u001b[0m: name 'c2' is not defined"
     ]
    }
   ],
   "source": [
    "print(\"exponent: %.4f +/- %.4f\"%(c2,c2_err))\n",
    "print(\"pre-factor: %.4f +/- %.4f\"%(c1,c1_err))\n",
    "\n",
    "print(\"\\nτ(z) = %.4f*L^{%.4f}\"%(c1,c2))"
   ]
  },
  {
   "cell_type": "code",
   "execution_count": null,
   "metadata": {},
   "outputs": [],
   "source": []
  },
  {
   "cell_type": "code",
   "execution_count": null,
   "metadata": {},
   "outputs": [],
   "source": []
  },
  {
   "cell_type": "code",
   "execution_count": null,
   "metadata": {},
   "outputs": [],
   "source": []
  }
 ],
 "metadata": {
  "kernelspec": {
   "display_name": "Python 3",
   "language": "python",
   "name": "python3"
  },
  "language_info": {
   "codemirror_mode": {
    "name": "ipython",
    "version": 3
   },
   "file_extension": ".py",
   "mimetype": "text/x-python",
   "name": "python",
   "nbconvert_exporter": "python",
   "pygments_lexer": "ipython3",
   "version": "3.8.5"
  }
 },
 "nbformat": 4,
 "nbformat_minor": 4
}
