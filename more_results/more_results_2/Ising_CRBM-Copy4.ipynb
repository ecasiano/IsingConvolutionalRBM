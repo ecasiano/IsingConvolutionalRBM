{
 "cells": [
  {
   "cell_type": "markdown",
   "metadata": {
    "colab_type": "text",
    "id": "view-in-github"
   },
   "source": [
    "<a href=\"https://colab.research.google.com/github/danielalcalde/MCMC_CRBM/blob/master/Ising_CRBM.ipynb\" target=\"_parent\"><img src=\"https://colab.research.google.com/assets/colab-badge.svg\" alt=\"Open In Colab\"/></a>"
   ]
  },
  {
   "cell_type": "markdown",
   "metadata": {
    "id": "amXB-OcpSa1R"
   },
   "source": [
    "# Simulating the Ising model using a CRBM"
   ]
  },
  {
   "cell_type": "markdown",
   "metadata": {
    "id": "e0xxh6USSodO"
   },
   "source": [
    "\n",
    "\n",
    "\n",
    "## Abstract:\n",
    "Machine learning is becoming widely used in analyzing the thermodynamics of many-body condensed matter systems. Restricted Boltzmann Machine (RBM) aided Monte Carlo simulations have sparked interest recently, as they manage to speed up classical Monte Carlo simulations. Here we employ the Convolutional Restricted Boltzmann Machine (CRBM) method and show that its use helps to reduce the number of parameters to be learned drastically by taking advantage of translation invariance. Furthermore, we show that it is possible to train the CRBM at smaller lattice sizes, and apply it to larger lattice sizes. To demonstrate the efficiency of CRBM we apply it to the paradigmatic Ising and Kitaev models in two-dimensions.\n",
    "\n",
    "## Paper:\n",
    "https://arxiv.org/abs/2008.05401"
   ]
  },
  {
   "cell_type": "markdown",
   "metadata": {
    "id": "XaiBKOtWTBEV"
   },
   "source": [
    "## Introduction\n",
    "This Notebook is intended as an educational tool for the use of Convolutional Restricted Boltzmann Machines in classical Montecarlo simulations. The code for the paper was written with the library Theano, which will no longer be updated, that is why we have chosen to present the main concept in TensorFlow. Specifically, this notebook only tackles the Ising model. As there is only the nearest neighbor interaction, we can teach the CRBM using $3\\times3$ states, this has as a consequence that we can generate all possible states $2^{3\\times3}= 512$ and learn the energy function from them. So no Metropolis is necessary, and no sampling of the CRBM while training is necessary. Also contrary to the main work, for simplicity, no correction step or parallel tempering is introduced. Note that for the Ising model there exist cluster algorithms that would outperform the CRBM.\n"
   ]
  },
  {
   "cell_type": "markdown",
   "metadata": {
    "id": "6t5AMJk__vdw"
   },
   "source": [
    "# Installing tensorflow"
   ]
  },
  {
   "cell_type": "code",
   "execution_count": 1,
   "metadata": {
    "id": "mqVmIoHumhCe"
   },
   "outputs": [],
   "source": [
    "\"\"\"\n",
    "### install necessary packages if in colab\n",
    "def run_subprocess_command(cmd):\n",
    "    process = subprocess.Popen(cmd.split(), stdout=subprocess.PIPE)\n",
    "    for line in process.stdout:\n",
    "        print(line.decode().strip())\n",
    "\n",
    "\n",
    "import sys, subprocess\n",
    "\n",
    "IN_COLAB = \"google.colab\" in sys.modules\n",
    "colab_requirements = [\"pip install tensorflow-gpu==2.1.0\"]\n",
    "if IN_COLAB:\n",
    "    for i in colab_requirements:\n",
    "        run_subprocess_command(i)\n",
    "\"\"\";"
   ]
  },
  {
   "cell_type": "markdown",
   "metadata": {
    "id": "GzkLSnOF_4EG"
   },
   "source": [
    "# Importing necessary libraries"
   ]
  },
  {
   "cell_type": "code",
   "execution_count": 2,
   "metadata": {
    "id": "jTbdHbRCoJzr"
   },
   "outputs": [],
   "source": [
    "import numpy as np\n",
    "import tensorflow as tf\n",
    "from IPython import display\n",
    "import pandas as pd\n",
    "import time\n",
    "import matplotlib.pyplot as plt"
   ]
  },
  {
   "cell_type": "code",
   "execution_count": 3,
   "metadata": {},
   "outputs": [
    {
     "data": {
      "text/plain": [
       "<module 'ising_analysis' from '/Users/ecasiano/Desktop/IsingConvolutionalRBM/ising_analysis.py'>"
      ]
     },
     "execution_count": 3,
     "metadata": {},
     "output_type": "execute_result"
    }
   ],
   "source": [
    "import sys\n",
    "sys.path.append('../')\n",
    "import ising_analysis\n",
    "import importlib\n",
    "importlib.reload(ising_analysis)"
   ]
  },
  {
   "cell_type": "markdown",
   "metadata": {
    "id": "xxU5e0nT5vzC"
   },
   "source": [
    "Set seed for reproducibility."
   ]
  },
  {
   "cell_type": "code",
   "execution_count": 4,
   "metadata": {
    "id": "yr4p5UEh5kWk"
   },
   "outputs": [],
   "source": [
    "np.random.seed(0)\n",
    "tf.random.set_seed(0)"
   ]
  },
  {
   "cell_type": "markdown",
   "metadata": {
    "id": "adjL1Ta-4yjG"
   },
   "source": [
    "Accuracy used for training and numerics."
   ]
  },
  {
   "cell_type": "code",
   "execution_count": 5,
   "metadata": {
    "id": "5mYviS_74wT-"
   },
   "outputs": [],
   "source": [
    "floatX = np.float32"
   ]
  },
  {
   "cell_type": "code",
   "execution_count": 6,
   "metadata": {
    "id": "tdJQe7e7PmE_"
   },
   "outputs": [],
   "source": [
    "t0 = time.time()"
   ]
  },
  {
   "cell_type": "markdown",
   "metadata": {
    "id": "x6CGNL5T__7Q"
   },
   "source": [
    "# Helping functions"
   ]
  },
  {
   "cell_type": "markdown",
   "metadata": {
    "id": "nMdm-89o52rP"
   },
   "source": [
    "Tensorflow has no implementation of the binomial function. With help of random.uniform the beahviour can be replicated."
   ]
  },
  {
   "cell_type": "code",
   "execution_count": 7,
   "metadata": {
    "id": "HuZ3rWnuorPl"
   },
   "outputs": [],
   "source": [
    "def binomial(means):\n",
    "    return (tf.sign(means - tf.random.uniform(tf.shape(means))) + 1 ) / 2"
   ]
  },
  {
   "cell_type": "code",
   "execution_count": 8,
   "metadata": {
    "colab": {
     "base_uri": "https://localhost:8080/",
     "height": 35
    },
    "id": "ZRYigXZ33_SS",
    "outputId": "6ba06760-2802-42d1-bcf3-1f9e948422ea"
   },
   "outputs": [
    {
     "data": {
      "text/plain": [
       "<tf.Tensor: shape=(4,), dtype=float32, numpy=array([1., 1., 0., 1.], dtype=float32)>"
      ]
     },
     "execution_count": 8,
     "metadata": {},
     "output_type": "execute_result"
    }
   ],
   "source": [
    "binomial(np.array([0.5, 0.5, 0.1, 0.9]))"
   ]
  },
  {
   "cell_type": "markdown",
   "metadata": {
    "id": "T8rR10bN6WBI"
   },
   "source": [
    "This functions creates periodic padding so that the convolution has periodic boundary conditions. When performing the transposed convolution step the padding is placed at the oposite side."
   ]
  },
  {
   "cell_type": "code",
   "execution_count": 9,
   "metadata": {
    "colab": {
     "base_uri": "https://localhost:8080/",
     "height": 192
    },
    "id": "NWbNnXjOng1d",
    "outputId": "8a73258c-1357-4036-bd79-ee7349171395"
   },
   "outputs": [
    {
     "name": "stdout",
     "output_type": "stream",
     "text": [
      "[[ 0  1  2  3]\n",
      " [ 4  5  6  7]\n",
      " [ 8  9 10 11]\n",
      " [12 13 14 15]]\n",
      "\n",
      "[[ 0  1  2  3  0]\n",
      " [ 4  5  6  7  4]\n",
      " [ 8  9 10 11  8]\n",
      " [12 13 14 15 12]\n",
      " [ 0  1  2  3  0]]\n"
     ]
    }
   ],
   "source": [
    "def periodic_padding(x, kernel_size=2, deconv=False):\n",
    "    '''\n",
    "    x: shape (batch_size, d1, d2)\n",
    "    return x padded with periodic boundaries. i.e. torus or donut\n",
    "    '''\n",
    "    pad_r = kernel_size // 2\n",
    "    pad_l = kernel_size - pad_r - 1\n",
    "    \n",
    "    d1, d2 = x.shape[1: 3]\n",
    "    \n",
    "    # When deconvolving the pading should reverses\n",
    "    if deconv:\n",
    "        p = pad_r\n",
    "        pad_r = pad_l\n",
    "        pad_l = p   \n",
    "\n",
    "    top_left = x[:, d1 - pad_l:, d2 - pad_l:]\n",
    "    top_center = x[:, d1 - pad_l:, :]\n",
    "    top_right = x[:, d1 - pad_l:, :pad_r]\n",
    "\n",
    "    middle_left = x[:, :, d2 - pad_l:]\n",
    "    middle_center = x\n",
    "    middle_right = x[:, :, :pad_r]\n",
    "\n",
    "    bottom_left = x[:, :pad_r, d2 - pad_l:]\n",
    "    bottom_center = x[:, :pad_r, :]\n",
    "    bottom_right = x[:, :pad_r, :pad_r]\n",
    "    \n",
    "    top = tf.concat([top_left, top_center, top_right], axis=2)\n",
    "    middle = tf.concat([middle_left, middle_center, middle_right], axis=2)\n",
    "    bottom = tf.concat([bottom_left, bottom_center, bottom_right], axis=2)\n",
    "    padded_x = tf.concat([top, middle, bottom], axis=1)\n",
    "    return padded_x\n",
    "\n",
    "a = tf.Variable(np.arange(4 * 4).reshape(1, 4, 4))\n",
    "print(a[0].numpy())\n",
    "print()\n",
    "print(periodic_padding(a,2)[0].numpy())"
   ]
  },
  {
   "cell_type": "markdown",
   "metadata": {
    "id": "9Ba-8XzQve8c"
   },
   "source": [
    "# Dataset Generation"
   ]
  },
  {
   "cell_type": "code",
   "execution_count": 10,
   "metadata": {
    "id": "85mAzBWlt7p7"
   },
   "outputs": [],
   "source": [
    "def to_int(x):\n",
    "    if x == '0' or x == '1': return int(x)\n",
    "    else: return 0\n",
    "\n",
    "#This will generate all posible LxL matrices with {0,1}^(LxL) don't use with more then L=4\n",
    "def bit_string(L):\n",
    "    maxim = 2 ** (L ** 2)\n",
    "    a = np.asarray([[to_int(x) for x in list(('{0:' + str(L ** 2) + 'b}').format(i))] for i in range(maxim)], dtype=floatX)\n",
    "    return a.reshape(2 ** (L ** 2), L, L)"
   ]
  },
  {
   "cell_type": "markdown",
   "metadata": {
    "id": "m19Njkt2AJsT"
   },
   "source": [
    "Generate all posible $3\\times3$ states"
   ]
  },
  {
   "cell_type": "code",
   "execution_count": 11,
   "metadata": {
    "colab": {
     "base_uri": "https://localhost:8080/",
     "height": 35
    },
    "id": "F5IEPtsTvUIa",
    "outputId": "04385db9-1682-4b02-a306-f57386aa9fc7"
   },
   "outputs": [
    {
     "data": {
      "text/plain": [
       "(512, 3, 3, 1)"
      ]
     },
     "execution_count": 11,
     "metadata": {},
     "output_type": "execute_result"
    }
   ],
   "source": [
    "states_train = bit_string(3)[:, :, :, None]\n",
    "states_train.shape"
   ]
  },
  {
   "cell_type": "markdown",
   "metadata": {
    "id": "wOS0L2tAATVe"
   },
   "source": [
    "Generate a random test set of lattice size $L=50$ to evaluate if the CRBM matches the Ising model at large lattice sizes."
   ]
  },
  {
   "cell_type": "code",
   "execution_count": 12,
   "metadata": {
    "colab": {
     "base_uri": "https://localhost:8080/",
     "height": 35
    },
    "id": "e4t-Mm4E1ur4",
    "outputId": "8eb61288-4f5a-405a-8f65-5050cf5a1d6b"
   },
   "outputs": [
    {
     "data": {
      "text/plain": [
       "(4000, 40, 40, 1)"
      ]
     },
     "execution_count": 12,
     "metadata": {},
     "output_type": "execute_result"
    }
   ],
   "source": [
    "L = 40\n",
    "states_test = np.asarray(np.random.binomial(size=(4 * 10 ** 3, L, L, 1), p=0.5, n=1), dtype=floatX)\n",
    "states_test.shape"
   ]
  },
  {
   "cell_type": "markdown",
   "metadata": {
    "id": "k24jeiSitDR_"
   },
   "source": [
    "Define the energy of given state for the Ising model: $E(s)=-\\sum_{<ij>}s_is_j$"
   ]
  },
  {
   "cell_type": "code",
   "execution_count": 13,
   "metadata": {
    "id": "J1CTzY8LvrPI"
   },
   "outputs": [],
   "source": [
    "def ising_energy(states):\n",
    "    states = 2 * states - 1\n",
    "\n",
    "    nb = np.roll(states, shift=-1, axis=1) + np.roll(states, shift=-1, axis=2)\n",
    "\n",
    "    return -np.sum(states * nb, axis=(1, 2, 3))"
   ]
  },
  {
   "cell_type": "markdown",
   "metadata": {
    "id": "31kyXyzxAteM"
   },
   "source": [
    "For now we will only consider the case $T=1$\n"
   ]
  },
  {
   "cell_type": "code",
   "execution_count": 14,
   "metadata": {
    "id": "3DwA8L7N2XbB"
   },
   "outputs": [],
   "source": [
    "temp = 2.25"
   ]
  },
  {
   "cell_type": "markdown",
   "metadata": {
    "id": "qoCi0HL2A16p"
   },
   "source": [
    "The physical energy is computed for train and test set."
   ]
  },
  {
   "cell_type": "code",
   "execution_count": 15,
   "metadata": {
    "colab": {
     "base_uri": "https://localhost:8080/",
     "height": 35
    },
    "id": "6ny3qOL3vl3O",
    "outputId": "6f6c75f9-0647-47f1-8884-9b1139d633da"
   },
   "outputs": [
    {
     "data": {
      "text/plain": [
       "(512,)"
      ]
     },
     "execution_count": 15,
     "metadata": {},
     "output_type": "execute_result"
    }
   ],
   "source": [
    "E_phys_train = ising_energy(states_train)\n",
    "E_phys_test = ising_energy(states_test)\n",
    "E_phys_train.shape"
   ]
  },
  {
   "cell_type": "markdown",
   "metadata": {
    "id": "aZ0t1lhZBB4c"
   },
   "source": [
    "The CRBM will be trained by batches of 64 states."
   ]
  },
  {
   "cell_type": "code",
   "execution_count": 16,
   "metadata": {
    "colab": {
     "base_uri": "https://localhost:8080/",
     "height": 35
    },
    "id": "eSZRLeNDwxuQ",
    "outputId": "0e15dee5-f1a7-429d-9ab5-38f0bd9393bd"
   },
   "outputs": [
    {
     "data": {
      "text/plain": [
       "64"
      ]
     },
     "execution_count": 16,
     "metadata": {},
     "output_type": "execute_result"
    }
   ],
   "source": [
    "TRAIN_BUF = E_phys_train.shape[0]\n",
    "BATCH_SIZE = 2 ** 6\n",
    "N_TRAIN_BATCHES = TRAIN_BUF// BATCH_SIZE\n",
    "\n",
    "train_dataset = tf.data.Dataset.from_tensor_slices((states_train, E_phys_train)).shuffle(TRAIN_BUF).batch(BATCH_SIZE)\n",
    "BATCH_SIZE"
   ]
  },
  {
   "cell_type": "code",
   "execution_count": 17,
   "metadata": {},
   "outputs": [
    {
     "data": {
      "text/plain": [
       "<BatchDataset element_spec=(TensorSpec(shape=(None, 3, 3, 1), dtype=tf.float32, name=None), TensorSpec(shape=(None,), dtype=tf.float32, name=None))>"
      ]
     },
     "execution_count": 17,
     "metadata": {},
     "output_type": "execute_result"
    }
   ],
   "source": [
    "train_dataset"
   ]
  },
  {
   "cell_type": "markdown",
   "metadata": {
    "id": "9BzB92R0zgqs"
   },
   "source": [
    "# The Model"
   ]
  },
  {
   "cell_type": "markdown",
   "metadata": {
    "id": "dxSkWptE0hXI"
   },
   "source": [
    "Random Initializion: the kernel W with kernel_dims=(kernel_number, kernel_size) and both biases."
   ]
  },
  {
   "cell_type": "code",
   "execution_count": 18,
   "metadata": {
    "colab": {
     "base_uri": "https://localhost:8080/",
     "height": 70
    },
    "id": "a0H-WBKOx1Lv",
    "outputId": "aad6c414-1074-47b3-a371-2c4e6407d1c6"
   },
   "outputs": [
    {
     "name": "stdout",
     "output_type": "stream",
     "text": [
      "vbias.shape: (1,)\n",
      "hbias.shape: (2,)\n",
      "W.shape: (3, 3, 1, 2)\n"
     ]
    }
   ],
   "source": [
    "kernel_dims = (2,3)\n",
    "kernel_shape = (kernel_dims[1], kernel_dims[1], 1, kernel_dims[0])\n",
    "\n",
    "multi = np.prod(kernel_shape)\n",
    "W_np = np.asarray(np.random.randn(*kernel_shape) * np.sqrt(2 / multi), dtype=floatX)\n",
    "\n",
    "W = tf.Variable(W_np * 2)\n",
    "\n",
    "vbias = tf.Variable(np.zeros(1, dtype=floatX))\n",
    "hbias = tf.Variable(np.zeros(kernel_dims[0], dtype=floatX))\n",
    "\n",
    "print(\"vbias.shape:\", vbias.shape)\n",
    "print(\"hbias.shape:\", hbias.shape)\n",
    "print(\"W.shape:\", W.shape)"
   ]
  },
  {
   "cell_type": "markdown",
   "metadata": {
    "id": "nntZbmOaK4fR"
   },
   "source": [
    "Analytical mapping from the Ising model to the CRBM (see App. C in paper):"
   ]
  },
  {
   "cell_type": "code",
   "execution_count": 19,
   "metadata": {
    "id": "Vz0-Cl8eK9dl"
   },
   "outputs": [],
   "source": [
    "def get_param(beta):\n",
    "    e4b = np.exp(4 * beta)\n",
    "    e2b = np.exp(2 * beta)\n",
    "\n",
    "    W = np.log(-1 + 2 * e4b + 2 * e2b * np.sqrt(e4b - 1))\n",
    "\n",
    "    Wk = np.zeros((2, 2, 1, 2), dtype=floatX)\n",
    "    Wk[0, :, 0, 0] = W\n",
    "    Wk[:, 0, 0, 1] = W\n",
    "\n",
    "    vbias = np.asarray([-2 * W], dtype=floatX)\n",
    "    hbias = np.array([-W, -W], dtype=floatX)\n",
    "\n",
    "    return Wk, vbias, hbias\n",
    "\n",
    "W, vbias, hbias = [tf.Variable(param) for param in get_param(1 / temp)]"
   ]
  },
  {
   "cell_type": "markdown",
   "metadata": {
    "id": "h6CTcpub1Dd8"
   },
   "source": [
    "The negative log likelihood also called free energy: \\\\\n",
    "$F(v) = -v_\\text{bias} \\sum_{i,j} v_{ij} -\\sum_{i,j,k} \\log(1+e^{(v*W^k)_{ij} +h^k_\\text{bias}})$"
   ]
  },
  {
   "cell_type": "code",
   "execution_count": 20,
   "metadata": {
    "id": "YYuxQcKzx5cd"
   },
   "outputs": [],
   "source": [
    "def n_log_like(v):\n",
    "    input4D = periodic_padding(v, kernel_dims[1])\n",
    "    kernels4D = W\n",
    "\n",
    "    # Convolution\n",
    "    out = tf.nn.conv2d(input4D, kernels4D, strides=1, padding=\"VALID\")\n",
    "    out += hbias[None, None, None, :]\n",
    "\n",
    "    # Same as softplus(x)=log(1 + exp(x))\n",
    "    hidden_term_not = tf.math.softplus(out)\n",
    "    hidden_term = tf.reduce_sum(hidden_term_not, axis=(1, 2, 3))\n",
    "\n",
    "    visible_term = tf.reduce_sum(v, axis=(1, 2)) * vbias[None, :]\n",
    "    visible_term = tf.reduce_sum(visible_term, axis=1)\n",
    "\n",
    "    return -hidden_term - visible_term"
   ]
  },
  {
   "cell_type": "markdown",
   "metadata": {
    "id": "JXdCNfJ_1dGb"
   },
   "source": [
    "$P(h|x): x \\rightarrow h$  \n",
    "$P(h^k_{ij}=1|v)=\\sigma((W^k * v)_{ij} + h_\\text{bias}^k) ) $"
   ]
  },
  {
   "cell_type": "code",
   "execution_count": 21,
   "metadata": {
    "colab": {
     "base_uri": "https://localhost:8080/",
     "height": 52
    },
    "id": "7EPUk1rvyAI3",
    "outputId": "bb6a5cae-3de5-46b9-d446-74d91dfd284c"
   },
   "outputs": [
    {
     "name": "stdout",
     "output_type": "stream",
     "text": [
      "visible_shape: (1, 3, 3, 1)\n",
      "hidden_shape: (1, 4, 4, 2)\n"
     ]
    }
   ],
   "source": [
    "def prop_vis_to_hid(v):\n",
    "    input4D = periodic_padding(v, kernel_dims[1])\n",
    "    kernels4D = W\n",
    "\n",
    "    # Convolution\n",
    "    out = tf.nn.conv2d(input4D, kernels4D, strides=1, padding=\"VALID\")\n",
    "\n",
    "    out += hbias[None, None, None, :]\n",
    "\n",
    "    mean_activation = tf.math.sigmoid(out)\n",
    "    return binomial(mean_activation), mean_activation\n",
    "\n",
    "h, act = prop_vis_to_hid(states_train[100][None])\n",
    "print(\"visible_shape:\", states_train[100][None].shape)\n",
    "print(\"hidden_shape:\", h.shape)"
   ]
  },
  {
   "cell_type": "markdown",
   "metadata": {
    "id": "OxXeic0n2Cft"
   },
   "source": [
    "$P(x|h): h \\rightarrow x$  \n",
    "$P(v_{ij}=1|h)=\\sigma((\\sum_k \\bar{W}^k * h^k)_{ij} +v_\\text{bias}))$\n"
   ]
  },
  {
   "cell_type": "code",
   "execution_count": 22,
   "metadata": {
    "id": "_0s652fiyHR6"
   },
   "outputs": [],
   "source": [
    "def prop_hid_to_vis(h):\n",
    "    input4D = periodic_padding(h, kernel_dims[1], deconv=True)\n",
    "    kernels4D = tf.transpose(W[::-1, ::-1], [0, 1, 3, 2])\n",
    "\n",
    "    # Convolution\n",
    "    out = tf.nn.conv2d(input4D, kernels4D, strides=1, padding=\"VALID\")\n",
    "\n",
    "    out += vbias[None, None, None, :]\n",
    "\n",
    "    mean_activation = tf.math.sigmoid(out)\n",
    "    return binomial(mean_activation), mean_activation"
   ]
  },
  {
   "cell_type": "markdown",
   "metadata": {
    "id": "vKCCahXU2Nj_"
   },
   "source": [
    "$P(x'|x): x \\rightarrow h\\rightarrow x'$"
   ]
  },
  {
   "cell_type": "code",
   "execution_count": 23,
   "metadata": {
    "id": "aDEsrO92yN3B"
   },
   "outputs": [],
   "source": [
    "def gibbs(state):\n",
    "    h, h_act = prop_vis_to_hid(state)\n",
    "    new_state, x_act = prop_hid_to_vis(h)\n",
    "    return new_state, x_act, h, h_act"
   ]
  },
  {
   "cell_type": "markdown",
   "metadata": {
    "id": "hxzoSUrpHMrP"
   },
   "source": [
    "Plot the intermidiary states"
   ]
  },
  {
   "cell_type": "code",
   "execution_count": 24,
   "metadata": {
    "id": "cXivV6u7_NEA"
   },
   "outputs": [],
   "source": [
    "def arrow(ax):\n",
    "    ax.arrow(0., 0.5, 0.5, 0, head_width = 0.2, width = 0.05)\n",
    "    ax.axis('off')"
   ]
  },
  {
   "cell_type": "code",
   "execution_count": 25,
   "metadata": {
    "id": "Hjw_WiaXyTKP"
   },
   "outputs": [],
   "source": [
    "def plot_sampling(x, x_act, h, h_act):\n",
    "    fig, axes = plt.subplots(nrows=3, ncols=9, figsize=(9 * 2, 3 * 2))\n",
    "    axes[1, 0].imshow(x_old[0, :, :, 0], vmin=0, vmax=1, cmap=\"gray\")\n",
    "    axes[1, 0].set_xlabel(\"x\", fontsize=20)\n",
    "    arrow(axes[1, 1])\n",
    "\n",
    "    # Remove unwanted plots\n",
    "    for ij in [(0,0), (2,0), (0,1), (2,1), (1,2), (1,3), (1, 4), (0,5), (2, 5), (0,6), (2, 6), (0, 7), (2, 7), (0, 8), (2, 8)]:\n",
    "        axes[ij[0], ij[1]].set_visible(False)\n",
    "\n",
    "    for i in range(2):\n",
    "        axes[2*i, 2].imshow(h_act[0, :, :, i], vmin=0, vmax=1, cmap=\"gray\")\n",
    "        axes[2*i, 2].set_xlabel(f'$P(h^{i}|x)$', fontsize=20)\n",
    "        \n",
    "        arrow(axes[2*i, 3])\n",
    "\n",
    "        axes[2*i, 4].imshow(h[0, :, :, i], vmin=0, vmax=1, cmap=\"gray\")\n",
    "        axes[2*i, 4].set_xlabel(f'$h^{i}$', fontsize=20)\n",
    "        \n",
    "        \n",
    "\n",
    "    arrow(axes[1, 5])\n",
    "    axes[1, 6].imshow(x_act[0, :, :, 0], vmin=0, vmax=1, cmap=\"gray\")\n",
    "    axes[1, 6].set_xlabel(\"P(x'|h)\", fontsize=20)\n",
    "\n",
    "    arrow(axes[1, 7])\n",
    "\n",
    "    axes[1, 8].imshow(x[0, :, :, 0], vmin=0, vmax=1, cmap=\"gray\")\n",
    "    axes[1, 8].set_xlabel(\"x'\", fontsize=20)\n",
    "    # Deactivate axes\n",
    "    for j in range(9):\n",
    "        for i in range(3):\n",
    "            axes[i, j].set_xticks([])\n",
    "            axes[i, j].set_yticks([])\n",
    "\n",
    "    plt.show()"
   ]
  },
  {
   "cell_type": "code",
   "execution_count": 26,
   "metadata": {
    "id": "f6pmhSnzMy4n"
   },
   "outputs": [],
   "source": [
    "x_old = np.asarray(np.random.binomial(n=1, p=0.1, size=(1, 5, 5, 1)), dtype=floatX) * 0\n",
    "x_old[0, 2, 1, 0] = 1\n",
    "x_old[0, 2, 2, 0] = 1\n",
    "x_old[0, 2, 3, 0] = 1"
   ]
  },
  {
   "cell_type": "code",
   "execution_count": 27,
   "metadata": {
    "colab": {
     "base_uri": "https://localhost:8080/",
     "height": 386
    },
    "id": "Lf3nroZRM8qY",
    "outputId": "e7a2e7a2-7937-43b0-d89c-736fc2bacba1"
   },
   "outputs": [
    {
     "data": {
      "image/png": "[encoded data removed]",
      "text/plain": [
       "<Figure size 1296x432 with 27 Axes>"
      ]
     },
     "metadata": {},
     "output_type": "display_data"
    }
   ],
   "source": [
    "#W, vbias, hbias = [tf.Variable(param) for param in get_param(1 / 100)]\n",
    "plot_sampling(*gibbs(x_old))"
   ]
  },
  {
   "cell_type": "markdown",
   "metadata": {
    "id": "dvZzNjW_2W2_"
   },
   "source": [
    "Computing the loss function:  \n",
    "$\\text{diff}(x) = E(x) - F(x)$  \n",
    "$C = \\frac{1}{M} \\sum_x \\text{diff}(x)$  \n",
    "$\\text{loss} = \\sum_x (\\text{diff}(x) - C)^2$  \n",
    "If the parameters where initialized with the analytical solution the loss will only differ slightly from zero because of numerical errors"
   ]
  },
  {
   "cell_type": "code",
   "execution_count": 28,
   "metadata": {
    "colab": {
     "base_uri": "https://localhost:8080/",
     "height": 52
    },
    "id": "expppT3Qyc48",
    "outputId": "0a225edd-932f-412a-d33b-f69802d557bd"
   },
   "outputs": [
    {
     "name": "stdout",
     "output_type": "stream",
     "text": [
      "Train_loss: 86.6186\n",
      "Test_loss: 568.33685\n"
     ]
    }
   ],
   "source": [
    "@tf.function\n",
    "def compute_loss(x, nll_phys):\n",
    "    nll_crbm = n_log_like(x)\n",
    "\n",
    "    diff = nll_phys - nll_crbm # E_phys(x) - F_RBM(x)\n",
    "    C = tf.reduce_mean(diff)\n",
    "\n",
    "    loss = tf.reduce_mean((diff - C) ** 2)\n",
    "    return loss\n",
    "\n",
    "print(\"Train_loss:\", compute_loss(states_train, E_phys_train / temp).numpy())\n",
    "print(\"Test_loss:\", compute_loss(states_test, E_phys_test / temp).numpy())"
   ]
  },
  {
   "cell_type": "markdown",
   "metadata": {
    "id": "1tazcvUJ3b4D"
   },
   "source": [
    "Initialize the adam optimizer, compute the gradients and apply them."
   ]
  },
  {
   "cell_type": "code",
   "execution_count": 29,
   "metadata": {
    "colab": {
     "base_uri": "https://localhost:8080/",
     "height": 35
    },
    "id": "5ctvr0eLymUe",
    "outputId": "42cc66cf-e7fd-4610-c057-7b04d0e74198"
   },
   "outputs": [
    {
     "data": {
      "text/plain": [
       "<tf.Tensor: shape=(), dtype=float32, numpy=86.6186>"
      ]
     },
     "execution_count": 29,
     "metadata": {},
     "output_type": "execute_result"
    }
   ],
   "source": [
    "opt = tf.keras.optimizers.Adam()\n",
    "params = [W, hbias, vbias]\n",
    "def compute_grad(x, nll_phys):\n",
    "    ### pass through network\n",
    "    with tf.GradientTape() as tape:\n",
    "        loss = compute_loss(x, nll_phys)\n",
    "\n",
    "    # compute the grad\n",
    "    grad = tape.gradient(loss, params)\n",
    "    return grad, loss\n",
    "\n",
    "@tf.function\n",
    "def train(x, nll_phys):\n",
    "    grad, loss = compute_grad(x, nll_phys)\n",
    "\n",
    "    opt.apply_gradients(zip(grad, params))\n",
    "    return loss\n",
    "\n",
    "train(states_train, E_phys_train / temp)"
   ]
  },
  {
   "cell_type": "markdown",
   "metadata": {
    "id": "-2mNJF1ixnN4"
   },
   "source": [
    "Everything combined in one class."
   ]
  },
  {
   "cell_type": "code",
   "execution_count": 30,
   "metadata": {
    "id": "Hu2rPLnOmrjh"
   },
   "outputs": [],
   "source": [
    "class CRBM:\n",
    "    def __init__(self, kernel_dims, opt=None):\n",
    "        \n",
    "        assert len(kernel_dims) == 2\n",
    "        if opt is None:\n",
    "            opt = tf.keras.optimizers.Adam()\n",
    "            \n",
    "        self.opt = opt\n",
    "        \n",
    "        self.kernel_shape = (kernel_dims[1], kernel_dims[1], 1, kernel_dims[0])\n",
    "        self.kernel_dims = kernel_dims\n",
    "\n",
    "\n",
    "        multi = np.prod(self.kernel_shape)\n",
    "        W_np = np.asarray(np.random.randn(*self.kernel_shape) * np.sqrt(2 / multi), dtype=floatX)\n",
    "\n",
    "        W = tf.Variable(W_np)\n",
    "\n",
    "        vbias = tf.Variable(np.zeros(1, dtype=floatX))\n",
    "        hbias = tf.Variable(np.zeros(kernel_dims[0], dtype=floatX))\n",
    "\n",
    "        self.W = W\n",
    "        self.hbias = hbias\n",
    "        self.vbias = vbias\n",
    "\n",
    "\n",
    "        # Learning parameters\n",
    "        self.params = [self.W, self.vbias, self.hbias]\n",
    "\n",
    "\n",
    "    def n_log_like(self, v):\n",
    "        input4D = periodic_padding(v, self.kernel_dims[1])\n",
    "        kernels4D = self.W\n",
    "\n",
    "        # Convolution\n",
    "        out = tf.nn.conv2d(input4D, kernels4D, strides=1, padding=\"VALID\")\n",
    "        out += self.hbias[None, None, None, :]\n",
    "\n",
    "        # Same as softplus(x)=log(1 + exp(x))\n",
    "        hidden_term_not = tf.math.softplus(out)\n",
    "        hidden_term = tf.reduce_sum(hidden_term_not, axis=(1, 2, 3))\n",
    "\n",
    "        visible_term = tf.reduce_sum(v, axis=(1, 2)) * self.vbias[None, :]\n",
    "        visible_term = tf.reduce_sum(visible_term, axis=1)\n",
    "\n",
    "        return -hidden_term - visible_term\n",
    "\n",
    "    def set_analytical_param(self, beta):\n",
    "        W, vbias, hbias = get_param(beta)\n",
    "        self.W.assign(W)\n",
    "        self.hbias.assign(hbias)\n",
    "        self.vbias.assign(vbias)\n",
    "\n",
    "    def prop_vis_to_hid(self, v):\n",
    "        input4D = periodic_padding(v, self.kernel_dims[1])\n",
    "        kernels4D = self.W\n",
    "        \n",
    "        # Convolution\n",
    "        out = tf.nn.conv2d(input4D, kernels4D, strides=1, padding=\"VALID\")\n",
    "        \n",
    "        out += self.hbias[None, None, None, :]\n",
    "        \n",
    "        mean_activation = tf.math.sigmoid(out)\n",
    "        return binomial(mean_activation)\n",
    "        \n",
    "    \n",
    "    def prop_hid_to_vis(self, h):\n",
    "        input4D = periodic_padding(h, self.kernel_dims[1], deconv=True)\n",
    "        kernels4D = tf.transpose(self.W[::-1, ::-1], [0, 1, 3, 2])\n",
    "\n",
    "        # Convolution\n",
    "        out = tf.nn.conv2d(input4D, kernels4D, strides=1, padding=\"VALID\")\n",
    "        \n",
    "        out += self.vbias[None, None, None, :]\n",
    "        \n",
    "        mean_activation = tf.math.sigmoid(out)\n",
    "        return binomial(mean_activation)\n",
    "    \n",
    "    @tf.function\n",
    "    def gibbs(self, state):\n",
    "        return self.prop_hid_to_vis(self.prop_vis_to_hid(state))\n",
    "    \n",
    "    \n",
    "    @tf.function\n",
    "    def gibbs_k(self, state, k=1):\n",
    "        \n",
    "        i = tf.constant(0)\n",
    "        cond = lambda i, state: tf.less(i, k)\n",
    "\n",
    "        def operation(i, state):\n",
    "            i += 1\n",
    "            state = self.gibbs(state)\n",
    "            return i, state\n",
    "\n",
    "        _, state = tf.while_loop(cond, operation, [i, state])\n",
    "        \n",
    "        return state\n",
    "    \n",
    "    @tf.function\n",
    "    def compute_loss(self, x, nll_phys):\n",
    "        nll_crbm = self.n_log_like(x)\n",
    "\n",
    "        diff = nll_phys - nll_crbm\n",
    "        C = tf.reduce_mean(diff)\n",
    "        \n",
    "        loss = tf.reduce_mean((diff - C) ** 2) # kind of like a \n",
    "        # least-squares but for a difference of probability \n",
    "        # distributions\n",
    "        return loss\n",
    "    \n",
    "    def compute_grad(self, x, nll_phys):\n",
    "        # compute the grad\n",
    "\n",
    "        ### pass through network\n",
    "        with tf.GradientTape() as tape:\n",
    "            loss = self.compute_loss(x, nll_phys)\n",
    "\n",
    "        grad = tape.gradient(loss, self.params)\n",
    "        return grad, loss\n",
    "\n",
    "\n",
    "    @tf.function\n",
    "    def train(self, x, nll_phys):\n",
    "        grad, loss = self.compute_grad(x, nll_phys)\n",
    "\n",
    "        self.opt.apply_gradients(zip(grad, self.params))\n",
    "        return loss\n",
    "    \n",
    "    # Symmetrization functions\n",
    "    def generate_R90_groups(self):\n",
    "        \n",
    "        # Should generalize to even linear size kernels\n",
    "\n",
    "        L = self.kernel_dims[1]\n",
    "        \n",
    "        unique_vectors = []\n",
    "        length = L-1\n",
    "        for i in range(L//2):\n",
    "            for j in range(i,i+length):\n",
    "\n",
    "                unique_vectors.append([i,j])\n",
    "\n",
    "            length -= 2\n",
    "        unique_vectors = np.array(unique_vectors,dtype=np.float32)\n",
    "        \n",
    "        # Shift vectors to place origin at center site (for odd) or center (for even) \n",
    "        if L%2!=0:\n",
    "            shift = L//2\n",
    "        else:\n",
    "            shift = (L//2-0.5)\n",
    "        unique_vectors -= shift\n",
    "            \n",
    "        # Apply rotation matrix to get the 4 rotations\n",
    "        R = np.array([[0,1],[-1,0]])\n",
    "        rotations = np.zeros((unique_vectors.shape[0],4,2),dtype=np.float32)\n",
    "        for i,vec in enumerate(unique_vectors):\n",
    "            for rot in range(4):\n",
    "                rotations[i][rot] = vec\n",
    "                vec = R@vec\n",
    "\n",
    "        # Shift rotationally equivalent vectors back to have center at top left corner\n",
    "        rotations += shift\n",
    "        rotations = rotations.astype(np.int32)\n",
    "        return rotations\n",
    "\n",
    "    # @tf.function\n",
    "    def symmetrize_rotations(self,R90_groups):\n",
    "        for group in R90_groups:\n",
    "            W_mean = tf.zeros(kernel_dims[0])\n",
    "            for angle in range(4):\n",
    "                row,col = group[angle]\n",
    "                W_mean += self.W[row,col] \n",
    "            W_mean /= 4.0\n",
    "\n",
    "            for angle in range(4):\n",
    "                row,col = group[angle]\n",
    "                self.W[row,col].assign(W_mean)\n",
    "\n",
    "    # Symmetrization functions\n",
    "    @tf.function\n",
    "    def symmetrize_reflections(self):\n",
    "        \n",
    "        kernel_size = self.kernel_dims[1]\n",
    "        \n",
    "        if kernel_size%2 !=0: \n",
    "            start_right = kernel_size//2+1\n",
    "        else:\n",
    "            start_right = kernel_size//2\n",
    "        start_bottom = start_right\n",
    "        \n",
    "        # Get left-half of Ising lattice\n",
    "        # print(\"kernel_size: \",kernel_size)\n",
    "        # print(\"kernel_size//2: \",kernel_size//2)\n",
    "        left_half = self.W[:,0:kernel_size//2,:,:]\n",
    "        right_half = self.W[:,start_right:,:,:]\n",
    "        right_half = right_half[:,::-1,:,:] # Reflection of right-half\n",
    "\n",
    "        # Take average of sites symmetrical about vertical axis\n",
    "        left_right_mean = (left_half+right_half)/2.0\n",
    "        \n",
    "        self.W[:,0:kernel_size//2,:,:].assign(left_right_mean)\n",
    "        self.W[:,start_right:,:,:].assign(left_right_mean[:,::-1,:,:])\n",
    "        \n",
    "        # Get top-half of Ising lattice\n",
    "        # print(\"kernel_size: \",kernel_size)\n",
    "        # print(\"kernel_size//2: \",kernel_size//2)\n",
    "        top_half = self.W[0:kernel_size//2,:,:,:]\n",
    "        bottom_half = self.W[start_bottom:,:,:,:]\n",
    "        bottom_half = bottom_half[::-1,:,:,:] # Reflection of bottom-half\n",
    "\n",
    "        # Take average of sites symmetrical about horizontal axis\n",
    "        top_bottom_mean = (top_half+bottom_half)/2.0\n",
    "        \n",
    "        self.W[0:kernel_size//2,:,:,:].assign(top_bottom_mean)\n",
    "        self.W[start_bottom:,:,:,:].assign(top_bottom_mean[::-1,:,:,:])"
   ]
  },
  {
   "cell_type": "code",
   "execution_count": null,
   "metadata": {},
   "outputs": [],
   "source": []
  },
  {
   "cell_type": "markdown",
   "metadata": {
    "id": "nMFUHQ7hyNXR"
   },
   "source": [
    "# Training"
   ]
  },
  {
   "cell_type": "markdown",
   "metadata": {
    "id": "5ylnigpuBSB9"
   },
   "source": [
    "We create an CRBM object and train it. One can see that both the train_loss and the test_loss decrease simulaniously. The expected difference between the two losses should be around $\\frac{t_{test}}{t_{train}}=\\frac{N_{test}^2}{N^2_{train}}=\\frac{50^2}{3^2}=277.77$. Note that our objective is that $F_{RBM}(x)=\\beta E(x)+C$."
   ]
  },
  {
   "cell_type": "code",
   "execution_count": 31,
   "metadata": {
    "id": "Rpvy_HS-vrMf"
   },
   "outputs": [],
   "source": [
    "crbm = CRBM(kernel_dims=kernel_dims)"
   ]
  },
  {
   "cell_type": "code",
   "execution_count": 32,
   "metadata": {},
   "outputs": [
    {
     "data": {
      "text/plain": [
       "array([[[0, 0],\n",
       "        [0, 2],\n",
       "        [2, 2],\n",
       "        [2, 0]],\n",
       "\n",
       "       [[0, 1],\n",
       "        [1, 2],\n",
       "        [2, 1],\n",
       "        [1, 0]]], dtype=int32)"
      ]
     },
     "execution_count": 32,
     "metadata": {},
     "output_type": "execute_result"
    }
   ],
   "source": [
    "R90_groups = crbm.generate_R90_groups()\n",
    "R90_groups"
   ]
  },
  {
   "cell_type": "code",
   "execution_count": 33,
   "metadata": {
    "id": "74Luj353ygYP"
   },
   "outputs": [],
   "source": [
    "loss_train = []\n",
    "loss_test = []\n",
    "epoch = 0"
   ]
  },
  {
   "cell_type": "code",
   "execution_count": 34,
   "metadata": {
    "colab": {
     "base_uri": "https://localhost:8080/",
     "height": 317
    },
    "id": "dmVULw63xiGi",
    "outputId": "a8e40893-b4fc-4129-889b-1446fb067e86"
   },
   "outputs": [
    {
     "name": "stdout",
     "output_type": "stream",
     "text": [
      "Epoch: 592000 | loss test: 2.4617104530334473| loss train: 1.6728663467802107e-06| ltest/ltrain: 1471552.375\n",
      "CPU times: user 7h 43min 36s, sys: 2h 13min 34s, total: 9h 57min 11s\n",
      "Wall time: 9h 20min 36s\n"
     ]
    }
   ],
   "source": [
    "%%time\n",
    "l_train = 10 ** 9\n",
    "l_test = 10 ** 9\n",
    "\n",
    "while l_train > 10 ** -6:\n",
    "    # train\n",
    "    l_train = 0\n",
    "        \n",
    "    for train_s, train_E in train_dataset:\n",
    "        l_train += crbm.train(train_s, train_E / temp)\n",
    "        \n",
    "        # Symmetrize 90 degree rotations\n",
    "        crbm.symmetrize_rotations(R90_groups)\n",
    "        \n",
    "        # Symmetrize horizontal,vertical axis reflections\n",
    "        crbm.symmetrize_reflections()\n",
    "    \n",
    "    l_train = l_train / N_TRAIN_BATCHES\n",
    "        \n",
    "    # plot results    \n",
    "    if epoch % 1000 == 0:\n",
    "        l_test = crbm.compute_loss(states_test, E_phys_test / temp)\n",
    "        \n",
    "        loss_train.append(l_train) \n",
    "        loss_test.append(l_test)\n",
    "        \n",
    "        display.clear_output(wait=True)\n",
    "\n",
    "        print(\n",
    "            f\"Epoch: {epoch} | loss test: {loss_test[-1]}| loss train: {loss_train[-1]}| ltest/ltrain: {loss_test[-1]/loss_train[-1]}\"\n",
    "        )\n",
    "        # plt.plot(loss_train)\n",
    "        # plt.plot(loss_test)\n",
    "        # plt.yscale(\"log\")\n",
    "        # plt.show()\n",
    "    epoch += 1\n",
    "# plt.savefig('L_'+str(L)+'_T_'+str(temp)+'_kernelDims_'+str(kernel_dims[0])+'-'+str(kernel_dims[1])+'_'+modelType+'_training.dat')\n",
    "# plt.show()"
   ]
  },
  {
   "cell_type": "code",
   "execution_count": 35,
   "metadata": {},
   "outputs": [],
   "source": [
    "modelType='with_symmetries'"
   ]
  },
  {
   "cell_type": "code",
   "execution_count": 36,
   "metadata": {},
   "outputs": [
    {
     "data": {
      "text/plain": [
       "<tf.Tensor: shape=(), dtype=float32, numpy=1471552.4>"
      ]
     },
     "execution_count": 36,
     "metadata": {},
     "output_type": "execute_result"
    }
   ],
   "source": [
    "loss_test[-1]/loss_train[-1]"
   ]
  },
  {
   "cell_type": "code",
   "execution_count": 83,
   "metadata": {},
   "outputs": [
    {
     "data": {
      "image/png": "[encoded data removed]",
      "text/plain": [
       "<Figure size 432x288 with 1 Axes>"
      ]
     },
     "metadata": {
      "needs_background": "light"
     },
     "output_type": "display_data"
    }
   ],
   "source": [
    "plt.plot(loss_train)\n",
    "plt.plot(loss_test)\n",
    "plt.yscale(\"log\")\n",
    "plt.savefig('L_'+str(L)+'_T_'+str(temp)+'_kernelDims_'+str(kernel_dims[0])+'-'+str(kernel_dims[1])+'_'+modelType+'_training.pdf')\n",
    "plt.show()"
   ]
  },
  {
   "cell_type": "code",
   "execution_count": 84,
   "metadata": {},
   "outputs": [
    {
     "data": {
      "text/plain": [
       "<tf.Tensor: shape=(), dtype=float32, numpy=9.976242e-07>"
      ]
     },
     "execution_count": 84,
     "metadata": {},
     "output_type": "execute_result"
    }
   ],
   "source": [
    "l_train"
   ]
  },
  {
   "cell_type": "markdown",
   "metadata": {
    "id": "WBaalL7QRmEn"
   },
   "source": [
    "# The learned convolutional kernels show the effective interaction between nearest neighbours."
   ]
  },
  {
   "cell_type": "code",
   "execution_count": null,
   "metadata": {},
   "outputs": [],
   "source": []
  },
  {
   "cell_type": "code",
   "execution_count": 85,
   "metadata": {
    "colab": {
     "base_uri": "https://localhost:8080/",
     "height": 208
    },
    "id": "dBc3oN6q41eB",
    "outputId": "501251e5-b28c-48a3-f1ab-08799e7b6f2f"
   },
   "outputs": [
    {
     "data": {
      "image/png": "[encoded data removed]",
      "text/plain": [
       "<Figure size 432x288 with 2 Axes>"
      ]
     },
     "metadata": {},
     "output_type": "display_data"
    }
   ],
   "source": [
    "W = crbm.W.numpy()\n",
    "vmax = np.max(abs(W))\n",
    "\n",
    "fig, axes = plt.subplots(nrows=1, ncols=2)\n",
    "\n",
    "axes[0].imshow(W[:, :, 0, 0], vmin =-vmax, vmax=vmax, cmap=\"seismic\")\n",
    "axes[1].imshow(W[:, :, 0, 1], vmin =-vmax, vmax=vmax, cmap=\"seismic\")\n",
    "# axes[2].imshow(W[:, :, 0, 2], vmin =-vmax, vmax=vmax, cmap=\"seismic\")\n",
    "# axes[3].imshow(W[:, :, 0, 3], vmin =-vmax, vmax=vmax, cmap=\"seismic\")\n",
    "\n",
    "# Deactivate axes\n",
    "for j in range(2):\n",
    "    axes[j].set_xticks([])\n",
    "    axes[j].set_yticks([])\n",
    "    axes[j].set_xlabel(f'$W^{j}$', fontsize=20)\n",
    "\n",
    "plt.show()"
   ]
  },
  {
   "cell_type": "code",
   "execution_count": 157,
   "metadata": {},
   "outputs": [
    {
     "data": {
      "text/plain": [
       "<matplotlib.colorbar.Colorbar at 0x7fcfc6327880>"
      ]
     },
     "execution_count": 157,
     "metadata": {},
     "output_type": "execute_result"
    },
    {
     "data": {
      "image/png": "[encoded data removed]",
      "text/plain": [
       "<Figure size 432x288 with 2 Axes>"
      ]
     },
     "metadata": {
      "needs_background": "light"
     },
     "output_type": "display_data"
    }
   ],
   "source": [
    "W = crbm.W.numpy()\n",
    "vmax = np.max(abs(W))\n",
    "\n",
    "plt.imshow(W[:, :, 0, 0], vmin =-vmax, vmax=vmax, cmap=\"seismic\")\n",
    "plt.xticks([])\n",
    "plt.yticks([])\n",
    "plt.xlabel(f'$W^{0}$', fontsize=20)\n",
    "plt.colorbar()\n",
    "# plt.savefig('T_'+str(temp)+'_kernelDims_'+str(kernel_dims[0])+'-'+str(kernel_dims[1])+'_'+modelType+'.pdf',dpi=300)"
   ]
  },
  {
   "cell_type": "code",
   "execution_count": 87,
   "metadata": {},
   "outputs": [
    {
     "name": "stdout",
     "output_type": "stream",
     "text": [
      "[[  0.02339759  -0.8621081    0.02339759]\n",
      " [ -0.8621081  -12.765793    -0.8621081 ]\n",
      " [  0.02339759  -0.8621081    0.02339759]] \n",
      "\n",
      "[[ 0.37847    -0.0239672   0.37847   ]\n",
      " [-0.0239672   0.09486416 -0.0239672 ]\n",
      " [ 0.37847    -0.0239672   0.37847   ]] \n",
      "\n"
     ]
    }
   ],
   "source": [
    "for i in range(kernel_dims[0]):\n",
    "    print(W[:, :, 0, i],'\\n')"
   ]
  },
  {
   "cell_type": "markdown",
   "metadata": {
    "id": "-mZoKqjr7uVT"
   },
   "source": [
    "# Sampling"
   ]
  },
  {
   "cell_type": "markdown",
   "metadata": {
    "id": "uVHIsquKZoh1"
   },
   "source": [
    "A state with $L=40$ is updated $5\\times10 ^4$ times using gibbs sampling.  Because the temperature T=1, is well bellow the critical temperature TC=2.269 it converges to the ground state."
   ]
  },
  {
   "cell_type": "code",
   "execution_count": 141,
   "metadata": {
    "id": "30z8c8PT7JLd"
   },
   "outputs": [],
   "source": [
    "L = 100\n",
    "states = tf.random.uniform((1, L, L, 1))\n",
    "# crbm.set_analytical_param(1 / temp)"
   ]
  },
  {
   "cell_type": "code",
   "execution_count": 142,
   "metadata": {},
   "outputs": [],
   "source": [
    "# Open file for writing\n",
    "filename = 'L_'+str(L)+'_T_'+str(temp)+'_kernelDims_'+str(kernel_dims[0])+'-'+str(kernel_dims[1])+'_'+modelType+'.dat'\n",
    "file = open(filename, \"w\")\n",
    "header = \"#L=%d, T=%.2f \\n# E     M \\n\"\n",
    "file.write(header)\n",
    "\n",
    "# Initialize quantities to measure\n",
    "E = 0.0\n",
    "M = 12345\n",
    "\n",
    "bin_size = 1"
   ]
  },
  {
   "cell_type": "code",
   "execution_count": 143,
   "metadata": {},
   "outputs": [
    {
     "data": {
      "text/plain": [
       "0.0"
      ]
     },
     "execution_count": 143,
     "metadata": {},
     "output_type": "execute_result"
    }
   ],
   "source": [
    "E"
   ]
  },
  {
   "cell_type": "code",
   "execution_count": 144,
   "metadata": {},
   "outputs": [
    {
     "data": {
      "text/plain": [
       "25000"
      ]
     },
     "execution_count": 144,
     "metadata": {},
     "output_type": "execute_result"
    }
   ],
   "source": [
    "equilibration_steps = int(0.25*epochs)\n",
    "equilibration_steps"
   ]
  },
  {
   "cell_type": "code",
   "execution_count": 145,
   "metadata": {
    "colab": {
     "base_uri": "https://localhost:8080/",
     "height": 342
    },
    "id": "rsODKWM66otO",
    "outputId": "15665bbd-d32e-4a95-f78d-d23a8a77b4c4"
   },
   "outputs": [
    {
     "name": "stdout",
     "output_type": "stream",
     "text": [
      "Equilibrating...\n",
      "Equilibrated!\n",
      "Sampling and measuring observables...\n",
      "Done!\n",
      "CPU times: user 1h 35min 43s, sys: 6min 44s, total: 1h 42min 27s\n",
      "Wall time: 1h 16min 44s\n"
     ]
    }
   ],
   "source": [
    "%%time\n",
    "epochs = 10 * 10 ** 4\n",
    "equilibration_steps = 10**6\n",
    "not_equilibrated = True\n",
    "Es = []\n",
    "E_exact = ising_analysis.e_exact_func(temp)*(L**2)\n",
    "print('Equilibrating...')\n",
    "i = 0\n",
    "while i < epochs:\n",
    "    \n",
    "    while not_equilibrated:\n",
    "        states = crbm.gibbs(states)\n",
    "        i+=1\n",
    "    \n",
    "        if i==equilibration_steps:\n",
    "            print('Equilibrated!')\n",
    "            print('Sampling and measuring observables...')\n",
    "            not_equilibrated = False\n",
    "            i = 0\n",
    "    \n",
    "    # After equilibration, measure observables\n",
    "    states = crbm.gibbs(states)\n",
    "    E = ising_energy(states)[0]\n",
    "    Es.append(E)\n",
    "\n",
    "    file.write('%.2f %.2f \\n'%(E/bin_size,M/bin_size))\n",
    "        \n",
    "    i += 1\n",
    "    \n",
    "print('Done!')\n",
    "\n",
    "    #     if i % 5000 == 0:\n",
    "    #         display.clear_output(wait=True)\n",
    "    #         fig, axes = plt.subplots(nrows=1, ncols=2, figsize=(15, 5))\n",
    "\n",
    "    #         axes[0].imshow(states.numpy()[0, :, :, 0], vmin=0, vmax=1, cmap=\"gray\")\n",
    "    #         axes[0].set_xticks([])\n",
    "    #         axes[0].set_yticks([])\n",
    "    #         axes[0].set_xlabel('state', fontsize=20)\n",
    "\n",
    "\n",
    "    #         axes[1].plot(Es)\n",
    "    #         # axes[1].plot([0, len(Es)], [-2 * L ** 2, -2 * L ** 2])\n",
    "    #         axes[1].axhline(E_exact)\n",
    "    #         axes[1].set_xlabel(f'steps', fontsize=20)\n",
    "    #         axes[1].set_ylabel(f'E', fontsize=20)\n",
    "    #         display.clear_output(wait=True)\n",
    "    #         # plt.savefig('L_'+str(L)+'_T_'+str(temp)+'_kernelDims_'+str(kernel_dims[0])+'-'+str(kernel_dims[1])+'_'+modelType+'.png',dpi=300)\n",
    "    #         # plt.savefig('L_'+str(L)+'_T_'+str(temp)+'_kernelDims_'+str(kernel_dims[0])+'-'+str(kernel_dims[1])+'_'+modelType+'.pdf',dpi=300)\n",
    "    #         plt.show()"
   ]
  },
  {
   "cell_type": "code",
   "execution_count": 151,
   "metadata": {},
   "outputs": [
    {
     "data": {
      "image/png": "[encoded data removed]",
      "text/plain": [
       "<Figure size 1080x360 with 2 Axes>"
      ]
     },
     "metadata": {
      "needs_background": "light"
     },
     "output_type": "display_data"
    }
   ],
   "source": [
    "fig, axes = plt.subplots(nrows=1, ncols=2, figsize=(15, 5))\n",
    "\n",
    "axes[0].imshow(states.numpy()[0, :, :, 0], vmin=0, vmax=1, cmap=\"gray\")\n",
    "axes[0].set_xticks([])\n",
    "axes[0].set_yticks([])\n",
    "axes[0].set_xlabel('state', fontsize=20)\n",
    "\n",
    "\n",
    "axes[1].plot(Es)\n",
    "# axes[1].plot([0, len(Es)], [-2 * L ** 2, -2 * L ** 2])\n",
    "axes[1].axhline(E_exact)\n",
    "axes[1].set_xlabel(f'steps', fontsize=20)\n",
    "axes[1].set_ylabel(f'E', fontsize=20)\n",
    "display.clear_output(wait=True)\n",
    "# plt.savefig('L_'+str(L)+'_T_'+str(temp)+'_kernelDims_'+str(kernel_dims[0])+'-'+str(kernel_dims[1])+'_'+modelType+'.png',dpi=300)\n",
    "# plt.savefig('L_'+str(L)+'_T_'+str(temp)+'_kernelDims_'+str(kernel_dims[0])+'-'+str(kernel_dims[1])+'_'+modelType+'.pdf',dpi=300)\n",
    "plt.show()"
   ]
  },
  {
   "cell_type": "code",
   "execution_count": 152,
   "metadata": {},
   "outputs": [],
   "source": [
    "# Close file if finished sampling\n",
    "file.close()"
   ]
  },
  {
   "cell_type": "markdown",
   "metadata": {
    "id": "GJbMS_sd--vo"
   },
   "source": [
    "The minimal energy is $2L^2$"
   ]
  },
  {
   "cell_type": "code",
   "execution_count": 153,
   "metadata": {},
   "outputs": [
    {
     "data": {
      "text/plain": [
       "-15633.754"
      ]
     },
     "execution_count": 153,
     "metadata": {},
     "output_type": "execute_result"
    }
   ],
   "source": [
    "np.mean(Es[:])"
   ]
  },
  {
   "cell_type": "code",
   "execution_count": 154,
   "metadata": {},
   "outputs": [
    {
     "data": {
      "text/plain": [
       "-14631.027325870677"
      ]
     },
     "execution_count": 154,
     "metadata": {},
     "output_type": "execute_result"
    }
   ],
   "source": [
    "E_exact"
   ]
  },
  {
   "cell_type": "code",
   "execution_count": 155,
   "metadata": {},
   "outputs": [
    {
     "data": {
      "text/plain": [
       "6.8534256552600095"
      ]
     },
     "execution_count": 155,
     "metadata": {},
     "output_type": "execute_result"
    }
   ],
   "source": [
    "np.abs(np.mean(Es[:])-E_exact)/np.abs(E_exact)*100"
   ]
  },
  {
   "cell_type": "markdown",
   "metadata": {
    "id": "Kj4_-LChLMin"
   },
   "source": [
    "# Thermodynamic constants at different temperatures"
   ]
  },
  {
   "cell_type": "code",
   "execution_count": null,
   "metadata": {},
   "outputs": [],
   "source": []
  },
  {
   "cell_type": "code",
   "execution_count": null,
   "metadata": {},
   "outputs": [],
   "source": []
  },
  {
   "cell_type": "markdown",
   "metadata": {
    "id": "uLK2kJOWwLwR"
   },
   "source": [
    "Until now we only trained as CRBM at a $T=1$. Train differnt CRBM at different $T$s.\n",
    "\n",
    "\n"
   ]
  },
  {
   "cell_type": "code",
   "execution_count": null,
   "metadata": {
    "id": "D45rMFAJLR8A"
   },
   "outputs": [],
   "source": [
    "def train(T, crbm=None):\n",
    "    if crbm is None:\n",
    "        crbm = CRBM(kernel_dims=(2, 2))\n",
    "    \n",
    "    l_train = 10 ** 9\n",
    "    l_test = 10 ** 9\n",
    "    epoch = 0\n",
    "    while l_train > 10 ** -4:\n",
    "        # train\n",
    "        l_train = 0\n",
    "\n",
    "        for train_s, train_E in train_dataset:\n",
    "            l_train += crbm.train(train_s, train_E / T)\n",
    "        \n",
    "        l_train = l_train / N_TRAIN_BATCHES\n",
    "\n",
    "        # plot results\n",
    "\n",
    "        if epoch % 100 == 0:\n",
    "            l_test = crbm.compute_loss(states_test, E_phys_test / T)\n",
    "\n",
    "            display.clear_output(wait=True)\n",
    "\n",
    "            print(\n",
    "                f\"Temp: {T} | Epoch: {epoch} | loss test: {l_test}| loss train: {l_train}\"\n",
    "            )\n",
    "        epoch += 1\n",
    "   \n",
    "    return crbm   "
   ]
  },
  {
   "cell_type": "code",
   "execution_count": 37,
   "metadata": {
    "id": "6fVXXJsbxRhz"
   },
   "outputs": [],
   "source": [
    "Ts = np.linspace(1.5, 3.5, 25)"
   ]
  },
  {
   "cell_type": "markdown",
   "metadata": {
    "id": "jKA6BFdb9n32"
   },
   "source": [
    "Train different CRBM's at different temperatures."
   ]
  },
  {
   "cell_type": "code",
   "execution_count": 38,
   "metadata": {
    "id": "-X4-M258w5kI"
   },
   "outputs": [],
   "source": [
    "#%%time\n",
    "#crbms = [train(T) for T in Ts]"
   ]
  },
  {
   "cell_type": "markdown",
   "metadata": {
    "id": "4EpzESjt8tYj"
   },
   "source": [
    "Faster. Train a CRBM at a temperature, save it, and then modify it's temperature and retrain it at the new temperature."
   ]
  },
  {
   "cell_type": "code",
   "execution_count": 39,
   "metadata": {
    "id": "Ou7tzktTThL5"
   },
   "outputs": [],
   "source": [
    "\"\"\"\n",
    "%%time\n",
    "crbm = train(Ts[0])\n",
    "crbms = [crbm]\n",
    "T_old = Ts[0]\n",
    "for T in Ts[1:]:\n",
    "    crbm_new = CRBM(kernel_dims=(2, 2))\n",
    "    \n",
    "    crbm_new.W.assign(crbm.W / T * T_old )\n",
    "    crbm_new.vbias.assign(crbm.vbias / T * T_old)\n",
    "    crbm_new.hbias.assign(crbm.hbias / T * T_old)\n",
    "    \n",
    "    W_old = crbm_new.W.numpy()\n",
    "    crbm = train(T, crbm_new)\n",
    "    W_new = crbm.W.numpy()\n",
    "    \n",
    "    crbms.append(crbm)\n",
    "\"\"\";"
   ]
  },
  {
   "cell_type": "markdown",
   "metadata": {
    "id": "KPt3v5JMQxNr"
   },
   "source": [
    "Alternatively, the CRBM can also be initialized directly with the analytical solution so that no further training is necessary."
   ]
  },
  {
   "cell_type": "code",
   "execution_count": 40,
   "metadata": {
    "id": "iZUxauUUTpe1"
   },
   "outputs": [],
   "source": [
    "crbms = []\n",
    "for T in Ts:\n",
    "    crbm = CRBM(kernel_dims=(2, 2))\n",
    "    crbm.set_analytical_param(1 / T)\n",
    "    crbms.append(crbm)"
   ]
  },
  {
   "cell_type": "markdown",
   "metadata": {
    "id": "T-8wCYOXEl6e"
   },
   "source": [
    "# Montecarlo Simulations"
   ]
  },
  {
   "cell_type": "markdown",
   "metadata": {
    "id": "aon4yyLvEsDM"
   },
   "source": [
    "The functions performs gibbs steps with a CRBM and saves the energy and magnetization in arrays."
   ]
  },
  {
   "cell_type": "code",
   "execution_count": 41,
   "metadata": {
    "id": "GIz4HrfXyCX0"
   },
   "outputs": [],
   "source": [
    "def MC(crbm, states, steps, hidden_steps=10):\n",
    "    Es = np.empty(steps)\n",
    "    Ms = np.empty(steps)\n",
    "    \n",
    "    for i in range(steps):\n",
    "        states = crbm.gibbs_k(states, k=hidden_steps)\n",
    "        \n",
    "        # Get the state out of the gpu\n",
    "        state_np = states.numpy()\n",
    "        Es[i] = ising_energy(state_np)[0]\n",
    "        Ms[i] = (2 * state_np - 1).sum()\n",
    "              \n",
    "    return Es, Ms, states"
   ]
  },
  {
   "cell_type": "markdown",
   "metadata": {
    "id": "uiAgoIsXEXa3"
   },
   "source": [
    "This function will plot the thermodynamic constants"
   ]
  },
  {
   "cell_type": "code",
   "execution_count": 42,
   "metadata": {
    "id": "7WxXnDVh06Ia"
   },
   "outputs": [],
   "source": [
    "def plot_thermodynamics(Temp, Es, Cvs, mag, susceptibility):\n",
    "    # ----------------------------------------------------------------------\n",
    "    # Plot the Energy, Magnetization, Specific Heat and Susceptibility\n",
    "    # ----------------------------------------------------------------------\n",
    "\n",
    "    f = plt.figure(figsize=(18, 10), dpi=80, facecolor='w', edgecolor='k')\n",
    "    xlabel = \"T\"\n",
    "    \n",
    "    sp = f.add_subplot(2, 2, 1)\n",
    "    plt.xlabel(xlabel, fontsize=20)\n",
    "    plt.ylabel(\"Energy \", fontsize=20)\n",
    "    plt.scatter(Temp, Es)\n",
    "\n",
    "    sp = f.add_subplot(2, 2, 2)\n",
    "    plt.xlabel(xlabel, fontsize=20)\n",
    "    plt.ylabel(\"Magnetization \", fontsize=20)\n",
    "    plt.scatter(Temp, abs(np.array(mag)))\n",
    "    plt.axvline(x=2.269)\n",
    "    \n",
    "    sp = f.add_subplot(2, 2, 3)\n",
    "    plt.xlabel(xlabel, fontsize=20)\n",
    "    plt.ylabel(\"Specific Heat \", fontsize=20)\n",
    "\n",
    "    plt.scatter(Temp, Cvs)\n",
    "    plt.axvline(x=2.269)\n",
    "\n",
    "    sp = f.add_subplot(2, 2, 4);\n",
    "    plt.xlabel(xlabel, fontsize=20);\n",
    "    plt.ylabel(\"Susceptibility\", fontsize=20);\n",
    "    \n",
    "    plt.scatter(Temp, susceptibility)\n",
    "    plt.axvline(x=2.269)\n",
    "\n",
    "    plt.show()"
   ]
  },
  {
   "cell_type": "markdown",
   "metadata": {
    "id": "SH35rZQhFSI2"
   },
   "source": [
    "Initialize the step that will be used during the MC. There is an oportunity for parallelization in the Gpu if severall states are updated in the simulation. For simplicity only one states is used.\n",
    "\n"
   ]
  },
  {
   "cell_type": "code",
   "execution_count": 43,
   "metadata": {
    "id": "O2FSWc2ImNI0"
   },
   "outputs": [],
   "source": [
    "L = 10\n",
    "states = tf.random.uniform((1, L, L, 1))"
   ]
  },
  {
   "cell_type": "markdown",
   "metadata": {
    "id": "eTbe0Ya6Fa6Q"
   },
   "source": [
    "We start with the highest temperature and slowly lower it. First there is a warmup phase and then thermodynamic constants are recorded."
   ]
  },
  {
   "cell_type": "code",
   "execution_count": 44,
   "metadata": {
    "colab": {
     "base_uri": "https://localhost:8080/",
     "height": 982
    },
    "id": "_krDMaEex-MW",
    "outputId": "da22f5f1-65f5-4d2e-a84b-43abd46ebd9e"
   },
   "outputs": [
    {
     "name": "stdout",
     "output_type": "stream",
     "text": [
      "Temp:  1.5\n"
     ]
    },
    {
     "data": {
      "image/png": "[encoded data removed]",
      "text/plain": [
       "<Figure size 432x288 with 1 Axes>"
      ]
     },
     "metadata": {
      "needs_background": "light"
     },
     "output_type": "display_data"
    },
    {
     "data": {
      "image/png": "[encoded data removed]",
      "text/plain": [
       "<Figure size 1440x800 with 4 Axes>"
      ]
     },
     "metadata": {},
     "output_type": "display_data"
    },
    {
     "name": "stdout",
     "output_type": "stream",
     "text": [
      "CPU times: user 13min 15s, sys: 1min 7s, total: 14min 23s\n",
      "Wall time: 12min 36s\n"
     ]
    }
   ],
   "source": [
    "%%time\n",
    "\n",
    "energy = []\n",
    "magnetization = []\n",
    "CV = []\n",
    "susceptibility = []\n",
    "\n",
    "e, m, states = MC(crbms[-1], states, 2 * 10 ** 4)\n",
    "for i, crbm in enumerate(crbms[::-1]):\n",
    "    # Warmup\n",
    "    e, m, states = MC(crbm, states, 10 ** 3)\n",
    "    \n",
    "    # Mc Simulation\n",
    "    e, m, states = MC(crbm, states,  2 * 10 ** 4)\n",
    "    \n",
    "    # Computing expectaion values\n",
    "    e1 = e.mean()\n",
    "    e2 = (e ** 2).mean()\n",
    "    \n",
    "    m1 = m.mean()\n",
    "    absm1= abs(m).mean()\n",
    "    m2 = (m ** 2).mean()\n",
    "    \n",
    "    \n",
    "    energy.append(e1 / L ** 2)\n",
    "    magnetization.append(m1 / L ** 2)\n",
    "    CV.append( (e2 - e1 ** 2) / Ts[-i - 1] ** 2 / L ** 2 )\n",
    "    susceptibility.append( (m2 - absm1 ** 2) / Ts[-i - 1] / L ** 2 )\n",
    "    \n",
    "    \n",
    "    display.clear_output(wait=True)\n",
    "    print(\"Temp: \", Ts[-i -1])\n",
    "    plt.imshow(states.numpy()[0, :, :, 0], vmin=0, vmax=1, cmap=\"gray\")\n",
    "    plt.show()\n",
    "    \n",
    "    # Plot thermodynamics\n",
    "    plot_thermodynamics(Ts[-i - 1:], energy[::-1], CV[::-1], magnetization[::-1], susceptibility[::-1])"
   ]
  },
  {
   "cell_type": "markdown",
   "metadata": {
    "id": "HmlMWCl2eC13"
   },
   "source": [
    "Above you can see that the Magnetization colapses to 0 after the critical temperature $T_c=2.269$ and that the specific heat is maximal around $T_c$ as expected."
   ]
  },
  {
   "cell_type": "code",
   "execution_count": 45,
   "metadata": {
    "colab": {
     "base_uri": "https://localhost:8080/",
     "height": 35
    },
    "id": "oEcPyQpDPtQL",
    "outputId": "ffa6af13-09b0-4588-d6c1-98d6ad201e45"
   },
   "outputs": [
    {
     "data": {
      "text/plain": [
       "16.271534983317057"
      ]
     },
     "execution_count": 45,
     "metadata": {},
     "output_type": "execute_result"
    }
   ],
   "source": [
    "t1 = time.time()\n",
    "(t1 - t0) / 60"
   ]
  },
  {
   "cell_type": "code",
   "execution_count": null,
   "metadata": {},
   "outputs": [],
   "source": []
  }
 ],
 "metadata": {
  "accelerator": "GPU",
  "colab": {
   "collapsed_sections": [],
   "include_colab_link": true,
   "name": "Ising CRBM.ipynb",
   "provenance": []
  },
  "kernelspec": {
   "display_name": "Python 3",
   "language": "python",
   "name": "python3"
  },
  "language_info": {
   "codemirror_mode": {
    "name": "ipython",
    "version": 3
   },
   "file_extension": ".py",
   "mimetype": "text/x-python",
   "name": "python",
   "nbconvert_exporter": "python",
   "pygments_lexer": "ipython3",
   "version": "3.8.5"
  }
 },
 "nbformat": 4,
 "nbformat_minor": 4
}
