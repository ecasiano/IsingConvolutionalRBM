{
 "cells": [
  {
   "cell_type": "code",
   "execution_count": null,
   "metadata": {},
   "outputs": [],
   "source": [
    "import numpy as np\n",
    "import matplotlib.pyplot as plt\n",
    "from scipy.optimize import curve_fit\n",
    "import importlib\n",
    "# import ising_analysis\n",
    "# importlib.reload(ising_analysis)"
   ]
  },
  {
   "cell_type": "code",
   "execution_count": null,
   "metadata": {},
   "outputs": [],
   "source": [
    "colors = ['salmon','dodgerblue','mediumseagreen']\n",
    "colors = ['#FFA0A0','#1e90ff','#3cb371']\n",
    "colors_light = ['#FFEDED','#6BDDFF','#89FFBE']"
   ]
  },
  {
   "cell_type": "markdown",
   "metadata": {},
   "source": [
    "### Ising Model with Next-Nearest-Neighbor (NNN) Interaction"
   ]
  },
  {
   "cell_type": "markdown",
   "metadata": {},
   "source": [
    "Via Metropolis sampling and Convolutional RBM (CRBM) with Gibbs sampling, we will try to simulate the Ising Model with NNN and NN interactions in two dimensions:\n",
    "$$\n",
    "H = J_1 \\sum_{\\langle i,j \\rangle} s_i s_j + J_2 \\sum_{\\langle \\langle i,j \\rangle \\rangle} s_i s_j\n",
    "$$\n",
    "where $J_1 > 0$, $J_2 \\geq 0$, $s_i = \\pm 1$, $\\langle i,j \\rangle$ denotes nearest-neighbor sites, and $\\langle \\langle i,j \\rangle \\rangle$ denotes NNN sites."
   ]
  },
  {
   "cell_type": "markdown",
   "metadata": {},
   "source": [
    "### References"
   ]
  },
  {
   "cell_type": "markdown",
   "metadata": {},
   "source": [
    "https://journals.aps.org/prb/abstract/10.1103/PhysRevB.76.064528\n",
    "\n",
    "https://journals.aps.org/prb/abstract/10.1103/PhysRevB.79.014439\n",
    "\n",
    "https://journals.aps.org/prb/abstract/10.1103/PhysRevB.84.174407\n",
    "\n",
    "https://journals.aps.org/prb/pdf/10.1103/PhysRevB.45.7832\n",
    "\n",
    "https://journals.aps.org/prl/abstract/10.1103/PhysRevLett.63.2148\n",
    "\n",
    "https://aip.scitation.org/doi/10.1063/1.1664978"
   ]
  },
  {
   "cell_type": "markdown",
   "metadata": {},
   "source": [
    "### Load data"
   ]
  },
  {
   "cell_type": "code",
   "execution_count": null,
   "metadata": {},
   "outputs": [],
   "source": [
    "throwaway = 2000"
   ]
  },
  {
   "cell_type": "code",
   "execution_count": null,
   "metadata": {},
   "outputs": [],
   "source": [
    "L = 64\n",
    "T = 2.27\n",
    "J1 = -1.0\n",
    "J2 = 0.0"
   ]
  },
  {
   "cell_type": "code",
   "execution_count": null,
   "metadata": {},
   "outputs": [],
   "source": [
    "data_correlated_MC = np.loadtxt(\"./data_nnn/L_\"+str(L)+\"_T_\"+str(T)+\"_J1_\"+str(J1)+\"_J2_\"+str(J2)+\"_seed_1968.dat\")[:,1][throwaway:]\n",
    "data_correlated_CRBM = np.loadtxt(\"./data_nnn/L_\"+str(L)+\"_T_\"+str(T)+\"_J1_\"+str(J1)+\"_J2_\"+str(J2)+\"_kernelDims_2-2_no_symmetries.dat\")[:,1][throwaway:]"
   ]
  },
  {
   "cell_type": "markdown",
   "metadata": {},
   "source": [
    "### Energy in MC vs CRBM"
   ]
  },
  {
   "cell_type": "code",
   "execution_count": null,
   "metadata": {},
   "outputs": [],
   "source": [
    "num_samples_MC = data_correlated_MC.shape[0]\n",
    "num_samples_CRBM = data_correlated_CRBM.shape[0]"
   ]
  },
  {
   "cell_type": "code",
   "execution_count": null,
   "metadata": {},
   "outputs": [],
   "source": [
    "plt.plot(np.arange(num_samples_MC),data_correlated_MC,color=\"tab:blue\",alpha=1.0,label=\"MC\")\n",
    "plt.plot(np.arange(num_samples_CRBM),data_correlated_CRBM,color=\"tab:orange\",alpha=1.0,label=\"CRBM\")\n",
    "plt.ylabel(r\"$E$\")\n",
    "plt.xlabel(r\"Sample Number\")\n",
    "plt.tick_params(direction=\"in\")\n",
    "plt.legend(frameon=False)"
   ]
  },
  {
   "cell_type": "code",
   "execution_count": null,
   "metadata": {},
   "outputs": [],
   "source": [
    "np.mean(data_correlated_MC)/L**2,np.mean(data_correlated_CRBM)/L**2"
   ]
  },
  {
   "cell_type": "code",
   "execution_count": null,
   "metadata": {},
   "outputs": [],
   "source": [
    "#NOTE: Do binning analysis"
   ]
  },
  {
   "cell_type": "markdown",
   "metadata": {},
   "source": [
    "### Autocorrelation time"
   ]
  },
  {
   "cell_type": "code",
   "execution_count": 170,
   "metadata": {},
   "outputs": [],
   "source": [
    "def autocorrelation(data):\n",
    "    '''Computes normalized autocorrelation function of sample data for each time'''\n",
    "    N = data.shape[0]\n",
    "    _autocorrelation = np.zeros(N)\n",
    "    for Δt in range(N-1): # let the time separation be all possible distances\n",
    "        c0 = np.mean(data[:N - Δt]**2) - np.mean(data[:N - Δt])**2 #Variance at t0\n",
    "        ct = np.mean(data[:N - Δt]*data[Δt:]) - np.mean(data[:N - Δt])*np.mean(data[Δt:]) # unnormalized autocorrelation fn.\n",
    "        _autocorrelation[Δt] = ct/c0 # normalized autocorrelation function for this 'radius' (actually time separation)\n",
    "    return _autocorrelation\n",
    "\n",
    "def autocorrelation_function(time,scale,autocorrelation_time):\n",
    "    '''exponential form of the autocorrelation function'''\n",
    "    return scale*np.exp(-time/autocorrelation_time)"
   ]
  },
  {
   "cell_type": "code",
   "execution_count": 171,
   "metadata": {},
   "outputs": [
    {
     "ename": "KeyboardInterrupt",
     "evalue": "",
     "output_type": "error",
     "traceback": [
      "\u001b[0;31m---------------------------------------------------------------------------\u001b[0m",
      "\u001b[0;31mKeyboardInterrupt\u001b[0m                         Traceback (most recent call last)",
      "\u001b[0;32m<ipython-input-171-b5b1519f68d0>\u001b[0m in \u001b[0;36m<module>\u001b[0;34m\u001b[0m\n\u001b[1;32m      1\u001b[0m \u001b[0;31m# Compute normalized autocorrelation function\u001b[0m\u001b[0;34m\u001b[0m\u001b[0;34m\u001b[0m\u001b[0;34m\u001b[0m\u001b[0m\n\u001b[0;32m----> 2\u001b[0;31m \u001b[0m_autocorrelation_MC\u001b[0m \u001b[0;34m=\u001b[0m \u001b[0mautocorrelation\u001b[0m\u001b[0;34m(\u001b[0m\u001b[0mdata_correlated_MC\u001b[0m\u001b[0;34m)\u001b[0m\u001b[0;34m\u001b[0m\u001b[0;34m\u001b[0m\u001b[0m\n\u001b[0m\u001b[1;32m      3\u001b[0m \u001b[0m_autocorrelation_CRBM\u001b[0m \u001b[0;34m=\u001b[0m \u001b[0mautocorrelation\u001b[0m\u001b[0;34m(\u001b[0m\u001b[0mdata_correlated_CRBM\u001b[0m\u001b[0;34m)\u001b[0m\u001b[0;34m\u001b[0m\u001b[0;34m\u001b[0m\u001b[0m\n\u001b[1;32m      4\u001b[0m \u001b[0;34m\u001b[0m\u001b[0m\n\u001b[1;32m      5\u001b[0m \u001b[0;31m# Eliminate nans (there's usually just a few)\u001b[0m\u001b[0;34m\u001b[0m\u001b[0;34m\u001b[0m\u001b[0;34m\u001b[0m\u001b[0m\n",
      "\u001b[0;32m<ipython-input-170-3fa33d3506a9>\u001b[0m in \u001b[0;36mautocorrelation\u001b[0;34m(data)\u001b[0m\n\u001b[1;32m      5\u001b[0m     \u001b[0;32mfor\u001b[0m \u001b[0mΔt\u001b[0m \u001b[0;32min\u001b[0m \u001b[0mrange\u001b[0m\u001b[0;34m(\u001b[0m\u001b[0mN\u001b[0m\u001b[0;34m-\u001b[0m\u001b[0;36m1\u001b[0m\u001b[0;34m)\u001b[0m\u001b[0;34m:\u001b[0m \u001b[0;31m# let the time separation be all possible distances\u001b[0m\u001b[0;34m\u001b[0m\u001b[0;34m\u001b[0m\u001b[0m\n\u001b[1;32m      6\u001b[0m         \u001b[0mc0\u001b[0m \u001b[0;34m=\u001b[0m \u001b[0mnp\u001b[0m\u001b[0;34m.\u001b[0m\u001b[0mmean\u001b[0m\u001b[0;34m(\u001b[0m\u001b[0mdata\u001b[0m\u001b[0;34m[\u001b[0m\u001b[0;34m:\u001b[0m\u001b[0mN\u001b[0m \u001b[0;34m-\u001b[0m \u001b[0mΔt\u001b[0m\u001b[0;34m]\u001b[0m\u001b[0;34m**\u001b[0m\u001b[0;36m2\u001b[0m\u001b[0;34m)\u001b[0m \u001b[0;34m-\u001b[0m \u001b[0mnp\u001b[0m\u001b[0;34m.\u001b[0m\u001b[0mmean\u001b[0m\u001b[0;34m(\u001b[0m\u001b[0mdata\u001b[0m\u001b[0;34m[\u001b[0m\u001b[0;34m:\u001b[0m\u001b[0mN\u001b[0m \u001b[0;34m-\u001b[0m \u001b[0mΔt\u001b[0m\u001b[0;34m]\u001b[0m\u001b[0;34m)\u001b[0m\u001b[0;34m**\u001b[0m\u001b[0;36m2\u001b[0m \u001b[0;31m#Variance at t0\u001b[0m\u001b[0;34m\u001b[0m\u001b[0;34m\u001b[0m\u001b[0m\n\u001b[0;32m----> 7\u001b[0;31m         \u001b[0mct\u001b[0m \u001b[0;34m=\u001b[0m \u001b[0mnp\u001b[0m\u001b[0;34m.\u001b[0m\u001b[0mmean\u001b[0m\u001b[0;34m(\u001b[0m\u001b[0mdata\u001b[0m\u001b[0;34m[\u001b[0m\u001b[0;34m:\u001b[0m\u001b[0mN\u001b[0m \u001b[0;34m-\u001b[0m \u001b[0mΔt\u001b[0m\u001b[0;34m]\u001b[0m\u001b[0;34m*\u001b[0m\u001b[0mdata\u001b[0m\u001b[0;34m[\u001b[0m\u001b[0mΔt\u001b[0m\u001b[0;34m:\u001b[0m\u001b[0;34m]\u001b[0m\u001b[0;34m)\u001b[0m \u001b[0;34m-\u001b[0m \u001b[0mnp\u001b[0m\u001b[0;34m.\u001b[0m\u001b[0mmean\u001b[0m\u001b[0;34m(\u001b[0m\u001b[0mdata\u001b[0m\u001b[0;34m[\u001b[0m\u001b[0;34m:\u001b[0m\u001b[0mN\u001b[0m \u001b[0;34m-\u001b[0m \u001b[0mΔt\u001b[0m\u001b[0;34m]\u001b[0m\u001b[0;34m)\u001b[0m\u001b[0;34m*\u001b[0m\u001b[0mnp\u001b[0m\u001b[0;34m.\u001b[0m\u001b[0mmean\u001b[0m\u001b[0;34m(\u001b[0m\u001b[0mdata\u001b[0m\u001b[0;34m[\u001b[0m\u001b[0mΔt\u001b[0m\u001b[0;34m:\u001b[0m\u001b[0;34m]\u001b[0m\u001b[0;34m)\u001b[0m \u001b[0;31m# unnormalized autocorrelation fn.\u001b[0m\u001b[0;34m\u001b[0m\u001b[0;34m\u001b[0m\u001b[0m\n\u001b[0m\u001b[1;32m      8\u001b[0m         \u001b[0m_autocorrelation\u001b[0m\u001b[0;34m[\u001b[0m\u001b[0mΔt\u001b[0m\u001b[0;34m]\u001b[0m \u001b[0;34m=\u001b[0m \u001b[0mct\u001b[0m\u001b[0;34m/\u001b[0m\u001b[0mc0\u001b[0m \u001b[0;31m# normalized autocorrelation function for this 'radius' (actually time separation)\u001b[0m\u001b[0;34m\u001b[0m\u001b[0;34m\u001b[0m\u001b[0m\n\u001b[1;32m      9\u001b[0m     \u001b[0;32mreturn\u001b[0m \u001b[0m_autocorrelation\u001b[0m\u001b[0;34m\u001b[0m\u001b[0;34m\u001b[0m\u001b[0m\n",
      "\u001b[0;32m/opt/anaconda3/lib/python3.8/site-packages/numpy/core/overrides.py\u001b[0m in \u001b[0;36mmean\u001b[0;34m(*args, **kwargs)\u001b[0m\n",
      "\u001b[0;32m/opt/anaconda3/lib/python3.8/site-packages/numpy/core/fromnumeric.py\u001b[0m in \u001b[0;36mmean\u001b[0;34m(a, axis, dtype, out, keepdims, where)\u001b[0m\n\u001b[1;32m   3472\u001b[0m             \u001b[0;32mreturn\u001b[0m \u001b[0mmean\u001b[0m\u001b[0;34m(\u001b[0m\u001b[0maxis\u001b[0m\u001b[0;34m=\u001b[0m\u001b[0maxis\u001b[0m\u001b[0;34m,\u001b[0m \u001b[0mdtype\u001b[0m\u001b[0;34m=\u001b[0m\u001b[0mdtype\u001b[0m\u001b[0;34m,\u001b[0m \u001b[0mout\u001b[0m\u001b[0;34m=\u001b[0m\u001b[0mout\u001b[0m\u001b[0;34m,\u001b[0m \u001b[0;34m**\u001b[0m\u001b[0mkwargs\u001b[0m\u001b[0;34m)\u001b[0m\u001b[0;34m\u001b[0m\u001b[0;34m\u001b[0m\u001b[0m\n\u001b[1;32m   3473\u001b[0m \u001b[0;34m\u001b[0m\u001b[0m\n\u001b[0;32m-> 3474\u001b[0;31m     return _methods._mean(a, axis=axis, dtype=dtype,\n\u001b[0m\u001b[1;32m   3475\u001b[0m                           out=out, **kwargs)\n\u001b[1;32m   3476\u001b[0m \u001b[0;34m\u001b[0m\u001b[0m\n",
      "\u001b[0;32m/opt/anaconda3/lib/python3.8/site-packages/numpy/core/_methods.py\u001b[0m in \u001b[0;36m_mean\u001b[0;34m(a, axis, dtype, out, keepdims, where)\u001b[0m\n\u001b[1;32m    177\u001b[0m             \u001b[0mis_float16_result\u001b[0m \u001b[0;34m=\u001b[0m \u001b[0;32mTrue\u001b[0m\u001b[0;34m\u001b[0m\u001b[0;34m\u001b[0m\u001b[0m\n\u001b[1;32m    178\u001b[0m \u001b[0;34m\u001b[0m\u001b[0m\n\u001b[0;32m--> 179\u001b[0;31m     \u001b[0mret\u001b[0m \u001b[0;34m=\u001b[0m \u001b[0mumr_sum\u001b[0m\u001b[0;34m(\u001b[0m\u001b[0marr\u001b[0m\u001b[0;34m,\u001b[0m \u001b[0maxis\u001b[0m\u001b[0;34m,\u001b[0m \u001b[0mdtype\u001b[0m\u001b[0;34m,\u001b[0m \u001b[0mout\u001b[0m\u001b[0;34m,\u001b[0m \u001b[0mkeepdims\u001b[0m\u001b[0;34m,\u001b[0m \u001b[0mwhere\u001b[0m\u001b[0;34m=\u001b[0m\u001b[0mwhere\u001b[0m\u001b[0;34m)\u001b[0m\u001b[0;34m\u001b[0m\u001b[0;34m\u001b[0m\u001b[0m\n\u001b[0m\u001b[1;32m    180\u001b[0m     \u001b[0;32mif\u001b[0m \u001b[0misinstance\u001b[0m\u001b[0;34m(\u001b[0m\u001b[0mret\u001b[0m\u001b[0;34m,\u001b[0m \u001b[0mmu\u001b[0m\u001b[0;34m.\u001b[0m\u001b[0mndarray\u001b[0m\u001b[0;34m)\u001b[0m\u001b[0;34m:\u001b[0m\u001b[0;34m\u001b[0m\u001b[0;34m\u001b[0m\u001b[0m\n\u001b[1;32m    181\u001b[0m         ret = um.true_divide(\n",
      "\u001b[0;31mKeyboardInterrupt\u001b[0m: "
     ]
    }
   ],
   "source": [
    "# Compute normalized autocorrelation function\n",
    "_autocorrelation_MC = autocorrelation(data_correlated_MC)\n",
    "_autocorrelation_CRBM = autocorrelation(data_correlated_CRBM)\n",
    "\n",
    "# Eliminate nans (there's usually just a few)\n",
    "_autocorrelation_MC = np.ma.masked_array(_autocorrelation_MC, ~np.isfinite(_autocorrelation_MC)).filled(0)\n",
    "_autocorrelation_CRBM = np.ma.masked_array(_autocorrelation_CRBM, ~np.isfinite(_autocorrelation_CRBM)).filled(0)\n",
    "\n",
    "# Time separations\n",
    "time_separation = np.arange(_autocorrelation_MC.shape[0])"
   ]
  },
  {
   "cell_type": "code",
   "execution_count": 545,
   "metadata": {},
   "outputs": [],
   "source": [
    "# Fit autocorrelation to exponential form for all time separations\n",
    "popt_MC, perr_MC = curve_fit(autocorrelation_function, time_separation, _autocorrelation_MC)\n",
    "popt_CRBM, perr_CRBM = curve_fit(autocorrelation_function, time_separation, _autocorrelation_CRBM)"
   ]
  },
  {
   "cell_type": "code",
   "execution_count": null,
   "metadata": {},
   "outputs": [],
   "source": []
  },
  {
   "cell_type": "code",
   "execution_count": 546,
   "metadata": {},
   "outputs": [
    {
     "data": {
      "text/plain": [
       "(48000,)"
      ]
     },
     "execution_count": 546,
     "metadata": {},
     "output_type": "execute_result"
    }
   ],
   "source": [
    "data_correlated_CRBM.shape"
   ]
  },
  {
   "cell_type": "code",
   "execution_count": 547,
   "metadata": {},
   "outputs": [
    {
     "name": "stdout",
     "output_type": "stream",
     "text": [
      "τ_auto: 760.0593755395694\n",
      "4τ_auto: 3040.2375021582775\n",
      "\n",
      "\n",
      "τ_auto: 693.0496318387469\n",
      "4τ_auto: 2772.1985273549876\n"
     ]
    }
   ],
   "source": [
    "print(\"τ_auto: {}\".format(popt_MC[1])) # from fitting\n",
    "print(\"4τ_auto: {}\".format(4*popt_MC[1]))\n",
    "print(\"\\n\")\n",
    "print(\"τ_auto: {}\".format(popt_CRBM[1])) # from fitting\n",
    "print(\"4τ_auto: {}\".format(4*popt_CRBM[1]))"
   ]
  },
  {
   "cell_type": "code",
   "execution_count": 548,
   "metadata": {},
   "outputs": [
    {
     "data": {
      "image/png": "[encoded data removed]",
      "text/plain": [
       "<Figure size 1000x450 with 2 Axes>"
      ]
     },
     "metadata": {
      "needs_background": "light"
     },
     "output_type": "display_data"
    }
   ],
   "source": [
    "# Plot\n",
    "fig,ax = plt.subplots(1,2,figsize=(10,4.5), dpi=100,sharey=True,tight_layout=True)\n",
    "plt.subplots_adjust(wspace=0.02)\n",
    "ax[0].plot(time_separation, _autocorrelation_MC,'-',color='tab:blue',label='MC') # autocorrelation function\n",
    "ax[0].plot(time_separation, _autocorrelation_CRBM,'-',color='tab:pink',label='CRBM') # autocorrelation function\n",
    "\n",
    "ax[0].set_xlim((-2.5,40))\n",
    "ax[0].set_ylim(-0.05,1)\n",
    "ax[0].set_yscale('linear')\n",
    "ax[0].set_ylabel(r'Autocorrelation function');\n",
    "ax[0].set_xlabel(r'Time step');\n",
    "ax[0].tick_params(direction='in')\n",
    "ax[0].legend(frameon=False)\n",
    "ax[0].annotate(r\"$\\tau_{\\rm{MC}}=%.4f$\"%(popt_MC[1]),(0.20+0.06,0.58+0.15),\n",
    "                xycoords='figure fraction',fontsize=12)\n",
    "ax[0].annotate(r\"$\\tau_{\\rm{CRBM}}=%.4f$\"%(popt_CRBM[1]),(0.20+0.06,0.58+0.09),\n",
    "                xycoords='figure fraction',fontsize=12)\n",
    "\n",
    "ax[1].plot(time_separation, _autocorrelation_MC,'-',color='tab:green',label='MC') # autocorrelation function\n",
    "ax[1].plot(time_separation, _autocorrelation_CRBM,'-',color='tab:orange',label='CRBM') # autocorrelation function\n",
    "\n",
    "ax[1].set_xlim((-2.5,40))\n",
    "ax[1].set_ylim(-0.05,1)\n",
    "ax[1].set_yscale('linear')\n",
    "ax[1].set_ylabel(r'');\n",
    "ax[1].set_xlabel(r'Time step');\n",
    "ax[1].tick_params(direction='in')\n",
    "ax[1].legend(frameon=False)\n",
    "ax[1].annotate(r\"$\\tau_{\\rm{MC}}=%.4f$\"%(popt_MC[1]),(0.655+0.06,0.58+0.15),\n",
    "                xycoords='figure fraction',fontsize=12)\n",
    "ax[1].annotate(r\"$\\tau_{\\rm{CRBM}}=%.4f$\"%(popt_CRBM[1]),(0.655+0.06,0.58+0.09),\n",
    "                xycoords='figure fraction',fontsize=12)\n",
    "\n",
    "# plt.savefig(\"act_comparison_T4.00_mc_rbm_combined.pdf\",dpi=300)\n",
    "# plt.savefig(\"act_comparison_T4.00_mc_rbm_combined.png\",dpi=300)\n",
    "\n",
    "plt.show()"
   ]
  },
  {
   "cell_type": "markdown",
   "metadata": {},
   "source": [
    "### Autocorrelation time as a function of linear size"
   ]
  },
  {
   "cell_type": "code",
   "execution_count": 478,
   "metadata": {},
   "outputs": [],
   "source": [
    "# τ_MC = []\n",
    "# τ_MC_err = []\n",
    "\n",
    "# τ_CRBM = []\n",
    "# τ_CRBM_err = []\n",
    "\n",
    "# τ_CRBM_2kernels = []\n",
    "# τ_CRBM_err_2kernels = []"
   ]
  },
  {
   "cell_type": "code",
   "execution_count": 352,
   "metadata": {},
   "outputs": [],
   "source": [
    "# τ_MC.append(popt_MC[1])\n",
    "# τ_MC_err.append(np.diag(perr_MC)[1])\n",
    "\n",
    "# τ_CRBM.append(popt_CRBM[1])\n",
    "# τ_CRBM_err.append(np.diag(perr_CRBM)[1])\n",
    "\n",
    "# τ_CRBM_2kernels.append(popt_CRBM[1])\n",
    "# τ_CRBM_err_2kernels.append(np.diag(perr_CRBM)[1])"
   ]
  },
  {
   "cell_type": "code",
   "execution_count": 353,
   "metadata": {},
   "outputs": [],
   "source": [
    "# τ_MC = np.array(τ_MC)\n",
    "# τ_MC_err = np.array(τ_MC_err)\n",
    "\n",
    "# τ_CRBM = np.array(τ_CRBM)\n",
    "# τ_CRBM_err = np.array(τ_CRBM_err)\n",
    "\n",
    "# τ_CRBM_2kernels = np.array(τ_CRBM_2kernels)\n",
    "# τ_CRBM_err_2kernels = np.array(τ_CRBM_err_2kernels)"
   ]
  },
  {
   "cell_type": "code",
   "execution_count": 354,
   "metadata": {},
   "outputs": [],
   "source": [
    "Ls = np.array([2**i for i in range(2,9)]).astype(np.float32)"
   ]
  },
  {
   "cell_type": "code",
   "execution_count": 355,
   "metadata": {},
   "outputs": [
    {
     "data": {
      "text/plain": [
       "(7,)"
      ]
     },
     "execution_count": 355,
     "metadata": {},
     "output_type": "execute_result"
    }
   ],
   "source": [
    "Ls.shape"
   ]
  },
  {
   "cell_type": "code",
   "execution_count": 356,
   "metadata": {},
   "outputs": [
    {
     "ename": "NameError",
     "evalue": "name 'τ_MC' is not defined",
     "output_type": "error",
     "traceback": [
      "\u001b[0;31m---------------------------------------------------------------------------\u001b[0m",
      "\u001b[0;31mNameError\u001b[0m                                 Traceback (most recent call last)",
      "\u001b[0;32m<ipython-input-356-8df9f33015c7>\u001b[0m in \u001b[0;36m<module>\u001b[0;34m\u001b[0m\n\u001b[0;32m----> 1\u001b[0;31m \u001b[0mτ_MC\u001b[0m\u001b[0;34m.\u001b[0m\u001b[0mshape\u001b[0m\u001b[0;34m\u001b[0m\u001b[0;34m\u001b[0m\u001b[0m\n\u001b[0m",
      "\u001b[0;31mNameError\u001b[0m: name 'τ_MC' is not defined"
     ]
    }
   ],
   "source": [
    "τ_MC.shape"
   ]
  },
  {
   "cell_type": "code",
   "execution_count": 357,
   "metadata": {},
   "outputs": [
    {
     "ename": "NameError",
     "evalue": "name 'τ_MC' is not defined",
     "output_type": "error",
     "traceback": [
      "\u001b[0;31m---------------------------------------------------------------------------\u001b[0m",
      "\u001b[0;31mNameError\u001b[0m                                 Traceback (most recent call last)",
      "\u001b[0;32m<ipython-input-357-e20bab9ba105>\u001b[0m in \u001b[0;36m<module>\u001b[0;34m\u001b[0m\n\u001b[0;32m----> 1\u001b[0;31m \u001b[0mτ_MC\u001b[0m\u001b[0;34m\u001b[0m\u001b[0;34m\u001b[0m\u001b[0m\n\u001b[0m",
      "\u001b[0;31mNameError\u001b[0m: name 'τ_MC' is not defined"
     ]
    }
   ],
   "source": [
    "τ_MC"
   ]
  },
  {
   "cell_type": "code",
   "execution_count": 138,
   "metadata": {},
   "outputs": [
    {
     "ename": "NameError",
     "evalue": "name 'τ_MC_err' is not defined",
     "output_type": "error",
     "traceback": [
      "\u001b[0;31m---------------------------------------------------------------------------\u001b[0m",
      "\u001b[0;31mNameError\u001b[0m                                 Traceback (most recent call last)",
      "\u001b[0;32m<ipython-input-138-e06266a1af70>\u001b[0m in \u001b[0;36m<module>\u001b[0;34m\u001b[0m\n\u001b[0;32m----> 1\u001b[0;31m \u001b[0mτ_MC_err\u001b[0m\u001b[0;34m.\u001b[0m\u001b[0mshape\u001b[0m\u001b[0;34m\u001b[0m\u001b[0;34m\u001b[0m\u001b[0m\n\u001b[0m",
      "\u001b[0;31mNameError\u001b[0m: name 'τ_MC_err' is not defined"
     ]
    }
   ],
   "source": [
    "τ_MC_err.shape"
   ]
  },
  {
   "cell_type": "code",
   "execution_count": 411,
   "metadata": {},
   "outputs": [
    {
     "data": {
      "image/png": "[encoded data removed]",
      "text/plain": [
       "<Figure size 1000x450 with 2 Axes>"
      ]
     },
     "metadata": {
      "needs_background": "light"
     },
     "output_type": "display_data"
    }
   ],
   "source": [
    "# Plot\n",
    "fig,ax = plt.subplots(1,2,figsize=(10,4.5), dpi=100,sharey=False,tight_layout=True)\n",
    "plt.subplots_adjust(wspace=0.02)\n",
    "\n",
    "ax[0].errorbar(Ls,τ_MC, yerr=τ_MC_err, fmt='.', capsize=5,\n",
    "                label='MC',color=colors[0],mfc=colors_light[0],marker='s',zorder=2)\n",
    "ax[0].plot(Ls,τ_MC,color=colors[0])\n",
    "\n",
    "ax[0].errorbar(Ls,τ_CRBM, yerr=τ_CRBM_err, fmt='.', capsize=5,\n",
    "                label='CRBM',color=colors[1],mfc=colors_light[1],marker='s',zorder=2)\n",
    "ax[0].plot(Ls,τ_CRBM,color=colors[1])\n",
    "\n",
    "ax[0].set_ylabel(r'$\\tau$');\n",
    "ax[0].set_xlabel(r'L');\n",
    "ax[0].tick_params(direction='in')\n",
    "ax[0].legend(frameon=False)\n",
    "# ax[0].annotate(r\"$\\tau_{\\rm{MC}}=%.4f$\"%(popt_MC[1]),(0.20+0.06,0.58+0.15),\n",
    "#                 xycoords='figure fraction',fontsize=12)\n",
    "# ax[0].annotate(r\"$\\tau_{\\rm{CRBM}}=%.4f$\"%(popt_CRBM[1]),(0.20+0.06,0.58+0.09),\n",
    "#                 xycoords='figure fraction',fontsize=12)\n",
    "\n",
    "# plt.savefig(\"act_comparison_T4.00_mc_rbm_combined.pdf\",dpi=300)\n",
    "# plt.savefig(\"act_comparison_T4.00_mc_rbm_combined.png\",dpi=300)\n",
    "\n",
    "ax[1].errorbar(Ls,τ_MC, yerr=τ_MC_err, fmt='.', capsize=5,\n",
    "                label='MC',color=colors[0],mfc=colors_light[0],marker='s',zorder=2)\n",
    "ax[1].plot(Ls,τ_MC,color=colors[0])\n",
    "\n",
    "ax[1].errorbar(Ls,τ_CRBM_2kernels, yerr=τ_CRBM_err_2kernels, fmt='.', capsize=5,\n",
    "                label='CRBM',color=colors[2],mfc=colors_light[2],marker='s',zorder=2)\n",
    "ax[1].plot(Ls,τ_CRBM_2kernels,color=colors[2])\n",
    "\n",
    "ax[1].set_ylabel(r'$\\tau$');\n",
    "ax[1].set_xlabel(r'L');\n",
    "ax[1].tick_params(direction='in')\n",
    "# ax[1].legend(frameon=False)\n",
    "# ax[0].annotate(r\"$\\tau_{\\rm{MC}}=%.4f$\"%(popt_MC[1]),(0.20+0.06,0.58+0.15),\n",
    "#                 xycoords='figure fraction',fontsize=12)\n",
    "# ax[0].annotate(r\"$\\tau_{\\rm{CRBM}}=%.4f$\"%(popt_CRBM[1]),(0.20+0.06,0.58+0.09),\n",
    "#                 xycoords='figure fraction',fontsize=12)\n",
    "\n",
    "# plt.savefig(\"act_comparison_T4.00_mc_rbm_combined.pdf\",dpi=300)\n",
    "# plt.savefig(\"act_comparison_T4.00_mc_rbm_combined.png\",dpi=300)\n",
    "\n",
    "plt.show()"
   ]
  },
  {
   "cell_type": "markdown",
   "metadata": {},
   "source": [
    "### $E/J_1$ vs $J_2/J_1$"
   ]
  },
  {
   "cell_type": "markdown",
   "metadata": {},
   "source": [
    "### Specific heat"
   ]
  },
  {
   "cell_type": "markdown",
   "metadata": {},
   "source": [
    "Recall that the specific heat can be computed as:\n",
    "$$\n",
    "C_v = \\frac{1}{K_B T^2} \\left [ \\langle E^2 \\rangle - \\langle E \\rangle^2 \\right ]\n",
    "$$"
   ]
  },
  {
   "cell_type": "code",
   "execution_count": 167,
   "metadata": {},
   "outputs": [],
   "source": [
    "L = 8\n",
    "T = 2.25\n",
    "E = np.loadtxt(\"./data_nnn/L_\"+str(L)+\"_T_2.25_J1_1.0_J2_1.0_kernelDims_4-3_no_symmetries.dat\")[:,0][throwaway:]\n",
    "E2 = np.loadtxt(\"./data_nnn/L_\"+str(L)+\"_T_2.25_J1_1.0_J2_1.0_kernelDims_4-3_no_symmetries.dat\")[:,2][throwaway:]"
   ]
  },
  {
   "cell_type": "code",
   "execution_count": 380,
   "metadata": {},
   "outputs": [],
   "source": [
    "E2_mean = np.mean(E2)\n",
    "E_mean = np.mean(E)"
   ]
  },
  {
   "cell_type": "code",
   "execution_count": 381,
   "metadata": {},
   "outputs": [],
   "source": [
    "Cv = (1/T**2)*(E2_mean - E_mean**2)"
   ]
  },
  {
   "cell_type": "code",
   "execution_count": 384,
   "metadata": {},
   "outputs": [
    {
     "data": {
      "text/plain": [
       "2.9769878439521875"
      ]
     },
     "execution_count": 384,
     "metadata": {},
     "output_type": "execute_result"
    }
   ],
   "source": [
    "Cv"
   ]
  }
 ],
 "metadata": {
  "kernelspec": {
   "display_name": "Python 3",
   "language": "python",
   "name": "python3"
  },
  "language_info": {
   "codemirror_mode": {
    "name": "ipython",
    "version": 3
   },
   "file_extension": ".py",
   "mimetype": "text/x-python",
   "name": "python",
   "nbconvert_exporter": "python",
   "pygments_lexer": "ipython3",
   "version": "3.8.5"
  }
 },
 "nbformat": 4,
 "nbformat_minor": 4
}
