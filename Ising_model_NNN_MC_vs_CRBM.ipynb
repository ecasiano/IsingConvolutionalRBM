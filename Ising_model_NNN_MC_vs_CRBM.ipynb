{
 "cells": [
  {
   "cell_type": "code",
   "execution_count": 45,
   "metadata": {},
   "outputs": [],
   "source": [
    "import numpy as np\n",
    "import matplotlib.pyplot as plt"
   ]
  },
  {
   "cell_type": "markdown",
   "metadata": {},
   "source": [
    "### Ising Model with Next-Nearest-Neighbor (NNN) Interaction"
   ]
  },
  {
   "cell_type": "markdown",
   "metadata": {},
   "source": [
    "Via Metropolis sampling and Convolutional RBM (CRBM) with Gibbs sampling, we will try to simulate the spin-$\\frac{1}{2}$ Heisenberg antiferromagnet in two dimensions:\n",
    "$$\n",
    "H = -J_1 \\sum_{\\langle i,j \\rangle} s_i s_j -J_2 \\sum_{\\langle \\langle i,j \\rangle \\rangle} s_i s_j\n",
    "$$\n",
    "where $J_1 > 0$, $J_2 \\geq 0$, $s_i = \\pm 1$, $\\langle i,j \\rangle$ denotes nearest-neighbor sites, and $\\langle \\langle i,j \\rangle \\rangle$ denotes NNN sites. In the case of $J_1 > 0, J_2=0$."
   ]
  },
  {
   "cell_type": "markdown",
   "metadata": {},
   "source": [
    "### References"
   ]
  },
  {
   "cell_type": "markdown",
   "metadata": {},
   "source": [
    "https://journals.aps.org/prb/pdf/10.1103/PhysRevB.76.064528\n",
    "\n",
    "https://journals.aps.org/prb/pdf/10.1103/PhysRevB.45.7832\n",
    "\n",
    "https://journals.aps.org/prl/abstract/10.1103/PhysRevLett.63.2148\n",
    "\n",
    "https://aip.scitation.org/doi/10.1063/1.1664978"
   ]
  },
  {
   "cell_type": "code",
   "execution_count": null,
   "metadata": {},
   "outputs": [],
   "source": []
  },
  {
   "cell_type": "markdown",
   "metadata": {},
   "source": [
    "### Load data"
   ]
  },
  {
   "cell_type": "code",
   "execution_count": 58,
   "metadata": {},
   "outputs": [],
   "source": [
    "data_MC = np.loadtxt(\"./data_nnn/L_10_T_2.25_seed_0_NNN.dat\")\n",
    "data_CRBM = np.loadtxt(\"./data_nnn/L_10_T_2.25_J1_1.0_J2_1.0_kernelDims_4-3_no_symmetries.dat\")"
   ]
  },
  {
   "cell_type": "markdown",
   "metadata": {},
   "source": [
    "### Energy in MC vs CRBM"
   ]
  },
  {
   "cell_type": "code",
   "execution_count": 59,
   "metadata": {},
   "outputs": [],
   "source": [
    "num_samples_MC = data_MC.shape[0]\n",
    "num_samples_CRBM = data_CRBM.shape[0]"
   ]
  },
  {
   "cell_type": "code",
   "execution_count": 60,
   "metadata": {},
   "outputs": [
    {
     "data": {
      "text/plain": [
       "<matplotlib.legend.Legend at 0x7f8ceb5d7820>"
      ]
     },
     "execution_count": 60,
     "metadata": {},
     "output_type": "execute_result"
    },
    {
     "data": {
      "image/png": "[encoded data removed]",
      "text/plain": [
       "<Figure size 432x288 with 1 Axes>"
      ]
     },
     "metadata": {
      "needs_background": "light"
     },
     "output_type": "display_data"
    }
   ],
   "source": [
    "plt.plot(np.arange(num_samples_MC),data_MC[:,0],color=\"tab:blue\",alpha=0.5,label=\"MC\")\n",
    "plt.plot(np.arange(num_samples_CRBM),data_CRBM[:,0],color=\"tab:orange\",zorder=10,label=\"CRBM\")\n",
    "plt.ylabel(r\"$E$\")\n",
    "plt.xlabel(r\"Sample Number\")\n",
    "plt.tick_params(direction=\"in\")\n",
    "plt.legend(frameon=False)"
   ]
  },
  {
   "cell_type": "code",
   "execution_count": 61,
   "metadata": {},
   "outputs": [
    {
     "data": {
      "text/plain": [
       "(-398.68192, -398.66364)"
      ]
     },
     "execution_count": 61,
     "metadata": {},
     "output_type": "execute_result"
    }
   ],
   "source": [
    "np.mean(data_MC[:,0]),np.mean(data_CRBM[:,0])"
   ]
  },
  {
   "cell_type": "markdown",
   "metadata": {},
   "source": [
    "### Autocorrelation time"
   ]
  },
  {
   "cell_type": "code",
   "execution_count": null,
   "metadata": {},
   "outputs": [],
   "source": []
  },
  {
   "cell_type": "markdown",
   "metadata": {},
   "source": [
    "### $E/J_1$ vs $J_2/J_1$"
   ]
  },
  {
   "cell_type": "code",
   "execution_count": null,
   "metadata": {},
   "outputs": [],
   "source": []
  }
 ],
 "metadata": {
  "kernelspec": {
   "display_name": "Python 3",
   "language": "python",
   "name": "python3"
  },
  "language_info": {
   "codemirror_mode": {
    "name": "ipython",
    "version": 3
   },
   "file_extension": ".py",
   "mimetype": "text/x-python",
   "name": "python",
   "nbconvert_exporter": "python",
   "pygments_lexer": "ipython3",
   "version": "3.8.5"
  }
 },
 "nbformat": 4,
 "nbformat_minor": 4
}
