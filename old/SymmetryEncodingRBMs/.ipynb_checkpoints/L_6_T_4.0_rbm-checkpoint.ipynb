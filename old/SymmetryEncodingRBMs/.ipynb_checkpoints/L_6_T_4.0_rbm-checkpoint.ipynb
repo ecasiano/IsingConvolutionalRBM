{
 "cells": [
  {
   "cell_type": "markdown",
   "metadata": {},
   "source": [
    "## RBM's in Pytorch"
   ]
  },
  {
   "cell_type": "code",
   "execution_count": 1,
   "metadata": {},
   "outputs": [],
   "source": [
    "import numpy as np\n",
    "import pandas as pd\n",
    "import torch\n",
    "import torch.utils.data\n",
    "from torch.utils.data import Dataset,DataLoader\n",
    "import torch.nn as nn\n",
    "import torch.nn.functional\n",
    "import torch.optim as optim\n",
    "from torch.autograd import Variable\n",
    "from torchvision import datasets, transforms\n",
    "from torchvision.utils import make_grid , save_image\n",
    "%matplotlib inline\n",
    "import matplotlib.pyplot as plt"
   ]
  },
  {
   "cell_type": "code",
   "execution_count": 2,
   "metadata": {},
   "outputs": [],
   "source": [
    "# Set machine's temperature value\n",
    "T = 4.0"
   ]
  },
  {
   "cell_type": "code",
   "execution_count": 3,
   "metadata": {},
   "outputs": [],
   "source": [
    "# Define model\n",
    "class RBM(nn.Module):\n",
    "   def __init__(self,\n",
    "               n_vis,\n",
    "               n_hin,\n",
    "               k=5):\n",
    "        super(RBM, self).__init__()\n",
    "        self.W = nn.Parameter(torch.randn(n_hin,n_vis)*1e-2)\n",
    "        self.v_bias = nn.Parameter(torch.zeros(n_vis))\n",
    "        self.h_bias = nn.Parameter(torch.zeros(n_hin))\n",
    "        self.k = k\n",
    "    \n",
    "   def sample_from_p(self,p):\n",
    "       return torch.nn.functional.relu(torch.sign(p - Variable(torch.rand(p.size()))))\n",
    "    \n",
    "   def v_to_h(self,v):\n",
    "        p_h = torch.sigmoid(torch.nn.functional.linear(v,self.W,self.h_bias))\n",
    "        sample_h = self.sample_from_p(p_h)\n",
    "        return p_h,sample_h\n",
    "    \n",
    "   def h_to_v(self,h):\n",
    "        p_v = torch.sigmoid(torch.nn.functional.linear(h,self.W.t(),self.v_bias))\n",
    "        sample_v = self.sample_from_p(p_v)\n",
    "        return p_v,sample_v\n",
    "        \n",
    "   def forward(self,v):\n",
    "        pre_h1,h1 = self.v_to_h(v)\n",
    "        \n",
    "        h_ = h1\n",
    "        for _ in range(self.k):\n",
    "            pre_v_,v_ = self.h_to_v(h_)\n",
    "            pre_h_,h_ = self.v_to_h(v_)\n",
    "        \n",
    "        return v,v_\n",
    "    \n",
    "   def free_energy(self,v):\n",
    "        vbias_term = v.mv(self.v_bias)\n",
    "        wx_b = torch.nn.functional.linear(v,self.W,self.h_bias)\n",
    "        hidden_term = wx_b.exp().add(1).log().sum(1)\n",
    "        return (-hidden_term - vbias_term).mean()"
   ]
  },
  {
   "cell_type": "code",
   "execution_count": 4,
   "metadata": {},
   "outputs": [],
   "source": [
    "# Network hyperparamters\n",
    "L = 6\n",
    "N_spins = L**2\n",
    "n_vis = N_spins\n",
    "n_hin = N_spins\n",
    "\n",
    "rbm = RBM(n_vis,n_hin,k=1)\n",
    "# rbm.load_state_dict(torch.load('./L_10_T_0.25.pt'))\n",
    "# rbm.eval()"
   ]
  },
  {
   "cell_type": "code",
   "execution_count": 6,
   "metadata": {},
   "outputs": [
    {
     "data": {
      "text/plain": [
       "<module 'ising_analysis' from '../ising_analysis.py'>"
      ]
     },
     "execution_count": 6,
     "metadata": {},
     "output_type": "execute_result"
    }
   ],
   "source": [
    "import sys\n",
    "sys.path.append('../')\n",
    "import ising_analysis\n",
    "import importlib\n",
    "importlib.reload(ising_analysis)"
   ]
  },
  {
   "cell_type": "code",
   "execution_count": 7,
   "metadata": {},
   "outputs": [
    {
     "data": {
      "text/plain": [
       "tensor([[1., 0., 1., 1., 0., 1., 0., 0., 1., 1., 1., 1., 0., 0., 1., 1., 1., 0.,\n",
       "         1., 0., 0., 1., 0., 1., 0., 0., 1., 0., 0., 1., 0., 1., 0., 0., 1., 0.]])"
      ]
     },
     "execution_count": 7,
     "metadata": {},
     "output_type": "execute_result"
    }
   ],
   "source": [
    "# Create random initial configuration\n",
    "num_walks = 1\n",
    "a = torch.empty(num_walks,L*L).uniform_(0, 1)\n",
    "v_in = torch.bernoulli(a)\n",
    "v_in"
   ]
  },
  {
   "cell_type": "code",
   "execution_count": 11,
   "metadata": {},
   "outputs": [
    {
     "name": "stdout",
     "output_type": "stream",
     "text": [
      "bins_written:  1000\n",
      "bins_written:  2000\n",
      "CPU times: user 41 s, sys: 2.71 s, total: 43.7 s\n",
      "Wall time: 44.2 s\n"
     ]
    }
   ],
   "source": [
    "%%time\n",
    "files = []\n",
    "filenames = []\n",
    "for w in range(num_walks):\n",
    "    # Open file for writing\n",
    "    filename = \"L_10_T_0.25_rbm_walk_\"+str(w)+\".dat\"\n",
    "    file = open(filename, \"w\")\n",
    "    header = \"#L=%d, T=%.2f \\n# E     M \\n\"\n",
    "    file.write(header)\n",
    "    files.append(file)\n",
    "    filenames.append(filename)\n",
    "\n",
    "# Initialize quantities to measure\n",
    "E = np.zeros(num_walks)\n",
    "M = np.zeros(num_walks)\n",
    "\n",
    "# Set simulation parameters\n",
    "bins_wanted = 2000 # number of samples to generate\n",
    "sweep = L**2 # size of one Monte Carlo sweep\n",
    "bin_size = 1 # number of samples  to \n",
    "skip = 1 # sweeps performed between measurement\n",
    "\n",
    "bins_written = 0 # counts how many bins have been written to disk\n",
    "measurement_ctr = 0 # to track if we can write to disk\n",
    "m = 0 # iteration counter\n",
    "while(bins_written<bins_wanted):\n",
    "    \n",
    "    m +=1\n",
    "    \n",
    "    # Update input and generated visible vector\n",
    "    v_in, v_gen = rbm(v_in.view(-1, N_spins))\n",
    "    v_in = v_gen\n",
    "    \n",
    "    # Perform measurement\n",
    "    if (m%(sweep*skip)==0 and m>5000):\n",
    "        \n",
    "        # Unflatten and replace 0's with -1's\n",
    "        ising_lattice = v_gen.detach().numpy().reshape((num_walks,L,L))\n",
    "        ising_lattice[ising_lattice==0] = -1\n",
    "        \n",
    "        for w in range(num_walks):\n",
    "            E[w] += ising_analysis.get_energy(ising_lattice[w],L)\n",
    "            M[w] += ising_analysis.get_magnetization(ising_lattice[w],L)\n",
    "        \n",
    "        measurement_ctr += 1\n",
    "        \n",
    "        if (measurement_ctr==bin_size):\n",
    "            \n",
    "            # Write to disk\n",
    "            for w in range(num_walks):\n",
    "                files[w].write('%.2f %.2f \\n'%(E[w]/bin_size,M[w]/bin_size))\n",
    "            \n",
    "            bins_written += 1\n",
    "        \n",
    "            # Reset counters and accumulators\n",
    "            measurement_ctr = 0\n",
    "            E = np.zeros(num_walks)\n",
    "            M = np.zeros(num_walks)\n",
    "\n",
    "            if bins_written%1000==0:\n",
    "                print(\"bins_written: \",bins_written)\n",
    "            \n",
    "# Close files           \n",
    "for w in range(num_walks):\n",
    "    files[w].close()"
   ]
  },
  {
   "cell_type": "code",
   "execution_count": 12,
   "metadata": {},
   "outputs": [],
   "source": [
    "# Load rbm_sampled data\n",
    "num_throwaways = 500\n",
    "rbm_E_all_walks = np.zeros((bins_wanted-num_throwaways,num_walks))\n",
    "rbm_M_all_walks = np.zeros((bins_wanted-num_throwaways,num_walks))\n",
    "for w,filename in enumerate(filenames):\n",
    "    rbm_data = np.loadtxt(filename)[num_throwaways:]\n",
    "    rbm_E_all_walks[:,w] = rbm_data[:,0]\n",
    "    rbm_M_all_walks[:,w] = rbm_data[:,1]\n",
    "\n",
    "# Compute seed-wise mean\n",
    "rbm_E = np.mean(rbm_E_all_walks,axis=1)\n",
    "rbm_M = np.mean(rbm_M_all_walks,axis=1)\n",
    "\n",
    "# Compute quantities above but per spins\n",
    "rbm_e = rbm_E/L**2\n",
    "rbm_m = rbm_M/L**2"
   ]
  },
  {
   "cell_type": "code",
   "execution_count": 13,
   "metadata": {},
   "outputs": [
    {
     "data": {
      "image/png": "[encoded data removed]",
      "text/plain": [
       "<Figure size 432x288 with 1 Axes>"
      ]
     },
     "metadata": {
      "needs_background": "light"
     },
     "output_type": "display_data"
    }
   ],
   "source": [
    "# Plot running average of energy per spin\n",
    "# plt.plot(np.arange(rbm_e.shape[0]),np.cumsum(rbm_e)/np.arange(1,rbm_e.shape[0]+1))\n",
    "for w in range(num_walks):\n",
    "    plt.plot(np.arange(rbm_E_all_walks[:,w].shape[0]),np.cumsum(rbm_E_all_walks[:,w])/L**2/np.arange(1,rbm_E.shape[0]+1))\n",
    "plt.axhline(ising_analysis.e_exact_func(T),zorder=-1,color='lightblue')\n",
    "plt.savefig('e_without_abs.pdf',dpi=300)"
   ]
  },
  {
   "cell_type": "code",
   "execution_count": 15,
   "metadata": {},
   "outputs": [
    {
     "name": "stderr",
     "output_type": "stream",
     "text": [
      "../../../ising_analysis.py:103: RuntimeWarning: invalid value encountered in double_scalars\n",
      "  return (1-(1-np.tanh(K)**2)**4/(16*np.tanh(K)**4))**(1/8)\n"
     ]
    },
    {
     "data": {
      "image/png": "[encoded data removed]",
      "text/plain": [
       "<Figure size 432x288 with 1 Axes>"
      ]
     },
     "metadata": {
      "needs_background": "light"
     },
     "output_type": "display_data"
    }
   ],
   "source": [
    "# Plot running average of energy per spin\n",
    "# plt.plot(np.arange(rbm_e.shape[0]),np.cumsum(rbm_e)/np.arange(1,rbm_e.shape[0]+1))\n",
    "for w in range(num_walks):\n",
    "    plt.plot(np.arange(rbm_M_all_walks[:,w].shape[0]),np.cumsum(rbm_M_all_walks[:,w])/L**2/np.arange(1,rbm_M.shape[0]+1))\n",
    "plt.axhline(np.nan_to_num(ising_analysis.m_exact_func(T)),zorder=-1,color='lightblue')\n",
    "plt.savefig('m_without_abs.pdf',dpi=300)"
   ]
  },
  {
   "cell_type": "code",
   "execution_count": null,
   "metadata": {},
   "outputs": [],
   "source": []
  },
  {
   "cell_type": "markdown",
   "metadata": {},
   "source": [
    "# Train model"
   ]
  },
  {
   "cell_type": "markdown",
   "metadata": {},
   "source": [
    "## Create Ising Dataset object from Monte Carlo data"
   ]
  },
  {
   "cell_type": "code",
   "execution_count": 8,
   "metadata": {},
   "outputs": [],
   "source": [
    "class CustomIsingDataset(Dataset):\n",
    "    def __init__(self,spins):\n",
    "        self.spins = spins\n",
    "        \n",
    "    def __len__(self):\n",
    "        return len(self.spins)\n",
    "    \n",
    "    def __getitem__(self,idx):\n",
    "        spins = self.spins[idx]\n",
    "        sample = {'spins': spins}\n",
    "        return sample"
   ]
  },
  {
   "cell_type": "code",
   "execution_count": 14,
   "metadata": {},
   "outputs": [],
   "source": [
    "filename = '../uncorrelated_monte_carlo_data/L_6_T_4.0_spins_seed_0.dat'\n",
    "\n",
    "# Load data from file\n",
    "spins = np.loadtxt(filename,dtype=np.float32) # network training sometimes breaks for 'double'\n",
    "\n",
    "# Convert -1's to 0's for RBM compatibility\n",
    "spins[spins==-1] = 0\n",
    "\n",
    "# Convert to Python list for dataframe promotion simplicity\n",
    "spins = list(spins)\n",
    "\n",
    "# Convert spin data to pandas dataframe\n",
    "spins_df = pd.DataFrame({'spins':spins})\n",
    "\n",
    "# Create Dataset object\n",
    "spins_dataset = CustomIsingDataset(spins_df['spins'])"
   ]
  },
  {
   "cell_type": "code",
   "execution_count": 15,
   "metadata": {},
   "outputs": [
    {
     "data": {
      "text/plain": [
       "<matplotlib.image.AxesImage at 0x7fa314a38b80>"
      ]
     },
     "execution_count": 15,
     "metadata": {},
     "output_type": "execute_result"
    },
    {
     "data": {
      "image/png": "[encoded data removed]",
      "text/plain": [
       "<Figure size 432x288 with 1 Axes>"
      ]
     },
     "metadata": {
      "needs_background": "light"
     },
     "output_type": "display_data"
    }
   ],
   "source": [
    "# Show first few rows of loaded Monte Carlo configurations\n",
    "plt.imshow(spins[0:32])"
   ]
  },
  {
   "cell_type": "code",
   "execution_count": 16,
   "metadata": {},
   "outputs": [
    {
     "name": "stdout",
     "output_type": "stream",
     "text": [
      "0 Spins data:  tensor([[1., 1., 1., 0., 0., 1., 0., 1., 1., 1., 1., 0., 0., 0., 1., 1., 1., 0.,\n",
      "         1., 0., 1., 1., 1., 1., 0., 0., 0., 0., 1., 1., 1., 1., 0., 0., 1., 1.],\n",
      "        [0., 0., 0., 0., 1., 1., 0., 1., 0., 0., 1., 1., 1., 1., 0., 0., 0., 1.,\n",
      "         1., 1., 0., 0., 1., 0., 0., 0., 0., 0., 0., 0., 0., 0., 0., 0., 0., 1.]]) \n",
      "\n",
      "1 Spins data:  tensor([[1., 1., 1., 1., 1., 1., 1., 1., 1., 0., 1., 1., 1., 1., 1., 1., 1., 1.,\n",
      "         1., 0., 1., 0., 0., 1., 1., 0., 1., 0., 1., 1., 0., 1., 0., 0., 0., 1.],\n",
      "        [1., 0., 1., 0., 0., 1., 1., 0., 1., 1., 1., 1., 0., 1., 1., 1., 1., 1.,\n",
      "         0., 1., 0., 1., 1., 0., 0., 1., 1., 1., 1., 1., 0., 1., 1., 0., 0., 1.]]) \n",
      "\n",
      "2 Spins data:  tensor([[1., 1., 1., 1., 1., 1., 1., 1., 1., 0., 0., 1., 0., 1., 1., 1., 1., 1.,\n",
      "         0., 1., 1., 1., 1., 1., 1., 1., 1., 1., 1., 1., 1., 1., 1., 1., 1., 0.],\n",
      "        [1., 0., 1., 1., 0., 1., 1., 0., 1., 1., 1., 1., 1., 1., 0., 0., 1., 1.,\n",
      "         0., 0., 0., 0., 0., 0., 0., 1., 0., 0., 0., 0., 1., 1., 1., 1., 0., 1.]]) \n",
      "\n"
     ]
    }
   ],
   "source": [
    "# Iterate over dataset to check if it looks good.\n",
    "DL_DS = DataLoader(spins_dataset, batch_size=2, shuffle=True)\n",
    "for (idx, batch) in enumerate(DL_DS):\n",
    "    if idx == 3: break # so we don't print too much :)\n",
    "    # Print the 'text' data of the batch\n",
    "    print(idx, 'Spins data: ', batch['spins'],'\\n')"
   ]
  },
  {
   "cell_type": "markdown",
   "metadata": {},
   "source": [
    "Looks good!"
   ]
  },
  {
   "cell_type": "markdown",
   "metadata": {},
   "source": [
    "## Perform train/test split of full dataset"
   ]
  },
  {
   "cell_type": "code",
   "execution_count": 17,
   "metadata": {},
   "outputs": [
    {
     "name": "stdout",
     "output_type": "stream",
     "text": [
      "Full set:  16000 \n",
      "\n",
      "Train set:  16000\n",
      "Test set:  0 \n",
      "\n",
      "Good! Length of splitted sets adds up to full length.\n"
     ]
    }
   ],
   "source": [
    "N_full = len(spins_dataset) # total length of full dataset\n",
    "N_train = int(N_full*1.0)\n",
    "N_test = N_full - N_train\n",
    "\n",
    "print(\"Full set: \", N_full,'\\n')\n",
    "print(\"Train set: \", N_train)\n",
    "print(\"Test set: \", N_test,'\\n')\n",
    "\n",
    "# To use random_split(), lengths of train/test sets must add up to full. Check.\n",
    "if (N_train + N_test == N_full): print('Good! Length of splitted sets adds up to full length.') "
   ]
  },
  {
   "cell_type": "code",
   "execution_count": 18,
   "metadata": {},
   "outputs": [],
   "source": [
    "# Perform random non-overlapping train/test split\n",
    "train_spins,test_spins = torch.utils.data.random_split(spins_dataset,[N_train,N_test])"
   ]
  },
  {
   "cell_type": "markdown",
   "metadata": {},
   "source": [
    "## Define the model"
   ]
  },
  {
   "cell_type": "code",
   "execution_count": null,
   "metadata": {},
   "outputs": [],
   "source": []
  },
  {
   "cell_type": "code",
   "execution_count": 19,
   "metadata": {},
   "outputs": [
    {
     "ename": "ValueError",
     "evalue": "could not convert string to float: 'seed'",
     "output_type": "error",
     "traceback": [
      "\u001b[0;31m---------------------------------------------------------------------------\u001b[0m",
      "\u001b[0;31mValueError\u001b[0m                                Traceback (most recent call last)",
      "\u001b[0;32m<ipython-input-19-1c3cd1efb3f1>\u001b[0m in \u001b[0;36m<module>\u001b[0;34m\u001b[0m\n\u001b[1;32m      1\u001b[0m \u001b[0;31m# Extract temperature and linear size from file name\u001b[0m\u001b[0;34m\u001b[0m\u001b[0;34m\u001b[0m\u001b[0;34m\u001b[0m\u001b[0m\n\u001b[0;32m----> 2\u001b[0;31m \u001b[0mT\u001b[0m \u001b[0;34m=\u001b[0m \u001b[0mfloat\u001b[0m\u001b[0;34m(\u001b[0m\u001b[0mfilename\u001b[0m\u001b[0;34m.\u001b[0m\u001b[0msplit\u001b[0m\u001b[0;34m(\u001b[0m\u001b[0;34m'_'\u001b[0m\u001b[0;34m)\u001b[0m\u001b[0;34m[\u001b[0m\u001b[0;34m-\u001b[0m\u001b[0;36m2\u001b[0m\u001b[0;34m]\u001b[0m\u001b[0;34m)\u001b[0m\u001b[0;34m\u001b[0m\u001b[0;34m\u001b[0m\u001b[0m\n\u001b[0m\u001b[1;32m      3\u001b[0m \u001b[0mL\u001b[0m \u001b[0;34m=\u001b[0m \u001b[0mint\u001b[0m\u001b[0;34m(\u001b[0m\u001b[0mfilename\u001b[0m\u001b[0;34m.\u001b[0m\u001b[0msplit\u001b[0m\u001b[0;34m(\u001b[0m\u001b[0;34m'_'\u001b[0m\u001b[0;34m)\u001b[0m\u001b[0;34m[\u001b[0m\u001b[0;34m-\u001b[0m\u001b[0;36m4\u001b[0m\u001b[0;34m]\u001b[0m\u001b[0;34m)\u001b[0m\u001b[0;34m\u001b[0m\u001b[0;34m\u001b[0m\u001b[0m\n\u001b[1;32m      4\u001b[0m \u001b[0;34m\u001b[0m\u001b[0m\n\u001b[1;32m      5\u001b[0m \u001b[0mprint\u001b[0m\u001b[0;34m(\u001b[0m\u001b[0;34m\"T = %0.2f\"\u001b[0m\u001b[0;34m%\u001b[0m\u001b[0mT\u001b[0m\u001b[0;34m)\u001b[0m\u001b[0;34m\u001b[0m\u001b[0;34m\u001b[0m\u001b[0m\n",
      "\u001b[0;31mValueError\u001b[0m: could not convert string to float: 'seed'"
     ]
    }
   ],
   "source": [
    "# Extract temperature and linear size from file name\n",
    "T = float(filename.split('_')[-2])\n",
    "L = int(filename.split('_')[-4])\n",
    "\n",
    "print(\"T = %0.2f\"%T)\n",
    "print(\"L = %d\"%L)"
   ]
  },
  {
   "cell_type": "markdown",
   "metadata": {},
   "source": [
    "## Initialize and train the model"
   ]
  },
  {
   "cell_type": "code",
   "execution_count": null,
   "metadata": {},
   "outputs": [
    {
     "name": "stdout",
     "output_type": "stream",
     "text": [
      "Training loss for 0 epoch: 0.026777923107147217\n"
     ]
    }
   ],
   "source": [
    "%%time\n",
    "# Network hyperparamters\n",
    "N_spins = L**2\n",
    "n_vis = N_spins\n",
    "n_hin = N_spins\n",
    "\n",
    "# Training parameters\n",
    "epochs = 2000\n",
    "η = 0.01\n",
    "batch_size = 32\n",
    "\n",
    "# Define train and test DataLoaders\n",
    "train_loader = DataLoader(train_spins, batch_size=batch_size, shuffle=True)\n",
    "# test_loader = DataLoader(test_spins, batch_size=batch_size, shuffle=True)\n",
    "\n",
    "rbm = RBM(n_vis,n_hin,k=1)\n",
    "train_op = optim.SGD(rbm.parameters(),η)\n",
    "\n",
    "loss_at_epoch = []\n",
    "mean_loss = 1\n",
    "epoch = 0\n",
    "# while abs(mean_loss) > 0.01:\n",
    "for epoch in range(epochs):\n",
    "    loss_ = []\n",
    "    for idx, data in enumerate(train_loader):\n",
    "        \n",
    "        data = data['spins']\n",
    "        data = Variable(data.view(-1,N_spins))\n",
    "        sample_data = data.bernoulli() # will serve as initial input\n",
    "        \n",
    "        v,v1 = rbm(sample_data) # v: input, v1: generated\n",
    "#         loss = torch.abs(rbm.free_energy(v) - rbm.free_energy(v1))\n",
    "        loss = rbm.free_energy(v) - rbm.free_energy(v1)\n",
    "        loss_.append(loss.data)\n",
    "        train_op.zero_grad()\n",
    "        loss.backward()\n",
    "        train_op.step()\n",
    "    \n",
    "    mean_loss = np.mean(loss_)\n",
    "    loss_at_epoch.append(np.mean(loss_))\n",
    "    if epoch%10 == 0:\n",
    "        print(\"Training loss for {} epoch: {}\".format(epoch, np.mean(loss_)))\n",
    "    epoch += 1\n",
    "print(\"Training loss for {} epoch: {}\".format(epoch, np.mean(loss_)))"
   ]
  },
  {
   "cell_type": "code",
   "execution_count": 11,
   "metadata": {},
   "outputs": [
    {
     "data": {
      "image/png": "[encoded data removed]",
      "text/plain": [
       "<Figure size 432x288 with 1 Axes>"
      ]
     },
     "metadata": {
      "needs_background": "light"
     },
     "output_type": "display_data"
    }
   ],
   "source": [
    "# Plot loss function\n",
    "loss_at_epoch = np.array(loss_at_epoch)\n",
    "plt.plot(range(len(loss_at_epoch))[::20],loss_at_epoch[::20])\n",
    "# plt.yscale('log')\n",
    "plt.xlabel(r'$\\rm epoch$')\n",
    "plt.ylabel(r'$\\rm loss$');\n",
    "plt.savefig('L_10_T_0.25_loss.pdf',dpi=300)"
   ]
  },
  {
   "cell_type": "markdown",
   "metadata": {},
   "source": [
    "The network is now trained (seemingly)."
   ]
  },
  {
   "cell_type": "markdown",
   "metadata": {},
   "source": [
    "### Save the model"
   ]
  },
  {
   "cell_type": "code",
   "execution_count": 21,
   "metadata": {},
   "outputs": [],
   "source": [
    "torch.save(rbm.state_dict(),'./L_10_T_0.25.pt')"
   ]
  },
  {
   "cell_type": "markdown",
   "metadata": {},
   "source": [
    "## Sampling Ising configurations from model"
   ]
  },
  {
   "cell_type": "markdown",
   "metadata": {},
   "source": [
    "With our trained model, we now want to sample a new set of Ising configuraions according to the model probability distribution."
   ]
  },
  {
   "cell_type": "code",
   "execution_count": 22,
   "metadata": {},
   "outputs": [
    {
     "data": {
      "text/plain": [
       "torch.Size([32, 100])"
      ]
     },
     "execution_count": 22,
     "metadata": {},
     "output_type": "execute_result"
    }
   ],
   "source": [
    "configs = next(iter(train_loader))['spins'] # grabs a batch of spins from training set\n",
    "configs.shape"
   ]
  },
  {
   "cell_type": "code",
   "execution_count": 23,
   "metadata": {},
   "outputs": [
    {
     "data": {
      "text/plain": [
       "tensor([[1., 0., 0.,  ..., 0., 0., 0.],\n",
       "        [1., 1., 1.,  ..., 0., 1., 1.],\n",
       "        [1., 1., 0.,  ..., 0., 0., 1.],\n",
       "        ...,\n",
       "        [1., 1., 1.,  ..., 1., 0., 1.],\n",
       "        [0., 1., 1.,  ..., 1., 1., 0.],\n",
       "        [0., 0., 0.,  ..., 1., 1., 1.]])"
      ]
     },
     "execution_count": 23,
     "metadata": {},
     "output_type": "execute_result"
    }
   ],
   "source": [
    "v_in, v_gen = rbm(configs.view(-1, N_spins))\n",
    "v_in"
   ]
  },
  {
   "cell_type": "markdown",
   "metadata": {
    "tags": []
   },
   "source": [
    "### Input"
   ]
  },
  {
   "cell_type": "code",
   "execution_count": 24,
   "metadata": {},
   "outputs": [
    {
     "data": {
      "image/png": "[encoded data removed]",
      "text/plain": [
       "<Figure size 432x288 with 1 Axes>"
      ]
     },
     "metadata": {
      "needs_background": "light"
     },
     "output_type": "display_data"
    }
   ],
   "source": [
    "plt.imshow(v_in);"
   ]
  },
  {
   "cell_type": "markdown",
   "metadata": {},
   "source": [
    "### Generated"
   ]
  },
  {
   "cell_type": "code",
   "execution_count": 25,
   "metadata": {},
   "outputs": [
    {
     "data": {
      "image/png": "[encoded data removed]",
      "text/plain": [
       "<Figure size 432x288 with 1 Axes>"
      ]
     },
     "metadata": {
      "needs_background": "light"
     },
     "output_type": "display_data"
    }
   ],
   "source": [
    "plt.imshow(v_gen.detach().numpy());"
   ]
  },
  {
   "cell_type": "markdown",
   "metadata": {},
   "source": [
    "### Sampling a longer Markov chain"
   ]
  },
  {
   "cell_type": "markdown",
   "metadata": {},
   "source": [
    "The above results are for a Markov chain of length 1. As such, these will be very correlated in general. The idea is to start out with a random input and run a longer Markov chain. To test if the RBM samples the correct configurations, I will start out with a ferromagnet configuration (i.e, all spins pointing the same way), and hope that eventually the RBM returns disordered phase configurations instead."
   ]
  },
  {
   "cell_type": "markdown",
   "metadata": {},
   "source": [
    "### Create ferromagnetic configuration"
   ]
  },
  {
   "cell_type": "code",
   "execution_count": 26,
   "metadata": {},
   "outputs": [
    {
     "data": {
      "text/plain": [
       "tensor([[0., 0., 0.,  ..., 0., 0., 0.],\n",
       "        [1., 1., 1.,  ..., 1., 1., 1.],\n",
       "        [0., 0., 0.,  ..., 0., 0., 0.],\n",
       "        ...,\n",
       "        [1., 1., 1.,  ..., 1., 1., 1.],\n",
       "        [0., 0., 0.,  ..., 0., 0., 0.],\n",
       "        [1., 1., 1.,  ..., 1., 1., 1.]])"
      ]
     },
     "execution_count": 26,
     "metadata": {},
     "output_type": "execute_result"
    }
   ],
   "source": [
    "v_in = next(iter(train_loader))['spins'] # grabs a batch of spins from training set\n",
    "v_in[v_in==0] = 1\n",
    "v_in\n",
    "for i,sample in enumerate(v_in):\n",
    "    if i%2 == 0:\n",
    "        v_in[i] = 0\n",
    "v_in"
   ]
  },
  {
   "cell_type": "code",
   "execution_count": 27,
   "metadata": {},
   "outputs": [
    {
     "data": {
      "text/plain": [
       "<matplotlib.image.AxesImage at 0x7fae2ce250a0>"
      ]
     },
     "execution_count": 27,
     "metadata": {},
     "output_type": "execute_result"
    },
    {
     "data": {
      "image/png": "[encoded data removed]",
      "text/plain": [
       "<Figure size 432x288 with 1 Axes>"
      ]
     },
     "metadata": {
      "needs_background": "light"
     },
     "output_type": "display_data"
    }
   ],
   "source": [
    "# Plot one Ising configuration\n",
    "plt.imshow(v_in[0].reshape((L,L)))"
   ]
  },
  {
   "cell_type": "markdown",
   "metadata": {},
   "source": [
    "### Plot random walk"
   ]
  },
  {
   "cell_type": "code",
   "execution_count": null,
   "metadata": {},
   "outputs": [],
   "source": [
    "%matplotlib inline\n",
    "import time\n",
    "import pylab as pl\n",
    "from IPython import display\n",
    "\n",
    "# Create ferromagnetic configuration\n",
    "v_in = next(iter(train_loader))['spins'] # grabs a batch of spins from training set\n",
    "v_in[v_in==0] = 1\n",
    "v_in = v_in[0]\n",
    "# for i,sample in enumerate(v_in):\n",
    "#     if i%2 == 0:\n",
    "#         v_in[i] = 0\n",
    "        \n",
    "# Plot initial visible vector\n",
    "fig,ax = plt.subplots(figsize=(8,4.5), dpi=100, constrained_layout=True)\n",
    "ax.imshow(v_in.detach().numpy().reshape(L,L))\n",
    "display.clear_output(wait=True)\n",
    "display.display(pl.gcf())\n",
    "time.sleep(1.0)\n",
    "\n",
    "num_gen = 20 # number of samples to generate\n",
    "for i in range(num_gen):\n",
    "    \n",
    "    # Update input and generated visible vector\n",
    "    v_in, v_gen = rbm(v_in.view(-1, N_spins))\n",
    "    v_in = v_gen\n",
    "        \n",
    "    # Plot reconstructions of visible vector\n",
    "    if i%1==0:\n",
    "        \n",
    "        ax.imshow(v_gen.detach().numpy().reshape(L,L))\n",
    "        display.clear_output(wait=True)\n",
    "        display.display(pl.gcf())\n",
    "        time.sleep(0.5)\n",
    "\n",
    "plt.clf();"
   ]
  },
  {
   "cell_type": "markdown",
   "metadata": {},
   "source": [
    "The random walk took us from a ferromagnetic configuration to a disordered one! This is good."
   ]
  },
  {
   "cell_type": "markdown",
   "metadata": {},
   "source": [
    "# Load machine"
   ]
  },
  {
   "cell_type": "code",
   "execution_count": 4,
   "metadata": {},
   "outputs": [
    {
     "data": {
      "text/plain": [
       "RBM()"
      ]
     },
     "execution_count": 4,
     "metadata": {},
     "output_type": "execute_result"
    }
   ],
   "source": []
  },
  {
   "cell_type": "markdown",
   "metadata": {},
   "source": [
    "# Compute energy and magnetization"
   ]
  },
  {
   "cell_type": "code",
   "execution_count": 5,
   "metadata": {},
   "outputs": [
    {
     "data": {
      "text/plain": [
       "<module 'ising_analysis' from '../../../ising_analysis.py'>"
      ]
     },
     "execution_count": 5,
     "metadata": {},
     "output_type": "execute_result"
    }
   ],
   "source": []
  },
  {
   "cell_type": "code",
   "execution_count": 6,
   "metadata": {},
   "outputs": [
    {
     "data": {
      "text/plain": [
       "tensor([[1., 0., 0.,  ..., 0., 0., 0.],\n",
       "        [1., 0., 0.,  ..., 1., 1., 0.],\n",
       "        [0., 1., 1.,  ..., 1., 1., 1.],\n",
       "        ...,\n",
       "        [1., 1., 1.,  ..., 0., 1., 1.],\n",
       "        [0., 1., 0.,  ..., 1., 0., 0.],\n",
       "        [0., 1., 1.,  ..., 0., 0., 1.]])"
      ]
     },
     "execution_count": 6,
     "metadata": {},
     "output_type": "execute_result"
    }
   ],
   "source": []
  },
  {
   "cell_type": "code",
   "execution_count": null,
   "metadata": {},
   "outputs": [
    {
     "name": "stdout",
     "output_type": "stream",
     "text": [
      "bins_written:  1000\n"
     ]
    }
   ],
   "source": []
  },
  {
   "cell_type": "code",
   "execution_count": 9,
   "metadata": {},
   "outputs": [
    {
     "data": {
      "text/plain": [
       "2000"
      ]
     },
     "execution_count": 9,
     "metadata": {},
     "output_type": "execute_result"
    }
   ],
   "source": [
    "bins_written"
   ]
  },
  {
   "cell_type": "code",
   "execution_count": 10,
   "metadata": {},
   "outputs": [
    {
     "name": "stdout",
     "output_type": "stream",
     "text": [
      "    2002 L_10_T_3.75_rbm_walk_0.dat\n"
     ]
    }
   ],
   "source": [
    "!wc -l 'L_10_T_0.25_rbm_walk_0.dat'"
   ]
  },
  {
   "cell_type": "code",
   "execution_count": 11,
   "metadata": {},
   "outputs": [
    {
     "data": {
      "text/plain": [
       "['L_10_T_3.75_rbm_walk_0.dat',\n",
       " 'L_10_T_3.75_rbm_walk_1.dat',\n",
       " 'L_10_T_3.75_rbm_walk_2.dat',\n",
       " 'L_10_T_3.75_rbm_walk_3.dat',\n",
       " 'L_10_T_3.75_rbm_walk_4.dat',\n",
       " 'L_10_T_3.75_rbm_walk_5.dat',\n",
       " 'L_10_T_3.75_rbm_walk_6.dat',\n",
       " 'L_10_T_3.75_rbm_walk_7.dat',\n",
       " 'L_10_T_3.75_rbm_walk_8.dat',\n",
       " 'L_10_T_3.75_rbm_walk_9.dat',\n",
       " 'L_10_T_3.75_rbm_walk_10.dat',\n",
       " 'L_10_T_3.75_rbm_walk_11.dat',\n",
       " 'L_10_T_3.75_rbm_walk_12.dat',\n",
       " 'L_10_T_3.75_rbm_walk_13.dat',\n",
       " 'L_10_T_3.75_rbm_walk_14.dat',\n",
       " 'L_10_T_3.75_rbm_walk_15.dat',\n",
       " 'L_10_T_3.75_rbm_walk_16.dat',\n",
       " 'L_10_T_3.75_rbm_walk_17.dat',\n",
       " 'L_10_T_3.75_rbm_walk_18.dat',\n",
       " 'L_10_T_3.75_rbm_walk_19.dat']"
      ]
     },
     "execution_count": 11,
     "metadata": {},
     "output_type": "execute_result"
    }
   ],
   "source": [
    "filenames"
   ]
  },
  {
   "cell_type": "code",
   "execution_count": 19,
   "metadata": {},
   "outputs": [],
   "source": []
  },
  {
   "cell_type": "code",
   "execution_count": 20,
   "metadata": {},
   "outputs": [
    {
     "data": {
      "text/plain": [
       "array([[-76., -48., -24., ..., -44., -36., -32.],\n",
       "       [-36., -76., -84., ..., -40., -92., -40.],\n",
       "       [-64., -44., -60., ..., -40., -64., -56.],\n",
       "       ...,\n",
       "       [-76., -68., -72., ..., -60., -56., -52.],\n",
       "       [-72., -56., -64., ..., -48., -72., -56.],\n",
       "       [-44., -44., -48., ..., -68., -52., -72.]])"
      ]
     },
     "execution_count": 20,
     "metadata": {},
     "output_type": "execute_result"
    }
   ],
   "source": [
    "rbm_E_all_walks"
   ]
  },
  {
   "cell_type": "code",
   "execution_count": 16,
   "metadata": {},
   "outputs": [],
   "source": [
    "np.mean(rbm_E/L**2)\n",
    "T = 0.25"
   ]
  },
  {
   "cell_type": "code",
   "execution_count": 24,
   "metadata": {},
   "outputs": [
    {
     "data": {
      "image/png": "[encoded data removed]",
      "text/plain": [
       "<Figure size 432x288 with 1 Axes>"
      ]
     },
     "metadata": {
      "needs_background": "light"
     },
     "output_type": "display_data"
    }
   ],
   "source": []
  },
  {
   "cell_type": "code",
   "execution_count": null,
   "metadata": {},
   "outputs": [],
   "source": [
    "# Plot running average of magnetization per spin\n",
    "plt.plot(np.arange(rbm_m.shape[0]),np.cumsum(rbm_m)/np.arange(1,rbm_m.shape[0]+1),color='tab:orange')\n",
    "plt.axhline(0,color='orange',zorder=-1)"
   ]
  },
  {
   "cell_type": "markdown",
   "metadata": {},
   "source": [
    "# References"
   ]
  },
  {
   "cell_type": "markdown",
   "metadata": {},
   "source": [
    "https://towardsdatascience.com/how-to-use-datasets-and-dataloader-in-pytorch-for-custom-text-data-270eed7f7c00\n",
    "\n",
    "https://blog.paperspace.com/beginners-guide-to-boltzmann-machines-pytorch/\n",
    "\n",
    "https://stats.stackexchange.com/questions/114844/how-to-compute-the-free-energy-of-a-rbm-given-its-energy\n",
    "\n",
    "https://github.com/lisa-lab/DeepLearningTutorials/blob/master/code/rbm.py#L127"
   ]
  },
  {
   "cell_type": "code",
   "execution_count": null,
   "metadata": {},
   "outputs": [],
   "source": []
  },
  {
   "cell_type": "code",
   "execution_count": null,
   "metadata": {},
   "outputs": [],
   "source": []
  }
 ],
 "metadata": {
  "kernelspec": {
   "display_name": "Python 3",
   "language": "python",
   "name": "python3"
  },
  "language_info": {
   "codemirror_mode": {
    "name": "ipython",
    "version": 3
   },
   "file_extension": ".py",
   "mimetype": "text/x-python",
   "name": "python",
   "nbconvert_exporter": "python",
   "pygments_lexer": "ipython3",
   "version": "3.8.5"
  }
 },
 "nbformat": 4,
 "nbformat_minor": 4
}
