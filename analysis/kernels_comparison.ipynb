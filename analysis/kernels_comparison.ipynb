{
 "cells": [
  {
   "cell_type": "markdown",
   "metadata": {},
   "source": [
    "### Comparison of kernel performance"
   ]
  },
  {
   "cell_type": "code",
   "execution_count": 1,
   "metadata": {},
   "outputs": [],
   "source": [
    "import numpy as np\n",
    "import matplotlib.pyplot as plt\n",
    "import pandas as pd"
   ]
  },
  {
   "cell_type": "code",
   "execution_count": 39,
   "metadata": {},
   "outputs": [
    {
     "data": {
      "text/plain": [
       "<module 'ising_analysis' from '../ising_analysis.py'>"
      ]
     },
     "execution_count": 39,
     "metadata": {},
     "output_type": "execute_result"
    }
   ],
   "source": [
    "import sys\n",
    "sys.path.append('../')\n",
    "import ising_analysis\n",
    "import importlib\n",
    "importlib.reload(ising_analysis)"
   ]
  },
  {
   "cell_type": "code",
   "execution_count": 2,
   "metadata": {},
   "outputs": [],
   "source": [
    "# Load one 2x2 kernel data\n",
    "data00 = np.loadtxt('../data/L_10_T_2.25_kernelDims_1-2_no_symmetries.dat')\n",
    "data01 = np.loadtxt('../data/L_40_T_2.25_kernelDims_1-2_no_symmetries.dat')\n",
    "data02 = np.loadtxt('../data/L_100_T_2.25_kernelDims_1-2_no_symmetries.dat')"
   ]
  },
  {
   "cell_type": "code",
   "execution_count": 3,
   "metadata": {},
   "outputs": [],
   "source": [
    "E00 = np.mean(data00[:,0])\n",
    "E01 = np.mean(data01[:,0])\n",
    "E02 = np.mean(data02[:,0])"
   ]
  },
  {
   "cell_type": "code",
   "execution_count": 4,
   "metadata": {},
   "outputs": [],
   "source": [
    "# Load one 3x3 kernel data (non-symmetrized)\n",
    "data03 = np.loadtxt('../data/L_10_T_2.25_kernelDims_1-3_no_symmetries.dat')\n",
    "data04 = np.loadtxt('../data/L_40_T_2.25_kernelDims_1-3_no_symmetries.dat')\n",
    "data05 = np.loadtxt('../data/L_100_T_2.25_kernelDims_1-3_no_symmetries.dat')"
   ]
  },
  {
   "cell_type": "code",
   "execution_count": 5,
   "metadata": {},
   "outputs": [],
   "source": [
    "E03 = np.mean(data03[:,0])\n",
    "E04 = np.mean(data04[:,0])\n",
    "E05 = np.mean(data05[:,0])"
   ]
  },
  {
   "cell_type": "code",
   "execution_count": 6,
   "metadata": {},
   "outputs": [],
   "source": [
    "# Load one 3x3 kernel data (symmetrized)\n",
    "data06 = np.loadtxt('../data/L_10_T_2.25_kernelDims_1-3_with_symmetries.dat')\n",
    "data07 = np.loadtxt('../data/L_40_T_2.25_kernelDims_1-3_with_symmetries.dat')\n",
    "data08 = np.loadtxt('../data/L_100_T_2.25_kernelDims_1-3_with_symmetries.dat')"
   ]
  },
  {
   "cell_type": "code",
   "execution_count": 7,
   "metadata": {},
   "outputs": [],
   "source": [
    "E06 = np.mean(data06[:,0])\n",
    "E07 = np.mean(data07[:,0])\n",
    "E08 = np.mean(data08[:,0])"
   ]
  },
  {
   "cell_type": "code",
   "execution_count": 8,
   "metadata": {},
   "outputs": [],
   "source": [
    "# Load two 3x3 kernel data (non-symmetrized)\n",
    "data09 = np.loadtxt('../data/L_10_T_2.25_kernelDims_2-3_no_symmetries.dat')\n",
    "data10 = np.loadtxt('../data/L_40_T_2.25_kernelDims_2-3_no_symmetries.dat')\n",
    "data11 = np.loadtxt('../data/L_100_T_2.25_kernelDims_2-3_no_symmetries.dat')"
   ]
  },
  {
   "cell_type": "code",
   "execution_count": 9,
   "metadata": {},
   "outputs": [],
   "source": [
    "E09 = np.mean(data09[:,0])\n",
    "E10 = np.mean(data10[:,0])\n",
    "E11 = np.mean(data11[:,0])"
   ]
  },
  {
   "cell_type": "code",
   "execution_count": 10,
   "metadata": {},
   "outputs": [],
   "source": [
    "# Load two 3x3 kernel data (symmetrized)\n",
    "data12 = np.loadtxt('../data/L_10_T_2.25_kernelDims_2-3_with_symmetries.dat')\n",
    "data13 = np.loadtxt('../data/L_40_T_2.25_kernelDims_2-3_with_symmetries.dat')\n",
    "data14 = np.loadtxt('../data/L_100_T_2.25_kernelDims_2-3_with_symmetries.dat')"
   ]
  },
  {
   "cell_type": "code",
   "execution_count": 11,
   "metadata": {},
   "outputs": [],
   "source": [
    "E12 = np.mean(data12[:,0])\n",
    "E13 = np.mean(data13[:,0])\n",
    "E14 = np.mean(data14[:,0])"
   ]
  },
  {
   "cell_type": "code",
   "execution_count": null,
   "metadata": {},
   "outputs": [],
   "source": [
    "# Compute exact energy"
   ]
  },
  {
   "cell_type": "code",
   "execution_count": 42,
   "metadata": {},
   "outputs": [],
   "source": [
    "# Linear sizes\n",
    "Ls = np.array([10,40,100],dtype=np.int32) \n",
    "temp = 2.25\n",
    "Es_exact = ising_analysis.e_exact_func(temp)*(Ls**2)\n"
   ]
  },
  {
   "cell_type": "code",
   "execution_count": 22,
   "metadata": {},
   "outputs": [],
   "source": [
    "colors = ['tab:blue','tab:orange','tab:green','tab:red','tab:purple']"
   ]
  },
  {
   "cell_type": "code",
   "execution_count": 48,
   "metadata": {},
   "outputs": [
    {
     "data": {
      "text/plain": [
       "0.02451949838384493"
      ]
     },
     "execution_count": 48,
     "metadata": {},
     "output_type": "execute_result"
    }
   ],
   "source": [
    "np.abs(E07-Es_exact[1])/np.abs(Es_exact[1])"
   ]
  },
  {
   "cell_type": "code",
   "execution_count": 78,
   "metadata": {},
   "outputs": [
    {
     "data": {
      "image/png": "[encoded data removed]",
      "text/plain": [
       "<Figure size 432x288 with 1 Axes>"
      ]
     },
     "metadata": {
      "needs_background": "light"
     },
     "output_type": "display_data"
    }
   ],
   "source": [
    "# Plot\n",
    "\n",
    "# tw0 3x3 kernel (non-symmetrized)\n",
    "plt.scatter(Ls[0],np.abs(E09-Es_exact[0])/np.abs(Es_exact[0]),color=colors[0],label='Two 3x3 kernels (no symm.)')\n",
    "plt.scatter(Ls[1],np.abs(E10-Es_exact[1])/np.abs(Es_exact[1]),color=colors[0])\n",
    "plt.scatter(Ls[2],np.abs(E11-Es_exact[2])/np.abs(Es_exact[2]),color=colors[0])\n",
    "\n",
    "# two 3x3 kernel (symmetrized)\n",
    "plt.scatter(Ls[0],np.abs(E12-Es_exact[0])/np.abs(Es_exact[0]),color=colors[1],label='Two 3x3 kernels (symm.)')\n",
    "plt.scatter(Ls[1],np.abs(E13-Es_exact[1])/np.abs(Es_exact[1]),color=colors[1])\n",
    "plt.scatter(Ls[2],np.abs(E14-Es_exact[2])/np.abs(Es_exact[2]),color=colors[1])\n",
    "\n",
    "plt.annotate(r\"$T=%.2f$\"%(temp),(0.25,0.55),\n",
    "                xycoords='figure fraction',fontsize=12)\n",
    "\n",
    "# Decorate\n",
    "plt.xlabel(r'$L$')\n",
    "plt.ylabel(r'$Relative\\;Error\\;E$')\n",
    "plt.legend(frameon=True)\n",
    "\n",
    "plt.savefig('two_3_by_3_kernels_Tc.pdf',dpi=300)"
   ]
  },
  {
   "cell_type": "code",
   "execution_count": 79,
   "metadata": {},
   "outputs": [
    {
     "data": {
      "image/png": "[encoded data removed]",
      "text/plain": [
       "<Figure size 432x288 with 1 Axes>"
      ]
     },
     "metadata": {
      "needs_background": "light"
     },
     "output_type": "display_data"
    }
   ],
   "source": [
    "# two 3x3 kernel (symmetrized)\n",
    "plt.scatter(Ls[0],np.abs(E12-Es_exact[0])/np.abs(Es_exact[0]),color=colors[1],label='Two 3x3 kernels (symm.)')\n",
    "plt.scatter(Ls[1],np.abs(E13-Es_exact[1])/np.abs(Es_exact[1]),color=colors[1])\n",
    "plt.scatter(Ls[2],np.abs(E14-Es_exact[2])/np.abs(Es_exact[2]),color=colors[1])\n",
    "\n",
    "# # one 3x3 kernel (symmetrized)\n",
    "# plt.scatter(Ls[0],np.abs(E06-Es_exact[0])/np.abs(Es_exact[0]),color=colors[2],label='One 3x3 kernels (symm.)')\n",
    "# plt.scatter(Ls[1],np.abs(E07-Es_exact[1])/np.abs(Es_exact[1]),color=colors[2])\n",
    "# plt.scatter(Ls[2],np.abs(E08-Es_exact[2])/np.abs(Es_exact[2]),color=colors[2])\n",
    "\n",
    "# one 2x2 kernel (symmetrized)\n",
    "plt.scatter(Ls[0],np.abs(E00-Es_exact[0])/np.abs(Es_exact[0]),color=colors[3],label='One 2x2 kernels')\n",
    "plt.scatter(Ls[1],np.abs(E01-Es_exact[1])/np.abs(Es_exact[1]),color=colors[3])\n",
    "plt.scatter(Ls[2],np.abs(E02-Es_exact[2])/np.abs(Es_exact[2]),color=colors[3])\n",
    "\n",
    "plt.annotate(r\"$T=%.2f$\"%(temp),(0.25,0.55),\n",
    "                xycoords='figure fraction',fontsize=12)\n",
    "\n",
    "plt.xticks(Ls)\n",
    "\n",
    "# Decorate\n",
    "plt.xlabel(r'$L$')\n",
    "plt.ylabel(r'$Relative\\;Error\\;E$')\n",
    "plt.legend(frameon=True)\n",
    "\n",
    "plt.savefig('small_kernel_is_better.pdf',dpi=300)"
   ]
  },
  {
   "cell_type": "code",
   "execution_count": 14,
   "metadata": {},
   "outputs": [
    {
     "data": {
      "text/plain": [
       "-156.73434"
      ]
     },
     "execution_count": 14,
     "metadata": {},
     "output_type": "execute_result"
    }
   ],
   "source": [
    "# Should plot the error bars."
   ]
  },
  {
   "cell_type": "code",
   "execution_count": null,
   "metadata": {},
   "outputs": [],
   "source": []
  }
 ],
 "metadata": {
  "kernelspec": {
   "display_name": "Python 3",
   "language": "python",
   "name": "python3"
  },
  "language_info": {
   "codemirror_mode": {
    "name": "ipython",
    "version": 3
   },
   "file_extension": ".py",
   "mimetype": "text/x-python",
   "name": "python",
   "nbconvert_exporter": "python",
   "pygments_lexer": "ipython3",
   "version": "3.8.5"
  }
 },
 "nbformat": 4,
 "nbformat_minor": 4
}
