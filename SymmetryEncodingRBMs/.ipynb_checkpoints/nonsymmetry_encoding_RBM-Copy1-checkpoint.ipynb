{
 "cells": [
  {
   "cell_type": "markdown",
   "metadata": {},
   "source": [
    "## RBM's in Pytorch"
   ]
  },
  {
   "cell_type": "code",
   "execution_count": 1,
   "metadata": {},
   "outputs": [],
   "source": [
    "import numpy as np\n",
    "import pandas as pd\n",
    "import torch\n",
    "import torch.utils.data\n",
    "from torch.utils.data import Dataset,DataLoader\n",
    "import torch.nn as nn\n",
    "import torch.nn.functional\n",
    "import torch.optim as optim\n",
    "from torch.autograd import Variable\n",
    "from torchvision import datasets, transforms\n",
    "from torchvision.utils import make_grid , save_image\n",
    "%matplotlib inline\n",
    "import matplotlib.pyplot as plt"
   ]
  },
  {
   "cell_type": "code",
   "execution_count": 2,
   "metadata": {},
   "outputs": [
    {
     "data": {
      "text/plain": [
       "<module 'ising_analysis' from '../ising_analysis.py'>"
      ]
     },
     "execution_count": 2,
     "metadata": {},
     "output_type": "execute_result"
    }
   ],
   "source": [
    "import sys\n",
    "sys.path.append('../')\n",
    "import ising_analysis\n",
    "import importlib\n",
    "importlib.reload(ising_analysis)"
   ]
  },
  {
   "cell_type": "code",
   "execution_count": 3,
   "metadata": {},
   "outputs": [],
   "source": [
    "# # Turn debuggers off once model is... debugged\n",
    "# torch.autograd.set_detect_anomaly(False)\n",
    "# torch.autograd.profiler.profile(False)\n",
    "# torch.autograd.profiler.emit_nvtx(False)"
   ]
  },
  {
   "cell_type": "code",
   "execution_count": 4,
   "metadata": {},
   "outputs": [
    {
     "data": {
      "text/plain": [
       "<torch._C.Generator at 0x7ff12ae4c990>"
      ]
     },
     "execution_count": 4,
     "metadata": {},
     "output_type": "execute_result"
    }
   ],
   "source": [
    "# Set pytorch random seed\n",
    "torch.manual_seed(0)"
   ]
  },
  {
   "cell_type": "markdown",
   "metadata": {},
   "source": [
    "## Define the model\n",
    "\n",
    "Energy:\n",
    "\\begin{equation}\n",
    "E(\\sigma,h) = -\\sum_{i,j,\\alpha} W_{(i-j),\\alpha} \\sigma_i h_{j,\\alpha} -B \\sum_i \\sigma_i -\\sum_{j,\\alpha} c_{\\alpha} h_{j,\\alpha}\n",
    "\\end{equation}\n",
    "\n",
    "Free energy:\n",
    "\\begin{equation}\n",
    "\\varepsilon(\\sigma) = -B \\sum_{i=1}^{N} \\sigma_i -\\sum_{\\alpha=1}^M \\sum_{j=1}^{N} \\ln (1+e^{c_{\\alpha}+\\sum_{i=1}^{N}W_{(i-j),\\alpha}\\sigma_i})\n",
    "\\end{equation}\n",
    "\n",
    "$L$: linear size\n",
    "\n",
    "$N$: total spins\n",
    "\n",
    "$M$: hidden neurons per spin\n",
    "\n",
    "$\\sigma_i$: spin unit\n",
    "\n",
    "$h_{j,\\alpha}$: hidden unit\n",
    "\n",
    "$W_{(i-j),\\alpha}$: weight\n",
    "\n",
    "$i,j \\in [0,N-1]$\n",
    "\n",
    "$\\alpha \\in [0,M-1]$"
   ]
  },
  {
   "cell_type": "code",
   "execution_count": 5,
   "metadata": {},
   "outputs": [],
   "source": [
    "# Define model\n",
    "class RBM(nn.Module):\n",
    "   def __init__(self,\n",
    "               n_vis,\n",
    "               n_hin,\n",
    "               k=5):\n",
    "        super(RBM, self).__init__()\n",
    "        self.W = nn.Parameter(torch.randn(n_hin,n_vis)*1e-2)\n",
    "        self.v_bias = nn.Parameter(torch.zeros(n_vis))\n",
    "        self.h_bias = nn.Parameter(torch.zeros(n_hin))\n",
    "        self.k = k\n",
    "    \n",
    "   def sample_from_p(self,p):\n",
    "       return torch.nn.functional.relu(torch.sign(p - Variable(torch.rand(p.size()))))\n",
    "    \n",
    "   def v_to_h(self,v):\n",
    "        p_h = torch.sigmoid(torch.nn.functional.linear(v,self.W,self.h_bias))\n",
    "        sample_h = self.sample_from_p(p_h)\n",
    "        return p_h,sample_h\n",
    "    \n",
    "   def h_to_v(self,h):\n",
    "        p_v = torch.sigmoid(torch.nn.functional.linear(h,self.W.t(),self.v_bias))\n",
    "        sample_v = self.sample_from_p(p_v)\n",
    "        return p_v,sample_v\n",
    "        \n",
    "   def forward(self,v):\n",
    "        pre_h1,h1 = self.v_to_h(v)\n",
    "        \n",
    "        h_ = h1\n",
    "        for _ in range(self.k):\n",
    "            pre_v_,v_ = self.h_to_v(h_)\n",
    "            pre_h_,h_ = self.v_to_h(v_)\n",
    "        \n",
    "        return v,v_\n",
    "    \n",
    "   def free_energy(self,v):\n",
    "        vbias_term = v.mv(self.v_bias)\n",
    "        wx_b = torch.nn.functional.linear(v,self.W,self.h_bias)\n",
    "        hidden_term = wx_b.exp().add(1).log().sum(1)\n",
    "        return (-hidden_term - vbias_term).mean()"
   ]
  },
  {
   "cell_type": "code",
   "execution_count": 6,
   "metadata": {},
   "outputs": [],
   "source": [
    "# Create Ising Dataset object from Monte Carlo data\n",
    "class CustomIsingDataset(Dataset):\n",
    "    def __init__(self,spins):\n",
    "        self.spins = spins\n",
    "        \n",
    "    def __len__(self):\n",
    "        return len(self.spins)\n",
    "    \n",
    "    def __getitem__(self,idx):\n",
    "        spins = self.spins[idx]\n",
    "        sample = {'spins': spins}\n",
    "        return sample"
   ]
  },
  {
   "cell_type": "code",
   "execution_count": 28,
   "metadata": {},
   "outputs": [],
   "source": [
    "# Load spin data\n",
    "filename = '../uncorrelated_monte_carlo_data/L_6_T_4.0_spins_seed_0.dat'\n",
    "\n",
    "# Load data from file\n",
    "spins = np.loadtxt(filename,dtype=np.float32) # network training sometimes breaks for 'double'\n",
    "\n",
    "# Convert -1's to 0's for RBM compatibility\n",
    "spins[spins==-1] = 0\n",
    "\n",
    "# Convert to Python list for dataframe promotion simplicity\n",
    "spins = list(spins)\n",
    "\n",
    "# Convert spin data to pandas dataframe\n",
    "spins_df = pd.DataFrame({'spins':spins})\n",
    "\n",
    "# Create Dataset object\n",
    "spins_dataset = CustomIsingDataset(spins_df['spins'])"
   ]
  },
  {
   "cell_type": "code",
   "execution_count": 29,
   "metadata": {},
   "outputs": [
    {
     "data": {
      "text/plain": [
       "<matplotlib.image.AxesImage at 0x7ff12f6e97c0>"
      ]
     },
     "execution_count": 29,
     "metadata": {},
     "output_type": "execute_result"
    },
    {
     "data": {
      "image/png": "[encoded data removed]",
      "text/plain": [
       "<Figure size 432x288 with 1 Axes>"
      ]
     },
     "metadata": {
      "needs_background": "light"
     },
     "output_type": "display_data"
    }
   ],
   "source": [
    "# Show first few rows of loaded Monte Carlo configurations\n",
    "plt.imshow(spins[0:32])"
   ]
  },
  {
   "cell_type": "markdown",
   "metadata": {},
   "source": [
    "## Perform train/test split of full dataset"
   ]
  },
  {
   "cell_type": "code",
   "execution_count": 9,
   "metadata": {},
   "outputs": [
    {
     "name": "stdout",
     "output_type": "stream",
     "text": [
      "Full set:  16000 \n",
      "\n",
      "Train set:  16000\n",
      "Test set:  0 \n",
      "\n",
      "Good! Length of splitted sets adds up to full length.\n"
     ]
    }
   ],
   "source": [
    "N_full = len(spins_dataset) # total length of full dataset\n",
    "N_train = int(N_full*1.0)\n",
    "N_test = N_full - N_train\n",
    "\n",
    "print(\"Full set: \", N_full,'\\n')\n",
    "print(\"Train set: \", N_train)\n",
    "print(\"Test set: \", N_test,'\\n')\n",
    "\n",
    "# To use random_split(), lengths of train/test sets must add up to full. Check.\n",
    "if (N_train + N_test == N_full): print('Good! Length of splitted sets adds up to full length.') "
   ]
  },
  {
   "cell_type": "code",
   "execution_count": 10,
   "metadata": {},
   "outputs": [],
   "source": [
    "# Perform random non-overlapping train/test split\n",
    "train_spins,test_spins = torch.utils.data.random_split(spins_dataset,[N_train,N_test])"
   ]
  },
  {
   "cell_type": "code",
   "execution_count": 11,
   "metadata": {},
   "outputs": [],
   "source": [
    "# Specify the linear size and temperature\n",
    "L = 6\n",
    "T = 4.0"
   ]
  },
  {
   "cell_type": "markdown",
   "metadata": {},
   "source": [
    "## Initialize and train the model"
   ]
  },
  {
   "cell_type": "code",
   "execution_count": 12,
   "metadata": {},
   "outputs": [],
   "source": [
    "# Network hyperparamters\n",
    "N_spins = L**2\n",
    "n_vis = N_spins\n",
    "n_hin = N_spins"
   ]
  },
  {
   "cell_type": "code",
   "execution_count": 13,
   "metadata": {},
   "outputs": [
    {
     "data": {
      "text/plain": [
       "36"
      ]
     },
     "execution_count": 13,
     "metadata": {},
     "output_type": "execute_result"
    }
   ],
   "source": [
    "n_hin"
   ]
  },
  {
   "cell_type": "code",
   "execution_count": 14,
   "metadata": {},
   "outputs": [
    {
     "name": "stdout",
     "output_type": "stream",
     "text": [
      "Training loss for 0 epoch: 0.01836719922721386\n",
      "Training loss for 1000 epoch: -0.01582765206694603\n",
      "Training loss for 2000 epoch: -0.007083442527800798\n",
      "Training loss for 3000 epoch: 0.006387764122337103\n",
      "Training loss for 4000 epoch: 0.020967895165085793\n",
      "Training loss for 5000 epoch: 0.013693802058696747\n",
      "Training loss for 6000 epoch: -0.002462265081703663\n",
      "Training loss for 7000 epoch: 0.03750085458159447\n",
      "Training loss for 8000 epoch: 0.012734848074615002\n",
      "Training loss for 9000 epoch: -0.011843765154480934\n",
      "Training loss for 10000 epoch: 0.013231826946139336\n",
      "Training loss for 11000 epoch: 0.004642120562493801\n",
      "Training loss for 12000 epoch: -0.025534210726618767\n",
      "Training loss for 13000 epoch: -0.01888464391231537\n",
      "Training loss for 14000 epoch: 0.0036759490612894297\n",
      "Training loss for 15000 epoch: -0.0013413085835054517\n",
      "Training loss for 16000 epoch: 0.01926310732960701\n",
      "Training loss for 17000 epoch: -0.01905245892703533\n",
      "Training loss for 18000 epoch: -0.0006731261964887381\n",
      "Training loss for 19000 epoch: -0.015223419293761253\n",
      "Training loss for 20000 epoch: 0.031398896127939224\n",
      "CPU times: user 2h 30min 11s, sys: 8.11 s, total: 2h 30min 19s\n",
      "Wall time: 2h 30min 26s\n"
     ]
    }
   ],
   "source": [
    "%%time\n",
    "\n",
    "# Training parameters\n",
    "epochs = 20000\n",
    "η = 0.007\n",
    "batch_size = 32\n",
    "\n",
    "# Define train and test DataLoaders\n",
    "train_loader = DataLoader(train_spins, batch_size=batch_size, shuffle=True,num_workers=0)\n",
    "\n",
    "rbm = RBM(n_vis,n_hin,k=1)\n",
    "train_op = optim.SGD(rbm.parameters(),η)\n",
    "\n",
    "loss_at_epoch = []\n",
    "mean_loss = 1\n",
    "epoch = 0\n",
    "counter = 0\n",
    "\n",
    "# free_energy_old = \n",
    "for epoch in range(epochs):\n",
    "    loss_ = []\n",
    "    for idx, data in enumerate(train_loader): # iterates over batch\n",
    "        \n",
    "        data = data['spins']\n",
    "        sample_data = Variable(data.view(-1,n_vis)) # This is like a np.reshape(), might be unnecessary\n",
    "        \n",
    "        counter += 1\n",
    "        v,v1 = rbm(sample_data) # v: input, v1: generated\n",
    "        loss = rbm.free_energy(v) - rbm.free_energy(v1)\n",
    "        loss_.append(loss.data)\n",
    "        train_op.zero_grad()\n",
    "        loss.backward()\n",
    "        train_op.step()\n",
    "    \n",
    "    mean_loss = np.mean(loss_)\n",
    "    loss_at_epoch.append(np.mean(loss_)) # might need to loss_.detach()\n",
    "    if epoch%1000 == 0:\n",
    "        print(\"Training loss for {} epoch: {}\".format(epoch, np.mean(loss_)))\n",
    "    epoch += 1\n",
    "print(\"Training loss for {} epoch: {}\".format(epoch, np.mean(loss_)))"
   ]
  },
  {
   "cell_type": "code",
   "execution_count": 14,
   "metadata": {},
   "outputs": [
    {
     "ename": "NameError",
     "evalue": "name 'loss_at_epoch' is not defined",
     "output_type": "error",
     "traceback": [
      "\u001b[0;31m---------------------------------------------------------------------------\u001b[0m",
      "\u001b[0;31mNameError\u001b[0m                                 Traceback (most recent call last)",
      "\u001b[0;32m<ipython-input-14-0870360785ab>\u001b[0m in \u001b[0;36m<module>\u001b[0;34m\u001b[0m\n\u001b[1;32m      1\u001b[0m \u001b[0;31m# Plot loss function\u001b[0m\u001b[0;34m\u001b[0m\u001b[0;34m\u001b[0m\u001b[0;34m\u001b[0m\u001b[0m\n\u001b[0;32m----> 2\u001b[0;31m \u001b[0mloss_at_epoch\u001b[0m \u001b[0;34m=\u001b[0m \u001b[0mnp\u001b[0m\u001b[0;34m.\u001b[0m\u001b[0marray\u001b[0m\u001b[0;34m(\u001b[0m\u001b[0mloss_at_epoch\u001b[0m\u001b[0;34m)\u001b[0m\u001b[0;34m\u001b[0m\u001b[0;34m\u001b[0m\u001b[0m\n\u001b[0m\u001b[1;32m      3\u001b[0m \u001b[0mplt\u001b[0m\u001b[0;34m.\u001b[0m\u001b[0mplot\u001b[0m\u001b[0;34m(\u001b[0m\u001b[0mrange\u001b[0m\u001b[0;34m(\u001b[0m\u001b[0mlen\u001b[0m\u001b[0;34m(\u001b[0m\u001b[0mloss_at_epoch\u001b[0m\u001b[0;34m)\u001b[0m\u001b[0;34m)\u001b[0m\u001b[0;34m,\u001b[0m\u001b[0mloss_at_epoch\u001b[0m\u001b[0;34m)\u001b[0m\u001b[0;34m\u001b[0m\u001b[0;34m\u001b[0m\u001b[0m\n\u001b[1;32m      4\u001b[0m \u001b[0;31m# plt.yscale('log')\u001b[0m\u001b[0;34m\u001b[0m\u001b[0;34m\u001b[0m\u001b[0;34m\u001b[0m\u001b[0m\n\u001b[1;32m      5\u001b[0m \u001b[0mplt\u001b[0m\u001b[0;34m.\u001b[0m\u001b[0mxlabel\u001b[0m\u001b[0;34m(\u001b[0m\u001b[0;34mr'$\\rm epoch$'\u001b[0m\u001b[0;34m)\u001b[0m\u001b[0;34m\u001b[0m\u001b[0;34m\u001b[0m\u001b[0m\n",
      "\u001b[0;31mNameError\u001b[0m: name 'loss_at_epoch' is not defined"
     ]
    }
   ],
   "source": [
    "# Plot loss function\n",
    "loss_at_epoch = np.array(loss_at_epoch)\n",
    "plt.plot(range(len(loss_at_epoch)),loss_at_epoch)\n",
    "# plt.yscale('log')\n",
    "plt.xlabel(r'$\\rm epoch$')\n",
    "plt.ylabel(r'$\\rm loss$');"
   ]
  },
  {
   "cell_type": "markdown",
   "metadata": {},
   "source": [
    "The network is now trained (seemingly)."
   ]
  },
  {
   "cell_type": "code",
   "execution_count": 17,
   "metadata": {},
   "outputs": [],
   "source": [
    "torch.save(rbm.state_dict(),'./L_6_T_4.0_nonsymmRBM.pt')"
   ]
  },
  {
   "cell_type": "code",
   "execution_count": 16,
   "metadata": {},
   "outputs": [
    {
     "data": {
      "text/plain": [
       "RBM()"
      ]
     },
     "execution_count": 16,
     "metadata": {},
     "output_type": "execute_result"
    }
   ],
   "source": [
    "rbm = RBM(n_vis,n_hin,k=1)\n",
    "rbm.load_state_dict(torch.load('./L_6_T_4.0_nonsymmRBM.pt'))\n",
    "rbm.eval()"
   ]
  },
  {
   "cell_type": "markdown",
   "metadata": {},
   "source": [
    "## Sampling Ising configurations from model"
   ]
  },
  {
   "cell_type": "markdown",
   "metadata": {},
   "source": [
    "With our trained model, we now want to sample a new set of Ising configuraions according to the model probability distribution."
   ]
  },
  {
   "cell_type": "markdown",
   "metadata": {},
   "source": [
    "### Plot random walk"
   ]
  },
  {
   "cell_type": "code",
   "execution_count": 47,
   "metadata": {},
   "outputs": [],
   "source": [
    "num_walks = 16 # number of independent random walks desired when sampling "
   ]
  },
  {
   "cell_type": "code",
   "execution_count": 48,
   "metadata": {},
   "outputs": [],
   "source": [
    "v_in = torch.bernoulli(torch.rand(num_walks,n_vis))"
   ]
  },
  {
   "cell_type": "code",
   "execution_count": 49,
   "metadata": {},
   "outputs": [
    {
     "name": "stdout",
     "output_type": "stream",
     "text": [
      "bins_written:  1000\n",
      "CPU times: user 7.59 s, sys: 332 ms, total: 7.92 s\n",
      "Wall time: 7.95 s\n"
     ]
    }
   ],
   "source": [
    "%%time\n",
    "\n",
    "files = []\n",
    "filenames = []\n",
    "for w in range(num_walks):\n",
    "    # Open file for writing\n",
    "    filename = \"L_6_T_4.0_rbm_walk_\"+str(w)+\".dat\"\n",
    "    file = open(filename, \"w\")\n",
    "    header = \"#L=%d, T=%.2f \\n# E     M \\n\"\n",
    "    file.write(header)\n",
    "    files.append(file)\n",
    "    filenames.append(filename)\n",
    "\n",
    "# Initialize quantities to measure\n",
    "E = np.zeros(num_walks)\n",
    "M = np.zeros(num_walks)\n",
    "\n",
    "# Set simulation parameters\n",
    "bins_wanted = 1000 # number of samples to generate\n",
    "sweep = L**2 # size of one Monte Carlo sweep\n",
    "bin_size = 1 # number of samples  to \n",
    "skip = 1 # sweeps performed between measurement\n",
    "\n",
    "equilibration_steps = 5000\n",
    "\n",
    "bins_written = 0 # counts how many bins have been written to disk\n",
    "measurement_ctr = 0 # to track if we can write to disk\n",
    "m = 0 # iteration counter\n",
    "while(bins_written<bins_wanted):\n",
    "    \n",
    "    m +=1\n",
    "    \n",
    "    # Update input and generated visible vector\n",
    "    v_in, v_gen = rbm(v_in.view(-1, N_spins))\n",
    "    v_in = v_gen\n",
    "    \n",
    "    # Perform measurement\n",
    "    if (m%(sweep*skip)==0 and m>equilibration_steps):\n",
    "        \n",
    "        # Unflatten and replace 0's with -1's\n",
    "        ising_lattice = v_gen.detach().numpy().reshape((num_walks,L,L))\n",
    "\n",
    "        ising_lattice[ising_lattice==0] = -1\n",
    "        \n",
    "        for w in range(num_walks):\n",
    "            E[w] += ising_analysis.get_energy(ising_lattice[w],L)\n",
    "            M[w] += ising_analysis.get_magnetization(ising_lattice[w],L)\n",
    "        \n",
    "        measurement_ctr += 1\n",
    "        \n",
    "        if (measurement_ctr==bin_size):\n",
    "            \n",
    "            # Write to disk\n",
    "            for w in range(num_walks):\n",
    "                files[w].write('%.2f %.2f \\n'%(E[w]/bin_size,M[w]/bin_size))\n",
    "            \n",
    "            bins_written += 1\n",
    "        \n",
    "            # Reset counters and accumulators\n",
    "            measurement_ctr = 0\n",
    "            E = np.zeros(num_walks)\n",
    "            M = np.zeros(num_walks)\n",
    "\n",
    "            if bins_written%1000==0:\n",
    "                print(\"bins_written: \",bins_written)\n",
    "            \n",
    "# Close files           \n",
    "for w in range(num_walks):\n",
    "    files[w].close()"
   ]
  },
  {
   "cell_type": "code",
   "execution_count": 50,
   "metadata": {},
   "outputs": [
    {
     "data": {
      "text/plain": [
       "<matplotlib.lines.Line2D at 0x7ff12db42dc0>"
      ]
     },
     "execution_count": 50,
     "metadata": {},
     "output_type": "execute_result"
    },
    {
     "data": {
      "image/png": "[encoded data removed]",
      "text/plain": [
       "<Figure size 432x288 with 1 Axes>"
      ]
     },
     "metadata": {
      "needs_background": "light"
     },
     "output_type": "display_data"
    }
   ],
   "source": [
    "for w in range(num_walks):\n",
    "    \n",
    "    filename = './L_6_T_4.0_rbm_walk_'+str(w)+'.dat'\n",
    "\n",
    "    rbm_data = np.loadtxt(filename)\n",
    "    rbm_E = rbm_data[:,0]\n",
    "    rbm_M = rbm_data[:,1]\n",
    "\n",
    "    rbm_e = rbm_E/L**2\n",
    "    rbm_m = rbm_M/L**2\n",
    "    \n",
    "    # Plot running average of energy per spin\n",
    "    plt.plot(np.arange(rbm_e.shape[0]),np.cumsum(rbm_e)/np.arange(1,rbm_e.shape[0]+1))\n",
    "\n",
    "plt.xlabel('sample number')\n",
    "plt.ylabel(r'$E/N$')\n",
    "\n",
    "plt.axhline(ising_analysis.e_exact_func(T),zorder=5,color='k')\n",
    "# plt.savefig('e_without_abs.pdf',dpi=300)"
   ]
  },
  {
   "cell_type": "code",
   "execution_count": 53,
   "metadata": {},
   "outputs": [
    {
     "name": "stderr",
     "output_type": "stream",
     "text": [
      "../ising_analysis.py:103: RuntimeWarning: invalid value encountered in double_scalars\n",
      "  return (1-(1-np.tanh(K)**2)**4/(16*np.tanh(K)**4))**(1/8)\n"
     ]
    },
    {
     "data": {
      "text/plain": [
       "<matplotlib.lines.Line2D at 0x7ff0e5e5c160>"
      ]
     },
     "execution_count": 53,
     "metadata": {},
     "output_type": "execute_result"
    },
    {
     "data": {
      "image/png": "[encoded data removed]",
      "text/plain": [
       "<Figure size 432x288 with 1 Axes>"
      ]
     },
     "metadata": {
      "needs_background": "light"
     },
     "output_type": "display_data"
    }
   ],
   "source": [
    "for w in range(num_walks):\n",
    "    \n",
    "    filename = './L_6_T_4.0_rbm_walk_'+str(w)+'.dat'\n",
    "\n",
    "    rbm_data = np.loadtxt(filename)\n",
    "    rbm_M = rbm_data[:,1]\n",
    "\n",
    "    rbm_m = rbm_M/L**2\n",
    "    \n",
    "    # Plot running average of energy per spin\n",
    "    plt.plot(np.arange(rbm_m.shape[0]),np.cumsum(rbm_m)/np.arange(1,rbm_m.shape[0]+1))\n",
    "\n",
    "plt.xlabel('sample number')\n",
    "plt.ylabel(r'$E/N$')\n",
    "\n",
    "plt.axhline(np.nan_to_num(ising_analysis.m_exact_func(T)),zorder=5,color='k')\n",
    "# plt.savefig('e_without_abs.pdf',dpi=300)"
   ]
  },
  {
   "cell_type": "code",
   "execution_count": 58,
   "metadata": {},
   "outputs": [
    {
     "data": {
      "text/plain": [
       "<matplotlib.colorbar.Colorbar at 0x7ff12dd21af0>"
      ]
     },
     "execution_count": 58,
     "metadata": {},
     "output_type": "execute_result"
    },
    {
     "data": {
      "image/png": "[encoded data removed]",
      "text/plain": [
       "<Figure size 1512x756 with 2 Axes>"
      ]
     },
     "metadata": {
      "needs_background": "light"
     },
     "output_type": "display_data"
    }
   ],
   "source": [
    "plt.rcParams[\"figure.figsize\"] = [7.00*3, 3.50*3]\n",
    "plt.rcParams[\"figure.autolayout\"] = True\n",
    "plt.xlabel(r'$\\alpha$')\n",
    "plt.ylabel(r'$i$')\n",
    "plt.imshow(rbm.W.detach().numpy())\n",
    "plt.colorbar()"
   ]
  },
  {
   "cell_type": "markdown",
   "metadata": {},
   "source": [
    "# References"
   ]
  },
  {
   "cell_type": "markdown",
   "metadata": {},
   "source": [
    "https://towardsdatascience.com/how-to-use-datasets-and-dataloader-in-pytorch-for-custom-text-data-270eed7f7c00\n",
    "\n",
    "https://blog.paperspace.com/beginners-guide-to-boltzmann-machines-pytorch/\n",
    "\n",
    "https://stats.stackexchange.com/questions/114844/how-to-compute-the-free-energy-of-a-rbm-given-its-energy\n",
    "\n",
    "https://github.com/lisa-lab/DeepLearningTutorials/blob/master/code/rbm.py#L127\n",
    "\n",
    "https://medium.com/machine-learning-researcher/boltzmann-machine-c2ce76d94da5"
   ]
  },
  {
   "cell_type": "code",
   "execution_count": null,
   "metadata": {},
   "outputs": [],
   "source": []
  },
  {
   "cell_type": "code",
   "execution_count": null,
   "metadata": {},
   "outputs": [],
   "source": []
  }
 ],
 "metadata": {
  "kernelspec": {
   "display_name": "Python 3",
   "language": "python",
   "name": "python3"
  },
  "language_info": {
   "codemirror_mode": {
    "name": "ipython",
    "version": 3
   },
   "file_extension": ".py",
   "mimetype": "text/x-python",
   "name": "python",
   "nbconvert_exporter": "python",
   "pygments_lexer": "ipython3",
   "version": "3.8.5"
  }
 },
 "nbformat": 4,
 "nbformat_minor": 4
}
