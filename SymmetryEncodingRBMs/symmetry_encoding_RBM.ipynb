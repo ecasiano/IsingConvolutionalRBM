{
 "cells": [
  {
   "cell_type": "markdown",
   "metadata": {},
   "source": [
    "## RBM's in Pytorch"
   ]
  },
  {
   "cell_type": "code",
   "execution_count": 173,
   "metadata": {},
   "outputs": [],
   "source": [
    "import numpy as np\n",
    "import pandas as pd\n",
    "import torch\n",
    "import torch.utils.data\n",
    "from torch.utils.data import Dataset,DataLoader\n",
    "import torch.nn as nn\n",
    "import torch.nn.functional\n",
    "import torch.optim as optim\n",
    "from torch.autograd import Variable\n",
    "from torchvision import datasets, transforms\n",
    "from torchvision.utils import make_grid , save_image\n",
    "%matplotlib inline\n",
    "import matplotlib.pyplot as plt"
   ]
  },
  {
   "cell_type": "code",
   "execution_count": 174,
   "metadata": {},
   "outputs": [
    {
     "data": {
      "text/plain": [
       "<module 'ising_analysis' from '../ising_analysis.py'>"
      ]
     },
     "execution_count": 174,
     "metadata": {},
     "output_type": "execute_result"
    }
   ],
   "source": [
    "import sys\n",
    "sys.path.append('../')\n",
    "import ising_analysis\n",
    "import importlib\n",
    "importlib.reload(ising_analysis)"
   ]
  },
  {
   "cell_type": "code",
   "execution_count": 175,
   "metadata": {},
   "outputs": [
    {
     "data": {
      "text/plain": [
       "<torch.autograd.profiler.emit_nvtx at 0x7ff1e2ef8970>"
      ]
     },
     "execution_count": 175,
     "metadata": {},
     "output_type": "execute_result"
    }
   ],
   "source": [
    "# Turn debuggers off once model is... debugged\n",
    "torch.autograd.set_detect_anomaly(False)\n",
    "torch.autograd.profiler.profile(False)\n",
    "torch.autograd.profiler.emit_nvtx(False)"
   ]
  },
  {
   "cell_type": "code",
   "execution_count": 176,
   "metadata": {},
   "outputs": [
    {
     "data": {
      "text/plain": [
       "<torch._C.Generator at 0x7ff1df865990>"
      ]
     },
     "execution_count": 176,
     "metadata": {},
     "output_type": "execute_result"
    }
   ],
   "source": [
    "# Set pytorch random seed\n",
    "torch.manual_seed(0)"
   ]
  },
  {
   "cell_type": "markdown",
   "metadata": {},
   "source": [
    "## Define the model\n",
    "\n",
    "Energy:\n",
    "\\begin{equation}\n",
    "E(\\sigma,h) = -\\sum_{i,j,\\alpha} W_{(i-j),\\alpha} \\sigma_i h_{j,\\alpha} -B \\sum_i \\sigma_i -\\sum_{j,\\alpha} c_{\\alpha} h_{j,\\alpha}\n",
    "\\end{equation}\n",
    "\n",
    "Free energy:\n",
    "\\begin{equation}\n",
    "\\varepsilon(\\sigma) = -B \\sum_{i=1}^{N} \\sigma_i -\\sum_{\\alpha=1}^M \\sum_{j=1}^{N} \\ln (1+e^{c_{\\alpha}+\\sum_{i=1}^{N}W_{(i-j),\\alpha}\\sigma_i})\n",
    "\\end{equation}\n",
    "\n",
    "$L$: linear size\n",
    "\n",
    "$N$: total spins\n",
    "\n",
    "$M$: hidden neurons per spin\n",
    "\n",
    "$\\sigma_i$: spin unit\n",
    "\n",
    "$h_{j,\\alpha}$: hidden unit\n",
    "\n",
    "$W_{(i-j),\\alpha}$: weight\n",
    "\n",
    "$i,j \\in [0,N-1]$\n",
    "\n",
    "$\\alpha \\in [0,M-1]$"
   ]
  },
  {
   "cell_type": "code",
   "execution_count": 177,
   "metadata": {},
   "outputs": [],
   "source": [
    "# Helper functions\n",
    "\n",
    "def compute_displacement_vector(vec1,vec2):\n",
    "    ''' Compute displacement vector between of two vectors '''\n",
    "    \n",
    "    return (vec1[0]-vec2[0],vec1[1]-vec2[1])\n",
    "\n",
    "def unique_displacement_vectors(L):\n",
    "    ''' Return list of unique displacement vectors as tuples'''\n",
    "    Δs = []\n",
    "    for i1 in range(L):\n",
    "        for j1 in range(L):\n",
    "            \n",
    "            for i2 in range(L):\n",
    "                for j2 in range(L):\n",
    "                                    \n",
    "                    Δ = compute_displacement_vector((i1,j1),(i2,j2))\n",
    "                \n",
    "                    if Δ not in Δs:\n",
    "                        Δs.append(Δ)\n",
    "                    \n",
    "    return Δs # Get unique Δs\n",
    "\n",
    "def unique_displacement_vectors_table(L):\n",
    "    ''' Create lookup table using displacement vectors as keys'''\n",
    "    \n",
    "    Δs = unique_displacement_vectors(L)\n",
    "    \n",
    "    table = {}\n",
    "    for i,Δ in enumerate(Δs):\n",
    "        table[Δ]=i\n",
    "        \n",
    "    return table\n",
    "    \n",
    "def total_displacement_vectors(table):\n",
    "    ''' Counts total number of displacement vectors '''\n",
    "    return len(table)\n",
    "\n",
    "def flat_to_rowcol(flat_index,L):\n",
    "    ''' Convert a flat site to row,column format'''\n",
    "    \n",
    "    rowcol = [0,0]\n",
    "    ctr = 0\n",
    "    for i in range(L):\n",
    "        for j in range(L):\n",
    "            \n",
    "            if ctr == flat_index:\n",
    "                return (i,j)\n",
    "            \n",
    "            ctr += 1\n",
    "            \n",
    "def create_flat_to_rowcol_table(L):\n",
    "    ''' Create table mapping flattened site index to row,column tuple'''\n",
    "    table = {}\n",
    "    for flat_index in range(L**2):\n",
    "        \n",
    "        table[flat_index] = flat_to_rowcol(flat_index,L)\n",
    "        \n",
    "    return table"
   ]
  },
  {
   "cell_type": "code",
   "execution_count": 178,
   "metadata": {},
   "outputs": [],
   "source": [
    "def R90(Δ):\n",
    "    '''Get set of four 90-degree rotations of displacement vector Δ'''\n",
    "    \n",
    "    R = np.zeros((2,2),dtype=int) # 90 deg rotation matrix for row,col format\n",
    "    R[0,1] = 1\n",
    "    R[1,0] = -1\n",
    "    \n",
    "    Δ1 = tuple(R@Δ)\n",
    "    Δ2 = tuple(R@Δ1)\n",
    "    Δ3 = tuple(R@Δ2)\n",
    "    \n",
    "    return [Δ,Δ1,Δ2,Δ3]\n",
    "\n",
    "def create_unique_rotational_sets(Δs):\n",
    "    '''Get unique sets of 90 deg rotations of every unique displacement vector'''\n",
    "    \n",
    "    all_rotational_sets = []\n",
    "    for Δ in Δs:\n",
    "        all_rotational_sets.append(R90(Δ))\n",
    "        \n",
    "    for i in range(len(all_rotational_sets)):\n",
    "        all_rotational_sets[i] = sorted(all_rotational_sets[i])\n",
    "    all_rotational_sets = sorted(all_rotational_sets)\n",
    "    \n",
    "    unique_rotational_sets = []\n",
    "    for rotational_set in all_rotational_sets:\n",
    "        if rotational_set not in unique_rotational_sets:\n",
    "            unique_rotational_sets.append(rotational_set)\n",
    "        \n",
    "    return unique_rotational_sets\n",
    "\n",
    "def rotational_sets_to_flat_indices(unique_rotational_sets,displacements_table):\n",
    "    '''Map the rotational sets to their corresponding flat indices'''\n",
    "    \n",
    "    num_rows = len(unique_rotational_sets)\n",
    "    num_cols = len(unique_rotational_sets[0])\n",
    "    full_set = []\n",
    "    for i in range(num_rows):\n",
    "        set_i = []\n",
    "        for j in range(num_cols):\n",
    "            Δ = unique_rotational_sets[i][j]\n",
    "            set_i.append(displacements_table[Δ])\n",
    "            \n",
    "        full_set.append(set_i)\n",
    "        \n",
    "    return full_set"
   ]
  },
  {
   "cell_type": "code",
   "execution_count": 6,
   "metadata": {},
   "outputs": [],
   "source": [
    "# Definition of symmetry-encoding \"RBM\" network\n",
    "class RBM(nn.Module):\n",
    "   def __init__(self,\n",
    "               n_vis,\n",
    "               n_hin,\n",
    "               n_Δ, # total unique displacement vectors\n",
    "               k=1):\n",
    "        super(RBM, self).__init__()\n",
    "        self.W = nn.Parameter(torch.randn(n_Δ,n_hin)*1e-2)\n",
    "        self.v_bias = nn.Parameter(torch.zeros(1))       \n",
    "        self.h_bias = nn.Parameter(torch.zeros(n_hin))   \n",
    "        self.k = k\n",
    "    \n",
    "   def sample_from_p(self,p):\n",
    "       return torch.nn.functional.relu(torch.sign(p - Variable(torch.rand(p.size())))) # __/\n",
    "    \n",
    "   def v_to_h(self,v,n_vis,n_hin,flat_to_rowcol_table,displacements_table):\n",
    "        batch_size = v.shape[0]\n",
    "        sigmoid_arguments = torch.zeros(batch_size,n_vis,n_hin)\n",
    "        for batch_index in range(batch_size):\n",
    "            for j in range(n_vis):\n",
    "                j_vec = flat_to_rowcol_table[j]\n",
    "                for α in range(n_hin):\n",
    "                    c_α = self.h_bias[α]\n",
    "                    i_sum = 0\n",
    "                    for i in range(n_vis):\n",
    "                        i_vec = flat_to_rowcol_table[i]\n",
    "                        Δ = compute_displacement_vector(i_vec,j_vec)\n",
    "                        Δ_flat = displacements_table[Δ]\n",
    "\n",
    "                        i_sum += self.W[Δ_flat,α]*v[batch_index][i]                    \n",
    "\n",
    "                    sigmoid_arguments[batch_index,j,α] = c_α + i_sum\n",
    "        \n",
    "        p_h = torch.sigmoid(sigmoid_arguments)\n",
    "                \n",
    "        sample_h = self.sample_from_p(p_h)\n",
    "        \n",
    "        return p_h,sample_h\n",
    "    \n",
    "   def h_to_v(self,h,n_vis,n_hin,flat_to_rowcol_table,displacements_table):\n",
    "        '''FIX'''\n",
    "#         p_v = torch.sigmoid(torch.nn.functional.linear(h,self.W.t(),self.v_bias))\n",
    "        batch_size = h.shape[0]\n",
    "        sigmoid_arguments = torch.zeros(batch_size,n_vis)\n",
    "        for batch_index in range(batch_size):\n",
    "            for i in range(n_vis):\n",
    "                i_vec = flat_to_rowcol_table[i]\n",
    "                α_sum = 0\n",
    "                for α in range(n_hin):\n",
    "                    B = self.v_bias\n",
    "                    j_sum = 0\n",
    "                    for j in range(n_vis):\n",
    "                        j_vec = flat_to_rowcol_table[j]\n",
    "                        Δ = compute_displacement_vector(i_vec,j_vec)\n",
    "                        Δ_flat = displacements_table[Δ]\n",
    "                        \n",
    "                        j_sum += self.W[Δ_flat,α]*h[batch_index,j,α]\n",
    "                        \n",
    "                    α_sum += j_sum\n",
    "                    \n",
    "                sigmoid_arguments[batch_index,i] = B + α_sum\n",
    "        \n",
    "        p_v = torch.sigmoid(sigmoid_arguments)\n",
    "        \n",
    "        sample_v = self.sample_from_p(p_v)\n",
    "        return p_v,sample_v\n",
    "        \n",
    "   def forward(self,v,n_vis,n_hin,flat_to_rowcol_table,displacements_table):\n",
    "        pre_h1,h1 = self.v_to_h(v,n_vis,n_hin,flat_to_rowcol_table,displacements_table)\n",
    "        \n",
    "        h_ = h1\n",
    "        for _ in range(self.k):\n",
    "            pre_v_,v_ = self.h_to_v(h_,n_vis,n_hin,flat_to_rowcol_table,displacements_table)\n",
    "            pre_h_,h_ = self.v_to_h(v_,n_vis,n_hin,flat_to_rowcol_table,displacements_table)\n",
    "        \n",
    "        return v,v_\n",
    "    \n",
    "   def free_energy(self,v,n_vis,n_hin,flat_to_rowcol_table,displacements_table):\n",
    "        '''ε(v) = -B Σ_i v_i - σ Σ_{i,α} ln(1+exp(c_α+Σ_j W_{i-j,α} v_i)) '''\n",
    "        vbias_term = (v*self.v_bias).sum(1) # Σ_i (v_i*b_i) # Does this work for a batch?\n",
    "        # NOTE: I will implement the three sums in the dumbest way first\n",
    "        # Can optimize with built-in Pytorch functions later\n",
    "        batch_size = v.shape[0]\n",
    "        hidden_term = torch.zeros(batch_size)\n",
    "        for batch_index in range(batch_size):\n",
    "            α_sum = 0\n",
    "            for α in range(n_hin):\n",
    "                j_sum = 0\n",
    "                for j in range(n_vis):\n",
    "                    i_sum = 0\n",
    "                    j_vec = flat_to_rowcol_table[j]\n",
    "                    for i in range(n_vis):\n",
    "                        i_vec = flat_to_rowcol_table[i]\n",
    "                        Δ = compute_displacement_vector(i_vec,j_vec)\n",
    "                        Δ_flat = displacements_table[Δ]\n",
    "\n",
    "                        i_sum += self.W[Δ_flat,α]*v[batch_index][i]\n",
    "\n",
    "                    exponent = self.h_bias[α] + i_sum\n",
    "                    logarithm = torch.log(1+torch.exp(exponent))\n",
    "                \n",
    "                    j_sum += logarithm\n",
    "                    \n",
    "                α_sum += j_sum\n",
    "                \n",
    "            hidden_term[batch_index] += α_sum\n",
    "                   \n",
    "        return (-hidden_term - vbias_term).mean()\n",
    "    \n",
    "   def symmetrize_rotations(self,R90_sets_flat):\n",
    "    \n",
    "        for R90_set in R90_sets_flat:\n",
    "\n",
    "            W_mean = self.W[R90_set].mean(0)\n",
    "\n",
    "            with torch.no_grad(): # might actually need it. not sure.\n",
    "                self.W[R90_set] = W_mean"
   ]
  },
  {
   "cell_type": "code",
   "execution_count": 7,
   "metadata": {},
   "outputs": [],
   "source": [
    "# Definition of symmetry-encoding \"RBM\" network\n",
    "class RBM_vectorized(nn.Module):\n",
    "   def __init__(self,\n",
    "               n_vis,\n",
    "               n_hin,\n",
    "               n_Δ, # total unique displacement vectors\n",
    "               k=1):\n",
    "        super(RBM, self).__init__()\n",
    "        self.W = nn.Parameter(torch.randn(n_Δ,n_hin)*1e-2)\n",
    "        self.v_bias = nn.Parameter(torch.zeros(1))       \n",
    "        self.h_bias = nn.Parameter(torch.zeros(n_hin))   \n",
    "        self.k = k\n",
    "    \n",
    "   def sample_from_p(self,p):\n",
    "       return torch.nn.functional.relu(torch.sign(p - Variable(torch.rand(p.size())))) # __/\n",
    "    \n",
    "   def v_to_h(self,v,n_vis,n_hin,flat_to_rowcol_table,displacements_table):\n",
    "        batch_size = v.shape[0]\n",
    "        sigmoid_arguments = torch.zeros(batch_size,n_vis,n_hin)\n",
    "        for batch_index in range(batch_size):\n",
    "            for j in range(n_vis):\n",
    "                j_vec = flat_to_rowcol_table[j]\n",
    "                for α in range(n_hin):\n",
    "                    c_α = self.h_bias[α]\n",
    "                    i_sum = 0\n",
    "                    for i in range(n_vis):\n",
    "                        i_vec = flat_to_rowcol_table[i]\n",
    "                        Δ = compute_displacement_vector(i_vec,j_vec)\n",
    "                        Δ_flat = displacements_table[Δ]\n",
    "\n",
    "                        i_sum += self.W[Δ_flat,α]*v[batch_index][i]                    \n",
    "\n",
    "                    sigmoid_arguments[batch_index,j,α] = c_α + i_sum\n",
    "        \n",
    "        p_h = torch.sigmoid(sigmoid_arguments)\n",
    "                \n",
    "        sample_h = self.sample_from_p(p_h)\n",
    "        \n",
    "        return p_h,sample_h\n",
    "    \n",
    "   def h_to_v(self,h,n_vis,n_hin,flat_to_rowcol_table,displacements_table):\n",
    "        '''FIX'''\n",
    "#         p_v = torch.sigmoid(torch.nn.functional.linear(h,self.W.t(),self.v_bias))\n",
    "        batch_size = h.shape[0]\n",
    "        sigmoid_arguments = torch.zeros(batch_size,n_vis)\n",
    "        for batch_index in range(batch_size):\n",
    "            for i in range(n_vis):\n",
    "                i_vec = flat_to_rowcol_table[i]\n",
    "                α_sum = 0\n",
    "                for α in range(n_hin):\n",
    "                    B = self.v_bias\n",
    "                    j_sum = 0\n",
    "                    for j in range(n_vis):\n",
    "                        j_vec = flat_to_rowcol_table[j]\n",
    "                        Δ = compute_displacement_vector(i_vec,j_vec)\n",
    "                        Δ_flat = displacements_table[Δ]\n",
    "                        \n",
    "                        j_sum += self.W[Δ_flat,α]*h[batch_index,j,α]\n",
    "                        \n",
    "                    α_sum += j_sum\n",
    "                    \n",
    "                sigmoid_arguments[batch_index,i] = B + α_sum\n",
    "        \n",
    "        p_v = torch.sigmoid(sigmoid_arguments)\n",
    "        \n",
    "        sample_v = self.sample_from_p(p_v)\n",
    "        return p_v,sample_v\n",
    "        \n",
    "   def forward(self,v,n_vis,n_hin,flat_to_rowcol_table,displacements_table):\n",
    "        pre_h1,h1 = self.v_to_h(v,n_vis,n_hin,flat_to_rowcol_table,displacements_table)\n",
    "        \n",
    "        h_ = h1\n",
    "        for _ in range(self.k):\n",
    "            pre_v_,v_ = self.h_to_v(h_,n_vis,n_hin,flat_to_rowcol_table,displacements_table)\n",
    "            pre_h_,h_ = self.v_to_h(v_,n_vis,n_hin,flat_to_rowcol_table,displacements_table)\n",
    "        \n",
    "        return v,v_\n",
    "    \n",
    "   def free_energy(self,v,n_vis,n_hin,flat_to_rowcol_table,displacements_table):\n",
    "        '''ε(v) = -B Σ_i v_i - σ Σ_{i,α} ln(1+exp(c_α+Σ_j W_{i-j,α} v_i)) '''\n",
    "        vbias_term = (v*self.v_bias).sum(1) # Σ_i (v_i*b_i) # Does this work for a batch?\n",
    "        # NOTE: I will implement the three sums in the dumbest way first\n",
    "        # Can optimize with built-in Pytorch functions later\n",
    "        batch_size = v.shape[0]\n",
    "        hidden_term = torch.zeros(batch_size)\n",
    "        for batch_index in range(batch_size):\n",
    "            α_sum = 0\n",
    "            for α in range(n_hin):\n",
    "                j_sum = 0\n",
    "                for j in range(n_vis):\n",
    "                    i_sum = 0\n",
    "                    j_vec = flat_to_rowcol_table[j]\n",
    "                    for i in range(n_vis):\n",
    "                        i_vec = flat_to_rowcol_table[i]\n",
    "                        Δ = compute_displacement_vector(i_vec,j_vec)\n",
    "                        Δ_flat = displacements_table[Δ]\n",
    "\n",
    "                        i_sum += self.W[Δ_flat,α]*v[batch_index][i]\n",
    "\n",
    "                    exponent = self.h_bias[α] + i_sum\n",
    "                    logarithm = torch.log(1+torch.exp(exponent))\n",
    "                \n",
    "                    j_sum += logarithm\n",
    "                    \n",
    "                α_sum += j_sum\n",
    "                \n",
    "            hidden_term[batch_index] += α_sum\n",
    "                   \n",
    "        return (-hidden_term - vbias_term).mean()\n",
    "    \n",
    "   def symmetrize_rotations(self,R90_sets_flat):\n",
    "    \n",
    "        for R90_set in R90_sets_flat:\n",
    "\n",
    "            W_mean = self.W[R90_set].mean(0)\n",
    "\n",
    "            with torch.no_grad(): # might actually need it. not sure.\n",
    "                self.W[R90_set] = W_mean"
   ]
  },
  {
   "cell_type": "code",
   "execution_count": 179,
   "metadata": {},
   "outputs": [],
   "source": [
    "# Define model\n",
    "class RBM_normal(nn.Module):\n",
    "   def __init__(self,\n",
    "               n_vis,\n",
    "               n_hin,\n",
    "               k=5):\n",
    "        super(RBM, self).__init__()\n",
    "        self.W = nn.Parameter(torch.randn(n_hin,n_vis)*1e-2)\n",
    "        self.v_bias = nn.Parameter(torch.zeros(n_vis))\n",
    "        self.h_bias = nn.Parameter(torch.zeros(n_hin))\n",
    "        self.k = k\n",
    "    \n",
    "   def sample_from_p(self,p):\n",
    "       return torch.nn.functional.relu(torch.sign(p - Variable(torch.rand(p.size()))))\n",
    "    \n",
    "   def v_to_h(self,v):\n",
    "        p_h = torch.sigmoid(torch.nn.functional.linear(v,self.W,self.h_bias))\n",
    "        sample_h = self.sample_from_p(p_h)\n",
    "        return p_h,sample_h\n",
    "    \n",
    "   def h_to_v(self,h):\n",
    "        p_v = torch.sigmoid(torch.nn.functional.linear(h,self.W.t(),self.v_bias))\n",
    "        sample_v = self.sample_from_p(p_v)\n",
    "        return p_v,sample_v\n",
    "        \n",
    "   def forward(self,v):\n",
    "        pre_h1,h1 = self.v_to_h(v)\n",
    "        \n",
    "        h_ = h1\n",
    "        for _ in range(self.k):\n",
    "            pre_v_,v_ = self.h_to_v(h_)\n",
    "            pre_h_,h_ = self.v_to_h(v_)\n",
    "        \n",
    "        return v,v_\n",
    "    \n",
    "   def free_energy(self,v):\n",
    "        vbias_term = v.mv(self.v_bias)\n",
    "        wx_b = torch.nn.functional.linear(v,self.W,self.h_bias)\n",
    "        hidden_term = wx_b.exp().add(1).log().sum(1)\n",
    "        return (-hidden_term - vbias_term).mean()"
   ]
  },
  {
   "cell_type": "code",
   "execution_count": 8,
   "metadata": {},
   "outputs": [],
   "source": [
    "# # Create tensor of weight element indices\n",
    "# flat_displacements_indices = torch.ones((n_vis,n_vis),dtype=int)\n",
    "# for j in range(n_vis):\n",
    "#     j_vec = flat_to_rowcol_table[j]\n",
    "#     for i in range(n_vis):\n",
    "#         i_vec = flat_to_rowcol_table[i]\n",
    "#         Δ = compute_displacement_vector(i_vec,j_vec)\n",
    "#         Δ_flat = displacements_table[Δ]\n",
    "        \n",
    "#         flat_displacements_indices[j][i] = Δ_flat"
   ]
  },
  {
   "cell_type": "code",
   "execution_count": 9,
   "metadata": {},
   "outputs": [],
   "source": [
    "# flat_displacements_indices"
   ]
  },
  {
   "cell_type": "code",
   "execution_count": 10,
   "metadata": {},
   "outputs": [],
   "source": [
    "# Create Ising Dataset object from Monte Carlo data\n",
    "class CustomIsingDataset(Dataset):\n",
    "    def __init__(self,spins):\n",
    "        self.spins = spins\n",
    "        \n",
    "    def __len__(self):\n",
    "        return len(self.spins)\n",
    "    \n",
    "    def __getitem__(self,idx):\n",
    "        spins = self.spins[idx]\n",
    "        sample = {'spins': spins}\n",
    "        return sample"
   ]
  },
  {
   "cell_type": "code",
   "execution_count": 44,
   "metadata": {},
   "outputs": [],
   "source": [
    "# Load spin data\n",
    "filename = '../uncorrelated_monte_carlo_data/L_8_T_4.0_spins_seed_0.dat'\n",
    "\n",
    "# Load data from file\n",
    "spins = np.loadtxt(filename,dtype=np.float32) # network training sometimes breaks for 'double'\n",
    "\n",
    "# Convert -1's to 0's for RBM compatibility\n",
    "spins[spins==-1] = 0\n",
    "\n",
    "# Convert to Python list for dataframe promotion simplicity\n",
    "spins = list(spins)\n",
    "\n",
    "# Convert spin data to pandas dataframe\n",
    "spins_df = pd.DataFrame({'spins':spins})\n",
    "\n",
    "# Create Dataset object\n",
    "spins_dataset = CustomIsingDataset(spins_df['spins'])"
   ]
  },
  {
   "cell_type": "code",
   "execution_count": null,
   "metadata": {},
   "outputs": [],
   "source": []
  },
  {
   "cell_type": "code",
   "execution_count": 45,
   "metadata": {},
   "outputs": [
    {
     "data": {
      "text/plain": [
       "<matplotlib.image.AxesImage at 0x7ff0499d75b0>"
      ]
     },
     "execution_count": 45,
     "metadata": {},
     "output_type": "execute_result"
    },
    {
     "data": {
      "image/png": "[encoded data removed]",
      "text/plain": [
       "<Figure size 432x288 with 1 Axes>"
      ]
     },
     "metadata": {
      "needs_background": "light"
     },
     "output_type": "display_data"
    }
   ],
   "source": [
    "# Show first few rows of loaded Monte Carlo configurations\n",
    "plt.imshow(spins[0:32])"
   ]
  },
  {
   "cell_type": "markdown",
   "metadata": {},
   "source": [
    "## Perform train/test split of full dataset"
   ]
  },
  {
   "cell_type": "code",
   "execution_count": 57,
   "metadata": {},
   "outputs": [
    {
     "name": "stdout",
     "output_type": "stream",
     "text": [
      "Full set:  16000 \n",
      "\n",
      "Train set:  3\n",
      "Test set:  15997 \n",
      "\n",
      "Good! Length of splitted sets adds up to full length.\n"
     ]
    }
   ],
   "source": [
    "N_full = len(spins_dataset) # total length of full dataset\n",
    "N_train = int(N_full*0.01)\n",
    "N_train = 3\n",
    "N_test = N_full - N_train\n",
    "\n",
    "print(\"Full set: \", N_full,'\\n')\n",
    "print(\"Train set: \", N_train)\n",
    "print(\"Test set: \", N_test,'\\n')\n",
    "\n",
    "# To use random_split(), lengths of train/test sets must add up to full. Check.\n",
    "if (N_train + N_test == N_full): print('Good! Length of splitted sets adds up to full length.') "
   ]
  },
  {
   "cell_type": "code",
   "execution_count": 58,
   "metadata": {},
   "outputs": [],
   "source": [
    "# Perform random non-overlapping train/test split\n",
    "train_spins,test_spins = torch.utils.data.random_split(spins_dataset,[N_train,N_test])"
   ]
  },
  {
   "cell_type": "code",
   "execution_count": 59,
   "metadata": {},
   "outputs": [],
   "source": [
    "# Specify the linear size and temperature\n",
    "L = 8\n",
    "T = 4.0"
   ]
  },
  {
   "cell_type": "code",
   "execution_count": 60,
   "metadata": {},
   "outputs": [],
   "source": [
    "# Compute set of possible displacement vectors\n",
    "displacements_table = unique_displacement_vectors_table(L)\n",
    "# table\n",
    "flat_to_rowcol_table = create_flat_to_rowcol_table(L)"
   ]
  },
  {
   "cell_type": "code",
   "execution_count": 61,
   "metadata": {},
   "outputs": [],
   "source": [
    "# Get total number of unique displacement vectors\n",
    "n_Δ = total_displacement_vectors(displacements_table)"
   ]
  },
  {
   "cell_type": "code",
   "execution_count": 62,
   "metadata": {},
   "outputs": [],
   "source": [
    "# Get all the sets of displacement vectors that are 90 degree rotations of each other\n",
    "Δs = unique_displacement_vectors(L)\n",
    "unique_rotational_sets = create_unique_rotational_sets(Δs)\n",
    "unique_rotational_sets_flat = rotational_sets_to_flat_indices(unique_rotational_sets,displacements_table)"
   ]
  },
  {
   "cell_type": "markdown",
   "metadata": {},
   "source": [
    "## Initialize and train the model"
   ]
  },
  {
   "cell_type": "code",
   "execution_count": 63,
   "metadata": {},
   "outputs": [],
   "source": [
    "# Network hyperparamters\n",
    "N_spins = L**2\n",
    "n_vis = N_spins\n",
    "n_hin = N_spins"
   ]
  },
  {
   "cell_type": "code",
   "execution_count": 94,
   "metadata": {},
   "outputs": [
    {
     "name": "stdout",
     "output_type": "stream",
     "text": [
      "(0/60)\n",
      "(1/60)\n",
      "(2/60)\n",
      "Training loss for 0 epoch: 1605.5582275390625\n",
      "(3/60)\n",
      "(4/60)\n",
      "(5/60)\n",
      "Training loss for 1 epoch: 1661.6138916015625\n",
      "(6/60)\n",
      "(7/60)\n",
      "(8/60)\n",
      "Training loss for 2 epoch: 891.625732421875\n",
      "(9/60)\n",
      "(10/60)\n",
      "(11/60)\n",
      "Training loss for 3 epoch: 443.5789794921875\n",
      "(12/60)\n",
      "(13/60)\n",
      "(14/60)\n",
      "Training loss for 4 epoch: 119.20194244384766\n",
      "(15/60)\n",
      "(16/60)\n",
      "(17/60)\n",
      "Training loss for 5 epoch: 71.7898941040039\n",
      "(18/60)\n",
      "(19/60)\n",
      "(20/60)\n",
      "Training loss for 6 epoch: 44.95335006713867\n",
      "(21/60)\n",
      "(22/60)\n",
      "(23/60)\n",
      "Training loss for 7 epoch: 29.12760353088379\n",
      "(24/60)\n",
      "(25/60)\n",
      "(26/60)\n",
      "Training loss for 8 epoch: 15.4658203125\n",
      "(27/60)\n",
      "(28/60)\n",
      "(29/60)\n",
      "Training loss for 9 epoch: 27.87154197692871\n",
      "(30/60)\n",
      "(31/60)\n",
      "(32/60)\n",
      "Training loss for 10 epoch: 29.01711082458496\n",
      "(33/60)\n",
      "(34/60)\n",
      "(35/60)\n",
      "Training loss for 11 epoch: 5.132955074310303\n",
      "(36/60)\n",
      "(37/60)\n",
      "(38/60)\n",
      "Training loss for 12 epoch: 9.18511962890625\n",
      "(39/60)\n",
      "(40/60)\n",
      "(41/60)\n",
      "Training loss for 13 epoch: 6.05291748046875\n",
      "(42/60)\n",
      "(43/60)\n",
      "(44/60)\n",
      "Training loss for 14 epoch: 6.222554683685303\n",
      "(45/60)\n",
      "(46/60)\n",
      "(47/60)\n",
      "Training loss for 15 epoch: 3.685791015625\n",
      "(48/60)\n",
      "(49/60)\n",
      "(50/60)\n",
      "Training loss for 16 epoch: 16.79795265197754\n",
      "(51/60)\n",
      "(52/60)\n",
      "(53/60)\n",
      "Training loss for 17 epoch: 2.25933837890625\n",
      "(54/60)\n",
      "(55/60)\n",
      "(56/60)\n",
      "Training loss for 18 epoch: 0.5436198115348816\n",
      "(57/60)\n",
      "(58/60)\n",
      "(59/60)\n",
      "Training loss for 19 epoch: 1.55181884765625\n",
      "Training loss for 20 epoch: 1.55181884765625\n",
      "CPU times: user 1h 1min 58s, sys: 1min 42s, total: 1h 3min 40s\n",
      "Wall time: 1h 3min 48s\n"
     ]
    }
   ],
   "source": [
    "%%time\n",
    "\n",
    "# Training parameters\n",
    "epochs = 20\n",
    "η = 0.01\n",
    "batch_size = 1\n",
    "\n",
    "# Define train and test DataLoaders\n",
    "train_loader = DataLoader(train_spins, batch_size=batch_size, shuffle=True, num_workers=2)\n",
    "# test_loader = DataLoader(test_spins, batch_size=batch_size, shuffle=True)\n",
    "\n",
    "rbm = RBM(n_vis,n_hin,n_Δ,k=1)\n",
    "train_op = optim.SGD(rbm.parameters(),η)\n",
    "\n",
    "loss_at_epoch = []\n",
    "mean_loss = 1\n",
    "epoch = 0\n",
    "counter = 0\n",
    "\n",
    "# free_energy_old = \n",
    "for epoch in range(epochs):\n",
    "    loss_ = []\n",
    "    for idx, data in enumerate(train_loader): # iterates over batch\n",
    "        \n",
    "        sample_data = data['spins']\n",
    "        # sample_data = Variable(data.view(-1,n_vis)) # This is like a np.reshape(), might be unnecessary\n",
    "        \n",
    "        if counter%1==0:\n",
    "            print(\"(%d/%d)\"%(counter,(epochs*len(list(enumerate(train_loader))))))\n",
    "        counter += 1\n",
    "        v,v1 = rbm(sample_data,n_vis,n_hin,flat_to_rowcol_table,displacements_table) # v: input, v1: generated\n",
    "        loss = rbm.free_energy(v,n_vis,n_hin,flat_to_rowcol_table,displacements_table) - rbm.free_energy(v1,n_vis,n_hin,flat_to_rowcol_table,displacements_table)\n",
    "        loss_.append(loss.data)\n",
    "        # train_op.zero_grad()\n",
    "            for param in rbm.parameters(): # zero out the gradients\n",
    "                param.grad = None\n",
    "        loss.backward() # computes loss function gradients\n",
    "        train_op.step() # updates network parameters\n",
    "        \n",
    "        # Symmetrize weights based on 90 degree rotations\n",
    "        # rbm.symmetrize_rotations(unique_rotational_sets_flat)\n",
    "        \n",
    "        # NOTE: Might need to get rid of with torch.no_grad() in function definition\n",
    "        # History of grad_fn might be important even if we adjust weights manually\n",
    "        # To-Do: Train and test, then implement the reflection symmetry\n",
    "        \n",
    "    # NOTE: Eventually, we can adjust learning rate here using something like:\n",
    "    # scheduler = ExponentialLR(optimizer, gamma=0.9) --> Defined before loop\n",
    "    # scheduler.step()\n",
    "    \n",
    "    mean_loss = np.mean(loss_)\n",
    "    loss_at_epoch.append(np.mean(loss_)) # might need to loss_.detach()\n",
    "    if epoch%1 == 0:\n",
    "        print(\"Training loss for {} epoch: {}\".format(epoch, np.mean(loss_)))\n",
    "    epoch += 1\n",
    "print(\"Training loss for {} epoch: {}\".format(epoch, np.mean(loss_)))"
   ]
  },
  {
   "cell_type": "code",
   "execution_count": 103,
   "metadata": {},
   "outputs": [
    {
     "data": {
      "image/png": "[encoded data removed]",
      "text/plain": [
       "<Figure size 432x288 with 1 Axes>"
      ]
     },
     "metadata": {
      "needs_background": "light"
     },
     "output_type": "display_data"
    }
   ],
   "source": [
    "# Plot loss function\n",
    "loss_at_epoch = np.array(loss_at_epoch)\n",
    "plt.plot(range(len(loss_at_epoch)),loss_at_epoch)\n",
    "# plt.yscale('log')\n",
    "plt.xlabel(r'$\\rm epoch$')\n",
    "plt.ylabel(r'$\\rm loss$');"
   ]
  },
  {
   "cell_type": "markdown",
   "metadata": {},
   "source": [
    "The network is now trained (seemingly)."
   ]
  },
  {
   "cell_type": "code",
   "execution_count": 105,
   "metadata": {},
   "outputs": [],
   "source": [
    "torch.save(rbm.state_dict(),'./L_8_T_4.0_symmRBM.pt')"
   ]
  },
  {
   "cell_type": "code",
   "execution_count": 106,
   "metadata": {},
   "outputs": [
    {
     "data": {
      "text/plain": [
       "RBM()"
      ]
     },
     "execution_count": 106,
     "metadata": {},
     "output_type": "execute_result"
    }
   ],
   "source": [
    "rbm = RBM(n_vis,n_hin,n_Δ,k=1)\n",
    "rbm.load_state_dict(torch.load('./L_8_T_4.0_symmRBM.pt'))\n",
    "rbm.eval()"
   ]
  },
  {
   "cell_type": "markdown",
   "metadata": {},
   "source": [
    "## Sampling Ising configurations from model"
   ]
  },
  {
   "cell_type": "markdown",
   "metadata": {},
   "source": [
    "With our trained model, we now want to sample a new set of Ising configuraions according to the model probability distribution."
   ]
  },
  {
   "cell_type": "code",
   "execution_count": 107,
   "metadata": {},
   "outputs": [
    {
     "data": {
      "text/plain": [
       "torch.Size([1, 64])"
      ]
     },
     "execution_count": 107,
     "metadata": {},
     "output_type": "execute_result"
    }
   ],
   "source": [
    "configs = next(iter(train_loader))['spins'] # grabs a batch of spins from training set\n",
    "configs.shape"
   ]
  },
  {
   "cell_type": "code",
   "execution_count": 108,
   "metadata": {},
   "outputs": [],
   "source": [
    "v_in, v_gen = rbm(configs.view(-1, N_spins),n_vis,n_hin,flat_to_rowcol_table,displacements_table)"
   ]
  },
  {
   "cell_type": "markdown",
   "metadata": {},
   "source": [
    "### Input"
   ]
  },
  {
   "cell_type": "code",
   "execution_count": 109,
   "metadata": {},
   "outputs": [
    {
     "data": {
      "image/png": "[encoded data removed]",
      "text/plain": [
       "<Figure size 432x288 with 1 Axes>"
      ]
     },
     "metadata": {
      "needs_background": "light"
     },
     "output_type": "display_data"
    }
   ],
   "source": [
    "plt.imshow(v_in);"
   ]
  },
  {
   "cell_type": "markdown",
   "metadata": {},
   "source": [
    "### Generated"
   ]
  },
  {
   "cell_type": "code",
   "execution_count": 110,
   "metadata": {},
   "outputs": [
    {
     "data": {
      "image/png": "[encoded data removed]",
      "text/plain": [
       "<Figure size 432x288 with 1 Axes>"
      ]
     },
     "metadata": {
      "needs_background": "light"
     },
     "output_type": "display_data"
    }
   ],
   "source": [
    "plt.imshow(v_gen.detach().numpy());"
   ]
  },
  {
   "cell_type": "markdown",
   "metadata": {},
   "source": [
    "### Sampling a longer Markov chain"
   ]
  },
  {
   "cell_type": "markdown",
   "metadata": {},
   "source": [
    "The above results are for a Markov chain of length 1. As such, these will be very correlated in general. The idea is to start out with a random input and run a longer Markov chain. To test if the RBM samples the correct configurations, I will start out with a ferromagnet configuration (i.e, all spins pointing the same way), and hope that eventually the RBM returns disordered phase configurations instead."
   ]
  },
  {
   "cell_type": "markdown",
   "metadata": {},
   "source": [
    "### Plot random walk"
   ]
  },
  {
   "cell_type": "code",
   "execution_count": 163,
   "metadata": {},
   "outputs": [
    {
     "name": "stdout",
     "output_type": "stream",
     "text": [
      "bins written: (1/60)\n",
      "bins written: (2/60)\n",
      "bins written: (3/60)\n",
      "bins written: (4/60)\n",
      "bins written: (5/60)\n",
      "bins written: (6/60)\n",
      "bins written: (7/60)\n",
      "bins written: (8/60)\n",
      "bins written: (9/60)\n",
      "bins written: (10/60)\n",
      "bins written: (11/60)\n",
      "bins written: (12/60)\n",
      "bins written: (13/60)\n",
      "bins written: (14/60)\n",
      "bins written: (15/60)\n",
      "bins written: (16/60)\n",
      "bins written: (17/60)\n",
      "bins written: (18/60)\n",
      "bins written: (19/60)\n",
      "bins written: (20/60)\n",
      "bins written: (21/60)\n",
      "bins written: (22/60)\n",
      "bins written: (23/60)\n",
      "bins written: (24/60)\n",
      "bins written: (25/60)\n",
      "bins written: (26/60)\n",
      "bins written: (27/60)\n",
      "bins written: (28/60)\n",
      "bins written: (29/60)\n",
      "bins written: (30/60)\n",
      "bins written: (31/60)\n",
      "bins written: (32/60)\n",
      "bins written: (33/60)\n",
      "bins written: (34/60)\n",
      "bins written: (35/60)\n",
      "bins written: (36/60)\n",
      "bins written: (37/60)\n",
      "bins written: (38/60)\n",
      "bins written: (39/60)\n",
      "bins written: (40/60)\n",
      "bins written: (41/60)\n",
      "bins written: (42/60)\n",
      "bins written: (43/60)\n",
      "bins written: (44/60)\n",
      "bins written: (45/60)\n",
      "bins written: (46/60)\n",
      "bins written: (47/60)\n",
      "bins written: (48/60)\n",
      "bins written: (49/60)\n",
      "bins written: (50/60)\n",
      "bins written: (51/60)\n",
      "bins written: (52/60)\n",
      "bins written: (53/60)\n",
      "bins written: (54/60)\n",
      "bins written: (55/60)\n",
      "bins written: (56/60)\n",
      "bins written: (57/60)\n",
      "bins written: (58/60)\n",
      "bins written: (59/60)\n",
      "bins written: (60/60)\n",
      "CPU times: user 17min 24s, sys: 38.3 s, total: 18min 2s\n",
      "Wall time: 18min 11s\n"
     ]
    }
   ],
   "source": [
    "%%time\n",
    "\n",
    "num_walks = 1 # Number of random walks\n",
    "files = []\n",
    "filenames = []\n",
    "for w in range(num_walks):\n",
    "    # Open file for writing\n",
    "    filename = \"L_8_T_4.0_rbm_walk_\"+str(w)+\".dat\"\n",
    "    file = open(filename, \"w\")\n",
    "    header = \"#L=%d, T=%.2f \\n# E     M \\n\"\n",
    "    file.write(header)\n",
    "    files.append(file)\n",
    "    filenames.append(filename)\n",
    "    \n",
    "# Number of random walks\n",
    "# num_walks = 1\n",
    "\n",
    "# Initialize accumulators \n",
    "E = 0.0\n",
    "M = 0.0\n",
    "\n",
    "# Set simulation parameters\n",
    "bins_wanted = 60 # number of samples to generate from the RBM\n",
    "sweep = L**2 # size of one Monte Carlo sweep\n",
    "sweep = 1  # I think since update is global, a sweep is now just one update\n",
    "bin_size = 1 # number of samples  to \n",
    "skip = 1 # sweeps performed between measurement\n",
    "equilibration_steps = 10\n",
    "\n",
    "# Set counters and/or trackers\n",
    "bins_written = 0 # counts how many bins have been written to disk\n",
    "measurement_ctr = 0 # to track if we can write to disk\n",
    "m = 0 # iteration counter\n",
    "\n",
    "# Random initial spin config.\n",
    "v_in.data = torch.bernoulli(torch.rand(N_spins))\n",
    "\n",
    "while(bins_written<bins_wanted):\n",
    "            \n",
    "    # Update input and generated visible vector\n",
    "    v_in, v_gen = rbm(v_in.view(-1, N_spins),n_vis,n_hin,flat_to_rowcol_table,displacements_table)\n",
    "    # v_in, v_gen = rbm(v_in,n_vis,n_hin,flat_to_rowcol_table,displacements_table)\n",
    "    \n",
    "    # Detach gradients to save memory (since model is trained, grad not needed)\n",
    "    v_in = v_in.detach()\n",
    "    v_gen =v_gen.detach()\n",
    "    v_in = v_gen\n",
    "            \n",
    "    # Perform measurement\n",
    "    if (m%(sweep*skip)==0 and m>=equilibration_steps):\n",
    "        \n",
    "        # Unflatten and replace 0's with -1's\n",
    "        ising_lattice = v_gen.detach().numpy().reshape(L,L)\n",
    "        ising_lattice[ising_lattice==0] = -1\n",
    "        \n",
    "        E += ising_analysis.get_energy(ising_lattice,L)\n",
    "        M += ising_analysis.get_magnetization(ising_lattice,L)\n",
    "\n",
    "        measurement_ctr += 1\n",
    "        \n",
    "        if (measurement_ctr==bin_size):\n",
    "            \n",
    "            # Write to disk\n",
    "            for w in range(num_walks):\n",
    "                files[w].write('%.2f %.2f \\n'%(E/bin_size,M/bin_size))\n",
    "                    \n",
    "            bins_written += 1\n",
    "            \n",
    "            if bins_written%1==0:\n",
    "                print(\"bins written: (%d/%d)\"%(bins_written,bins_wanted))\n",
    "        \n",
    "            # Reset counters and accumulators\n",
    "            measurement_ctr = 0\n",
    "            # E = np.zeros(num_walks)\n",
    "            # M = np.zeros(num_walks)\n",
    "            E = 0\n",
    "            M = 0\n",
    "                \n",
    "    m +=1\n",
    "\n",
    "            \n",
    "# Close file          \n",
    "for w in range(num_walks):\n",
    "    files[w].close()"
   ]
  },
  {
   "cell_type": "code",
   "execution_count": 164,
   "metadata": {},
   "outputs": [
    {
     "name": "stdout",
     "output_type": "stream",
     "text": [
      "#L=%d, T=%.2f \n",
      "# E     M \n",
      "-48.00 26.00 \n",
      "-20.00 4.00 \n",
      "-52.00 -18.00 \n",
      "-100.00 -48.00 \n",
      "-112.00 -58.00 \n",
      "-120.00 -62.00 \n",
      "-120.00 -62.00 \n",
      "-120.00 -62.00 \n"
     ]
    }
   ],
   "source": [
    "!head './L_8_T_4.0_rbm_walk_0.dat'"
   ]
  },
  {
   "cell_type": "code",
   "execution_count": 165,
   "metadata": {},
   "outputs": [],
   "source": [
    "filename = './L_8_T_4.0_rbm_walk_0.dat'"
   ]
  },
  {
   "cell_type": "code",
   "execution_count": 166,
   "metadata": {},
   "outputs": [],
   "source": [
    "rbm_data = np.loadtxt(filename)"
   ]
  },
  {
   "cell_type": "code",
   "execution_count": 167,
   "metadata": {},
   "outputs": [],
   "source": [
    "# Load rbm_sampled data\n",
    "rbm_data = np.loadtxt(filename)\n",
    "rbm_E = rbm_data[:,0]\n",
    "rbm_M = rbm_data[:,1]\n",
    "\n",
    "rbm_e = rbm_E/L**2\n",
    "rbm_m = np.abs(rbm_M)/L**2"
   ]
  },
  {
   "cell_type": "code",
   "execution_count": 168,
   "metadata": {},
   "outputs": [
    {
     "data": {
      "text/plain": [
       "-1.8666666666666667"
      ]
     },
     "execution_count": 168,
     "metadata": {},
     "output_type": "execute_result"
    }
   ],
   "source": [
    "np.mean(rbm_E/L**2)"
   ]
  },
  {
   "cell_type": "code",
   "execution_count": 172,
   "metadata": {},
   "outputs": [
    {
     "data": {
      "text/plain": [
       "-0.5572722406284901"
      ]
     },
     "execution_count": 172,
     "metadata": {},
     "output_type": "execute_result"
    }
   ],
   "source": [
    "ising_analysis.e_exact_func(T)"
   ]
  },
  {
   "cell_type": "code",
   "execution_count": 169,
   "metadata": {},
   "outputs": [
    {
     "data": {
      "text/plain": [
       "<matplotlib.lines.Line2D at 0x7ff1e2e40d60>"
      ]
     },
     "execution_count": 169,
     "metadata": {},
     "output_type": "execute_result"
    },
    {
     "data": {
      "image/png": "[encoded data removed]",
      "text/plain": [
       "<Figure size 432x288 with 1 Axes>"
      ]
     },
     "metadata": {
      "needs_background": "light"
     },
     "output_type": "display_data"
    }
   ],
   "source": [
    "# Plot running average of energy per spin\n",
    "plt.plot(np.arange(rbm_e.shape[0]),np.cumsum(rbm_e)/np.arange(1,rbm_e.shape[0]+1))\n",
    "plt.axhline(ising_analysis.e_exact_func(T),zorder=-1,color='lightblue')\n",
    "# plt.savefig('e_without_abs.pdf',dpi=300)"
   ]
  },
  {
   "cell_type": "code",
   "execution_count": 171,
   "metadata": {},
   "outputs": [
    {
     "data": {
      "text/plain": [
       "<matplotlib.lines.Line2D at 0x7ff049a73dc0>"
      ]
     },
     "execution_count": 171,
     "metadata": {},
     "output_type": "execute_result"
    },
    {
     "data": {
      "image/png": "[encoded data removed]",
      "text/plain": [
       "<Figure size 432x288 with 1 Axes>"
      ]
     },
     "metadata": {
      "needs_background": "light"
     },
     "output_type": "display_data"
    }
   ],
   "source": [
    "# Plot running average of magnetization per spin\n",
    "plt.plot(np.arange(rbm_m.shape[0]),np.cumsum(rbm_m)/np.arange(1,rbm_m.shape[0]+1),color='tab:orange')\n",
    "plt.axhline(0,color='orange',zorder=-1) # USE ACTUAL EXACT FORMULA MAN"
   ]
  },
  {
   "cell_type": "code",
   "execution_count": 52,
   "metadata": {},
   "outputs": [
    {
     "data": {
      "text/plain": [
       "<matplotlib.colorbar.Colorbar at 0x7fb0f00c1310>"
      ]
     },
     "execution_count": 52,
     "metadata": {},
     "output_type": "execute_result"
    },
    {
     "data": {
      "image/png": "[encoded data removed]",
      "text/plain": [
       "<Figure size 1512x756 with 2 Axes>"
      ]
     },
     "metadata": {
      "needs_background": "light"
     },
     "output_type": "display_data"
    }
   ],
   "source": [
    "plt.rcParams[\"figure.figsize\"] = [7.00*3, 3.50*3]\n",
    "plt.rcParams[\"figure.autolayout\"] = True\n",
    "plt.imshow(rbm.W.detach().numpy())\n",
    "plt.colorbar()"
   ]
  },
  {
   "cell_type": "markdown",
   "metadata": {},
   "source": [
    "# References"
   ]
  },
  {
   "cell_type": "markdown",
   "metadata": {},
   "source": [
    "https://towardsdatascience.com/how-to-use-datasets-and-dataloader-in-pytorch-for-custom-text-data-270eed7f7c00\n",
    "\n",
    "https://blog.paperspace.com/beginners-guide-to-boltzmann-machines-pytorch/\n",
    "\n",
    "https://stats.stackexchange.com/questions/114844/how-to-compute-the-free-energy-of-a-rbm-given-its-energy\n",
    "\n",
    "https://github.com/lisa-lab/DeepLearningTutorials/blob/master/code/rbm.py#L127\n",
    "\n",
    "https://medium.com/machine-learning-researcher/boltzmann-machine-c2ce76d94da5"
   ]
  },
  {
   "cell_type": "code",
   "execution_count": null,
   "metadata": {},
   "outputs": [],
   "source": []
  },
  {
   "cell_type": "code",
   "execution_count": null,
   "metadata": {},
   "outputs": [],
   "source": []
  }
 ],
 "metadata": {
  "kernelspec": {
   "display_name": "Python 3",
   "language": "python",
   "name": "python3"
  },
  "language_info": {
   "codemirror_mode": {
    "name": "ipython",
    "version": 3
   },
   "file_extension": ".py",
   "mimetype": "text/x-python",
   "name": "python",
   "nbconvert_exporter": "python",
   "pygments_lexer": "ipython3",
   "version": "3.8.5"
  }
 },
 "nbformat": 4,
 "nbformat_minor": 4
}
