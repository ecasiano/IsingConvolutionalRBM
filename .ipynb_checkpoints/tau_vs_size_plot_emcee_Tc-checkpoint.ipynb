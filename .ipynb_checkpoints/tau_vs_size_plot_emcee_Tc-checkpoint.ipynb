{
 "cells": [
  {
   "cell_type": "code",
   "execution_count": 46,
   "metadata": {},
   "outputs": [],
   "source": [
    "import numpy as np\n",
    "import matplotlib.pyplot as plt\n",
    "import scipy \n",
    "from scipy import optimize"
   ]
  },
  {
   "cell_type": "code",
   "execution_count": 47,
   "metadata": {},
   "outputs": [],
   "source": [
    "colors = ['salmon','dodgerblue','mediumseagreen']\n",
    "colors = ['#FFA0A0','#1e90ff','#3cb371']\n",
    "colors_light = ['#FFEDED','#6BDDFF','#89FFBE']"
   ]
  },
  {
   "cell_type": "code",
   "execution_count": 48,
   "metadata": {},
   "outputs": [],
   "source": [
    "# Load Tc data\n",
    "data_MC = np.loadtxt('./data_nnn/L_many_T_2.1_J1_1.0_J2_1.0_seed_1968_autocorr.dat')[0:]\n",
    "\n",
    "L_MC = data_MC[:,0]\n",
    "tau_E_MC = data_MC[:,1]\n",
    "tau_M_MC = data_MC[:,2]"
   ]
  },
  {
   "cell_type": "code",
   "execution_count": 49,
   "metadata": {},
   "outputs": [],
   "source": [
    "data_CRBM = np.loadtxt('./data_nnn/L_many_T_2.1_J1_1.0_J2_1.0_kernelDims_2-2_autocorr.dat')[0:]\n",
    "\n",
    "L_CRBM = data_CRBM[:,0]\n",
    "tau_E_CRBM = data_CRBM[:,1]\n",
    "tau_M_CRBM = data_CRBM[:,2]"
   ]
  },
  {
   "cell_type": "code",
   "execution_count": 50,
   "metadata": {},
   "outputs": [],
   "source": [
    "# Perform single exponential fits\n",
    "def exponential(L, A, z):\n",
    "    return A*L**(z)"
   ]
  },
  {
   "cell_type": "code",
   "execution_count": 51,
   "metadata": {},
   "outputs": [],
   "source": [
    "# Perform fit of magnetization autocorrelation times\n",
    "popt_E_MC, pcov_E_MC = scipy.optimize.curve_fit(exponential,\n",
    "                                                          L_MC, \n",
    "                                                          tau_E_MC)\n",
    "\n",
    "# Extract fit parameters and their error\n",
    "A_E_MC,z_E_MC = popt_E_MC\n",
    "A_E_MC_err,z_E_MC_err = np.sqrt(np.diag(pcov_E_MC))   \n",
    "\n",
    "L_fit_E_MC = np.linspace(L_MC[0],L_MC[-1],1000)\n",
    "y_fit_E_MC = A_E_MC*L_fit_E_MC**(z_E_MC)"
   ]
  },
  {
   "cell_type": "code",
   "execution_count": 52,
   "metadata": {},
   "outputs": [],
   "source": [
    "# Perform fit of magnetization autocorrelation times\n",
    "popt_E_CRBM, pcov_E_CRBM = scipy.optimize.curve_fit(exponential,\n",
    "                                                          L_CRBM, \n",
    "                                                          tau_E_CRBM)\n",
    "\n",
    "# Extract fit parameters and their error\n",
    "A_E_CRBM,z_E_CRBM = popt_E_CRBM\n",
    "A_E_CRBM_err,z_E_CRBM_err = np.sqrt(np.diag(pcov_E_CRBM))   \n",
    "\n",
    "L_fit_E_CRBM = np.linspace(L_CRBM[0],L_CRBM[-1],1000)\n",
    "L_fit_E_CRBM = np.linspace(L_MC[0],L_MC[-1],1000)\n",
    "y_fit_E_CRBM = A_E_CRBM*L_fit_E_CRBM**(z_E_CRBM)"
   ]
  },
  {
   "cell_type": "code",
   "execution_count": 53,
   "metadata": {},
   "outputs": [],
   "source": [
    "# Combined plot"
   ]
  },
  {
   "cell_type": "code",
   "execution_count": 54,
   "metadata": {},
   "outputs": [
    {
     "data": {
      "image/png": "[encoded data removed]",
      "text/plain": [
       "<Figure size 432x288 with 1 Axes>"
      ]
     },
     "metadata": {
      "needs_background": "light"
     },
     "output_type": "display_data"
    }
   ],
   "source": [
    "# Plot\n",
    "fig,ax = plt.subplots()\n",
    "\n",
    "ax.scatter(L_CRBM,tau_E_CRBM,color=colors[1],fc=colors[1],label=\"CRBM\")\n",
    "ax.plot(L_fit_E_CRBM,y_fit_E_CRBM,color=colors_light[1],zorder=0)\n",
    "\n",
    "ax.scatter(L_MC,tau_E_MC,color=colors[0],fc=colors[0],label=\"MC\")\n",
    "ax.plot(L_fit_E_MC,y_fit_E_MC,color=colors_light[0],zorder=0)\n",
    "\n",
    "ax.set_yscale(\"log\")\n",
    "ax.set_xscale(\"log\")\n",
    "ax.set_ylabel(r\"$\\tau$ (energy)\")\n",
    "ax.set_xlabel(r\"$L$\")\n",
    "ax.xaxis.set_tick_params(direction='in', which='both')\n",
    "ax.yaxis.set_tick_params(direction='in', which='both')\n",
    "\n",
    "ax.annotate(r\"$\\tau \\sim L^{%.2f+/-%.2f}$\"%(z_E_CRBM,z_E_CRBM_err),(0.25,0.7),xycoords='axes fraction')\n",
    "ax.annotate(r\"$\\tau \\sim L^{%.2f+/-%.2f}$\"%(z_E_MC,z_E_MC_err),(0.7,0.25),xycoords='axes fraction')\n",
    "\n",
    "ax.legend(frameon=False)\n",
    "\n",
    "plt.savefig('./figures/L_many_T_2.1_J1_1.0_J2_1.0_seed_1968_kernelDims_2-2_autocorr_E.pdf',dpi=300)"
   ]
  },
  {
   "cell_type": "code",
   "execution_count": 55,
   "metadata": {},
   "outputs": [
    {
     "name": "stdout",
     "output_type": "stream",
     "text": [
      "CRBM:\n",
      "τ(z) = 2.6630*L^{1.8379}\n",
      "exponent: 1.8379 +/- 0.0584\n",
      "pre-factor: 2.6630 +/- 0.7459\n",
      "\n",
      "MC:\n",
      "τ(z) = 1.8858*L^{1.3501}\n",
      "exponent: 1.3501 +/- 0.1244\n",
      "pre-factor: 1.8858 +/- 1.1117\n"
     ]
    }
   ],
   "source": [
    "print(\"CRBM:\")\n",
    "print(\"τ(z) = %.4f*L^{%.4f}\"%(A_E_CRBM,z_E_CRBM))\n",
    "print(\"exponent: %.4f +/- %.4f\"%(z_E_CRBM,z_E_CRBM_err))\n",
    "print(\"pre-factor: %.4f +/- %.4f\\n\"%(A_E_CRBM,A_E_CRBM_err))\n",
    "\n",
    "print(\"MC:\")\n",
    "print(\"τ(z) = %.4f*L^{%.4f}\"%(A_E_MC,z_E_MC))\n",
    "print(\"exponent: %.4f +/- %.4f\"%(z_E_MC,z_E_MC_err))\n",
    "print(\"pre-factor: %.4f +/- %.4f\"%(A_E_MC,A_E_MC_err))"
   ]
  },
  {
   "cell_type": "code",
   "execution_count": 56,
   "metadata": {},
   "outputs": [],
   "source": [
    "# Perform fit of magnetization autocorrelation times\n",
    "popt_M_MC, pcov_M_MC = scipy.optimize.curve_fit(exponential,\n",
    "                                                          L_MC, \n",
    "                                                          tau_M_MC)\n",
    "\n",
    "# Extract fit parameters and their error\n",
    "A_M_MC,z_M_MC = popt_M_MC\n",
    "A_M_MC_err,z_M_MC_err = np.sqrt(np.diag(pcov_M_MC))   \n",
    "\n",
    "L_fit_M_MC = np.linspace(L_MC[0],L_MC[-1],1000)\n",
    "y_fit_M_MC = A_M_MC*L_fit_M_MC**(z_M_MC)"
   ]
  },
  {
   "cell_type": "code",
   "execution_count": 57,
   "metadata": {},
   "outputs": [],
   "source": [
    "# Perform fit of magnetization autocorrelation times\n",
    "popt_M_CRBM, pcov_M_CRBM = scipy.optimize.curve_fit(exponential,\n",
    "                                                          L_CRBM, \n",
    "                                                          tau_M_CRBM)\n",
    "\n",
    "# Extract fit parameters and their error\n",
    "A_M_CRBM,z_M_CRBM = popt_M_CRBM\n",
    "A_M_CRBM_err,z_M_CRBM_err = np.sqrt(np.diag(pcov_M_CRBM))   \n",
    "\n",
    "L_fit_M_CRBM = np.linspace(L_CRBM[0],L_CRBM[-1],1000)\n",
    "L_fit_M_CRBM = np.linspace(L_MC[0],L_MC[-1],1000)\n",
    "y_fit_M_CRBM = A_M_CRBM*L_fit_M_CRBM**(z_M_CRBM)"
   ]
  },
  {
   "cell_type": "code",
   "execution_count": 58,
   "metadata": {},
   "outputs": [
    {
     "data": {
      "image/png": "[encoded data removed]",
      "text/plain": [
       "<Figure size 432x288 with 1 Axes>"
      ]
     },
     "metadata": {
      "needs_background": "light"
     },
     "output_type": "display_data"
    }
   ],
   "source": [
    "# Plot\n",
    "fig,ax = plt.subplots()\n",
    "\n",
    "ax.scatter(L_CRBM,tau_M_CRBM,color=colors[1],fc=colors[1],label=\"CRBM\")\n",
    "ax.plot(L_fit_M_CRBM,y_fit_M_CRBM,color=colors_light[1],zorder=0)\n",
    "\n",
    "ax.scatter(L_MC,tau_M_MC,color=colors[0],fc=colors[0],label=\"MC\")\n",
    "ax.plot(L_fit_M_MC,y_fit_M_MC,color=colors_light[0],zorder=0)\n",
    "\n",
    "ax.set_yscale(\"log\")\n",
    "ax.set_xscale(\"log\")\n",
    "ax.set_ylabel(r\"$\\tau$ (magnetization)\")\n",
    "ax.set_xlabel(r\"$L$\")\n",
    "ax.xaxis.set_tick_params(direction='in', which='both')\n",
    "ax.yaxis.set_tick_params(direction='in', which='both')\n",
    "\n",
    "ax.annotate(r\"$\\tau \\sim L^{%.2f+/-%.2f}$\"%(z_M_CRBM,z_M_CRBM_err),(0.25,0.7),xycoords='axes fraction')\n",
    "ax.annotate(r\"$\\tau \\sim L^{%.2f+/-%.2f}$\"%(z_M_MC,z_M_MC_err),(0.7,0.25),xycoords='axes fraction')\n",
    "\n",
    "ax.legend(frameon=False)\n",
    "\n",
    "plt.savefig('./figures/L_many_T_2.1_J1_1.0_J2_1.0_seed_1968_kernelDims_2-2_autocorr_M.pdf',dpi=300)"
   ]
  },
  {
   "cell_type": "code",
   "execution_count": 59,
   "metadata": {},
   "outputs": [
    {
     "name": "stdout",
     "output_type": "stream",
     "text": [
      "CRBM:\n",
      "τ(z) = 5.0193*L^{0.0169}\n",
      "exponent: 0.0169 +/- 0.0097\n",
      "pre-factor: 5.0193 +/- 0.1651\n",
      "\n",
      "MC:\n",
      "τ(z) = 1.2277*L^{-0.0254}\n",
      "exponent: -0.0254 +/- 0.0091\n",
      "pre-factor: 1.2277 +/- 0.0364\n"
     ]
    }
   ],
   "source": [
    "print(\"CRBM:\")\n",
    "print(\"τ(z) = %.4f*L^{%.4f}\"%(A_M_CRBM,z_M_CRBM))\n",
    "print(\"exponent: %.4f +/- %.4f\"%(z_M_CRBM,z_M_CRBM_err))\n",
    "print(\"pre-factor: %.4f +/- %.4f\\n\"%(A_M_CRBM,A_M_CRBM_err))\n",
    "\n",
    "print(\"MC:\")\n",
    "print(\"τ(z) = %.4f*L^{%.4f}\"%(A_M_MC,z_M_MC))\n",
    "print(\"exponent: %.4f +/- %.4f\"%(z_M_MC,z_M_MC_err))\n",
    "print(\"pre-factor: %.4f +/- %.4f\"%(A_M_MC,A_M_MC_err))"
   ]
  },
  {
   "cell_type": "code",
   "execution_count": null,
   "metadata": {},
   "outputs": [],
   "source": []
  },
  {
   "cell_type": "code",
   "execution_count": null,
   "metadata": {},
   "outputs": [],
   "source": []
  },
  {
   "cell_type": "code",
   "execution_count": null,
   "metadata": {},
   "outputs": [],
   "source": []
  }
 ],
 "metadata": {
  "kernelspec": {
   "display_name": "Python 3",
   "language": "python",
   "name": "python3"
  },
  "language_info": {
   "codemirror_mode": {
    "name": "ipython",
    "version": 3
   },
   "file_extension": ".py",
   "mimetype": "text/x-python",
   "name": "python",
   "nbconvert_exporter": "python",
   "pygments_lexer": "ipython3",
   "version": "3.8.5"
  }
 },
 "nbformat": 4,
 "nbformat_minor": 4
}
