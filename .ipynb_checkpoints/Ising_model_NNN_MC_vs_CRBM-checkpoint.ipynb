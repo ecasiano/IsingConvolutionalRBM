{
 "cells": [
  {
   "cell_type": "code",
   "execution_count": 17,
   "metadata": {},
   "outputs": [],
   "source": [
    "import numpy as np\n",
    "import matplotlib.pyplot as plt"
   ]
  },
  {
   "cell_type": "markdown",
   "metadata": {},
   "source": [
    "### Ising Model with Next-Nearest-Neighbor (NNN) Interaction"
   ]
  },
  {
   "cell_type": "markdown",
   "metadata": {},
   "source": [
    "Via Metropolis sampling and Convolutional RBM (CRBM) with Gibbs sampling, we will try to simulate the Ising model with next-nearest-neighbor (NNN) interactions. This model is described by the Hamiltonian:\n",
    "$$\n",
    "H = -J_1 \\sum_{\\langle i,j \\rangle} s_i s_j -J_2 \\sum_{\\langle \\langle i,j \\rangle \\rangle} s_i s_j\n",
    "$$"
   ]
  },
  {
   "cell_type": "markdown",
   "metadata": {},
   "source": [
    "### Load data"
   ]
  },
  {
   "cell_type": "code",
   "execution_count": 18,
   "metadata": {},
   "outputs": [],
   "source": [
    "data_MC = np.loadtxt(\"./data_nnn/L_10_T_2.25_seed_0_NNN.dat\")\n",
    "data_CRBM = np.loadtxt(\"./data_nnn/L_10_T_2.25_kernelDims_1-3_no_symmetries.dat\")"
   ]
  },
  {
   "cell_type": "markdown",
   "metadata": {},
   "source": [
    "### Energy in MC vs CRBM"
   ]
  },
  {
   "cell_type": "code",
   "execution_count": 19,
   "metadata": {},
   "outputs": [],
   "source": [
    "num_samples_MC = data_MC.shape[0]\n",
    "num_samples_CRBM = data_CRBM.shape[0]"
   ]
  },
  {
   "cell_type": "code",
   "execution_count": 20,
   "metadata": {},
   "outputs": [
    {
     "data": {
      "text/plain": [
       "[<matplotlib.lines.Line2D at 0x7f8cfb076400>]"
      ]
     },
     "execution_count": 20,
     "metadata": {},
     "output_type": "execute_result"
    },
    {
     "data": {
      "image/png": "[encoded data removed]",
      "text/plain": [
       "<Figure size 432x288 with 1 Axes>"
      ]
     },
     "metadata": {
      "needs_background": "light"
     },
     "output_type": "display_data"
    }
   ],
   "source": [
    "plt.plot(np.arange(num_samples_MC),data_MC[:,0])\n",
    "plt.plot(np.arange(num_samples_CRBM),data_CRBM[:,0])"
   ]
  },
  {
   "cell_type": "code",
   "execution_count": 21,
   "metadata": {},
   "outputs": [
    {
     "data": {
      "text/plain": [
       "(array([[ -400.,  -100., 40000., 10000.],\n",
       "        [ -400.,  -100., 40000., 10000.],\n",
       "        [ -372.,   -96., 35344.,  9216.],\n",
       "        ...,\n",
       "        [ -400.,  -100., 40000., 10000.],\n",
       "        [ -400.,  -100., 40000., 10000.],\n",
       "        [ -400.,  -100., 40000., 10000.]]),\n",
       " array([[ -292., 12345.],\n",
       "        [ -292., 12345.],\n",
       "        [ -292., 12345.],\n",
       "        ...,\n",
       "        [ -400., 12345.],\n",
       "        [ -400., 12345.],\n",
       "        [ -400., 12345.]]))"
      ]
     },
     "execution_count": 21,
     "metadata": {},
     "output_type": "execute_result"
    }
   ],
   "source": [
    "data_MC,data_CRBM"
   ]
  },
  {
   "cell_type": "code",
   "execution_count": 22,
   "metadata": {},
   "outputs": [
    {
     "data": {
      "text/plain": [
       "(-398.68192, -395.98584)"
      ]
     },
     "execution_count": 22,
     "metadata": {},
     "output_type": "execute_result"
    }
   ],
   "source": [
    "np.mean(data_MC[:,0]),np.mean(data_CRBM[:,0])"
   ]
  },
  {
   "cell_type": "code",
   "execution_count": null,
   "metadata": {},
   "outputs": [],
   "source": []
  }
 ],
 "metadata": {
  "kernelspec": {
   "display_name": "Python 3",
   "language": "python",
   "name": "python3"
  },
  "language_info": {
   "codemirror_mode": {
    "name": "ipython",
    "version": 3
   },
   "file_extension": ".py",
   "mimetype": "text/x-python",
   "name": "python",
   "nbconvert_exporter": "python",
   "pygments_lexer": "ipython3",
   "version": "3.8.5"
  }
 },
 "nbformat": 4,
 "nbformat_minor": 4
}
