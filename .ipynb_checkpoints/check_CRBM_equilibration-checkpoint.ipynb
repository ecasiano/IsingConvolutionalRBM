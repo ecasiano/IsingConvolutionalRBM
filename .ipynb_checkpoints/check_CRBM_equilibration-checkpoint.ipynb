{
 "cells": [
  {
   "cell_type": "code",
   "execution_count": 11,
   "metadata": {},
   "outputs": [],
   "source": [
    "import numpy as np\n",
    "import matplotlib.pyplot as plt"
   ]
  },
  {
   "cell_type": "code",
   "execution_count": 12,
   "metadata": {},
   "outputs": [
    {
     "data": {
      "text/plain": [
       "<module 'ising_analysis' from '/Users/ecasiano/Desktop/IsingConvolutionalRBM/ising_analysis.py'>"
      ]
     },
     "execution_count": 12,
     "metadata": {},
     "output_type": "execute_result"
    }
   ],
   "source": [
    "import sys\n",
    "sys.path.append('../')\n",
    "import ising_analysis\n",
    "import importlib\n",
    "importlib.reload(ising_analysis)"
   ]
  },
  {
   "cell_type": "markdown",
   "metadata": {},
   "source": [
    "### Check equilibration of Monte Carlo samples"
   ]
  },
  {
   "cell_type": "code",
   "execution_count": 13,
   "metadata": {},
   "outputs": [],
   "source": [
    "throwaway = 10000"
   ]
  },
  {
   "cell_type": "code",
   "execution_count": 21,
   "metadata": {},
   "outputs": [],
   "source": [
    "L = 64\n",
    "T = 1.0\n",
    "J1 = -1.0\n",
    "J2 = 0.0\n",
    "\n",
    "kernel_dims = [1,2]"
   ]
  },
  {
   "cell_type": "code",
   "execution_count": null,
   "metadata": {},
   "outputs": [],
   "source": [
    "# Set how much initial samples to discard\n",
    "throwaway = 10000\n",
    "\n",
    "# Set physical parameters\n",
    "L_list = [2**i for i in range(5,7)]\n",
    "T = 1.0\n",
    "J1 = -1.0\n",
    "J2 = 0.0\n",
    "\n",
    "\n",
    "# Open file for writing\n",
    "filename = './data_nnn/L_many_T_'+str(T)+'_J1_'+str(J1)+'_J2_'+str(J2)+'_kernelDims_'+str(kernel_dims[0])+'-'+str(kernel_dims[1])+'_autocorr.dat'"
   ]
  },
  {
   "cell_type": "code",
   "execution_count": 22,
   "metadata": {},
   "outputs": [],
   "source": [
    "data_correlated_MC_E = np.loadtxt(filename)[:,0][throwaway:]\n",
    "data_correlated_MC_M = np.loadtxt(filename)[:,1][throwaway:]"
   ]
  },
  {
   "cell_type": "code",
   "execution_count": 23,
   "metadata": {},
   "outputs": [],
   "source": [
    "num_samples_MC = data_correlated_MC_E.shape[0]"
   ]
  },
  {
   "cell_type": "code",
   "execution_count": 24,
   "metadata": {},
   "outputs": [
    {
     "data": {
      "image/png": "[encoded data removed]",
      "text/plain": [
       "<Figure size 432x288 with 2 Axes>"
      ]
     },
     "metadata": {
      "needs_background": "light"
     },
     "output_type": "display_data"
    }
   ],
   "source": [
    "fig,ax = plt.subplots(nrows=1,ncols=2)\n",
    "ax[0].plot(np.arange(num_samples_MC),data_correlated_MC_E,color=\"tab:blue\",alpha=1.0,label=\"energy\")\n",
    "ax[0].set_ylabel(r\"\")\n",
    "ax[0].set_xlabel(r\"Sample Number\")\n",
    "ax[0].legend(frameon=False)\n",
    "\n",
    "ax[1].plot(np.arange(num_samples_MC),data_correlated_MC_M,color=\"tab:orange\",alpha=1.0,label=\"magnetization\")\n",
    "ax[1].set_ylabel(r\"\")\n",
    "ax[1].set_xlabel(r\"Sample Number\")\n",
    "ax[1].legend(frameon=False)\n",
    "\n",
    "plt.tick_params(direction=\"in\")"
   ]
  },
  {
   "cell_type": "code",
   "execution_count": 25,
   "metadata": {},
   "outputs": [
    {
     "data": {
      "text/plain": [
       "-1.9971602041122514"
      ]
     },
     "execution_count": 25,
     "metadata": {},
     "output_type": "execute_result"
    }
   ],
   "source": [
    "e_exact = ising_analysis.e_exact_func(T)\n",
    "e_exact"
   ]
  },
  {
   "cell_type": "code",
   "execution_count": 26,
   "metadata": {},
   "outputs": [
    {
     "data": {
      "text/plain": [
       "-1.9180662109375"
      ]
     },
     "execution_count": 26,
     "metadata": {},
     "output_type": "execute_result"
    }
   ],
   "source": [
    "e_MC = np.mean(data_correlated_MC_E)/L**2\n",
    "e_MC"
   ]
  },
  {
   "cell_type": "code",
   "execution_count": 27,
   "metadata": {},
   "outputs": [
    {
     "data": {
      "text/plain": [
       "0.03960322913098958"
      ]
     },
     "execution_count": 27,
     "metadata": {},
     "output_type": "execute_result"
    }
   ],
   "source": [
    "relErr = np.abs((e_exact-e_MC)/e_exact)\n",
    "relErr"
   ]
  },
  {
   "cell_type": "code",
   "execution_count": null,
   "metadata": {},
   "outputs": [],
   "source": []
  },
  {
   "cell_type": "code",
   "execution_count": null,
   "metadata": {},
   "outputs": [],
   "source": []
  },
  {
   "cell_type": "code",
   "execution_count": null,
   "metadata": {},
   "outputs": [],
   "source": []
  }
 ],
 "metadata": {
  "kernelspec": {
   "display_name": "Python 3",
   "language": "python",
   "name": "python3"
  },
  "language_info": {
   "codemirror_mode": {
    "name": "ipython",
    "version": 3
   },
   "file_extension": ".py",
   "mimetype": "text/x-python",
   "name": "python",
   "nbconvert_exporter": "python",
   "pygments_lexer": "ipython3",
   "version": "3.8.5"
  }
 },
 "nbformat": 4,
 "nbformat_minor": 4
}
