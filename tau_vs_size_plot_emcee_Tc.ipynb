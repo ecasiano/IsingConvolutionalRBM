{
 "cells": [
  {
   "cell_type": "code",
   "execution_count": 20,
   "metadata": {},
   "outputs": [],
   "source": [
    "import numpy as np\n",
    "import matplotlib.pyplot as plt\n",
    "import scipy \n",
    "from scipy import optimize"
   ]
  },
  {
   "cell_type": "code",
   "execution_count": 21,
   "metadata": {},
   "outputs": [],
   "source": [
    "colors = ['salmon','dodgerblue','mediumseagreen']\n",
    "colors = ['#FFA0A0','#1e90ff','#3cb371']\n",
    "colors_light = ['#FFEDED','#6BDDFF','#89FFBE']"
   ]
  },
  {
   "cell_type": "code",
   "execution_count": 50,
   "metadata": {},
   "outputs": [],
   "source": [
    "# U/t=0.5\n",
    "data = np.loadtxt('./data_nnn/L_many_T_2.27_J1_-1.0_J2_0.0_seed_1968_autocorr.dat')[:]\n",
    "\n",
    "data = np.loadtxt('./data_nnn/L_many_T_2.27_J1_-1.0_J2_0.0_kernelDims_2-2_autocorr_analytical.dat')[:]\n",
    "L = data[:,0]\n",
    "tau = data[:,2]\n",
    "# tau_err = data[:,2]"
   ]
  },
  {
   "cell_type": "code",
   "execution_count": 51,
   "metadata": {},
   "outputs": [],
   "source": [
    "# Perform single exponential fits\n",
    "def exponential(L, A, z):\n",
    "    return A*L**(z)"
   ]
  },
  {
   "cell_type": "code",
   "execution_count": 52,
   "metadata": {},
   "outputs": [],
   "source": [
    "# U/t=10.0\n",
    "popt_exponential, pcov_exponential = scipy.optimize.curve_fit(exponential,\n",
    "                                                          L, \n",
    "                                                          tau)\n",
    "\n",
    "# Extract fit parameters and their error\n",
    "c1,c2 = popt_exponential\n",
    "c1_err,c2_err = np.sqrt(np.diag(pcov_exponential))   \n",
    "\n",
    "L_fit = np.linspace(L[0],L[-1],1000)\n",
    "y_fit = c1*L_fit**(c2)"
   ]
  },
  {
   "cell_type": "code",
   "execution_count": 53,
   "metadata": {},
   "outputs": [],
   "source": [
    "# Combined plot"
   ]
  },
  {
   "cell_type": "code",
   "execution_count": 54,
   "metadata": {},
   "outputs": [
    {
     "data": {
      "image/png": "[encoded data removed]",
      "text/plain": [
       "<Figure size 432x288 with 1 Axes>"
      ]
     },
     "metadata": {
      "needs_background": "light"
     },
     "output_type": "display_data"
    }
   ],
   "source": [
    "# U/t=10.0\n",
    "fig,ax = plt.subplots()\n",
    "\n",
    "# ax.errorbar(L,tau, yerr=tau_err, fmt='.', capsize=5,\n",
    "#             label='',color=colors[0],mfc=colors_light[0],\n",
    "#             marker='s',zorder=1)\n",
    "ax.scatter(L,tau,color=colors[0],fc=colors[0])\n",
    "ax.plot(L_fit,y_fit,color=colors_light[0],zorder=0)\n",
    "ax.set_yscale(\"log\")\n",
    "ax.set_xscale(\"log\")\n",
    "ax.set_ylabel(r\"$\\tau$\")\n",
    "ax.set_xlabel(r\"$L$\")\n",
    "ax.xaxis.set_tick_params(direction='in', which='both')\n",
    "ax.yaxis.set_tick_params(direction='in', which='both')\n",
    "\n",
    "# # Save to code repo (this repo)\n",
    "# plt.savefig(\"../figures/relativeErrorsVK_N8.pdf\",dpi=400)\n",
    "# plt.savefig(\"../figures/relativeErrorsVK_N8.svg\",dpi=400)\n",
    "\n",
    "# # Save to paper repo\n",
    "# plt.savefig(\"/Users/ecasiano/Desktop/papers-latticepigs/Figures/relativeErrorsVK_N8.pdf\",dpi=400)\n",
    "# plt.savefig(\"/Users/ecasiano/Desktop/papers-latticepigs/Figures/relativeErrorsVK_N8.svg\",dpi=400)"
   ]
  },
  {
   "cell_type": "code",
   "execution_count": 55,
   "metadata": {},
   "outputs": [
    {
     "name": "stdout",
     "output_type": "stream",
     "text": [
      "exponent: 2.0964 +/- 0.0429\n",
      "pre-factor: 17.8838 +/- 2.6341\n",
      "\n",
      "τ(z) = 17.8838*L^{2.0964}\n"
     ]
    }
   ],
   "source": [
    "print(\"exponent: %.4f +/- %.4f\"%(c2,c2_err))\n",
    "print(\"pre-factor: %.4f +/- %.4f\"%(c1,c1_err))\n",
    "\n",
    "print(\"\\nτ(z) = %.4f*L^{%.4f}\"%(c1,c2))"
   ]
  },
  {
   "cell_type": "code",
   "execution_count": null,
   "metadata": {},
   "outputs": [],
   "source": []
  },
  {
   "cell_type": "code",
   "execution_count": null,
   "metadata": {},
   "outputs": [],
   "source": []
  },
  {
   "cell_type": "code",
   "execution_count": null,
   "metadata": {},
   "outputs": [],
   "source": []
  }
 ],
 "metadata": {
  "kernelspec": {
   "display_name": "Python 3",
   "language": "python",
   "name": "python3"
  },
  "language_info": {
   "codemirror_mode": {
    "name": "ipython",
    "version": 3
   },
   "file_extension": ".py",
   "mimetype": "text/x-python",
   "name": "python",
   "nbconvert_exporter": "python",
   "pygments_lexer": "ipython3",
   "version": "3.8.5"
  }
 },
 "nbformat": 4,
 "nbformat_minor": 4
}
