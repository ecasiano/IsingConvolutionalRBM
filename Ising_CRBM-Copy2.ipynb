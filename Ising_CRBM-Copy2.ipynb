{
 "cells": [
  {
   "cell_type": "markdown",
   "metadata": {
    "colab_type": "text",
    "id": "view-in-github"
   },
   "source": [
    "<a href=\"https://colab.research.google.com/github/danielalcalde/MCMC_CRBM/blob/master/Ising_CRBM.ipynb\" target=\"_parent\"><img src=\"https://colab.research.google.com/assets/colab-badge.svg\" alt=\"Open In Colab\"/></a>"
   ]
  },
  {
   "cell_type": "markdown",
   "metadata": {
    "id": "amXB-OcpSa1R"
   },
   "source": [
    "# Simulating the Ising model using a CRBM"
   ]
  },
  {
   "cell_type": "markdown",
   "metadata": {
    "id": "e0xxh6USSodO"
   },
   "source": [
    "## Abstract:\n",
    "Machine learning is becoming widely used in analyzing the thermodynamics of many-body condensed matter systems. Restricted Boltzmann Machine (RBM) aided Monte Carlo simulations have sparked interest recently, as they manage to speed up classical Monte Carlo simulations. Here we employ the Convolutional Restricted Boltzmann Machine (CRBM) method and show that its use helps to reduce the number of parameters to be learned drastically by taking advantage of translation invariance. Furthermore, we show that it is possible to train the CRBM at smaller lattice sizes, and apply it to larger lattice sizes. To demonstrate the efficiency of CRBM we apply it to the paradigmatic Ising and Kitaev models in two-dimensions.\n",
    "\n",
    "## Paper:\n",
    "https://arxiv.org/abs/2008.05401"
   ]
  },
  {
   "cell_type": "markdown",
   "metadata": {
    "id": "XaiBKOtWTBEV"
   },
   "source": [
    "## Introduction\n",
    "This Notebook is intended as an educational tool for the use of Convolutional Restricted Boltzmann Machines in classical Montecarlo simulations. The code for the paper was written with the library Theano, which will no longer be updated, that is why we have chosen to present the main concept in TensorFlow. Specifically, this notebook only tackles the Ising model. As there is only the nearest neighbor interaction, we can teach the CRBM using $3\\times3$ states, this has as a consequence that we can generate all possible states $2^{3\\times3}= 512$ and learn the energy function from them. So no Metropolis is necessary, and no sampling of the CRBM while training is necessary. Also contrary to the main work, for simplicity, no correction step or parallel tempering is introduced. Note that for the Ising model there exist cluster algorithms that would outperform the CRBM.\n"
   ]
  },
  {
   "cell_type": "markdown",
   "metadata": {
    "id": "6t5AMJk__vdw"
   },
   "source": [
    "# Installing tensorflow"
   ]
  },
  {
   "cell_type": "code",
   "execution_count": 1,
   "metadata": {
    "id": "mqVmIoHumhCe"
   },
   "outputs": [],
   "source": [
    "\"\"\"\n",
    "### install necessary packages if in colab\n",
    "def run_subprocess_command(cmd):\n",
    "    process = subprocess.Popen(cmd.split(), stdout=subprocess.PIPE)\n",
    "    for line in process.stdout:\n",
    "        print(line.decode().strip())\n",
    "\n",
    "\n",
    "import sys, subprocess\n",
    "\n",
    "IN_COLAB = \"google.colab\" in sys.modules\n",
    "colab_requirements = [\"pip install tensorflow-gpu==2.1.0\"]\n",
    "if IN_COLAB:\n",
    "    for i in colab_requirements:\n",
    "        run_subprocess_command(i)\n",
    "\"\"\";"
   ]
  },
  {
   "cell_type": "markdown",
   "metadata": {
    "id": "GzkLSnOF_4EG"
   },
   "source": [
    "# Importing necessary libraries"
   ]
  },
  {
   "cell_type": "code",
   "execution_count": 2,
   "metadata": {
    "id": "jTbdHbRCoJzr"
   },
   "outputs": [],
   "source": [
    "import numpy as np\n",
    "import tensorflow as tf\n",
    "from IPython import display\n",
    "import pandas as pd\n",
    "import time\n",
    "import matplotlib.pyplot as plt"
   ]
  },
  {
   "cell_type": "code",
   "execution_count": 3,
   "metadata": {},
   "outputs": [
    {
     "data": {
      "text/plain": [
       "<module 'ising_analysis' from '/Users/ecasiano/Desktop/IsingConvolutionalRBM/ising_analysis.py'>"
      ]
     },
     "execution_count": 3,
     "metadata": {},
     "output_type": "execute_result"
    }
   ],
   "source": [
    "import sys\n",
    "sys.path.append('../')\n",
    "import ising_analysis\n",
    "import importlib\n",
    "importlib.reload(ising_analysis)"
   ]
  },
  {
   "cell_type": "markdown",
   "metadata": {
    "id": "xxU5e0nT5vzC"
   },
   "source": [
    "Set seed for reproducibility."
   ]
  },
  {
   "cell_type": "code",
   "execution_count": 4,
   "metadata": {
    "id": "yr4p5UEh5kWk"
   },
   "outputs": [],
   "source": [
    "np.random.seed(0)\n",
    "tf.random.set_seed(0)"
   ]
  },
  {
   "cell_type": "markdown",
   "metadata": {
    "id": "adjL1Ta-4yjG"
   },
   "source": [
    "Accuracy used for training and numerics."
   ]
  },
  {
   "cell_type": "code",
   "execution_count": 5,
   "metadata": {
    "id": "5mYviS_74wT-"
   },
   "outputs": [],
   "source": [
    "floatX = np.float32"
   ]
  },
  {
   "cell_type": "code",
   "execution_count": 6,
   "metadata": {
    "id": "tdJQe7e7PmE_"
   },
   "outputs": [],
   "source": [
    "t0 = time.time()"
   ]
  },
  {
   "cell_type": "markdown",
   "metadata": {
    "id": "x6CGNL5T__7Q"
   },
   "source": [
    "# Helping functions"
   ]
  },
  {
   "cell_type": "markdown",
   "metadata": {
    "id": "nMdm-89o52rP"
   },
   "source": [
    "Tensorflow has no implementation of the binomial function. With help of random.uniform the beahviour can be replicated."
   ]
  },
  {
   "cell_type": "code",
   "execution_count": 7,
   "metadata": {
    "id": "HuZ3rWnuorPl"
   },
   "outputs": [],
   "source": [
    "def binomial(means):\n",
    "    return (tf.sign(means - tf.random.uniform(tf.shape(means))) + 1 ) / 2"
   ]
  },
  {
   "cell_type": "code",
   "execution_count": 8,
   "metadata": {
    "colab": {
     "base_uri": "https://localhost:8080/",
     "height": 35
    },
    "id": "ZRYigXZ33_SS",
    "outputId": "6ba06760-2802-42d1-bcf3-1f9e948422ea"
   },
   "outputs": [
    {
     "data": {
      "text/plain": [
       "<tf.Tensor: shape=(4,), dtype=float32, numpy=array([1., 1., 0., 1.], dtype=float32)>"
      ]
     },
     "execution_count": 8,
     "metadata": {},
     "output_type": "execute_result"
    }
   ],
   "source": [
    "binomial(np.array([0.5, 0.5, 0.1, 0.9]))"
   ]
  },
  {
   "cell_type": "markdown",
   "metadata": {
    "id": "T8rR10bN6WBI"
   },
   "source": [
    "This functions creates periodic padding so that the convolution has periodic boundary conditions. When performing the transposed convolution step the padding is placed at the oposite side."
   ]
  },
  {
   "cell_type": "code",
   "execution_count": 9,
   "metadata": {
    "colab": {
     "base_uri": "https://localhost:8080/",
     "height": 192
    },
    "id": "NWbNnXjOng1d",
    "outputId": "8a73258c-1357-4036-bd79-ee7349171395"
   },
   "outputs": [
    {
     "name": "stdout",
     "output_type": "stream",
     "text": [
      "[[ 0  1  2  3]\n",
      " [ 4  5  6  7]\n",
      " [ 8  9 10 11]\n",
      " [12 13 14 15]]\n",
      "\n",
      "[[ 0  1  2  3  0]\n",
      " [ 4  5  6  7  4]\n",
      " [ 8  9 10 11  8]\n",
      " [12 13 14 15 12]\n",
      " [ 0  1  2  3  0]]\n"
     ]
    }
   ],
   "source": [
    "def periodic_padding(x, kernel_size=2, deconv=False):\n",
    "    '''\n",
    "    x: shape (batch_size, d1, d2)\n",
    "    return x padded with periodic boundaries. i.e. torus or donut\n",
    "    '''\n",
    "    pad_r = kernel_size // 2\n",
    "    pad_l = kernel_size - pad_r - 1\n",
    "    \n",
    "    d1, d2 = x.shape[1: 3]\n",
    "    \n",
    "    # When deconvolving the pading should reverses\n",
    "    if deconv:\n",
    "        p = pad_r\n",
    "        pad_r = pad_l\n",
    "        pad_l = p   \n",
    "\n",
    "    top_left = x[:, d1 - pad_l:, d2 - pad_l:]\n",
    "    top_center = x[:, d1 - pad_l:, :]\n",
    "    top_right = x[:, d1 - pad_l:, :pad_r]\n",
    "\n",
    "    middle_left = x[:, :, d2 - pad_l:]\n",
    "    middle_center = x\n",
    "    middle_right = x[:, :, :pad_r]\n",
    "\n",
    "    bottom_left = x[:, :pad_r, d2 - pad_l:]\n",
    "    bottom_center = x[:, :pad_r, :]\n",
    "    bottom_right = x[:, :pad_r, :pad_r]\n",
    "    \n",
    "    top = tf.concat([top_left, top_center, top_right], axis=2)\n",
    "    middle = tf.concat([middle_left, middle_center, middle_right], axis=2)\n",
    "    bottom = tf.concat([bottom_left, bottom_center, bottom_right], axis=2)\n",
    "    padded_x = tf.concat([top, middle, bottom], axis=1)\n",
    "    return padded_x\n",
    "\n",
    "a = tf.Variable(np.arange(4 * 4).reshape(1, 4, 4))\n",
    "print(a[0].numpy())\n",
    "print()\n",
    "print(periodic_padding(a,2)[0].numpy())"
   ]
  },
  {
   "cell_type": "markdown",
   "metadata": {
    "id": "9Ba-8XzQve8c"
   },
   "source": [
    "# Dataset Generation"
   ]
  },
  {
   "cell_type": "code",
   "execution_count": 10,
   "metadata": {
    "id": "85mAzBWlt7p7"
   },
   "outputs": [],
   "source": [
    "def to_int(x):\n",
    "    if x == '0' or x == '1': return int(x)\n",
    "    else: return 0\n",
    "\n",
    "#This will generate all posible LxL matrices with {0,1}^(LxL) don't use with more then L=4\n",
    "def bit_string(L):\n",
    "    maxim = 2 ** (L ** 2)\n",
    "    a = np.asarray([[to_int(x) for x in list(('{0:' + str(L ** 2) + 'b}').format(i))] for i in range(maxim)], dtype=floatX)\n",
    "    return a.reshape(2 ** (L ** 2), L, L)"
   ]
  },
  {
   "cell_type": "markdown",
   "metadata": {
    "id": "m19Njkt2AJsT"
   },
   "source": [
    "Generate all posible $3\\times3$ states"
   ]
  },
  {
   "cell_type": "code",
   "execution_count": 11,
   "metadata": {
    "colab": {
     "base_uri": "https://localhost:8080/",
     "height": 35
    },
    "id": "F5IEPtsTvUIa",
    "outputId": "04385db9-1682-4b02-a306-f57386aa9fc7"
   },
   "outputs": [
    {
     "data": {
      "text/plain": [
       "(65536, 4, 4, 1)"
      ]
     },
     "execution_count": 11,
     "metadata": {},
     "output_type": "execute_result"
    }
   ],
   "source": [
    "states_train = bit_string(4)[:, :, :, None]\n",
    "states_train.shape"
   ]
  },
  {
   "cell_type": "markdown",
   "metadata": {
    "id": "wOS0L2tAATVe"
   },
   "source": [
    "Generate a random test set of lattice size $L=50$ to evaluate if the CRBM matches the Ising model at large lattice sizes."
   ]
  },
  {
   "cell_type": "code",
   "execution_count": 12,
   "metadata": {
    "colab": {
     "base_uri": "https://localhost:8080/",
     "height": 35
    },
    "id": "e4t-Mm4E1ur4",
    "outputId": "8eb61288-4f5a-405a-8f65-5050cf5a1d6b"
   },
   "outputs": [
    {
     "data": {
      "text/plain": [
       "(4000, 10, 10, 1)"
      ]
     },
     "execution_count": 12,
     "metadata": {},
     "output_type": "execute_result"
    }
   ],
   "source": [
    "L = 10\n",
    "states_test = np.asarray(np.random.binomial(size=(4 * 10 ** 3, L, L, 1), p=0.5, n=1), dtype=floatX)\n",
    "states_test.shape"
   ]
  },
  {
   "cell_type": "markdown",
   "metadata": {
    "id": "k24jeiSitDR_"
   },
   "source": [
    "Define the energy of given state for the Ising model: $E(s)=-\\sum_{<ij>}s_is_j$"
   ]
  },
  {
   "cell_type": "code",
   "execution_count": 13,
   "metadata": {
    "id": "J1CTzY8LvrPI"
   },
   "outputs": [],
   "source": [
    "def ising_energy(states):\n",
    "    states = 2 * states - 1\n",
    "\n",
    "    nb = np.roll(states, shift=-1, axis=1) + np.roll(states, shift=-1, axis=2)\n",
    "\n",
    "    return -np.sum(states * nb, axis=(1, 2, 3))"
   ]
  },
  {
   "cell_type": "markdown",
   "metadata": {
    "id": "31kyXyzxAteM"
   },
   "source": [
    "For now we will only consider the case $T=1$\n"
   ]
  },
  {
   "cell_type": "code",
   "execution_count": 14,
   "metadata": {
    "id": "3DwA8L7N2XbB"
   },
   "outputs": [],
   "source": [
    "temp = 1."
   ]
  },
  {
   "cell_type": "markdown",
   "metadata": {
    "id": "qoCi0HL2A16p"
   },
   "source": [
    "The physical energy is computed for train and test set."
   ]
  },
  {
   "cell_type": "code",
   "execution_count": 15,
   "metadata": {
    "colab": {
     "base_uri": "https://localhost:8080/",
     "height": 35
    },
    "id": "6ny3qOL3vl3O",
    "outputId": "6f6c75f9-0647-47f1-8884-9b1139d633da"
   },
   "outputs": [
    {
     "data": {
      "text/plain": [
       "(65536,)"
      ]
     },
     "execution_count": 15,
     "metadata": {},
     "output_type": "execute_result"
    }
   ],
   "source": [
    "E_phys_train = ising_energy(states_train)\n",
    "E_phys_test = ising_energy(states_test)\n",
    "E_phys_train.shape"
   ]
  },
  {
   "cell_type": "markdown",
   "metadata": {
    "id": "aZ0t1lhZBB4c"
   },
   "source": [
    "The CRBM will be trained by batches of 64 states."
   ]
  },
  {
   "cell_type": "code",
   "execution_count": 16,
   "metadata": {
    "colab": {
     "base_uri": "https://localhost:8080/",
     "height": 35
    },
    "id": "eSZRLeNDwxuQ",
    "outputId": "0e15dee5-f1a7-429d-9ab5-38f0bd9393bd"
   },
   "outputs": [
    {
     "data": {
      "text/plain": [
       "64"
      ]
     },
     "execution_count": 16,
     "metadata": {},
     "output_type": "execute_result"
    }
   ],
   "source": [
    "TRAIN_BUF = E_phys_train.shape[0]\n",
    "BATCH_SIZE = 2 ** 6\n",
    "N_TRAIN_BATCHES = TRAIN_BUF// BATCH_SIZE\n",
    "\n",
    "train_dataset = tf.data.Dataset.from_tensor_slices((states_train, E_phys_train)).shuffle(TRAIN_BUF).batch(BATCH_SIZE)\n",
    "BATCH_SIZE"
   ]
  },
  {
   "cell_type": "code",
   "execution_count": 17,
   "metadata": {},
   "outputs": [
    {
     "data": {
      "text/plain": [
       "<BatchDataset element_spec=(TensorSpec(shape=(None, 4, 4, 1), dtype=tf.float32, name=None), TensorSpec(shape=(None,), dtype=tf.float32, name=None))>"
      ]
     },
     "execution_count": 17,
     "metadata": {},
     "output_type": "execute_result"
    }
   ],
   "source": [
    "train_dataset"
   ]
  },
  {
   "cell_type": "markdown",
   "metadata": {
    "id": "9BzB92R0zgqs"
   },
   "source": [
    "# The Model"
   ]
  },
  {
   "cell_type": "markdown",
   "metadata": {
    "id": "dxSkWptE0hXI"
   },
   "source": [
    "Random Initializion: the kernel W with kernel_dims=(kernel_number, kernel_size) and both biases."
   ]
  },
  {
   "cell_type": "code",
   "execution_count": 18,
   "metadata": {
    "colab": {
     "base_uri": "https://localhost:8080/",
     "height": 70
    },
    "id": "a0H-WBKOx1Lv",
    "outputId": "aad6c414-1074-47b3-a371-2c4e6407d1c6"
   },
   "outputs": [
    {
     "name": "stdout",
     "output_type": "stream",
     "text": [
      "vbias.shape: (1,)\n",
      "hbias.shape: (2,)\n",
      "W.shape: (3, 3, 1, 2)\n"
     ]
    }
   ],
   "source": [
    "kernel_dims = (2, 3)\n",
    "kernel_shape = (kernel_dims[1], kernel_dims[1], 1, kernel_dims[0])\n",
    "\n",
    "multi = np.prod(kernel_shape)\n",
    "W_np = np.asarray(np.random.randn(*kernel_shape) * np.sqrt(2 / multi), dtype=floatX)\n",
    "\n",
    "W = tf.Variable(W_np * 2)\n",
    "\n",
    "vbias = tf.Variable(np.zeros(1, dtype=floatX))\n",
    "hbias = tf.Variable(np.zeros(kernel_dims[0], dtype=floatX))\n",
    "\n",
    "print(\"vbias.shape:\", vbias.shape)\n",
    "print(\"hbias.shape:\", hbias.shape)\n",
    "print(\"W.shape:\", W.shape)"
   ]
  },
  {
   "cell_type": "markdown",
   "metadata": {
    "id": "nntZbmOaK4fR"
   },
   "source": [
    "Analytical mapping from the Ising model to the CRBM (see App. C in paper):"
   ]
  },
  {
   "cell_type": "code",
   "execution_count": 19,
   "metadata": {
    "id": "Vz0-Cl8eK9dl"
   },
   "outputs": [],
   "source": [
    "def get_param(beta):\n",
    "    e4b = np.exp(4 * beta)\n",
    "    e2b = np.exp(2 * beta)\n",
    "\n",
    "    W = np.log(-1 + 2 * e4b + 2 * e2b * np.sqrt(e4b - 1))\n",
    "\n",
    "    Wk = np.zeros((2, 2, 1, 2), dtype=floatX)\n",
    "    Wk[0, :, 0, 0] = W\n",
    "    Wk[:, 0, 0, 1] = W\n",
    "\n",
    "    vbias = np.asarray([-2 * W], dtype=floatX)\n",
    "    hbias = np.array([-W, -W], dtype=floatX)\n",
    "\n",
    "    return Wk, vbias, hbias\n",
    "\n",
    "W, vbias, hbias = [tf.Variable(param) for param in get_param(1 / temp)]"
   ]
  },
  {
   "cell_type": "markdown",
   "metadata": {
    "id": "h6CTcpub1Dd8"
   },
   "source": [
    "The negative log likelihood also called free energy: \\\\\n",
    "$F(v) = -v_\\text{bias} \\sum_{i,j} v_{ij} -\\sum_{i,j,k} \\log(1+e^{(v*W^k)_{ij} +h^k_\\text{bias}})$"
   ]
  },
  {
   "cell_type": "code",
   "execution_count": 20,
   "metadata": {
    "id": "YYuxQcKzx5cd"
   },
   "outputs": [],
   "source": [
    "def n_log_like(v):\n",
    "    input4D = periodic_padding(v, kernel_dims[1])\n",
    "    kernels4D = W\n",
    "\n",
    "    # Convolution\n",
    "    out = tf.nn.conv2d(input4D, kernels4D, strides=1, padding=\"VALID\")\n",
    "    out += hbias[None, None, None, :]\n",
    "\n",
    "    # Same as softplus(x)=log(1 + exp(x))\n",
    "    hidden_term_not = tf.math.softplus(out)\n",
    "    hidden_term = tf.reduce_sum(hidden_term_not, axis=(1, 2, 3))\n",
    "\n",
    "    visible_term = tf.reduce_sum(v, axis=(1, 2)) * vbias[None, :]\n",
    "    visible_term = tf.reduce_sum(visible_term, axis=1)\n",
    "\n",
    "    return -hidden_term - visible_term"
   ]
  },
  {
   "cell_type": "markdown",
   "metadata": {
    "id": "JXdCNfJ_1dGb"
   },
   "source": [
    "$P(h|x): x \\rightarrow h$  \n",
    "$P(h^k_{ij}=1|v)=\\sigma((W^k * v)_{ij} + h_\\text{bias}^k) ) $"
   ]
  },
  {
   "cell_type": "code",
   "execution_count": 21,
   "metadata": {
    "colab": {
     "base_uri": "https://localhost:8080/",
     "height": 52
    },
    "id": "7EPUk1rvyAI3",
    "outputId": "bb6a5cae-3de5-46b9-d446-74d91dfd284c"
   },
   "outputs": [
    {
     "name": "stdout",
     "output_type": "stream",
     "text": [
      "visible_shape: (1, 4, 4, 1)\n",
      "hidden_shape: (1, 5, 5, 2)\n"
     ]
    }
   ],
   "source": [
    "def prop_vis_to_hid(v):\n",
    "    input4D = periodic_padding(v, kernel_dims[1])\n",
    "    kernels4D = W\n",
    "\n",
    "    # Convolution\n",
    "    out = tf.nn.conv2d(input4D, kernels4D, strides=1, padding=\"VALID\")\n",
    "\n",
    "    out += hbias[None, None, None, :]\n",
    "\n",
    "    mean_activation = tf.math.sigmoid(out)\n",
    "    return binomial(mean_activation), mean_activation\n",
    "\n",
    "h, act = prop_vis_to_hid(states_train[100][None])\n",
    "print(\"visible_shape:\", states_train[100][None].shape)\n",
    "print(\"hidden_shape:\", h.shape)"
   ]
  },
  {
   "cell_type": "markdown",
   "metadata": {
    "id": "OxXeic0n2Cft"
   },
   "source": [
    "$P(x|h): h \\rightarrow x$  \n",
    "$P(v_{ij}=1|h)=\\sigma((\\sum_k \\bar{W}^k * h^k)_{ij} +v_\\text{bias}))$\n"
   ]
  },
  {
   "cell_type": "code",
   "execution_count": 22,
   "metadata": {
    "id": "_0s652fiyHR6"
   },
   "outputs": [],
   "source": [
    "def prop_hid_to_vis(h):\n",
    "    input4D = periodic_padding(h, kernel_dims[1], deconv=True)\n",
    "    kernels4D = tf.transpose(W[::-1, ::-1], [0, 1, 3, 2])\n",
    "\n",
    "    # Convolution\n",
    "    out = tf.nn.conv2d(input4D, kernels4D, strides=1, padding=\"VALID\")\n",
    "\n",
    "    out += vbias[None, None, None, :]\n",
    "\n",
    "    mean_activation = tf.math.sigmoid(out)\n",
    "    return binomial(mean_activation), mean_activation"
   ]
  },
  {
   "cell_type": "markdown",
   "metadata": {
    "id": "vKCCahXU2Nj_"
   },
   "source": [
    "$P(x'|x): x \\rightarrow h\\rightarrow x'$"
   ]
  },
  {
   "cell_type": "code",
   "execution_count": 23,
   "metadata": {
    "id": "aDEsrO92yN3B"
   },
   "outputs": [],
   "source": [
    "def gibbs(state):\n",
    "    h, h_act = prop_vis_to_hid(state)\n",
    "    new_state, x_act = prop_hid_to_vis(h)\n",
    "    return new_state, x_act, h, h_act"
   ]
  },
  {
   "cell_type": "markdown",
   "metadata": {
    "id": "hxzoSUrpHMrP"
   },
   "source": [
    "Plot the intermidiary states"
   ]
  },
  {
   "cell_type": "code",
   "execution_count": 24,
   "metadata": {
    "id": "cXivV6u7_NEA"
   },
   "outputs": [],
   "source": [
    "def arrow(ax):\n",
    "    ax.arrow(0., 0.5, 0.5, 0, head_width = 0.2, width = 0.05)\n",
    "    ax.axis('off')"
   ]
  },
  {
   "cell_type": "code",
   "execution_count": 25,
   "metadata": {
    "id": "Hjw_WiaXyTKP"
   },
   "outputs": [],
   "source": [
    "def plot_sampling(x, x_act, h, h_act):\n",
    "    fig, axes = plt.subplots(nrows=3, ncols=9, figsize=(9 * 2, 3 * 2))\n",
    "    axes[1, 0].imshow(x_old[0, :, :, 0], vmin=0, vmax=1, cmap=\"gray\")\n",
    "    axes[1, 0].set_xlabel(\"x\", fontsize=20)\n",
    "    arrow(axes[1, 1])\n",
    "\n",
    "    # Remove unwanted plots\n",
    "    for ij in [(0,0), (2,0), (0,1), (2,1), (1,2), (1,3), (1, 4), (0,5), (2, 5), (0,6), (2, 6), (0, 7), (2, 7), (0, 8), (2, 8)]:\n",
    "        axes[ij[0], ij[1]].set_visible(False)\n",
    "\n",
    "    for i in range(2):\n",
    "        axes[2*i, 2].imshow(h_act[0, :, :, i], vmin=0, vmax=1, cmap=\"gray\")\n",
    "        axes[2*i, 2].set_xlabel(f'$P(h^{i}|x)$', fontsize=20)\n",
    "        \n",
    "        arrow(axes[2*i, 3])\n",
    "\n",
    "        axes[2*i, 4].imshow(h[0, :, :, i], vmin=0, vmax=1, cmap=\"gray\")\n",
    "        axes[2*i, 4].set_xlabel(f'$h^{i}$', fontsize=20)\n",
    "        \n",
    "        \n",
    "\n",
    "    arrow(axes[1, 5])\n",
    "    axes[1, 6].imshow(x_act[0, :, :, 0], vmin=0, vmax=1, cmap=\"gray\")\n",
    "    axes[1, 6].set_xlabel(\"P(x'|h)\", fontsize=20)\n",
    "\n",
    "    arrow(axes[1, 7])\n",
    "\n",
    "    axes[1, 8].imshow(x[0, :, :, 0], vmin=0, vmax=1, cmap=\"gray\")\n",
    "    axes[1, 8].set_xlabel(\"x'\", fontsize=20)\n",
    "    # Deactivate axes\n",
    "    for j in range(9):\n",
    "        for i in range(3):\n",
    "            axes[i, j].set_xticks([])\n",
    "            axes[i, j].set_yticks([])\n",
    "\n",
    "    plt.show()"
   ]
  },
  {
   "cell_type": "code",
   "execution_count": 26,
   "metadata": {
    "id": "f6pmhSnzMy4n"
   },
   "outputs": [],
   "source": [
    "x_old = np.asarray(np.random.binomial(n=1, p=0.1, size=(1, 5, 5, 1)), dtype=floatX) * 0\n",
    "x_old[0, 2, 1, 0] = 1\n",
    "x_old[0, 2, 2, 0] = 1\n",
    "x_old[0, 2, 3, 0] = 1"
   ]
  },
  {
   "cell_type": "code",
   "execution_count": 27,
   "metadata": {
    "colab": {
     "base_uri": "https://localhost:8080/",
     "height": 386
    },
    "id": "Lf3nroZRM8qY",
    "outputId": "e7a2e7a2-7937-43b0-d89c-736fc2bacba1"
   },
   "outputs": [
    {
     "data": {
      "image/png": "[encoded data removed]",
      "text/plain": [
       "<Figure size 1296x432 with 27 Axes>"
      ]
     },
     "metadata": {},
     "output_type": "display_data"
    }
   ],
   "source": [
    "#W, vbias, hbias = [tf.Variable(param) for param in get_param(1 / 100)]\n",
    "plot_sampling(*gibbs(x_old))"
   ]
  },
  {
   "cell_type": "markdown",
   "metadata": {
    "id": "dvZzNjW_2W2_"
   },
   "source": [
    "Computing the loss function:  \n",
    "$\\text{diff}(x) = E(x) - F(x)$  \n",
    "$C = \\frac{1}{M} \\sum_x \\text{diff}(x)$  \n",
    "$\\text{loss} = \\sum_x (\\text{diff}(x) - C)^2$  \n",
    "If the parameters where initialized with the analytical solution the loss will only differ slightly from zero because of numerical errors"
   ]
  },
  {
   "cell_type": "code",
   "execution_count": 28,
   "metadata": {
    "colab": {
     "base_uri": "https://localhost:8080/",
     "height": 52
    },
    "id": "expppT3Qyc48",
    "outputId": "0a225edd-932f-412a-d33b-f69802d557bd"
   },
   "outputs": [
    {
     "name": "stdout",
     "output_type": "stream",
     "text": [
      "Train_loss: 315.51495\n",
      "Test_loss: 559.17535\n"
     ]
    }
   ],
   "source": [
    "@tf.function\n",
    "def compute_loss(x, nll_phys):\n",
    "    nll_crbm = n_log_like(x)\n",
    "\n",
    "    diff = nll_phys - nll_crbm # E_phys(x) - F_RBM(x)\n",
    "    C = tf.reduce_mean(diff)\n",
    "\n",
    "    loss = tf.reduce_mean((diff - C) ** 2)\n",
    "    return loss\n",
    "\n",
    "print(\"Train_loss:\", compute_loss(states_train, E_phys_train / temp).numpy())\n",
    "print(\"Test_loss:\", compute_loss(states_test, E_phys_test / temp).numpy())"
   ]
  },
  {
   "cell_type": "markdown",
   "metadata": {
    "id": "1tazcvUJ3b4D"
   },
   "source": [
    "Initialize the adam optimizer, compute the gradients and apply them."
   ]
  },
  {
   "cell_type": "code",
   "execution_count": 29,
   "metadata": {
    "colab": {
     "base_uri": "https://localhost:8080/",
     "height": 35
    },
    "id": "5ctvr0eLymUe",
    "outputId": "42cc66cf-e7fd-4610-c057-7b04d0e74198"
   },
   "outputs": [
    {
     "data": {
      "text/plain": [
       "<tf.Tensor: shape=(), dtype=float32, numpy=315.51495>"
      ]
     },
     "execution_count": 29,
     "metadata": {},
     "output_type": "execute_result"
    }
   ],
   "source": [
    "opt = tf.keras.optimizers.Adam()\n",
    "params = [W, hbias, vbias]\n",
    "def compute_grad(x, nll_phys):\n",
    "    ### pass through network\n",
    "    with tf.GradientTape() as tape:\n",
    "        loss = compute_loss(x, nll_phys)\n",
    "\n",
    "    # compute the grad\n",
    "    grad = tape.gradient(loss, params)\n",
    "    return grad, loss\n",
    "\n",
    "@tf.function\n",
    "def train(x, nll_phys):\n",
    "    grad, loss = compute_grad(x, nll_phys)\n",
    "\n",
    "    opt.apply_gradients(zip(grad, params))\n",
    "    return loss\n",
    "\n",
    "train(states_train, E_phys_train / temp)"
   ]
  },
  {
   "cell_type": "markdown",
   "metadata": {
    "id": "-2mNJF1ixnN4"
   },
   "source": [
    "Everything combined in one class."
   ]
  },
  {
   "cell_type": "code",
   "execution_count": 217,
   "metadata": {
    "id": "Hu2rPLnOmrjh"
   },
   "outputs": [],
   "source": [
    "class CRBM:\n",
    "    def __init__(self, kernel_dims=(2, 2), opt=None):\n",
    "        \n",
    "        assert len(kernel_dims) == 2\n",
    "        if opt is None:\n",
    "            opt = tf.keras.optimizers.Adam()\n",
    "            \n",
    "        self.opt = opt\n",
    "        \n",
    "        self.kernel_shape = (kernel_dims[1], kernel_dims[1], 1, kernel_dims[0])\n",
    "        self.kernel_dims = kernel_dims\n",
    "\n",
    "\n",
    "        multi = np.prod(self.kernel_shape)\n",
    "        W_np = np.asarray(np.random.randn(*self.kernel_shape) * np.sqrt(2 / multi), dtype=floatX)\n",
    "\n",
    "        W = tf.Variable(W_np)\n",
    "\n",
    "        vbias = tf.Variable(np.zeros(1, dtype=floatX))\n",
    "        hbias = tf.Variable(np.zeros(kernel_dims[0], dtype=floatX))\n",
    "\n",
    "        self.W = W\n",
    "        self.hbias = hbias\n",
    "        self.vbias = vbias\n",
    "\n",
    "\n",
    "        # Learning parameters\n",
    "        self.params = [self.W, self.vbias, self.hbias]\n",
    "\n",
    "\n",
    "    def n_log_like(self, v):\n",
    "        input4D = periodic_padding(v, self.kernel_dims[1])\n",
    "        kernels4D = self.W\n",
    "\n",
    "        # Convolution\n",
    "        out = tf.nn.conv2d(input4D, kernels4D, strides=1, padding=\"VALID\")\n",
    "        out += self.hbias[None, None, None, :]\n",
    "\n",
    "        # Same as softplus(x)=log(1 + exp(x))\n",
    "        hidden_term_not = tf.math.softplus(out)\n",
    "        hidden_term = tf.reduce_sum(hidden_term_not, axis=(1, 2, 3))\n",
    "\n",
    "        visible_term = tf.reduce_sum(v, axis=(1, 2)) * self.vbias[None, :]\n",
    "        visible_term = tf.reduce_sum(visible_term, axis=1)\n",
    "\n",
    "        return -hidden_term - visible_term\n",
    "\n",
    "    def set_analytical_param(self, beta):\n",
    "        W, vbias, hbias = get_param(beta)\n",
    "        self.W.assign(W)\n",
    "        self.hbias.assign(hbias)\n",
    "        self.vbias.assign(vbias)\n",
    "\n",
    "    def prop_vis_to_hid(self, v):\n",
    "        input4D = periodic_padding(v, self.kernel_dims[1])\n",
    "        kernels4D = self.W\n",
    "        \n",
    "        # Convolution\n",
    "        out = tf.nn.conv2d(input4D, kernels4D, strides=1, padding=\"VALID\")\n",
    "        \n",
    "        out += self.hbias[None, None, None, :]\n",
    "        \n",
    "        mean_activation = tf.math.sigmoid(out)\n",
    "        return binomial(mean_activation)\n",
    "        \n",
    "    \n",
    "    def prop_hid_to_vis(self, h):\n",
    "        input4D = periodic_padding(h, self.kernel_dims[1], deconv=True)\n",
    "        kernels4D = tf.transpose(self.W[::-1, ::-1], [0, 1, 3, 2])\n",
    "\n",
    "        # Convolution\n",
    "        out = tf.nn.conv2d(input4D, kernels4D, strides=1, padding=\"VALID\")\n",
    "        \n",
    "        out += self.vbias[None, None, None, :]\n",
    "        \n",
    "        mean_activation = tf.math.sigmoid(out)\n",
    "        return binomial(mean_activation)\n",
    "    \n",
    "    @tf.function\n",
    "    def gibbs(self, state):\n",
    "        return self.prop_hid_to_vis(self.prop_vis_to_hid(state))\n",
    "    \n",
    "    \n",
    "    @tf.function\n",
    "    def gibbs_k(self, state, k=1):\n",
    "        \n",
    "        i = tf.constant(0)\n",
    "        cond = lambda i, state: tf.less(i, k)\n",
    "\n",
    "        def operation(i, state):\n",
    "            i += 1\n",
    "            state = self.gibbs(state)\n",
    "            return i, state\n",
    "\n",
    "        _, state = tf.while_loop(cond, operation, [i, state])\n",
    "        \n",
    "        return state\n",
    "    \n",
    "    @tf.function\n",
    "    def compute_loss(self, x, nll_phys):\n",
    "        nll_crbm = self.n_log_like(x)\n",
    "\n",
    "        diff = nll_phys - nll_crbm\n",
    "        C = tf.reduce_mean(diff)\n",
    "        \n",
    "        loss = tf.reduce_mean((diff - C) ** 2)\n",
    "        return loss\n",
    "    \n",
    "    def compute_grad(self, x, nll_phys):\n",
    "        # compute the grad\n",
    "\n",
    "        ### pass through network\n",
    "        with tf.GradientTape() as tape:\n",
    "            loss = self.compute_loss(x, nll_phys)\n",
    "\n",
    "        grad = tape.gradient(loss, self.params)\n",
    "        return grad, loss\n",
    "\n",
    "\n",
    "    @tf.function\n",
    "    def train(self, x, nll_phys):\n",
    "        grad, loss = self.compute_grad(x, nll_phys)\n",
    "\n",
    "        self.opt.apply_gradients(zip(grad, self.params))\n",
    "        return loss\n",
    "    \n",
    "    # Symmetrization functions\n",
    "    def generate_R90_groups(self):\n",
    "\n",
    "        L = self.kernel_dims[1]\n",
    "        \n",
    "        unique_vectors = []\n",
    "        length = L-1\n",
    "        for i in range(L//2):\n",
    "            for j in range(i,i+length):\n",
    "\n",
    "                unique_vectors.append([i,j])\n",
    "\n",
    "            length -= 2\n",
    "        unique_vectors = np.array(unique_vectors)\n",
    "\n",
    "        # Shift vectors to place origin at center\n",
    "        unique_vectors -= L//2\n",
    "\n",
    "        # Apply rotation matrix to get the 4 rotations\n",
    "        R = np.array([[0,1],[-1,0]])\n",
    "        rotations = np.zeros((unique_vectors.shape[0],4,2),dtype=int)\n",
    "        for i,vec in enumerate(unique_vectors):\n",
    "            for rot in range(4):\n",
    "                rotations[i][rot] = vec\n",
    "                vec = R@vec\n",
    "\n",
    "        # Shift rotationally equivalent vectors back to have center at top left corner\n",
    "        return rotations + L//2\n",
    "\n",
    "    def symmetrize_rotations(self,R90_groups):\n",
    "        for group in R90_groups:\n",
    "            W_mean = tf.zeros(kernel_dims[0])\n",
    "            for angle in range(4):\n",
    "                row,col = group[angle]\n",
    "                W_mean += self.W[row,col] \n",
    "            W_mean /= 4.0\n",
    "            print(\"W_mean:\",W_mean)\n",
    "\n",
    "            for angle in range(4):\n",
    "                row,col = group[angle]\n",
    "                crbm.W[row,col].assign(W_mean)\n",
    "\n",
    "            # DOES THIS EVEN WORK FOR MULTIPLE KERNELS?\n",
    "            # def symmetrize_rotations(self,R90_groups):\n",
    "\n",
    "    # Symmetrization functions\n",
    "    def symmetrize_reflections(self):\n",
    "        \n",
    "        kernel_size = self.kernel_dims[1]\n",
    "        \n",
    "        # Get left-half of Ising lattice\n",
    "        # print(\"kernel_size: \",kernel_size)\n",
    "        # print(\"kernel_size//2: \",kernel_size//2)\n",
    "        left_half = crbm.W[:,0:kernel_size//2,:,:]\n",
    "        right_half = crbm.W[:,kernel_size//2+1:,:,:]\n",
    "        right_half = right_half[:,::-1,:,:] # Reflection of right-half\n",
    "\n",
    "        # Take average of sites symmetrical about vertical axis\n",
    "        left_right_mean = (left_half+right_half)/2.0\n",
    "        \n",
    "        crbm.W[:,0:kernel_size//2,:,:].assign(left_right_mean)\n",
    "        crbm.W[:,kernel_size//2+1:,:,:].assign(left_right_mean[:,::-1,:,:])\n",
    "\n",
    "        \n",
    "        # return left_half,right_half,left_right_mean\n",
    "\n",
    "#         unique_vectors = []\n",
    "#         length = L-1\n",
    "#         for i in range(L//2):\n",
    "#             for j in range(i,i+length):\n",
    "\n",
    "#                 unique_vectors.append([i,j])\n",
    "\n",
    "#             length -= 2\n",
    "#         unique_vectors = np.array(unique_vectors)\n",
    "\n",
    "#         # Shift vectors to place origin at center\n",
    "#         unique_vectors -= L//2\n",
    "\n",
    "    #     # Apply rotation matrix to get the 4 rotations\n",
    "    #     R = np.array([[0,1],[-1,0]])\n",
    "    #     rotations = np.zeros((unique_vectors.shape[0],4,2),dtype=int)\n",
    "    #     for i,vec in enumerate(unique_vectors):\n",
    "    #         for rot in range(4):\n",
    "    #             rotations[i][rot] = vec\n",
    "    #             vec = R@vec\n",
    "\n",
    "        # Shift rotationally equivalent vectors back to have center at top left corner\n",
    "        # return rotations + L//2\n",
    "        # return unique_vectors"
   ]
  },
  {
   "cell_type": "markdown",
   "metadata": {
    "id": "nMFUHQ7hyNXR"
   },
   "source": [
    "# Training"
   ]
  },
  {
   "cell_type": "markdown",
   "metadata": {
    "id": "5ylnigpuBSB9"
   },
   "source": [
    "We create an CRBM object and train it. One can see that both the train_loss and the test_loss decrease simulaniously. The expected difference between the two losses should be around $\\frac{t_{test}}{t_{train}}=\\frac{N_{test}^2}{N^2_{train}}=\\frac{50^2}{3^2}=277.77$. Note that our objective is that $F_{RBM}(x)=\\beta E(x)+C$."
   ]
  },
  {
   "cell_type": "code",
   "execution_count": 218,
   "metadata": {
    "id": "Rpvy_HS-vrMf"
   },
   "outputs": [],
   "source": [
    "\n",
    "crbm = CRBM(kernel_dims=(2,5))"
   ]
  },
  {
   "cell_type": "code",
   "execution_count": 219,
   "metadata": {},
   "outputs": [
    {
     "data": {
      "text/plain": [
       "<tf.Variable 'Variable:0' shape=(5, 5, 1, 2) dtype=float32, numpy=\n",
       "array([[[[-0.0815693 ,  0.09499999]],\n",
       "\n",
       "        [[-0.04884621,  0.03554476]],\n",
       "\n",
       "        [[-0.16314794, -0.24846081]],\n",
       "\n",
       "        [[ 0.00074028, -0.19568609]],\n",
       "\n",
       "        [[ 0.25689107,  0.14488481]]],\n",
       "\n",
       "\n",
       "       [[[-0.04822239, -0.11519217]],\n",
       "\n",
       "        [[ 0.13228337,  0.24957961]],\n",
       "\n",
       "        [[ 0.04642168, -0.06892246]],\n",
       "\n",
       "        [[ 0.14924157,  0.12829804]],\n",
       "\n",
       "        [[-0.14998895, -0.12052438]]],\n",
       "\n",
       "\n",
       "       [[[ 0.01931974,  0.39123031]],\n",
       "\n",
       "        [[ 0.09128939,  0.05711309]],\n",
       "\n",
       "        [[-0.10356108,  0.03922794]],\n",
       "\n",
       "        [[ 0.01560621, -0.22194234]],\n",
       "\n",
       "        [[ 0.00678931, -0.22563182]]],\n",
       "\n",
       "\n",
       "       [[[ 0.32572377, -0.21620683]],\n",
       "\n",
       "        [[ 0.05620383, -0.16055244]],\n",
       "\n",
       "        [[ 0.2041948 , -0.3719145 ]],\n",
       "\n",
       "        [[ 0.2783836 , -0.33990842]],\n",
       "\n",
       "        [[ 0.21790676,  0.12269599]]],\n",
       "\n",
       "\n",
       "       [[[ 0.26239657, -0.06829526]],\n",
       "\n",
       "        [[-0.02705781, -0.21407418]],\n",
       "\n",
       "        [[ 0.11371923, -0.12379909]],\n",
       "\n",
       "        [[ 0.08352205, -0.00089857]],\n",
       "\n",
       "        [[-0.06965217, -0.29064536]]]], dtype=float32)>"
      ]
     },
     "execution_count": 219,
     "metadata": {},
     "output_type": "execute_result"
    }
   ],
   "source": [
    "crbm.W"
   ]
  },
  {
   "cell_type": "code",
   "execution_count": 220,
   "metadata": {},
   "outputs": [
    {
     "data": {
      "text/plain": [
       "array([[[0, 0],\n",
       "        [0, 4],\n",
       "        [4, 4],\n",
       "        [4, 0]],\n",
       "\n",
       "       [[0, 1],\n",
       "        [1, 4],\n",
       "        [4, 3],\n",
       "        [3, 0]],\n",
       "\n",
       "       [[0, 2],\n",
       "        [2, 4],\n",
       "        [4, 2],\n",
       "        [2, 0]],\n",
       "\n",
       "       [[0, 3],\n",
       "        [3, 4],\n",
       "        [4, 1],\n",
       "        [1, 0]],\n",
       "\n",
       "       [[1, 1],\n",
       "        [1, 3],\n",
       "        [3, 3],\n",
       "        [3, 1]],\n",
       "\n",
       "       [[1, 2],\n",
       "        [2, 3],\n",
       "        [3, 2],\n",
       "        [2, 1]]])"
      ]
     },
     "execution_count": 220,
     "metadata": {},
     "output_type": "execute_result"
    }
   ],
   "source": [
    "R90_groups = crbm.generate_R90_groups()\n",
    "R90_groups"
   ]
  },
  {
   "cell_type": "code",
   "execution_count": 221,
   "metadata": {},
   "outputs": [],
   "source": [
    "# crbm.symmetrize_rotations(R90_groups)"
   ]
  },
  {
   "cell_type": "code",
   "execution_count": 222,
   "metadata": {},
   "outputs": [
    {
     "data": {
      "text/plain": [
       "<tf.Variable 'Variable:0' shape=(5, 5, 1, 2) dtype=float32, numpy=\n",
       "array([[[[-0.0815693 ,  0.09499999]],\n",
       "\n",
       "        [[-0.04884621,  0.03554476]],\n",
       "\n",
       "        [[-0.16314794, -0.24846081]],\n",
       "\n",
       "        [[ 0.00074028, -0.19568609]],\n",
       "\n",
       "        [[ 0.25689107,  0.14488481]]],\n",
       "\n",
       "\n",
       "       [[[-0.04822239, -0.11519217]],\n",
       "\n",
       "        [[ 0.13228337,  0.24957961]],\n",
       "\n",
       "        [[ 0.04642168, -0.06892246]],\n",
       "\n",
       "        [[ 0.14924157,  0.12829804]],\n",
       "\n",
       "        [[-0.14998895, -0.12052438]]],\n",
       "\n",
       "\n",
       "       [[[ 0.01931974,  0.39123031]],\n",
       "\n",
       "        [[ 0.09128939,  0.05711309]],\n",
       "\n",
       "        [[-0.10356108,  0.03922794]],\n",
       "\n",
       "        [[ 0.01560621, -0.22194234]],\n",
       "\n",
       "        [[ 0.00678931, -0.22563182]]],\n",
       "\n",
       "\n",
       "       [[[ 0.32572377, -0.21620683]],\n",
       "\n",
       "        [[ 0.05620383, -0.16055244]],\n",
       "\n",
       "        [[ 0.2041948 , -0.3719145 ]],\n",
       "\n",
       "        [[ 0.2783836 , -0.33990842]],\n",
       "\n",
       "        [[ 0.21790676,  0.12269599]]],\n",
       "\n",
       "\n",
       "       [[[ 0.26239657, -0.06829526]],\n",
       "\n",
       "        [[-0.02705781, -0.21407418]],\n",
       "\n",
       "        [[ 0.11371923, -0.12379909]],\n",
       "\n",
       "        [[ 0.08352205, -0.00089857]],\n",
       "\n",
       "        [[-0.06965217, -0.29064536]]]], dtype=float32)>"
      ]
     },
     "execution_count": 222,
     "metadata": {},
     "output_type": "execute_result"
    }
   ],
   "source": [
    "crbm.W"
   ]
  },
  {
   "cell_type": "code",
   "execution_count": 223,
   "metadata": {},
   "outputs": [],
   "source": [
    "crbm.symmetrize_reflections()"
   ]
  },
  {
   "cell_type": "code",
   "execution_count": 224,
   "metadata": {},
   "outputs": [
    {
     "data": {
      "text/plain": [
       "<tf.Variable 'Variable:0' shape=(5, 5, 1, 2) dtype=float32, numpy=\n",
       "array([[[[ 0.08766089,  0.1199424 ]],\n",
       "\n",
       "        [[-0.02405296, -0.08007067]],\n",
       "\n",
       "        [[-0.16314794, -0.24846081]],\n",
       "\n",
       "        [[-0.02405296, -0.08007067]],\n",
       "\n",
       "        [[ 0.08766089,  0.1199424 ]]],\n",
       "\n",
       "\n",
       "       [[[-0.09910567, -0.11785828]],\n",
       "\n",
       "        [[ 0.14076248,  0.18893883]],\n",
       "\n",
       "        [[ 0.04642168, -0.06892246]],\n",
       "\n",
       "        [[ 0.14076248,  0.18893883]],\n",
       "\n",
       "        [[-0.09910567, -0.11785828]]],\n",
       "\n",
       "\n",
       "       [[[ 0.01305452,  0.08279925]],\n",
       "\n",
       "        [[ 0.0534478 , -0.08241462]],\n",
       "\n",
       "        [[-0.10356108,  0.03922794]],\n",
       "\n",
       "        [[ 0.0534478 , -0.08241462]],\n",
       "\n",
       "        [[ 0.01305452,  0.08279925]]],\n",
       "\n",
       "\n",
       "       [[[ 0.27181527, -0.04675542]],\n",
       "\n",
       "        [[ 0.16729373, -0.25023043]],\n",
       "\n",
       "        [[ 0.2041948 , -0.3719145 ]],\n",
       "\n",
       "        [[ 0.16729373, -0.25023043]],\n",
       "\n",
       "        [[ 0.27181527, -0.04675542]]],\n",
       "\n",
       "\n",
       "       [[[ 0.0963722 , -0.1794703 ]],\n",
       "\n",
       "        [[ 0.02823212, -0.10748637]],\n",
       "\n",
       "        [[ 0.11371923, -0.12379909]],\n",
       "\n",
       "        [[ 0.02823212, -0.10748637]],\n",
       "\n",
       "        [[ 0.0963722 , -0.1794703 ]]]], dtype=float32)>"
      ]
     },
     "execution_count": 224,
     "metadata": {},
     "output_type": "execute_result"
    }
   ],
   "source": [
    "crbm.W"
   ]
  },
  {
   "cell_type": "code",
   "execution_count": 202,
   "metadata": {
    "id": "74Luj353ygYP"
   },
   "outputs": [],
   "source": [
    "loss_train = []\n",
    "loss_test = []\n",
    "epoch = 0"
   ]
  },
  {
   "cell_type": "code",
   "execution_count": 117,
   "metadata": {
    "colab": {
     "base_uri": "https://localhost:8080/",
     "height": 317
    },
    "id": "dmVULw63xiGi",
    "outputId": "a8e40893-b4fc-4129-889b-1446fb067e86"
   },
   "outputs": [
    {
     "name": "stdout",
     "output_type": "stream",
     "text": [
      "W_mean: tf.Tensor([[ 0.03672122 -0.04429002]], shape=(1, 2), dtype=float32)\n",
      "W_mean: tf.Tensor([[-0.06792328  0.05014375]], shape=(1, 2), dtype=float32)\n",
      "W_mean: tf.Tensor([[ 0.03744629 -0.04364825]], shape=(1, 2), dtype=float32)\n",
      "W_mean: tf.Tensor([[-0.06720303  0.05089239]], shape=(1, 2), dtype=float32)\n",
      "W_mean: tf.Tensor([[ 0.0374066  -0.04365951]], shape=(1, 2), dtype=float32)\n",
      "W_mean: tf.Tensor([[-0.06724332  0.0509679 ]], shape=(1, 2), dtype=float32)\n",
      "W_mean: tf.Tensor([[ 0.03735992 -0.04365208]], shape=(1, 2), dtype=float32)\n",
      "W_mean: tf.Tensor([[-0.06734726  0.05111591]], shape=(1, 2), dtype=float32)\n",
      "W_mean: tf.Tensor([[ 0.03756849 -0.04341399]], shape=(1, 2), dtype=float32)\n",
      "W_mean: tf.Tensor([[-0.06721215  0.05148617]], shape=(1, 2), dtype=float32)\n",
      "W_mean: tf.Tensor([[ 0.03783679 -0.04314255]], shape=(1, 2), dtype=float32)\n",
      "W_mean: tf.Tensor([[-0.06701735  0.05189948]], shape=(1, 2), dtype=float32)\n",
      "W_mean: tf.Tensor([[ 0.03831523 -0.04267742]], shape=(1, 2), dtype=float32)\n",
      "W_mean: tf.Tensor([[-0.06663062  0.0524926 ]], shape=(1, 2), dtype=float32)\n",
      "W_mean: tf.Tensor([[ 0.03875265 -0.04224854]], shape=(1, 2), dtype=float32)\n",
      "W_mean: tf.Tensor([[-0.0662939   0.05306944]], shape=(1, 2), dtype=float32)\n",
      "W_mean: tf.Tensor([[ 0.03912077 -0.04187376]], shape=(1, 2), dtype=float32)\n",
      "W_mean: tf.Tensor([[-0.06602225  0.05360076]], shape=(1, 2), dtype=float32)\n",
      "W_mean: tf.Tensor([[ 0.03949587 -0.04148422]], shape=(1, 2), dtype=float32)\n",
      "W_mean: tf.Tensor([[-0.06575004  0.05414087]], shape=(1, 2), dtype=float32)\n",
      "W_mean: tf.Tensor([[ 0.04000734 -0.04097252]], shape=(1, 2), dtype=float32)\n",
      "W_mean: tf.Tensor([[-0.06534684  0.05478425]], shape=(1, 2), dtype=float32)\n",
      "W_mean: tf.Tensor([[ 0.04051043 -0.04048744]], shape=(1, 2), dtype=float32)\n",
      "W_mean: tf.Tensor([[-0.06496075  0.05540846]], shape=(1, 2), dtype=float32)\n",
      "W_mean: tf.Tensor([[ 0.04110105 -0.03991843]], shape=(1, 2), dtype=float32)\n",
      "W_mean: tf.Tensor([[-0.06447068  0.05611601]], shape=(1, 2), dtype=float32)\n",
      "W_mean: tf.Tensor([[ 0.041711   -0.03933774]], shape=(1, 2), dtype=float32)\n",
      "W_mean: tf.Tensor([[-0.06394875  0.05683868]], shape=(1, 2), dtype=float32)\n",
      "W_mean: tf.Tensor([[ 0.04233472 -0.03874224]], shape=(1, 2), dtype=float32)\n",
      "W_mean: tf.Tensor([[-0.06339691  0.05756687]], shape=(1, 2), dtype=float32)\n",
      "W_mean: tf.Tensor([[ 0.04283075 -0.0382833 ]], shape=(1, 2), dtype=float32)\n",
      "W_mean: tf.Tensor([[-0.06300102  0.05819393]], shape=(1, 2), dtype=float32)\n",
      "W_mean: tf.Tensor([[ 0.04312921 -0.0380148 ]], shape=(1, 2), dtype=float32)\n",
      "W_mean: tf.Tensor([[-0.06282949  0.05865737]], shape=(1, 2), dtype=float32)\n",
      "W_mean: tf.Tensor([[ 0.04343919 -0.03776781]], shape=(1, 2), dtype=float32)\n",
      "W_mean: tf.Tensor([[-0.06268531  0.05911983]], shape=(1, 2), dtype=float32)\n",
      "W_mean: tf.Tensor([[ 0.04369331 -0.03755628]], shape=(1, 2), dtype=float32)\n",
      "W_mean: tf.Tensor([[-0.06257632  0.05953835]], shape=(1, 2), dtype=float32)\n",
      "W_mean: tf.Tensor([[ 0.04370167 -0.03757791]], shape=(1, 2), dtype=float32)\n",
      "W_mean: tf.Tensor([[-0.06272491  0.05971006]], shape=(1, 2), dtype=float32)\n",
      "W_mean: tf.Tensor([[ 0.04369132 -0.03761686]], shape=(1, 2), dtype=float32)\n",
      "W_mean: tf.Tensor([[-0.06288569  0.05986138]], shape=(1, 2), dtype=float32)\n",
      "W_mean: tf.Tensor([[ 0.04376335 -0.03757989]], shape=(1, 2), dtype=float32)\n",
      "W_mean: tf.Tensor([[-0.06295815  0.06008232]], shape=(1, 2), dtype=float32)\n",
      "W_mean: tf.Tensor([[ 0.04387083 -0.03748428]], shape=(1, 2), dtype=float32)\n",
      "W_mean: tf.Tensor([[-0.06299072  0.06035129]], shape=(1, 2), dtype=float32)\n",
      "W_mean: tf.Tensor([[ 0.04391218 -0.03747559]], shape=(1, 2), dtype=float32)\n",
      "W_mean: tf.Tensor([[-0.06313272  0.06055913]], shape=(1, 2), dtype=float32)\n",
      "W_mean: tf.Tensor([[ 0.04387547 -0.03753828]], shape=(1, 2), dtype=float32)\n",
      "W_mean: tf.Tensor([[-0.0633761   0.06072253]], shape=(1, 2), dtype=float32)\n",
      "W_mean: tf.Tensor([[ 0.04394856 -0.0375215 ]], shape=(1, 2), dtype=float32)\n",
      "W_mean: tf.Tensor([[-0.06355105  0.06098897]], shape=(1, 2), dtype=float32)\n",
      "W_mean: tf.Tensor([[ 0.04392458 -0.03759444]], shape=(1, 2), dtype=float32)\n",
      "W_mean: tf.Tensor([[-0.06381389  0.06115507]], shape=(1, 2), dtype=float32)\n",
      "W_mean: tf.Tensor([[ 0.04399845 -0.03756065]], shape=(1, 2), dtype=float32)\n",
      "W_mean: tf.Tensor([[-0.06396211  0.06143281]], shape=(1, 2), dtype=float32)\n",
      "W_mean: tf.Tensor([[ 0.04410105 -0.0374659 ]], shape=(1, 2), dtype=float32)\n",
      "W_mean: tf.Tensor([[-0.06404068  0.06174394]], shape=(1, 2), dtype=float32)\n",
      "W_mean: tf.Tensor([[ 0.04425766 -0.03731994]], shape=(1, 2), dtype=float32)\n",
      "W_mean: tf.Tensor([[-0.06405902  0.0621024 ]], shape=(1, 2), dtype=float32)\n",
      "W_mean: tf.Tensor([[ 0.04425842 -0.03729101]], shape=(1, 2), dtype=float32)\n",
      "W_mean: tf.Tensor([[-0.06420279  0.06231722]], shape=(1, 2), dtype=float32)\n",
      "W_mean: tf.Tensor([[ 0.04440129 -0.03711404]], shape=(1, 2), dtype=float32)\n",
      "W_mean: tf.Tensor([[-0.0642044   0.06266843]], shape=(1, 2), dtype=float32)\n",
      "W_mean: tf.Tensor([[ 0.044542   -0.03693504]], shape=(1, 2), dtype=float32)\n",
      "W_mean: tf.Tensor([[-0.06419768  0.06302086]], shape=(1, 2), dtype=float32)\n",
      "W_mean: tf.Tensor([[ 0.04467704 -0.03676272]], shape=(1, 2), dtype=float32)\n",
      "W_mean: tf.Tensor([[-0.06418875  0.06338225]], shape=(1, 2), dtype=float32)\n",
      "W_mean: tf.Tensor([[ 0.04465453 -0.03673714]], shape=(1, 2), dtype=float32)\n",
      "W_mean: tf.Tensor([[-0.06431237  0.06358889]], shape=(1, 2), dtype=float32)\n",
      "W_mean: tf.Tensor([[ 0.04452575 -0.03680741]], shape=(1, 2), dtype=float32)\n",
      "W_mean: tf.Tensor([[-0.06453309  0.06369142]], shape=(1, 2), dtype=float32)\n",
      "W_mean: tf.Tensor([[ 0.04465715 -0.03661397]], shape=(1, 2), dtype=float32)\n",
      "W_mean: tf.Tensor([[-0.06447628  0.06403976]], shape=(1, 2), dtype=float32)\n",
      "W_mean: tf.Tensor([[ 0.04474484 -0.03646802]], shape=(1, 2), dtype=float32)\n",
      "W_mean: tf.Tensor([[-0.06445649  0.06434895]], shape=(1, 2), dtype=float32)\n",
      "W_mean: tf.Tensor([[ 0.04479267 -0.03634886]], shape=(1, 2), dtype=float32)\n",
      "W_mean: tf.Tensor([[-0.06446745  0.0646283 ]], shape=(1, 2), dtype=float32)\n",
      "W_mean: tf.Tensor([[ 0.04499755 -0.03606717]], shape=(1, 2), dtype=float32)\n",
      "W_mean: tf.Tensor([[-0.06431339  0.0650605 ]], shape=(1, 2), dtype=float32)\n",
      "W_mean: tf.Tensor([[ 0.04508987 -0.03588685]], shape=(1, 2), dtype=float32)\n",
      "W_mean: tf.Tensor([[-0.06426246  0.06537798]], shape=(1, 2), dtype=float32)\n",
      "W_mean: tf.Tensor([[ 0.04531299 -0.03558329]], shape=(1, 2), dtype=float32)\n",
      "W_mean: tf.Tensor([[-0.06409508  0.06581266]], shape=(1, 2), dtype=float32)\n",
      "W_mean: tf.Tensor([[ 0.04553912 -0.03527454]], shape=(1, 2), dtype=float32)\n",
      "W_mean: tf.Tensor([[-0.06392881  0.06625368]], shape=(1, 2), dtype=float32)\n",
      "W_mean: tf.Tensor([[ 0.04562689 -0.03509286]], shape=(1, 2), dtype=float32)\n",
      "W_mean: tf.Tensor([[-0.06388923  0.06655759]], shape=(1, 2), dtype=float32)\n",
      "W_mean: tf.Tensor([[ 0.04584107 -0.03476052]], shape=(1, 2), dtype=float32)\n",
      "W_mean: tf.Tensor([[-0.06374185  0.06700952]], shape=(1, 2), dtype=float32)\n",
      "W_mean: tf.Tensor([[ 0.04606776 -0.03441191]], shape=(1, 2), dtype=float32)\n",
      "W_mean: tf.Tensor([[-0.06358011  0.06747878]], shape=(1, 2), dtype=float32)\n",
      "W_mean: tf.Tensor([[ 0.0462079  -0.03413019]], shape=(1, 2), dtype=float32)\n",
      "W_mean: tf.Tensor([[-0.06349035  0.06788114]], shape=(1, 2), dtype=float32)\n",
      "W_mean: tf.Tensor([[ 0.04628563 -0.033915  ]], shape=(1, 2), dtype=float32)\n",
      "W_mean: tf.Tensor([[-0.06346507  0.06821947]], shape=(1, 2), dtype=float32)\n",
      "W_mean: tf.Tensor([[ 0.04633897 -0.03373177]], shape=(1, 2), dtype=float32)\n",
      "W_mean: tf.Tensor([[-0.06346235  0.06852368]], shape=(1, 2), dtype=float32)\n",
      "W_mean: tf.Tensor([[ 0.04643475 -0.03351307]], shape=(1, 2), dtype=float32)\n",
      "W_mean: tf.Tensor([[-0.06340507  0.06886148]], shape=(1, 2), dtype=float32)\n",
      "W_mean: tf.Tensor([[ 0.04652091 -0.03330954]], shape=(1, 2), dtype=float32)\n",
      "W_mean: tf.Tensor([[-0.06336797  0.06919215]], shape=(1, 2), dtype=float32)\n",
      "W_mean: tf.Tensor([[ 0.04649848 -0.03319241]], shape=(1, 2), dtype=float32)\n",
      "W_mean: tf.Tensor([[-0.06344576  0.06944464]], shape=(1, 2), dtype=float32)\n",
      "W_mean: tf.Tensor([[ 0.04671188 -0.03282399]], shape=(1, 2), dtype=float32)\n",
      "W_mean: tf.Tensor([[-0.06327442  0.069935  ]], shape=(1, 2), dtype=float32)\n",
      "W_mean: tf.Tensor([[ 0.04698812 -0.03239196]], shape=(1, 2), dtype=float32)\n",
      "W_mean: tf.Tensor([[-0.06300876  0.07048247]], shape=(1, 2), dtype=float32)\n",
      "W_mean: tf.Tensor([[ 0.04715271 -0.03209754]], shape=(1, 2), dtype=float32)\n",
      "W_mean: tf.Tensor([[-0.06286642  0.0708947 ]], shape=(1, 2), dtype=float32)\n",
      "W_mean: tf.Tensor([[ 0.04729334 -0.03184236]], shape=(1, 2), dtype=float32)\n",
      "W_mean: tf.Tensor([[-0.06276537  0.07128038]], shape=(1, 2), dtype=float32)\n",
      "W_mean: tf.Tensor([[ 0.0475232  -0.03145978]], shape=(1, 2), dtype=float32)\n",
      "W_mean: tf.Tensor([[-0.06254986  0.07178597]], shape=(1, 2), dtype=float32)\n",
      "W_mean: tf.Tensor([[ 0.0478834  -0.03094733]], shape=(1, 2), dtype=float32)\n",
      "W_mean: tf.Tensor([[-0.06222435  0.07242645]], shape=(1, 2), dtype=float32)\n",
      "W_mean: tf.Tensor([[ 0.04817057 -0.03052758]], shape=(1, 2), dtype=float32)\n",
      "W_mean: tf.Tensor([[-0.06198748  0.07298753]], shape=(1, 2), dtype=float32)\n",
      "W_mean: tf.Tensor([[ 0.04820498 -0.03033866]], shape=(1, 2), dtype=float32)\n",
      "W_mean: tf.Tensor([[-0.06197754  0.07329801]], shape=(1, 2), dtype=float32)\n",
      "W_mean: tf.Tensor([[ 0.0482618  -0.03011238]], shape=(1, 2), dtype=float32)\n",
      "W_mean: tf.Tensor([[-0.06194687  0.0736443 ]], shape=(1, 2), dtype=float32)\n",
      "W_mean: tf.Tensor([[ 0.04831519 -0.02987242]], shape=(1, 2), dtype=float32)\n",
      "W_mean: tf.Tensor([[-0.06192055  0.07401819]], shape=(1, 2), dtype=float32)\n",
      "W_mean: tf.Tensor([[ 0.04832781 -0.02965907]], shape=(1, 2), dtype=float32)\n",
      "W_mean: tf.Tensor([[-0.06193142  0.07437671]], shape=(1, 2), dtype=float32)\n",
      "W_mean: tf.Tensor([[ 0.04838435 -0.02942793]], shape=(1, 2), dtype=float32)\n",
      "W_mean: tf.Tensor([[-0.0619275   0.07476563]], shape=(1, 2), dtype=float32)\n",
      "W_mean: tf.Tensor([[ 0.04849233 -0.02915062]], shape=(1, 2), dtype=float32)\n",
      "W_mean: tf.Tensor([[-0.06188331  0.075196  ]], shape=(1, 2), dtype=float32)\n",
      "W_mean: tf.Tensor([[ 0.04867298 -0.02881688]], shape=(1, 2), dtype=float32)\n",
      "W_mean: tf.Tensor([[-0.06176118  0.07568254]], shape=(1, 2), dtype=float32)\n",
      "W_mean: tf.Tensor([[ 0.04887458 -0.02845191]], shape=(1, 2), dtype=float32)\n",
      "W_mean: tf.Tensor([[-0.06162018  0.07620221]], shape=(1, 2), dtype=float32)\n",
      "W_mean: tf.Tensor([[ 0.04895429 -0.02822647]], shape=(1, 2), dtype=float32)\n",
      "W_mean: tf.Tensor([[-0.06160274  0.07658223]], shape=(1, 2), dtype=float32)\n",
      "W_mean: tf.Tensor([[ 0.04904709 -0.0279771 ]], shape=(1, 2), dtype=float32)\n",
      "W_mean: tf.Tensor([[-0.06156649  0.07698608]], shape=(1, 2), dtype=float32)\n",
      "W_mean: tf.Tensor([[ 0.04927801 -0.02756649]], shape=(1, 2), dtype=float32)\n",
      "W_mean: tf.Tensor([[-0.06138073  0.07754427]], shape=(1, 2), dtype=float32)\n",
      "W_mean: tf.Tensor([[ 0.0495808  -0.02707678]], shape=(1, 2), dtype=float32)\n",
      "W_mean: tf.Tensor([[-0.06110803  0.07818032]], shape=(1, 2), dtype=float32)\n",
      "W_mean: tf.Tensor([[ 0.04977208 -0.0267204 ]], shape=(1, 2), dtype=float32)\n",
      "W_mean: tf.Tensor([[-0.06095338  0.07868952]], shape=(1, 2), dtype=float32)\n",
      "W_mean: tf.Tensor([[ 0.04997537 -0.02635363]], shape=(1, 2), dtype=float32)\n",
      "W_mean: tf.Tensor([[-0.0607895   0.07920975]], shape=(1, 2), dtype=float32)\n",
      "W_mean: tf.Tensor([[ 0.05011926 -0.02605282]], shape=(1, 2), dtype=float32)\n",
      "W_mean: tf.Tensor([[-0.06069074  0.07966327]], shape=(1, 2), dtype=float32)\n",
      "W_mean: tf.Tensor([[ 0.05007539 -0.02595682]], shape=(1, 2), dtype=float32)\n",
      "W_mean: tf.Tensor([[-0.06078581  0.07991142]], shape=(1, 2), dtype=float32)\n",
      "W_mean: tf.Tensor([[ 0.05006811 -0.02583888]], shape=(1, 2), dtype=float32)\n",
      "W_mean: tf.Tensor([[-0.0608483   0.08018975]], shape=(1, 2), dtype=float32)\n",
      "W_mean: tf.Tensor([[ 0.04999206 -0.02580185]], shape=(1, 2), dtype=float32)\n",
      "W_mean: tf.Tensor([[-0.0609834   0.08038256]], shape=(1, 2), dtype=float32)\n",
      "W_mean: tf.Tensor([[ 0.04991787 -0.02575795]], shape=(1, 2), dtype=float32)\n",
      "W_mean: tf.Tensor([[-0.0610964   0.08057697]], shape=(1, 2), dtype=float32)\n",
      "W_mean: tf.Tensor([[ 0.04954795 -0.0260001 ]], shape=(1, 2), dtype=float32)\n",
      "W_mean: tf.Tensor([[-0.0614889   0.08047551]], shape=(1, 2), dtype=float32)\n",
      "W_mean: tf.Tensor([[ 0.04915483 -0.02627852]], shape=(1, 2), dtype=float32)\n",
      "W_mean: tf.Tensor([[-0.0619024   0.08033955]], shape=(1, 2), dtype=float32)\n",
      "W_mean: tf.Tensor([[ 0.04877208 -0.02655785]], shape=(1, 2), dtype=float32)\n",
      "W_mean: tf.Tensor([[-0.06230577  0.08019638]], shape=(1, 2), dtype=float32)\n",
      "W_mean: tf.Tensor([[ 0.04842795 -0.02681452]], shape=(1, 2), dtype=float32)\n",
      "W_mean: tf.Tensor([[-0.06268203  0.0800801 ]], shape=(1, 2), dtype=float32)\n",
      "W_mean: tf.Tensor([[ 0.0481172  -0.02703755]], shape=(1, 2), dtype=float32)\n",
      "W_mean: tf.Tensor([[-0.06301853  0.08000447]], shape=(1, 2), dtype=float32)\n",
      "W_mean: tf.Tensor([[ 0.04781235 -0.02722925]], shape=(1, 2), dtype=float32)\n",
      "W_mean: tf.Tensor([[-0.06332969  0.079943  ]], shape=(1, 2), dtype=float32)\n",
      "W_mean: tf.Tensor([[ 0.04741763 -0.02751675]], shape=(1, 2), dtype=float32)\n",
      "W_mean: tf.Tensor([[-0.06373152  0.0797731 ]], shape=(1, 2), dtype=float32)\n",
      "W_mean: tf.Tensor([[ 0.04697657 -0.02782895]], shape=(1, 2), dtype=float32)\n",
      "W_mean: tf.Tensor([[-0.06418581  0.07957733]], shape=(1, 2), dtype=float32)\n",
      "W_mean: tf.Tensor([[ 0.04640426 -0.02827183]], shape=(1, 2), dtype=float32)\n",
      "W_mean: tf.Tensor([[-0.0647741   0.07924773]], shape=(1, 2), dtype=float32)\n",
      "W_mean: tf.Tensor([[ 0.04584029 -0.02868618]], shape=(1, 2), dtype=float32)\n",
      "W_mean: tf.Tensor([[-0.06536489  0.0789475 ]], shape=(1, 2), dtype=float32)\n",
      "W_mean: tf.Tensor([[ 0.04537576 -0.02902921]], shape=(1, 2), dtype=float32)\n",
      "W_mean: tf.Tensor([[-0.06587379  0.07873566]], shape=(1, 2), dtype=float32)\n",
      "W_mean: tf.Tensor([[ 0.04487655 -0.02942543]], shape=(1, 2), dtype=float32)\n",
      "W_mean: tf.Tensor([[-0.06641394  0.07846662]], shape=(1, 2), dtype=float32)\n",
      "W_mean: tf.Tensor([[ 0.04452102 -0.02965675]], shape=(1, 2), dtype=float32)\n",
      "W_mean: tf.Tensor([[-0.06680891  0.07836286]], shape=(1, 2), dtype=float32)\n",
      "W_mean: tf.Tensor([[ 0.04419845 -0.02985714]], shape=(1, 2), dtype=float32)\n",
      "W_mean: tf.Tensor([[-0.06715359  0.07828103]], shape=(1, 2), dtype=float32)\n",
      "W_mean: tf.Tensor([[ 0.04378109 -0.03014819]], shape=(1, 2), dtype=float32)\n",
      "W_mean: tf.Tensor([[-0.06759062  0.07810251]], shape=(1, 2), dtype=float32)\n",
      "W_mean: tf.Tensor([[ 0.04330375 -0.03052904]], shape=(1, 2), dtype=float32)\n",
      "W_mean: tf.Tensor([[-0.06808806  0.07784259]], shape=(1, 2), dtype=float32)\n",
      "W_mean: tf.Tensor([[ 0.04287305 -0.03085618]], shape=(1, 2), dtype=float32)\n",
      "W_mean: tf.Tensor([[-0.06853642  0.07762884]], shape=(1, 2), dtype=float32)\n",
      "W_mean: tf.Tensor([[ 0.04244258 -0.03119717]], shape=(1, 2), dtype=float32)\n",
      "W_mean: tf.Tensor([[-0.06896944  0.07739524]], shape=(1, 2), dtype=float32)\n",
      "W_mean: tf.Tensor([[ 0.04190159 -0.03163676]], shape=(1, 2), dtype=float32)\n",
      "W_mean: tf.Tensor([[-0.06953368  0.07706638]], shape=(1, 2), dtype=float32)\n",
      "W_mean: tf.Tensor([[ 0.04130454 -0.03212583]], shape=(1, 2), dtype=float32)\n",
      "W_mean: tf.Tensor([[-0.07014535  0.07667527]], shape=(1, 2), dtype=float32)\n",
      "W_mean: tf.Tensor([[ 0.0405945  -0.03273517]], shape=(1, 2), dtype=float32)\n",
      "W_mean: tf.Tensor([[-0.0708786   0.07615799]], shape=(1, 2), dtype=float32)\n",
      "W_mean: tf.Tensor([[ 0.03997704 -0.03322087]], shape=(1, 2), dtype=float32)\n",
      "W_mean: tf.Tensor([[-0.07151585  0.07577739]], shape=(1, 2), dtype=float32)\n",
      "W_mean: tf.Tensor([[ 0.03938329 -0.03373689]], shape=(1, 2), dtype=float32)\n",
      "W_mean: tf.Tensor([[-0.07216424  0.07537389]], shape=(1, 2), dtype=float32)\n",
      "W_mean: tf.Tensor([[ 0.03884146 -0.03418849]], shape=(1, 2), dtype=float32)\n",
      "W_mean: tf.Tensor([[-0.07275015  0.07502761]], shape=(1, 2), dtype=float32)\n",
      "W_mean: tf.Tensor([[ 0.03832418 -0.03461053]], shape=(1, 2), dtype=float32)\n",
      "W_mean: tf.Tensor([[-0.07330228  0.07470923]], shape=(1, 2), dtype=float32)\n",
      "W_mean: tf.Tensor([[ 0.03788364 -0.03494668]], shape=(1, 2), dtype=float32)\n",
      "W_mean: tf.Tensor([[-0.07377635  0.07447775]], shape=(1, 2), dtype=float32)\n",
      "W_mean: tf.Tensor([[ 0.0374788 -0.0352524]], shape=(1, 2), dtype=float32)\n",
      "W_mean: tf.Tensor([[-0.07421245  0.0742877 ]], shape=(1, 2), dtype=float32)\n",
      "W_mean: tf.Tensor([[ 0.03706247 -0.03554224]], shape=(1, 2), dtype=float32)\n",
      "W_mean: tf.Tensor([[-0.07466407  0.07412423]], shape=(1, 2), dtype=float32)\n",
      "W_mean: tf.Tensor([[ 0.03667618 -0.03572216]], shape=(1, 2), dtype=float32)\n",
      "W_mean: tf.Tensor([[-0.07506209  0.07406686]], shape=(1, 2), dtype=float32)\n",
      "W_mean: tf.Tensor([[ 0.03632844 -0.0358738 ]], shape=(1, 2), dtype=float32)\n",
      "W_mean: tf.Tensor([[-0.07542563  0.07403559]], shape=(1, 2), dtype=float32)\n",
      "W_mean: tf.Tensor([[ 0.0360394  -0.03595316]], shape=(1, 2), dtype=float32)\n",
      "W_mean: tf.Tensor([[-0.07572002  0.0740715 ]], shape=(1, 2), dtype=float32)\n",
      "W_mean: tf.Tensor([[ 0.03587911 -0.03586569]], shape=(1, 2), dtype=float32)\n",
      "W_mean: tf.Tensor([[-0.07591753  0.07429056]], shape=(1, 2), dtype=float32)\n",
      "W_mean: tf.Tensor([[ 0.03565401 -0.03587879]], shape=(1, 2), dtype=float32)\n",
      "W_mean: tf.Tensor([[-0.07620354  0.07440566]], shape=(1, 2), dtype=float32)\n",
      "W_mean: tf.Tensor([[ 0.03549234 -0.03584551]], shape=(1, 2), dtype=float32)\n",
      "W_mean: tf.Tensor([[-0.07642601  0.07457062]], shape=(1, 2), dtype=float32)\n",
      "W_mean: tf.Tensor([[ 0.03541181 -0.03566575]], shape=(1, 2), dtype=float32)\n",
      "W_mean: tf.Tensor([[-0.07655364  0.0748755 ]], shape=(1, 2), dtype=float32)\n",
      "W_mean: tf.Tensor([[ 0.03524695 -0.03560039]], shape=(1, 2), dtype=float32)\n",
      "W_mean: tf.Tensor([[-0.07677153  0.07506455]], shape=(1, 2), dtype=float32)\n",
      "W_mean: tf.Tensor([[ 0.03511454 -0.03547743]], shape=(1, 2), dtype=float32)\n",
      "W_mean: tf.Tensor([[-0.07694848  0.07531047]], shape=(1, 2), dtype=float32)\n",
      "W_mean: tf.Tensor([[ 0.03514195 -0.03508151]], shape=(1, 2), dtype=float32)\n",
      "W_mean: tf.Tensor([[-0.07696252  0.07582012]], shape=(1, 2), dtype=float32)\n",
      "W_mean: tf.Tensor([[ 0.03516774 -0.034713  ]], shape=(1, 2), dtype=float32)\n",
      "W_mean: tf.Tensor([[-0.076983    0.07629946]], shape=(1, 2), dtype=float32)\n",
      "W_mean: tf.Tensor([[ 0.0352104  -0.03434787]], shape=(1, 2), dtype=float32)\n",
      "W_mean: tf.Tensor([[-0.07697451  0.07677948]], shape=(1, 2), dtype=float32)\n",
      "W_mean: tf.Tensor([[ 0.03518025 -0.03409331]], shape=(1, 2), dtype=float32)\n",
      "W_mean: tf.Tensor([[-0.0770421   0.07714418]], shape=(1, 2), dtype=float32)\n",
      "W_mean: tf.Tensor([[ 0.03509335 -0.03389712]], shape=(1, 2), dtype=float32)\n",
      "W_mean: tf.Tensor([[-0.07715949  0.07745218]], shape=(1, 2), dtype=float32)\n",
      "W_mean: tf.Tensor([[ 0.03499545 -0.03369771]], shape=(1, 2), dtype=float32)\n",
      "W_mean: tf.Tensor([[-0.07727469  0.07775698]], shape=(1, 2), dtype=float32)\n",
      "W_mean: tf.Tensor([[ 0.03480886 -0.03358882]], shape=(1, 2), dtype=float32)\n",
      "W_mean: tf.Tensor([[-0.07746623  0.07797031]], shape=(1, 2), dtype=float32)\n",
      "W_mean: tf.Tensor([[ 0.03457474 -0.03355833]], shape=(1, 2), dtype=float32)\n",
      "W_mean: tf.Tensor([[-0.0777121   0.07810034]], shape=(1, 2), dtype=float32)\n",
      "W_mean: tf.Tensor([[ 0.03429228 -0.03353693]], shape=(1, 2), dtype=float32)\n",
      "W_mean: tf.Tensor([[-0.07800254  0.07820937]], shape=(1, 2), dtype=float32)\n",
      "W_mean: tf.Tensor([[ 0.0340443  -0.03340276]], shape=(1, 2), dtype=float32)\n",
      "W_mean: tf.Tensor([[-0.07826652  0.07843507]], shape=(1, 2), dtype=float32)\n",
      "W_mean: tf.Tensor([[ 0.03372633 -0.03334471]], shape=(1, 2), dtype=float32)\n",
      "W_mean: tf.Tensor([[-0.07857189  0.07858893]], shape=(1, 2), dtype=float32)\n",
      "W_mean: tf.Tensor([[ 0.03351615 -0.03312565]], shape=(1, 2), dtype=float32)\n",
      "W_mean: tf.Tensor([[-0.07877457  0.07890412]], shape=(1, 2), dtype=float32)\n",
      "W_mean: tf.Tensor([[ 0.03330135 -0.03292954]], shape=(1, 2), dtype=float32)\n",
      "W_mean: tf.Tensor([[-0.07898097  0.07918997]], shape=(1, 2), dtype=float32)\n",
      "W_mean: tf.Tensor([[ 0.03320041 -0.03256109]], shape=(1, 2), dtype=float32)\n",
      "W_mean: tf.Tensor([[-0.07908157  0.0796542 ]], shape=(1, 2), dtype=float32)\n",
      "W_mean: tf.Tensor([[ 0.03309222 -0.03225828]], shape=(1, 2), dtype=float32)\n",
      "W_mean: tf.Tensor([[-0.07919825  0.08006376]], shape=(1, 2), dtype=float32)\n",
      "W_mean: tf.Tensor([[ 0.03294365 -0.03201187]], shape=(1, 2), dtype=float32)\n",
      "W_mean: tf.Tensor([[-0.07935131  0.08041991]], shape=(1, 2), dtype=float32)\n",
      "W_mean: tf.Tensor([[ 0.03279747 -0.03172801]], shape=(1, 2), dtype=float32)\n",
      "W_mean: tf.Tensor([[-0.07950105  0.08080932]], shape=(1, 2), dtype=float32)\n",
      "W_mean: tf.Tensor([[ 0.03275786 -0.03128364]], shape=(1, 2), dtype=float32)\n",
      "W_mean: tf.Tensor([[-0.07954732  0.08137521]], shape=(1, 2), dtype=float32)\n",
      "W_mean: tf.Tensor([[ 0.03260209 -0.0310362 ]], shape=(1, 2), dtype=float32)\n",
      "W_mean: tf.Tensor([[-0.07971811  0.08174592]], shape=(1, 2), dtype=float32)\n",
      "W_mean: tf.Tensor([[ 0.03240899 -0.03082643]], shape=(1, 2), dtype=float32)\n",
      "W_mean: tf.Tensor([[-0.0799114   0.08206542]], shape=(1, 2), dtype=float32)\n",
      "W_mean: tf.Tensor([[ 0.03230273 -0.03049111]], shape=(1, 2), dtype=float32)\n",
      "W_mean: tf.Tensor([[-0.08002035  0.08250728]], shape=(1, 2), dtype=float32)\n",
      "W_mean: tf.Tensor([[ 0.0320765  -0.03037664]], shape=(1, 2), dtype=float32)\n",
      "W_mean: tf.Tensor([[-0.08026591  0.0827266 ]], shape=(1, 2), dtype=float32)\n",
      "W_mean: tf.Tensor([[ 0.03182342 -0.03031339]], shape=(1, 2), dtype=float32)\n",
      "W_mean: tf.Tensor([[-0.08052322  0.08289397]], shape=(1, 2), dtype=float32)\n",
      "W_mean: tf.Tensor([[ 0.03162755 -0.03013156]], shape=(1, 2), dtype=float32)\n",
      "W_mean: tf.Tensor([[-0.08071551  0.08318828]], shape=(1, 2), dtype=float32)\n",
      "W_mean: tf.Tensor([[ 0.03140719 -0.02993087]], shape=(1, 2), dtype=float32)\n",
      "W_mean: tf.Tensor([[-0.08092048  0.0834983 ]], shape=(1, 2), dtype=float32)\n",
      "W_mean: tf.Tensor([[ 0.03108569 -0.02988581]], shape=(1, 2), dtype=float32)\n",
      "W_mean: tf.Tensor([[-0.08121987  0.08364638]], shape=(1, 2), dtype=float32)\n",
      "W_mean: tf.Tensor([[ 0.03076634 -0.0298402 ]], shape=(1, 2), dtype=float32)\n",
      "W_mean: tf.Tensor([[-0.08150302  0.08379077]], shape=(1, 2), dtype=float32)\n",
      "W_mean: tf.Tensor([[ 0.03044838 -0.02981066]], shape=(1, 2), dtype=float32)\n",
      "W_mean: tf.Tensor([[-0.08178319  0.08392197]], shape=(1, 2), dtype=float32)\n",
      "W_mean: tf.Tensor([[ 0.03015737 -0.0297332 ]], shape=(1, 2), dtype=float32)\n",
      "W_mean: tf.Tensor([[-0.08202556  0.08410158]], shape=(1, 2), dtype=float32)\n",
      "W_mean: tf.Tensor([[ 0.02987189 -0.02967709]], shape=(1, 2), dtype=float32)\n",
      "W_mean: tf.Tensor([[-0.08226289  0.08425951]], shape=(1, 2), dtype=float32)\n",
      "W_mean: tf.Tensor([[ 0.02961294 -0.02959738]], shape=(1, 2), dtype=float32)\n",
      "W_mean: tf.Tensor([[-0.08248006  0.08444893]], shape=(1, 2), dtype=float32)\n",
      "W_mean: tf.Tensor([[ 0.02926612 -0.02965341]], shape=(1, 2), dtype=float32)\n",
      "W_mean: tf.Tensor([[-0.0827884   0.08449934]], shape=(1, 2), dtype=float32)\n",
      "W_mean: tf.Tensor([[ 0.028832 -0.029785]], shape=(1, 2), dtype=float32)\n",
      "W_mean: tf.Tensor([[-0.08319016  0.08447041]], shape=(1, 2), dtype=float32)\n",
      "W_mean: tf.Tensor([[ 0.02843878 -0.02984862]], shape=(1, 2), dtype=float32)\n",
      "W_mean: tf.Tensor([[-0.08354494  0.08450855]], shape=(1, 2), dtype=float32)\n",
      "W_mean: tf.Tensor([[ 0.02807493 -0.02988281]], shape=(1, 2), dtype=float32)\n",
      "W_mean: tf.Tensor([[-0.08390477  0.08458102]], shape=(1, 2), dtype=float32)\n",
      "W_mean: tf.Tensor([[ 0.02768223 -0.02995467]], shape=(1, 2), dtype=float32)\n",
      "W_mean: tf.Tensor([[-0.0842944   0.08461358]], shape=(1, 2), dtype=float32)\n",
      "W_mean: tf.Tensor([[ 0.02723753 -0.03013987]], shape=(1, 2), dtype=float32)\n",
      "W_mean: tf.Tensor([[-0.08472563  0.0845233 ]], shape=(1, 2), dtype=float32)\n",
      "W_mean: tf.Tensor([[ 0.02689786 -0.03013507]], shape=(1, 2), dtype=float32)\n",
      "W_mean: tf.Tensor([[-0.08507566  0.08463641]], shape=(1, 2), dtype=float32)\n",
      "W_mean: tf.Tensor([[ 0.02659455 -0.03003567]], shape=(1, 2), dtype=float32)\n",
      "W_mean: tf.Tensor([[-0.08539319  0.08484364]], shape=(1, 2), dtype=float32)\n",
      "W_mean: tf.Tensor([[ 0.02636363 -0.029819  ]], shape=(1, 2), dtype=float32)\n",
      "W_mean: tf.Tensor([[-0.08564251  0.08516932]], shape=(1, 2), dtype=float32)\n",
      "W_mean: tf.Tensor([[ 0.02614402 -0.02966073]], shape=(1, 2), dtype=float32)\n",
      "W_mean: tf.Tensor([[-0.0858852   0.08543316]], shape=(1, 2), dtype=float32)\n",
      "W_mean: tf.Tensor([[ 0.0259283  -0.02950255]], shape=(1, 2), dtype=float32)\n",
      "W_mean: tf.Tensor([[-0.08611161  0.08569775]], shape=(1, 2), dtype=float32)\n",
      "W_mean: tf.Tensor([[ 0.02570229 -0.02932801]], shape=(1, 2), dtype=float32)\n",
      "W_mean: tf.Tensor([[-0.08634185  0.08598194]], shape=(1, 2), dtype=float32)\n",
      "W_mean: tf.Tensor([[ 0.02556843 -0.02901671]], shape=(1, 2), dtype=float32)\n",
      "W_mean: tf.Tensor([[-0.0864809   0.08640539]], shape=(1, 2), dtype=float32)\n",
      "W_mean: tf.Tensor([[ 0.0253139  -0.02888574]], shape=(1, 2), dtype=float32)\n",
      "W_mean: tf.Tensor([[-0.08674525  0.08665575]], shape=(1, 2), dtype=float32)\n",
      "W_mean: tf.Tensor([[ 0.02496718 -0.02889869]], shape=(1, 2), dtype=float32)\n",
      "W_mean: tf.Tensor([[-0.08710541  0.0867606 ]], shape=(1, 2), dtype=float32)\n",
      "W_mean: tf.Tensor([[ 0.0246184 -0.0289127]], shape=(1, 2), dtype=float32)\n",
      "W_mean: tf.Tensor([[-0.08746175  0.08686204]], shape=(1, 2), dtype=float32)\n",
      "W_mean: tf.Tensor([[ 0.02423911 -0.02893868]], shape=(1, 2), dtype=float32)\n",
      "W_mean: tf.Tensor([[-0.0878569   0.08695234]], shape=(1, 2), dtype=float32)\n",
      "W_mean: tf.Tensor([[ 0.02385968 -0.02892205]], shape=(1, 2), dtype=float32)\n",
      "W_mean: tf.Tensor([[-0.08824941  0.08707835]], shape=(1, 2), dtype=float32)\n",
      "W_mean: tf.Tensor([[ 0.02357209 -0.02869736]], shape=(1, 2), dtype=float32)\n",
      "W_mean: tf.Tensor([[-0.08855671  0.08741975]], shape=(1, 2), dtype=float32)\n",
      "W_mean: tf.Tensor([[ 0.02327918 -0.02854452]], shape=(1, 2), dtype=float32)\n",
      "W_mean: tf.Tensor([[-0.08886547  0.08768637]], shape=(1, 2), dtype=float32)\n",
      "W_mean: tf.Tensor([[ 0.0229646  -0.02846031]], shape=(1, 2), dtype=float32)\n",
      "W_mean: tf.Tensor([[-0.08921427  0.08789384]], shape=(1, 2), dtype=float32)\n",
      "W_mean: tf.Tensor([[ 0.02266825 -0.02838305]], shape=(1, 2), dtype=float32)\n",
      "W_mean: tf.Tensor([[-0.08954106  0.08808479]], shape=(1, 2), dtype=float32)\n",
      "W_mean: tf.Tensor([[ 0.02242138 -0.02822859]], shape=(1, 2), dtype=float32)\n",
      "W_mean: tf.Tensor([[-0.08982715  0.08835027]], shape=(1, 2), dtype=float32)\n",
      "W_mean: tf.Tensor([[ 0.02216874 -0.02805795]], shape=(1, 2), dtype=float32)\n",
      "W_mean: tf.Tensor([[-0.09012626  0.08864222]], shape=(1, 2), dtype=float32)\n",
      "W_mean: tf.Tensor([[ 0.02195446 -0.02778114]], shape=(1, 2), dtype=float32)\n",
      "W_mean: tf.Tensor([[-0.09038211  0.08903951]], shape=(1, 2), dtype=float32)\n",
      "W_mean: tf.Tensor([[ 0.02177326 -0.02747079]], shape=(1, 2), dtype=float32)\n",
      "W_mean: tf.Tensor([[-0.09061272  0.08947235]], shape=(1, 2), dtype=float32)\n",
      "W_mean: tf.Tensor([[ 0.02158379 -0.02701186]], shape=(1, 2), dtype=float32)\n",
      "W_mean: tf.Tensor([[-0.09083678  0.09004597]], shape=(1, 2), dtype=float32)\n",
      "W_mean: tf.Tensor([[ 0.02143833 -0.02651313]], shape=(1, 2), dtype=float32)\n",
      "W_mean: tf.Tensor([[-0.09101658  0.09066164]], shape=(1, 2), dtype=float32)\n",
      "W_mean: tf.Tensor([[ 0.02129248 -0.02603667]], shape=(1, 2), dtype=float32)\n",
      "W_mean: tf.Tensor([[-0.09121005  0.09125299]], shape=(1, 2), dtype=float32)\n",
      "W_mean: tf.Tensor([[ 0.02114831 -0.02553735]], shape=(1, 2), dtype=float32)\n",
      "W_mean: tf.Tensor([[-0.09140263  0.09187945]], shape=(1, 2), dtype=float32)\n",
      "W_mean: tf.Tensor([[ 0.02089982 -0.02520812]], shape=(1, 2), dtype=float32)\n",
      "W_mean: tf.Tensor([[-0.09171402  0.09233671]], shape=(1, 2), dtype=float32)\n",
      "W_mean: tf.Tensor([[ 0.02060181 -0.02497134]], shape=(1, 2), dtype=float32)\n",
      "W_mean: tf.Tensor([[-0.09205845  0.09270354]], shape=(1, 2), dtype=float32)\n",
      "W_mean: tf.Tensor([[ 0.02030224 -0.02476988]], shape=(1, 2), dtype=float32)\n",
      "W_mean: tf.Tensor([[-0.09241211  0.09303862]], shape=(1, 2), dtype=float32)\n",
      "W_mean: tf.Tensor([[ 0.01996006 -0.02467205]], shape=(1, 2), dtype=float32)\n",
      "W_mean: tf.Tensor([[-0.09278372  0.09325889]], shape=(1, 2), dtype=float32)\n",
      "W_mean: tf.Tensor([[ 0.01961824 -0.02454517]], shape=(1, 2), dtype=float32)\n",
      "W_mean: tf.Tensor([[-0.09314984  0.09350285]], shape=(1, 2), dtype=float32)\n",
      "W_mean: tf.Tensor([[ 0.01924173 -0.02452536]], shape=(1, 2), dtype=float32)\n",
      "W_mean: tf.Tensor([[-0.09354886  0.09364028]], shape=(1, 2), dtype=float32)\n",
      "W_mean: tf.Tensor([[ 0.01882038 -0.02451732]], shape=(1, 2), dtype=float32)\n",
      "W_mean: tf.Tensor([[-0.09396315  0.09375707]], shape=(1, 2), dtype=float32)\n",
      "W_mean: tf.Tensor([[ 0.01840317 -0.02447289]], shape=(1, 2), dtype=float32)\n",
      "W_mean: tf.Tensor([[-0.09436391  0.09391699]], shape=(1, 2), dtype=float32)\n",
      "W_mean: tf.Tensor([[ 0.01803963 -0.02428229]], shape=(1, 2), dtype=float32)\n",
      "W_mean: tf.Tensor([[-0.09471982  0.09422678]], shape=(1, 2), dtype=float32)\n",
      "W_mean: tf.Tensor([[ 0.01767876 -0.02410498]], shape=(1, 2), dtype=float32)\n",
      "W_mean: tf.Tensor([[-0.09507563  0.09452274]], shape=(1, 2), dtype=float32)\n",
      "W_mean: tf.Tensor([[ 0.01729812 -0.02400493]], shape=(1, 2), dtype=float32)\n",
      "W_mean: tf.Tensor([[-0.09545244  0.09473108]], shape=(1, 2), dtype=float32)\n",
      "W_mean: tf.Tensor([[ 0.01691789 -0.02385907]], shape=(1, 2), dtype=float32)\n",
      "W_mean: tf.Tensor([[-0.09582338  0.09499074]], shape=(1, 2), dtype=float32)\n",
      "W_mean: tf.Tensor([[ 0.0165864  -0.02372164]], shape=(1, 2), dtype=float32)\n",
      "W_mean: tf.Tensor([[-0.09616409  0.09524791]], shape=(1, 2), dtype=float32)\n",
      "W_mean: tf.Tensor([[ 0.01626849 -0.02359392]], shape=(1, 2), dtype=float32)\n",
      "W_mean: tf.Tensor([[-0.09648987  0.09549124]], shape=(1, 2), dtype=float32)\n",
      "W_mean: tf.Tensor([[ 0.01598428 -0.02342142]], shape=(1, 2), dtype=float32)\n",
      "W_mean: tf.Tensor([[-0.0967951   0.09578694]], shape=(1, 2), dtype=float32)\n",
      "W_mean: tf.Tensor([[ 0.0156885  -0.02330598]], shape=(1, 2), dtype=float32)\n",
      "W_mean: tf.Tensor([[-0.09713616  0.09604249]], shape=(1, 2), dtype=float32)\n",
      "W_mean: tf.Tensor([[ 0.01539343 -0.02324077]], shape=(1, 2), dtype=float32)\n",
      "W_mean: tf.Tensor([[-0.09745707  0.09623951]], shape=(1, 2), dtype=float32)\n",
      "W_mean: tf.Tensor([[ 0.01510173 -0.02316094]], shape=(1, 2), dtype=float32)\n",
      "W_mean: tf.Tensor([[-0.09777053  0.09644583]], shape=(1, 2), dtype=float32)\n",
      "W_mean: tf.Tensor([[ 0.01481074 -0.02313141]], shape=(1, 2), dtype=float32)\n",
      "W_mean: tf.Tensor([[-0.09811579  0.09661056]], shape=(1, 2), dtype=float32)\n",
      "W_mean: tf.Tensor([[ 0.01448941 -0.02318048]], shape=(1, 2), dtype=float32)\n",
      "W_mean: tf.Tensor([[-0.09850431  0.09669504]], shape=(1, 2), dtype=float32)\n",
      "W_mean: tf.Tensor([[ 0.01417658 -0.02322168]], shape=(1, 2), dtype=float32)\n",
      "W_mean: tf.Tensor([[-0.09888392  0.09678762]], shape=(1, 2), dtype=float32)\n",
      "W_mean: tf.Tensor([[ 0.01389227 -0.02316277]], shape=(1, 2), dtype=float32)\n",
      "W_mean: tf.Tensor([[-0.09925008  0.0969891 ]], shape=(1, 2), dtype=float32)\n",
      "W_mean: tf.Tensor([[ 0.01360376 -0.0231502 ]], shape=(1, 2), dtype=float32)\n",
      "W_mean: tf.Tensor([[-0.09963641  0.09714393]], shape=(1, 2), dtype=float32)\n",
      "W_mean: tf.Tensor([[ 0.01331792 -0.02312213]], shape=(1, 2), dtype=float32)\n",
      "W_mean: tf.Tensor([[-0.10001179  0.09730949]], shape=(1, 2), dtype=float32)\n",
      "W_mean: tf.Tensor([[ 0.01298286 -0.02324871]], shape=(1, 2), dtype=float32)\n",
      "W_mean: tf.Tensor([[-0.10043442  0.09731044]], shape=(1, 2), dtype=float32)\n",
      "W_mean: tf.Tensor([[ 0.01259912 -0.02332085]], shape=(1, 2), dtype=float32)\n",
      "W_mean: tf.Tensor([[-0.10091685  0.09736944]], shape=(1, 2), dtype=float32)\n",
      "W_mean: tf.Tensor([[ 0.01222469 -0.02340999]], shape=(1, 2), dtype=float32)\n",
      "W_mean: tf.Tensor([[-0.10137182  0.09740293]], shape=(1, 2), dtype=float32)\n",
      "W_mean: tf.Tensor([[ 0.01184847 -0.02356247]], shape=(1, 2), dtype=float32)\n",
      "W_mean: tf.Tensor([[-0.10182676  0.09737945]], shape=(1, 2), dtype=float32)\n",
      "W_mean: tf.Tensor([[ 0.01145586 -0.02369441]], shape=(1, 2), dtype=float32)\n",
      "W_mean: tf.Tensor([[-0.10227288  0.09736755]], shape=(1, 2), dtype=float32)\n",
      "W_mean: tf.Tensor([[ 0.01107023 -0.02382527]], shape=(1, 2), dtype=float32)\n",
      "W_mean: tf.Tensor([[-0.10269488  0.09735221]], shape=(1, 2), dtype=float32)\n",
      "W_mean: tf.Tensor([[ 0.01062647 -0.02404897]], shape=(1, 2), dtype=float32)\n",
      "W_mean: tf.Tensor([[-0.10315654  0.09724515]], shape=(1, 2), dtype=float32)\n",
      "W_mean: tf.Tensor([[ 0.01012385 -0.02443537]], shape=(1, 2), dtype=float32)\n",
      "W_mean: tf.Tensor([[-0.10369244  0.09697497]], shape=(1, 2), dtype=float32)\n",
      "W_mean: tf.Tensor([[ 0.00959641 -0.02494595]], shape=(1, 2), dtype=float32)\n",
      "W_mean: tf.Tensor([[-0.10426503  0.09658376]], shape=(1, 2), dtype=float32)\n",
      "W_mean: tf.Tensor([[ 0.00901244 -0.02552162]], shape=(1, 2), dtype=float32)\n",
      "W_mean: tf.Tensor([[-0.10489798  0.09611703]], shape=(1, 2), dtype=float32)\n",
      "W_mean: tf.Tensor([[ 0.00844102 -0.02609647]], shape=(1, 2), dtype=float32)\n",
      "W_mean: tf.Tensor([[-0.10552111  0.09564538]], shape=(1, 2), dtype=float32)\n",
      "W_mean: tf.Tensor([[ 0.00787116 -0.02661428]], shape=(1, 2), dtype=float32)\n",
      "W_mean: tf.Tensor([[-0.10613462  0.09522419]], shape=(1, 2), dtype=float32)\n",
      "W_mean: tf.Tensor([[ 0.00735175 -0.02695564]], shape=(1, 2), dtype=float32)\n",
      "W_mean: tf.Tensor([[-0.1066983   0.09498067]], shape=(1, 2), dtype=float32)\n",
      "W_mean: tf.Tensor([[ 0.00686316 -0.02725928]], shape=(1, 2), dtype=float32)\n",
      "W_mean: tf.Tensor([[-0.10723941  0.0947813 ]], shape=(1, 2), dtype=float32)\n",
      "W_mean: tf.Tensor([[ 0.00640855 -0.02742473]], shape=(1, 2), dtype=float32)\n",
      "W_mean: tf.Tensor([[-0.10774723  0.09473491]], shape=(1, 2), dtype=float32)\n",
      "W_mean: tf.Tensor([[ 0.00590913 -0.02774314]], shape=(1, 2), dtype=float32)\n",
      "W_mean: tf.Tensor([[-0.10829583  0.09453048]], shape=(1, 2), dtype=float32)\n",
      "W_mean: tf.Tensor([[ 0.00544305 -0.02793188]], shape=(1, 2), dtype=float32)\n",
      "W_mean: tf.Tensor([[-0.1087998   0.09445349]], shape=(1, 2), dtype=float32)\n",
      "W_mean: tf.Tensor([[ 0.00492901 -0.02823196]], shape=(1, 2), dtype=float32)\n",
      "W_mean: tf.Tensor([[-0.10937065  0.09427632]], shape=(1, 2), dtype=float32)\n",
      "W_mean: tf.Tensor([[ 0.00441699 -0.02858354]], shape=(1, 2), dtype=float32)\n",
      "W_mean: tf.Tensor([[-0.10993894  0.09404788]], shape=(1, 2), dtype=float32)\n",
      "W_mean: tf.Tensor([[ 0.00391134 -0.02874991]], shape=(1, 2), dtype=float32)\n",
      "W_mean: tf.Tensor([[-0.11048736  0.09399839]], shape=(1, 2), dtype=float32)\n",
      "W_mean: tf.Tensor([[ 0.0034611  -0.02890296]], shape=(1, 2), dtype=float32)\n",
      "W_mean: tf.Tensor([[-0.11099847  0.09396642]], shape=(1, 2), dtype=float32)\n",
      "W_mean: tf.Tensor([[ 0.00303744 -0.02901205]], shape=(1, 2), dtype=float32)\n",
      "W_mean: tf.Tensor([[-0.11147287  0.09397765]], shape=(1, 2), dtype=float32)\n",
      "W_mean: tf.Tensor([[ 0.00268649 -0.02884338]], shape=(1, 2), dtype=float32)\n",
      "W_mean: tf.Tensor([[-0.11188591  0.09427407]], shape=(1, 2), dtype=float32)\n",
      "W_mean: tf.Tensor([[ 0.00239433 -0.02854609]], shape=(1, 2), dtype=float32)\n",
      "W_mean: tf.Tensor([[-0.1122491  0.094701 ]], shape=(1, 2), dtype=float32)\n",
      "W_mean: tf.Tensor([[ 0.00205375 -0.02838298]], shape=(1, 2), dtype=float32)\n",
      "W_mean: tf.Tensor([[-0.1126592   0.09498894]], shape=(1, 2), dtype=float32)\n",
      "W_mean: tf.Tensor([[ 0.0017293  -0.02818747]], shape=(1, 2), dtype=float32)\n",
      "W_mean: tf.Tensor([[-0.11306807  0.09531675]], shape=(1, 2), dtype=float32)\n",
      "W_mean: tf.Tensor([[ 0.00141568 -0.02784168]], shape=(1, 2), dtype=float32)\n",
      "W_mean: tf.Tensor([[-0.11346123  0.09579061]], shape=(1, 2), dtype=float32)\n",
      "W_mean: tf.Tensor([[ 0.00105894 -0.02756494]], shape=(1, 2), dtype=float32)\n",
      "W_mean: tf.Tensor([[-0.1138643   0.09618084]], shape=(1, 2), dtype=float32)\n",
      "W_mean: tf.Tensor([[ 0.00071334 -0.02738254]], shape=(1, 2), dtype=float32)\n",
      "W_mean: tf.Tensor([[-0.11425388  0.0964734 ]], shape=(1, 2), dtype=float32)\n",
      "W_mean: tf.Tensor([[ 0.00036991 -0.02724064]], shape=(1, 2), dtype=float32)\n",
      "W_mean: tf.Tensor([[-0.11462677  0.09671871]], shape=(1, 2), dtype=float32)\n",
      "W_mean: tf.Tensor([[ 3.9850522e-05 -2.6975926e-02]], shape=(1, 2), dtype=float32)\n",
      "W_mean: tf.Tensor([[-0.11497828  0.09708916]], shape=(1, 2), dtype=float32)\n",
      "W_mean: tf.Tensor([[-0.00024656 -0.02676347]], shape=(1, 2), dtype=float32)\n",
      "W_mean: tf.Tensor([[-0.1153233   0.09741679]], shape=(1, 2), dtype=float32)\n",
      "W_mean: tf.Tensor([[-0.000551   -0.02658976]], shape=(1, 2), dtype=float32)\n",
      "W_mean: tf.Tensor([[-0.11569151  0.09769883]], shape=(1, 2), dtype=float32)\n",
      "W_mean: tf.Tensor([[-0.00088181 -0.0265512 ]], shape=(1, 2), dtype=float32)\n",
      "W_mean: tf.Tensor([[-0.11607762  0.09784558]], shape=(1, 2), dtype=float32)\n",
      "W_mean: tf.Tensor([[-0.00122679 -0.02648148]], shape=(1, 2), dtype=float32)\n",
      "W_mean: tf.Tensor([[-0.11646979  0.09802126]], shape=(1, 2), dtype=float32)\n",
      "W_mean: tf.Tensor([[-0.00156889 -0.02647949]], shape=(1, 2), dtype=float32)\n",
      "W_mean: tf.Tensor([[-0.1168421   0.09812492]], shape=(1, 2), dtype=float32)\n",
      "W_mean: tf.Tensor([[-0.00189278 -0.02646714]], shape=(1, 2), dtype=float32)\n",
      "W_mean: tf.Tensor([[-0.1171972   0.09823946]], shape=(1, 2), dtype=float32)\n",
      "W_mean: tf.Tensor([[-0.0022835  -0.02641784]], shape=(1, 2), dtype=float32)\n",
      "W_mean: tf.Tensor([[-0.1176021   0.09838553]], shape=(1, 2), dtype=float32)\n",
      "W_mean: tf.Tensor([[-0.00265572 -0.02636361]], shape=(1, 2), dtype=float32)\n",
      "W_mean: tf.Tensor([[-0.11796955  0.09853017]], shape=(1, 2), dtype=float32)\n",
      "W_mean: tf.Tensor([[-0.003069   -0.02639945]], shape=(1, 2), dtype=float32)\n",
      "W_mean: tf.Tensor([[-0.1183916   0.09859727]], shape=(1, 2), dtype=float32)\n",
      "W_mean: tf.Tensor([[-0.00354735 -0.02653605]], shape=(1, 2), dtype=float32)\n",
      "W_mean: tf.Tensor([[-0.1188815   0.09857047]], shape=(1, 2), dtype=float32)\n",
      "W_mean: tf.Tensor([[-0.00400245 -0.02670132]], shape=(1, 2), dtype=float32)\n",
      "W_mean: tf.Tensor([[-0.11932787  0.09852078]], shape=(1, 2), dtype=float32)\n",
      "W_mean: tf.Tensor([[-0.00445105 -0.02684373]], shape=(1, 2), dtype=float32)\n",
      "W_mean: tf.Tensor([[-0.11977267  0.09850107]], shape=(1, 2), dtype=float32)\n",
      "W_mean: tf.Tensor([[-0.00489273 -0.02693292]], shape=(1, 2), dtype=float32)\n",
      "W_mean: tf.Tensor([[-0.12021872  0.09853255]], shape=(1, 2), dtype=float32)\n",
      "W_mean: tf.Tensor([[-0.00530761 -0.02704329]], shape=(1, 2), dtype=float32)\n",
      "W_mean: tf.Tensor([[-0.12063877  0.09854339]], shape=(1, 2), dtype=float32)\n",
      "W_mean: tf.Tensor([[-0.00575607 -0.02727871]], shape=(1, 2), dtype=float32)\n",
      "W_mean: tf.Tensor([[-0.12108283  0.09841563]], shape=(1, 2), dtype=float32)\n",
      "W_mean: tf.Tensor([[-0.00620455 -0.02749051]], shape=(1, 2), dtype=float32)\n",
      "W_mean: tf.Tensor([[-0.12150114  0.09830778]], shape=(1, 2), dtype=float32)\n",
      "W_mean: tf.Tensor([[-0.00663933 -0.02771277]], shape=(1, 2), dtype=float32)\n",
      "W_mean: tf.Tensor([[-0.12192126  0.09819102]], shape=(1, 2), dtype=float32)\n",
      "W_mean: tf.Tensor([[-0.00703221 -0.02796903]], shape=(1, 2), dtype=float32)\n",
      "W_mean: tf.Tensor([[-0.12231746  0.09805123]], shape=(1, 2), dtype=float32)\n",
      "W_mean: tf.Tensor([[-0.00741472 -0.02828552]], shape=(1, 2), dtype=float32)\n",
      "W_mean: tf.Tensor([[-0.12270934  0.09785354]], shape=(1, 2), dtype=float32)\n",
      "W_mean: tf.Tensor([[-0.00782659 -0.02849906]], shape=(1, 2), dtype=float32)\n",
      "W_mean: tf.Tensor([[-0.12312215  0.09775899]], shape=(1, 2), dtype=float32)\n",
      "W_mean: tf.Tensor([[-0.0082065  -0.02858922]], shape=(1, 2), dtype=float32)\n",
      "W_mean: tf.Tensor([[-0.12351464  0.09778836]], shape=(1, 2), dtype=float32)\n",
      "W_mean: tf.Tensor([[-0.00861871 -0.02871792]], shape=(1, 2), dtype=float32)\n",
      "W_mean: tf.Tensor([[-0.12395211  0.09777674]], shape=(1, 2), dtype=float32)\n",
      "W_mean: tf.Tensor([[-0.00899136 -0.02880606]], shape=(1, 2), dtype=float32)\n",
      "W_mean: tf.Tensor([[-0.12435331  0.09781489]], shape=(1, 2), dtype=float32)\n",
      "W_mean: tf.Tensor([[-0.0093849  -0.02879449]], shape=(1, 2), dtype=float32)\n",
      "W_mean: tf.Tensor([[-0.12476516  0.09796049]], shape=(1, 2), dtype=float32)\n",
      "W_mean: tf.Tensor([[-0.00979452 -0.02890381]], shape=(1, 2), dtype=float32)\n",
      "W_mean: tf.Tensor([[-0.12520102  0.09799451]], shape=(1, 2), dtype=float32)\n",
      "W_mean: tf.Tensor([[-0.01017637 -0.02896014]], shape=(1, 2), dtype=float32)\n",
      "W_mean: tf.Tensor([[-0.12560159  0.09808357]], shape=(1, 2), dtype=float32)\n",
      "W_mean: tf.Tensor([[-0.01055204 -0.02892948]], shape=(1, 2), dtype=float32)\n",
      "W_mean: tf.Tensor([[-0.12596977  0.09825479]], shape=(1, 2), dtype=float32)\n",
      "W_mean: tf.Tensor([[-0.01093428 -0.02894684]], shape=(1, 2), dtype=float32)\n",
      "W_mean: tf.Tensor([[-0.12634765  0.09837417]], shape=(1, 2), dtype=float32)\n",
      "W_mean: tf.Tensor([[-0.01133475 -0.02880953]], shape=(1, 2), dtype=float32)\n",
      "W_mean: tf.Tensor([[-0.12673602  0.09863534]], shape=(1, 2), dtype=float32)\n",
      "W_mean: tf.Tensor([[-0.01169706 -0.02865264]], shape=(1, 2), dtype=float32)\n",
      "W_mean: tf.Tensor([[-0.12711474  0.09892029]], shape=(1, 2), dtype=float32)\n",
      "W_mean: tf.Tensor([[-0.0120379  -0.02854174]], shape=(1, 2), dtype=float32)\n",
      "W_mean: tf.Tensor([[-0.12747128  0.09915707]], shape=(1, 2), dtype=float32)\n",
      "W_mean: tf.Tensor([[-0.01237306 -0.0284034 ]], shape=(1, 2), dtype=float32)\n",
      "W_mean: tf.Tensor([[-0.12781127  0.09942497]], shape=(1, 2), dtype=float32)\n",
      "W_mean: tf.Tensor([[-0.0126853  -0.02829798]], shape=(1, 2), dtype=float32)\n",
      "W_mean: tf.Tensor([[-0.12814507  0.0996585 ]], shape=(1, 2), dtype=float32)\n",
      "W_mean: tf.Tensor([[-0.01295358 -0.02808609]], shape=(1, 2), dtype=float32)\n",
      "W_mean: tf.Tensor([[-0.1284492   0.10000941]], shape=(1, 2), dtype=float32)\n",
      "W_mean: tf.Tensor([[-0.01322691 -0.02789669]], shape=(1, 2), dtype=float32)\n",
      "W_mean: tf.Tensor([[-0.12875062  0.10033934]], shape=(1, 2), dtype=float32)\n",
      "W_mean: tf.Tensor([[-0.01347047 -0.02776334]], shape=(1, 2), dtype=float32)\n",
      "W_mean: tf.Tensor([[-0.12904584  0.10061067]], shape=(1, 2), dtype=float32)\n",
      "W_mean: tf.Tensor([[-0.01381223 -0.02780253]], shape=(1, 2), dtype=float32)\n"
     ]
    },
    {
     "ename": "KeyboardInterrupt",
     "evalue": "",
     "output_type": "error",
     "traceback": [
      "\u001b[0;31m---------------------------------------------------------------------------\u001b[0m",
      "\u001b[0;31mKeyboardInterrupt\u001b[0m                         Traceback (most recent call last)",
      "\u001b[0;32m<timed exec>\u001b[0m in \u001b[0;36m<module>\u001b[0;34m\u001b[0m\n",
      "\u001b[0;32m<ipython-input-102-c33d00dc5590>\u001b[0m in \u001b[0;36msymmetrize_rotations\u001b[0;34m(self, R90_groups)\u001b[0m\n\u001b[1;32m    157\u001b[0m             \u001b[0;32mfor\u001b[0m \u001b[0mangle\u001b[0m \u001b[0;32min\u001b[0m \u001b[0mrange\u001b[0m\u001b[0;34m(\u001b[0m\u001b[0;36m4\u001b[0m\u001b[0;34m)\u001b[0m\u001b[0;34m:\u001b[0m\u001b[0;34m\u001b[0m\u001b[0;34m\u001b[0m\u001b[0m\n\u001b[1;32m    158\u001b[0m                 \u001b[0mrow\u001b[0m\u001b[0;34m,\u001b[0m\u001b[0mcol\u001b[0m \u001b[0;34m=\u001b[0m \u001b[0mgroup\u001b[0m\u001b[0;34m[\u001b[0m\u001b[0mangle\u001b[0m\u001b[0;34m]\u001b[0m\u001b[0;34m\u001b[0m\u001b[0;34m\u001b[0m\u001b[0m\n\u001b[0;32m--> 159\u001b[0;31m                 \u001b[0mW_mean\u001b[0m \u001b[0;34m+=\u001b[0m \u001b[0mself\u001b[0m\u001b[0;34m.\u001b[0m\u001b[0mW\u001b[0m\u001b[0;34m[\u001b[0m\u001b[0mrow\u001b[0m\u001b[0;34m,\u001b[0m\u001b[0mcol\u001b[0m\u001b[0;34m]\u001b[0m\u001b[0;34m\u001b[0m\u001b[0;34m\u001b[0m\u001b[0m\n\u001b[0m\u001b[1;32m    160\u001b[0m             \u001b[0mW_mean\u001b[0m \u001b[0;34m/=\u001b[0m \u001b[0;36m4.0\u001b[0m\u001b[0;34m\u001b[0m\u001b[0;34m\u001b[0m\u001b[0m\n\u001b[1;32m    161\u001b[0m             \u001b[0mprint\u001b[0m\u001b[0;34m(\u001b[0m\u001b[0;34m\"W_mean:\"\u001b[0m\u001b[0;34m,\u001b[0m\u001b[0mW_mean\u001b[0m\u001b[0;34m)\u001b[0m\u001b[0;34m\u001b[0m\u001b[0;34m\u001b[0m\u001b[0m\n",
      "\u001b[0;32m/opt/anaconda3/lib/python3.8/site-packages/tensorflow/python/ops/array_ops.py\u001b[0m in \u001b[0;36m_SliceHelperVar\u001b[0;34m(var, slice_spec)\u001b[0m\n\u001b[1;32m   1349\u001b[0m   \"\"\"\n\u001b[1;32m   1350\u001b[0m \u001b[0;34m\u001b[0m\u001b[0m\n\u001b[0;32m-> 1351\u001b[0;31m   \u001b[0;32mreturn\u001b[0m \u001b[0m_slice_helper\u001b[0m\u001b[0;34m(\u001b[0m\u001b[0mvar\u001b[0m\u001b[0;34m.\u001b[0m\u001b[0mvalue\u001b[0m\u001b[0;34m(\u001b[0m\u001b[0;34m)\u001b[0m\u001b[0;34m,\u001b[0m \u001b[0mslice_spec\u001b[0m\u001b[0;34m,\u001b[0m \u001b[0mvar\u001b[0m\u001b[0;34m)\u001b[0m\u001b[0;34m\u001b[0m\u001b[0;34m\u001b[0m\u001b[0m\n\u001b[0m\u001b[1;32m   1352\u001b[0m \u001b[0;34m\u001b[0m\u001b[0m\n\u001b[1;32m   1353\u001b[0m \u001b[0;34m\u001b[0m\u001b[0m\n",
      "\u001b[0;32m/opt/anaconda3/lib/python3.8/site-packages/tensorflow/python/util/traceback_utils.py\u001b[0m in \u001b[0;36merror_handler\u001b[0;34m(*args, **kwargs)\u001b[0m\n\u001b[1;32m    148\u001b[0m     \u001b[0mfiltered_tb\u001b[0m \u001b[0;34m=\u001b[0m \u001b[0;32mNone\u001b[0m\u001b[0;34m\u001b[0m\u001b[0;34m\u001b[0m\u001b[0m\n\u001b[1;32m    149\u001b[0m     \u001b[0;32mtry\u001b[0m\u001b[0;34m:\u001b[0m\u001b[0;34m\u001b[0m\u001b[0;34m\u001b[0m\u001b[0m\n\u001b[0;32m--> 150\u001b[0;31m       \u001b[0;32mreturn\u001b[0m \u001b[0mfn\u001b[0m\u001b[0;34m(\u001b[0m\u001b[0;34m*\u001b[0m\u001b[0margs\u001b[0m\u001b[0;34m,\u001b[0m \u001b[0;34m**\u001b[0m\u001b[0mkwargs\u001b[0m\u001b[0;34m)\u001b[0m\u001b[0;34m\u001b[0m\u001b[0;34m\u001b[0m\u001b[0m\n\u001b[0m\u001b[1;32m    151\u001b[0m     \u001b[0;32mexcept\u001b[0m \u001b[0mException\u001b[0m \u001b[0;32mas\u001b[0m \u001b[0me\u001b[0m\u001b[0;34m:\u001b[0m\u001b[0;34m\u001b[0m\u001b[0;34m\u001b[0m\u001b[0m\n\u001b[1;32m    152\u001b[0m       \u001b[0mfiltered_tb\u001b[0m \u001b[0;34m=\u001b[0m \u001b[0m_process_traceback_frames\u001b[0m\u001b[0;34m(\u001b[0m\u001b[0me\u001b[0m\u001b[0;34m.\u001b[0m\u001b[0m__traceback__\u001b[0m\u001b[0;34m)\u001b[0m\u001b[0;34m\u001b[0m\u001b[0;34m\u001b[0m\u001b[0m\n",
      "\u001b[0;32m/opt/anaconda3/lib/python3.8/site-packages/tensorflow/python/util/dispatch.py\u001b[0m in \u001b[0;36mop_dispatch_handler\u001b[0;34m(*args, **kwargs)\u001b[0m\n\u001b[1;32m   1080\u001b[0m       \u001b[0;31m# Fallback dispatch system (dispatch v1):\u001b[0m\u001b[0;34m\u001b[0m\u001b[0;34m\u001b[0m\u001b[0;34m\u001b[0m\u001b[0m\n\u001b[1;32m   1081\u001b[0m       \u001b[0;32mtry\u001b[0m\u001b[0;34m:\u001b[0m\u001b[0;34m\u001b[0m\u001b[0;34m\u001b[0m\u001b[0m\n\u001b[0;32m-> 1082\u001b[0;31m         \u001b[0;32mreturn\u001b[0m \u001b[0mdispatch_target\u001b[0m\u001b[0;34m(\u001b[0m\u001b[0;34m*\u001b[0m\u001b[0margs\u001b[0m\u001b[0;34m,\u001b[0m \u001b[0;34m**\u001b[0m\u001b[0mkwargs\u001b[0m\u001b[0;34m)\u001b[0m\u001b[0;34m\u001b[0m\u001b[0;34m\u001b[0m\u001b[0m\n\u001b[0m\u001b[1;32m   1083\u001b[0m       \u001b[0;32mexcept\u001b[0m \u001b[0;34m(\u001b[0m\u001b[0mTypeError\u001b[0m\u001b[0;34m,\u001b[0m \u001b[0mValueError\u001b[0m\u001b[0;34m)\u001b[0m\u001b[0;34m:\u001b[0m\u001b[0;34m\u001b[0m\u001b[0;34m\u001b[0m\u001b[0m\n\u001b[1;32m   1084\u001b[0m         \u001b[0;31m# Note: convert_to_eager_tensor currently raises a ValueError, not a\u001b[0m\u001b[0;34m\u001b[0m\u001b[0;34m\u001b[0m\u001b[0;34m\u001b[0m\u001b[0m\n",
      "\u001b[0;32m/opt/anaconda3/lib/python3.8/site-packages/tensorflow/python/ops/array_ops.py\u001b[0m in \u001b[0;36m_slice_helper\u001b[0;34m(tensor, slice_spec, var)\u001b[0m\n\u001b[1;32m   1074\u001b[0m       \u001b[0;31m# TODO(mdan): Instead of implicitly casting, it's better to enforce the\u001b[0m\u001b[0;34m\u001b[0m\u001b[0;34m\u001b[0m\u001b[0;34m\u001b[0m\u001b[0m\n\u001b[1;32m   1075\u001b[0m       \u001b[0;31m# same dtypes.\u001b[0m\u001b[0;34m\u001b[0m\u001b[0;34m\u001b[0m\u001b[0;34m\u001b[0m\u001b[0m\n\u001b[0;32m-> 1076\u001b[0;31m       if (packed_begin.dtype == dtypes.int64 or\n\u001b[0m\u001b[1;32m   1077\u001b[0m           \u001b[0mpacked_end\u001b[0m\u001b[0;34m.\u001b[0m\u001b[0mdtype\u001b[0m \u001b[0;34m==\u001b[0m \u001b[0mdtypes\u001b[0m\u001b[0;34m.\u001b[0m\u001b[0mint64\u001b[0m \u001b[0;32mor\u001b[0m\u001b[0;34m\u001b[0m\u001b[0;34m\u001b[0m\u001b[0m\n\u001b[1;32m   1078\u001b[0m           packed_strides.dtype == dtypes.int64):\n",
      "\u001b[0;32m/opt/anaconda3/lib/python3.8/site-packages/tensorflow/python/framework/ops.py\u001b[0m in \u001b[0;36mdtype\u001b[0;34m(self)\u001b[0m\n\u001b[1;32m   1131\u001b[0m     \u001b[0;31m# Note: using the intern table directly here as this is\u001b[0m\u001b[0;34m\u001b[0m\u001b[0;34m\u001b[0m\u001b[0;34m\u001b[0m\u001b[0m\n\u001b[1;32m   1132\u001b[0m     \u001b[0;31m# performance-sensitive in some models.\u001b[0m\u001b[0;34m\u001b[0m\u001b[0;34m\u001b[0m\u001b[0;34m\u001b[0m\u001b[0m\n\u001b[0;32m-> 1133\u001b[0;31m     \u001b[0;32mreturn\u001b[0m \u001b[0mdtypes\u001b[0m\u001b[0;34m.\u001b[0m\u001b[0m_INTERN_TABLE\u001b[0m\u001b[0;34m[\u001b[0m\u001b[0mself\u001b[0m\u001b[0;34m.\u001b[0m\u001b[0m_datatype_enum\u001b[0m\u001b[0;34m(\u001b[0m\u001b[0;34m)\u001b[0m\u001b[0;34m]\u001b[0m  \u001b[0;31m# pylint: disable=protected-access\u001b[0m\u001b[0;34m\u001b[0m\u001b[0;34m\u001b[0m\u001b[0m\n\u001b[0m\u001b[1;32m   1134\u001b[0m \u001b[0;34m\u001b[0m\u001b[0m\n\u001b[1;32m   1135\u001b[0m   \u001b[0;32mdef\u001b[0m \u001b[0mnumpy\u001b[0m\u001b[0;34m(\u001b[0m\u001b[0mself\u001b[0m\u001b[0;34m)\u001b[0m\u001b[0;34m:\u001b[0m\u001b[0;34m\u001b[0m\u001b[0;34m\u001b[0m\u001b[0m\n",
      "\u001b[0;31mKeyboardInterrupt\u001b[0m: "
     ]
    }
   ],
   "source": [
    "%%time\n",
    "l_train = 10 ** 9\n",
    "l_test = 10 ** 9\n",
    "\n",
    "while l_train > 10 ** -6:\n",
    "    # train\n",
    "    l_train = 0\n",
    "        \n",
    "    for train_s, train_E in train_dataset:\n",
    "        l_train += crbm.train(train_s, train_E / temp)\n",
    "        \n",
    "        # Symmetrize 90 degree rotations\n",
    "        crbm.symmetrize_rotations(R90_groups)\n",
    "    \n",
    "        # Symmetrize reflections\n",
    "        # ---- here ---- #\n",
    "    \n",
    "    l_train = l_train / N_TRAIN_BATCHES\n",
    "        \n",
    "    # plot results    \n",
    "    if epoch % 100 == 0:\n",
    "        l_test = crbm.compute_loss(states_test, E_phys_test / temp)\n",
    "        \n",
    "        loss_train.append(l_train) \n",
    "        loss_test.append(l_test)\n",
    "        \n",
    "        display.clear_output(wait=True)\n",
    "\n",
    "        print(\n",
    "            f\"Epoch: {epoch} | loss test: {loss_test[-1]}| loss train: {loss_train[-1]}| ltest/ltrain: {loss_test[-1]/loss_train[-1]}\"\n",
    "        )\n",
    "        plt.plot(loss_train)\n",
    "        plt.plot(loss_test)\n",
    "        plt.yscale(\"log\")\n",
    "        plt.show()\n",
    "    epoch += 1"
   ]
  },
  {
   "cell_type": "code",
   "execution_count": 77,
   "metadata": {},
   "outputs": [
    {
     "data": {
      "text/plain": [
       "<tf.Tensor: shape=(), dtype=float32, numpy=7883.4907>"
      ]
     },
     "execution_count": 77,
     "metadata": {},
     "output_type": "execute_result"
    }
   ],
   "source": [
    "l_train"
   ]
  },
  {
   "cell_type": "markdown",
   "metadata": {
    "id": "WBaalL7QRmEn"
   },
   "source": [
    "The learned convolutional kernels show the effective interaction between nearest neighbours."
   ]
  },
  {
   "cell_type": "code",
   "execution_count": 38,
   "metadata": {},
   "outputs": [],
   "source": [
    "modelType='no_symmetries'"
   ]
  },
  {
   "cell_type": "code",
   "execution_count": 39,
   "metadata": {
    "colab": {
     "base_uri": "https://localhost:8080/",
     "height": 208
    },
    "id": "dBc3oN6q41eB",
    "outputId": "501251e5-b28c-48a3-f1ab-08799e7b6f2f"
   },
   "outputs": [
    {
     "data": {
      "image/png": "[encoded data removed]",
      "text/plain": [
       "<Figure size 432x288 with 2 Axes>"
      ]
     },
     "metadata": {},
     "output_type": "display_data"
    }
   ],
   "source": [
    "W = crbm.W.numpy()\n",
    "vmax = np.max(abs(W))\n",
    "\n",
    "fig, axes = plt.subplots(nrows=1, ncols=2)\n",
    "\n",
    "axes[0].imshow(W[:, :, 0, 0], vmin =-vmax, vmax=vmax, cmap=\"seismic\")\n",
    "axes[1].imshow(W[:, :, 0, 1], vmin =-vmax, vmax=vmax, cmap=\"seismic\")\n",
    "# axes[2].imshow(W[:, :, 0, 2], vmin =-vmax, vmax=vmax, cmap=\"seismic\")\n",
    "# axes[3].imshow(W[:, :, 0, 3], vmin =-vmax, vmax=vmax, cmap=\"seismic\")\n",
    "\n",
    "# Deactivate axes\n",
    "for j in range(2):\n",
    "    axes[j].set_xticks([])\n",
    "    axes[j].set_yticks([])\n",
    "    axes[j].set_xlabel(f'$W^{j}$', fontsize=20)\n",
    "\n",
    "plt.show()"
   ]
  },
  {
   "cell_type": "code",
   "execution_count": 40,
   "metadata": {},
   "outputs": [
    {
     "data": {
      "text/plain": [
       "<matplotlib.colorbar.Colorbar at 0x7ff6d6b34a30>"
      ]
     },
     "execution_count": 40,
     "metadata": {},
     "output_type": "execute_result"
    },
    {
     "data": {
      "image/png": "[encoded data removed]",
      "text/plain": [
       "<Figure size 432x288 with 2 Axes>"
      ]
     },
     "metadata": {
      "needs_background": "light"
     },
     "output_type": "display_data"
    }
   ],
   "source": [
    "W = crbm.W.numpy()\n",
    "vmax = np.max(abs(W))\n",
    "\n",
    "plt.imshow(W[:, :, 0, 0], vmin =-vmax, vmax=vmax, cmap=\"seismic\")\n",
    "plt.xticks([])\n",
    "plt.yticks([])\n",
    "plt.xlabel(f'$W^{0}$', fontsize=20)\n",
    "plt.colorbar()\n",
    "# plt.savefig('T_'+str(temp)+'_kernelDims_'+str(kernel_dims[0])+'-'+str(kernel_dims[1])+'_'+modelType+'.pdf',dpi=300)"
   ]
  },
  {
   "cell_type": "code",
   "execution_count": 41,
   "metadata": {},
   "outputs": [
    {
     "name": "stdout",
     "output_type": "stream",
     "text": [
      "[[-4.0555124e+00 -3.7388716e-05 -1.2454503e-02]\n",
      " [-1.1259471e+01 -9.2718139e-02  4.7198933e-01]\n",
      " [ 1.3601531e-03  2.5039883e-03 -2.0663156e-04]] \n",
      "\n",
      "[[ 1.9503976e+00  5.4946637e+00  3.1481462e+00]\n",
      " [ 1.2541011e-04 -4.9823389e-05 -3.8491471e-05]\n",
      " [ 2.8071925e-05 -2.8771512e-05  1.2925666e-04]] \n",
      "\n"
     ]
    }
   ],
   "source": [
    "for i in range(kernel_dims[0]):\n",
    "    print(W[:, :, 0, i],'\\n')"
   ]
  },
  {
   "cell_type": "markdown",
   "metadata": {
    "id": "-mZoKqjr7uVT"
   },
   "source": [
    "# Sampling"
   ]
  },
  {
   "cell_type": "markdown",
   "metadata": {
    "id": "uVHIsquKZoh1"
   },
   "source": [
    "A state with $L=40$ is updated $5\\times10 ^4$ times using gibbs sampling.  Because the temperature T=1, is well bellow the critical temperature TC=2.269 it converges to the ground state."
   ]
  },
  {
   "cell_type": "code",
   "execution_count": 42,
   "metadata": {
    "id": "30z8c8PT7JLd"
   },
   "outputs": [],
   "source": [
    "L = 40\n",
    "states = tf.random.uniform((1, L, L, 1))\n",
    "# crbm.set_analytical_param(1 / temp)"
   ]
  },
  {
   "cell_type": "code",
   "execution_count": 43,
   "metadata": {},
   "outputs": [],
   "source": [
    "# Open file for writing\n",
    "filename = 'L_'+str(L)+'_T_'+str(temp)+'_kernelDims_'+str(kernel_dims[0])+'-'+str(kernel_dims[1])+'_'+modelType+'.dat'\n",
    "file = open(filename, \"w\")\n",
    "header = \"#L=%d, T=%.2f \\n# E     M \\n\"\n",
    "file.write(header)\n",
    "\n",
    "# Initialize quantities to measure\n",
    "E = 0.0\n",
    "M = 12345\n",
    "\n",
    "bin_size = 1"
   ]
  },
  {
   "cell_type": "code",
   "execution_count": 44,
   "metadata": {},
   "outputs": [
    {
     "data": {
      "text/plain": [
       "0.0"
      ]
     },
     "execution_count": 44,
     "metadata": {},
     "output_type": "execute_result"
    }
   ],
   "source": [
    "E"
   ]
  },
  {
   "cell_type": "code",
   "execution_count": 45,
   "metadata": {
    "colab": {
     "base_uri": "https://localhost:8080/",
     "height": 342
    },
    "id": "rsODKWM66otO",
    "outputId": "15665bbd-d32e-4a95-f78d-d23a8a77b4c4"
   },
   "outputs": [
    {
     "data": {
      "image/png": "[encoded data removed]",
      "text/plain": [
       "<Figure size 1080x360 with 2 Axes>"
      ]
     },
     "metadata": {
      "needs_background": "light"
     },
     "output_type": "display_data"
    },
    {
     "name": "stdout",
     "output_type": "stream",
     "text": [
      "CPU times: user 2min 32s, sys: 14 s, total: 2min 46s\n",
      "Wall time: 2min 11s\n"
     ]
    }
   ],
   "source": [
    "%%time\n",
    "epochs = 10 * 10 ** 4\n",
    "Es = []\n",
    "E_exact = ising_analysis.e_exact_func(temp)*(L**2)\n",
    "for i in range(epochs):\n",
    "    states = crbm.gibbs(states)\n",
    "    E = ising_energy(states)[0]\n",
    "    Es.append(E)\n",
    "    \n",
    "    file.write('%.2f %.2f \\n'%(E/bin_size,M/bin_size))\n",
    "\n",
    "    if i % 1000 == 0:\n",
    "        display.clear_output(wait=True)\n",
    "        fig, axes = plt.subplots(nrows=1, ncols=2, figsize=(15, 5))\n",
    "\n",
    "        axes[0].imshow(states.numpy()[0, :, :, 0], vmin=0, vmax=1, cmap=\"gray\")\n",
    "        axes[0].set_xticks([])\n",
    "        axes[0].set_yticks([])\n",
    "        axes[0].set_xlabel('state', fontsize=20)\n",
    "\n",
    "\n",
    "        axes[1].plot(Es)\n",
    "        # axes[1].plot([0, len(Es)], [-2 * L ** 2, -2 * L ** 2])\n",
    "        axes[1].axhline(E_exact)\n",
    "        axes[1].set_xlabel(f'steps', fontsize=20)\n",
    "        axes[1].set_ylabel(f'E', fontsize=20)\n",
    "        display.clear_output(wait=True)\n",
    "        # plt.savefig('L_'+str(L)+'_T_'+str(temp)+'_kernelDims_'+str(kernel_dims[0])+'-'+str(kernel_dims[1])+'_'+modelType+'.png',dpi=300)\n",
    "        # plt.savefig('L_'+str(L)+'_T_'+str(temp)+'_kernelDims_'+str(kernel_dims[0])+'-'+str(kernel_dims[1])+'_'+modelType+'.pdf',dpi=300)\n",
    "        plt.show()"
   ]
  },
  {
   "cell_type": "code",
   "execution_count": 46,
   "metadata": {},
   "outputs": [],
   "source": [
    "# Close file if finished sampling\n",
    "file.close()"
   ]
  },
  {
   "cell_type": "markdown",
   "metadata": {
    "id": "GJbMS_sd--vo"
   },
   "source": [
    "The minimal energy is $2L^2$"
   ]
  },
  {
   "cell_type": "code",
   "execution_count": 47,
   "metadata": {},
   "outputs": [
    {
     "data": {
      "text/plain": [
       "-3195.3628"
      ]
     },
     "execution_count": 47,
     "metadata": {},
     "output_type": "execute_result"
    }
   ],
   "source": [
    "np.mean(Es[-35000:])"
   ]
  },
  {
   "cell_type": "code",
   "execution_count": 48,
   "metadata": {},
   "outputs": [
    {
     "data": {
      "text/plain": [
       "-3195.4563265796023"
      ]
     },
     "execution_count": 48,
     "metadata": {},
     "output_type": "execute_result"
    }
   ],
   "source": [
    "E_exact"
   ]
  },
  {
   "cell_type": "code",
   "execution_count": 46,
   "metadata": {},
   "outputs": [
    {
     "data": {
      "text/plain": [
       "0.001244491125317545"
      ]
     },
     "execution_count": 46,
     "metadata": {},
     "output_type": "execute_result"
    }
   ],
   "source": [
    "np.abs(np.mean(Es[-1000:])-E_exact)/np.abs(E_exact)*100"
   ]
  },
  {
   "cell_type": "markdown",
   "metadata": {
    "id": "Kj4_-LChLMin"
   },
   "source": [
    "# Thermodynamic constants at different temperatures"
   ]
  },
  {
   "cell_type": "markdown",
   "metadata": {
    "id": "uLK2kJOWwLwR"
   },
   "source": [
    "Until now we only trained as CRBM at a $T=1$. Train differnt CRBM at different $T$s.\n",
    "\n",
    "\n"
   ]
  },
  {
   "cell_type": "code",
   "execution_count": null,
   "metadata": {
    "id": "D45rMFAJLR8A"
   },
   "outputs": [],
   "source": [
    "def train(T, crbm=None):\n",
    "    if crbm is None:\n",
    "        crbm = CRBM(kernel_dims=(2, 2))\n",
    "    \n",
    "    l_train = 10 ** 9\n",
    "    l_test = 10 ** 9\n",
    "    epoch = 0\n",
    "    while l_train > 10 ** -4:\n",
    "        # train\n",
    "        l_train = 0\n",
    "\n",
    "        for train_s, train_E in train_dataset:\n",
    "            l_train += crbm.train(train_s, train_E / T)\n",
    "        \n",
    "        l_train = l_train / N_TRAIN_BATCHES\n",
    "\n",
    "        # plot results\n",
    "\n",
    "        if epoch % 100 == 0:\n",
    "            l_test = crbm.compute_loss(states_test, E_phys_test / T)\n",
    "\n",
    "            display.clear_output(wait=True)\n",
    "\n",
    "            print(\n",
    "                f\"Temp: {T} | Epoch: {epoch} | loss test: {l_test}| loss train: {l_train}\"\n",
    "            )\n",
    "        epoch += 1\n",
    "   \n",
    "    return crbm   "
   ]
  },
  {
   "cell_type": "code",
   "execution_count": 37,
   "metadata": {
    "id": "6fVXXJsbxRhz"
   },
   "outputs": [],
   "source": [
    "Ts = np.linspace(1.5, 3.5, 25)"
   ]
  },
  {
   "cell_type": "markdown",
   "metadata": {
    "id": "jKA6BFdb9n32"
   },
   "source": [
    "Train different CRBM's at different temperatures."
   ]
  },
  {
   "cell_type": "code",
   "execution_count": 38,
   "metadata": {
    "id": "-X4-M258w5kI"
   },
   "outputs": [],
   "source": [
    "#%%time\n",
    "#crbms = [train(T) for T in Ts]"
   ]
  },
  {
   "cell_type": "markdown",
   "metadata": {
    "id": "4EpzESjt8tYj"
   },
   "source": [
    "Faster. Train a CRBM at a temperature, save it, and then modify it's temperature and retrain it at the new temperature."
   ]
  },
  {
   "cell_type": "code",
   "execution_count": 39,
   "metadata": {
    "id": "Ou7tzktTThL5"
   },
   "outputs": [],
   "source": [
    "\"\"\"\n",
    "%%time\n",
    "crbm = train(Ts[0])\n",
    "crbms = [crbm]\n",
    "T_old = Ts[0]\n",
    "for T in Ts[1:]:\n",
    "    crbm_new = CRBM(kernel_dims=(2, 2))\n",
    "    \n",
    "    crbm_new.W.assign(crbm.W / T * T_old )\n",
    "    crbm_new.vbias.assign(crbm.vbias / T * T_old)\n",
    "    crbm_new.hbias.assign(crbm.hbias / T * T_old)\n",
    "    \n",
    "    W_old = crbm_new.W.numpy()\n",
    "    crbm = train(T, crbm_new)\n",
    "    W_new = crbm.W.numpy()\n",
    "    \n",
    "    crbms.append(crbm)\n",
    "\"\"\";"
   ]
  },
  {
   "cell_type": "markdown",
   "metadata": {
    "id": "KPt3v5JMQxNr"
   },
   "source": [
    "Alternatively, the CRBM can also be initialized directly with the analytical solution so that no further training is necessary."
   ]
  },
  {
   "cell_type": "code",
   "execution_count": 40,
   "metadata": {
    "id": "iZUxauUUTpe1"
   },
   "outputs": [],
   "source": [
    "crbms = []\n",
    "for T in Ts:\n",
    "    crbm = CRBM(kernel_dims=(2, 2))\n",
    "    crbm.set_analytical_param(1 / T)\n",
    "    crbms.append(crbm)"
   ]
  },
  {
   "cell_type": "markdown",
   "metadata": {
    "id": "T-8wCYOXEl6e"
   },
   "source": [
    "# Montecarlo Simulations"
   ]
  },
  {
   "cell_type": "markdown",
   "metadata": {
    "id": "aon4yyLvEsDM"
   },
   "source": [
    "The functions performs gibbs steps with a CRBM and saves the energy and magnetization in arrays."
   ]
  },
  {
   "cell_type": "code",
   "execution_count": 41,
   "metadata": {
    "id": "GIz4HrfXyCX0"
   },
   "outputs": [],
   "source": [
    "def MC(crbm, states, steps, hidden_steps=10):\n",
    "    Es = np.empty(steps)\n",
    "    Ms = np.empty(steps)\n",
    "    \n",
    "    for i in range(steps):\n",
    "        states = crbm.gibbs_k(states, k=hidden_steps)\n",
    "        \n",
    "        # Get the state out of the gpu\n",
    "        state_np = states.numpy()\n",
    "        Es[i] = ising_energy(state_np)[0]\n",
    "        Ms[i] = (2 * state_np - 1).sum()\n",
    "              \n",
    "    return Es, Ms, states"
   ]
  },
  {
   "cell_type": "markdown",
   "metadata": {
    "id": "uiAgoIsXEXa3"
   },
   "source": [
    "This function will plot the thermodynamic constants"
   ]
  },
  {
   "cell_type": "code",
   "execution_count": 42,
   "metadata": {
    "id": "7WxXnDVh06Ia"
   },
   "outputs": [],
   "source": [
    "def plot_thermodynamics(Temp, Es, Cvs, mag, susceptibility):\n",
    "    # ----------------------------------------------------------------------\n",
    "    # Plot the Energy, Magnetization, Specific Heat and Susceptibility\n",
    "    # ----------------------------------------------------------------------\n",
    "\n",
    "    f = plt.figure(figsize=(18, 10), dpi=80, facecolor='w', edgecolor='k')\n",
    "    xlabel = \"T\"\n",
    "    \n",
    "    sp = f.add_subplot(2, 2, 1)\n",
    "    plt.xlabel(xlabel, fontsize=20)\n",
    "    plt.ylabel(\"Energy \", fontsize=20)\n",
    "    plt.scatter(Temp, Es)\n",
    "\n",
    "    sp = f.add_subplot(2, 2, 2)\n",
    "    plt.xlabel(xlabel, fontsize=20)\n",
    "    plt.ylabel(\"Magnetization \", fontsize=20)\n",
    "    plt.scatter(Temp, abs(np.array(mag)))\n",
    "    plt.axvline(x=2.269)\n",
    "    \n",
    "    sp = f.add_subplot(2, 2, 3)\n",
    "    plt.xlabel(xlabel, fontsize=20)\n",
    "    plt.ylabel(\"Specific Heat \", fontsize=20)\n",
    "\n",
    "    plt.scatter(Temp, Cvs)\n",
    "    plt.axvline(x=2.269)\n",
    "\n",
    "    sp = f.add_subplot(2, 2, 4);\n",
    "    plt.xlabel(xlabel, fontsize=20);\n",
    "    plt.ylabel(\"Susceptibility\", fontsize=20);\n",
    "    \n",
    "    plt.scatter(Temp, susceptibility)\n",
    "    plt.axvline(x=2.269)\n",
    "\n",
    "    plt.show()"
   ]
  },
  {
   "cell_type": "markdown",
   "metadata": {
    "id": "SH35rZQhFSI2"
   },
   "source": [
    "Initialize the step that will be used during the MC. There is an oportunity for parallelization in the Gpu if severall states are updated in the simulation. For simplicity only one states is used.\n",
    "\n"
   ]
  },
  {
   "cell_type": "code",
   "execution_count": 43,
   "metadata": {
    "id": "O2FSWc2ImNI0"
   },
   "outputs": [],
   "source": [
    "L = 10\n",
    "states = tf.random.uniform((1, L, L, 1))"
   ]
  },
  {
   "cell_type": "markdown",
   "metadata": {
    "id": "eTbe0Ya6Fa6Q"
   },
   "source": [
    "We start with the highest temperature and slowly lower it. First there is a warmup phase and then thermodynamic constants are recorded."
   ]
  },
  {
   "cell_type": "code",
   "execution_count": 44,
   "metadata": {
    "colab": {
     "base_uri": "https://localhost:8080/",
     "height": 982
    },
    "id": "_krDMaEex-MW",
    "outputId": "da22f5f1-65f5-4d2e-a84b-43abd46ebd9e"
   },
   "outputs": [
    {
     "name": "stdout",
     "output_type": "stream",
     "text": [
      "Temp:  1.5\n"
     ]
    },
    {
     "data": {
      "image/png": "[encoded data removed]",
      "text/plain": [
       "<Figure size 432x288 with 1 Axes>"
      ]
     },
     "metadata": {
      "needs_background": "light"
     },
     "output_type": "display_data"
    },
    {
     "data": {
      "image/png": "[encoded data removed]",
      "text/plain": [
       "<Figure size 1440x800 with 4 Axes>"
      ]
     },
     "metadata": {},
     "output_type": "display_data"
    },
    {
     "name": "stdout",
     "output_type": "stream",
     "text": [
      "CPU times: user 13min 15s, sys: 1min 7s, total: 14min 23s\n",
      "Wall time: 12min 36s\n"
     ]
    }
   ],
   "source": [
    "%%time\n",
    "\n",
    "energy = []\n",
    "magnetization = []\n",
    "CV = []\n",
    "susceptibility = []\n",
    "\n",
    "e, m, states = MC(crbms[-1], states, 2 * 10 ** 4)\n",
    "for i, crbm in enumerate(crbms[::-1]):\n",
    "    # Warmup\n",
    "    e, m, states = MC(crbm, states, 10 ** 3)\n",
    "    \n",
    "    # Mc Simulation\n",
    "    e, m, states = MC(crbm, states,  2 * 10 ** 4)\n",
    "    \n",
    "    # Computing expectaion values\n",
    "    e1 = e.mean()\n",
    "    e2 = (e ** 2).mean()\n",
    "    \n",
    "    m1 = m.mean()\n",
    "    absm1= abs(m).mean()\n",
    "    m2 = (m ** 2).mean()\n",
    "    \n",
    "    \n",
    "    energy.append(e1 / L ** 2)\n",
    "    magnetization.append(m1 / L ** 2)\n",
    "    CV.append( (e2 - e1 ** 2) / Ts[-i - 1] ** 2 / L ** 2 )\n",
    "    susceptibility.append( (m2 - absm1 ** 2) / Ts[-i - 1] / L ** 2 )\n",
    "    \n",
    "    \n",
    "    display.clear_output(wait=True)\n",
    "    print(\"Temp: \", Ts[-i -1])\n",
    "    plt.imshow(states.numpy()[0, :, :, 0], vmin=0, vmax=1, cmap=\"gray\")\n",
    "    plt.show()\n",
    "    \n",
    "    # Plot thermodynamics\n",
    "    plot_thermodynamics(Ts[-i - 1:], energy[::-1], CV[::-1], magnetization[::-1], susceptibility[::-1])"
   ]
  },
  {
   "cell_type": "markdown",
   "metadata": {
    "id": "HmlMWCl2eC13"
   },
   "source": [
    "Above you can see that the Magnetization colapses to 0 after the critical temperature $T_c=2.269$ and that the specific heat is maximal around $T_c$ as expected."
   ]
  },
  {
   "cell_type": "code",
   "execution_count": 45,
   "metadata": {
    "colab": {
     "base_uri": "https://localhost:8080/",
     "height": 35
    },
    "id": "oEcPyQpDPtQL",
    "outputId": "ffa6af13-09b0-4588-d6c1-98d6ad201e45"
   },
   "outputs": [
    {
     "data": {
      "text/plain": [
       "16.271534983317057"
      ]
     },
     "execution_count": 45,
     "metadata": {},
     "output_type": "execute_result"
    }
   ],
   "source": [
    "t1 = time.time()\n",
    "(t1 - t0) / 60"
   ]
  },
  {
   "cell_type": "code",
   "execution_count": null,
   "metadata": {},
   "outputs": [],
   "source": []
  }
 ],
 "metadata": {
  "accelerator": "GPU",
  "colab": {
   "collapsed_sections": [],
   "include_colab_link": true,
   "name": "Ising CRBM.ipynb",
   "provenance": []
  },
  "kernelspec": {
   "display_name": "Python 3",
   "language": "python",
   "name": "python3"
  },
  "language_info": {
   "codemirror_mode": {
    "name": "ipython",
    "version": 3
   },
   "file_extension": ".py",
   "mimetype": "text/x-python",
   "name": "python",
   "nbconvert_exporter": "python",
   "pygments_lexer": "ipython3",
   "version": "3.8.5"
  }
 },
 "nbformat": 4,
 "nbformat_minor": 4
}
